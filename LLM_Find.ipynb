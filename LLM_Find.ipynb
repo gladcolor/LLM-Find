{
 "cells": [
  {
   "cell_type": "markdown",
   "id": "77738df5-e62c-4bf9-ba20-baffea46e951",
   "metadata": {},
   "source": [
    "\n"
   ]
  },
  {
   "cell_type": "markdown",
   "id": "bf676855-2221-47c7-8dff-b185e03c3953",
   "metadata": {
    "tags": []
   },
   "source": [
    "#  Install package"
   ]
  },
  {
   "cell_type": "code",
   "execution_count": 356,
   "id": "05156c09-3ec8-47d7-a629-f9374440658a",
   "metadata": {
    "tags": []
   },
   "outputs": [],
   "source": [
    "# ! pip install pyvis\n",
    "# ! pip install networkx\n",
    "# ! pip install openai\n",
    "# ! pip install contextily\n",
    "# ! pip install matplotlib_scalebar\n",
    "# ! pip install langchain\n",
    "# ! pip install langchain-openai"
   ]
  },
  {
   "cell_type": "markdown",
   "id": "b254e9bd-675a-4644-abfd-d642183da809",
   "metadata": {
    "tags": []
   },
   "source": [
    "# Import package"
   ]
  },
  {
   "cell_type": "code",
   "execution_count": 357,
   "id": "392efdfe-e33d-43fb-b8ea-6b6fb444ad9d",
   "metadata": {
    "tags": []
   },
   "outputs": [
    {
     "name": "stdout",
     "output_type": "stream",
     "text": [
      "The autoreload extension is already loaded. To reload it, use:\n",
      "  %reload_ext autoreload\n"
     ]
    }
   ],
   "source": [
    "%load_ext autoreload\n",
    "%autoreload 2\n",
    "    \n",
    "import os\n",
    "import requests\n",
    "import networkx as nx\n",
    "import pandas as pd\n",
    "import geopandas as gpd\n",
    "# from pyvis.network import Network\n",
    "from openai import OpenAI\n",
    "from IPython.display import display, HTML, Code\n",
    "from IPython.display import clear_output\n",
    "\n",
    "import base64\n",
    "\n",
    "import pickle\n",
    "import sys\n",
    "\n",
    "\n",
    "\n",
    "import LLM_Find_Constants as constants\n",
    "import helper\n",
    "\n",
    "from LLM_Find_kernel import Solution\n",
    "\n",
    "from langchain_openai import ChatOpenAI\n",
    "\n",
    "from langchain_core.prompts import ChatPromptTemplate\n",
    "\n",
    "\n",
    "\n"
   ]
  },
  {
   "cell_type": "code",
   "execution_count": 358,
   "id": "433efa43-d0c1-407a-b9c4-dcfd59923614",
   "metadata": {},
   "outputs": [],
   "source": [
    "\n",
    "OpenAI_key = helper.load_OpenAI_key()\n",
    "# llm = ChatOpenAI(api_key=OpenAI_key, model=\"gpt-4o\", temperature=0)"
   ]
  },
  {
   "cell_type": "markdown",
   "id": "9a3e84cf-00f5-40ef-a7ff-5ae186a4e164",
   "metadata": {},
   "source": []
  },
  {
   "cell_type": "markdown",
   "id": "9a545a6b-1456-40b8-a913-b4dfd305c071",
   "metadata": {
    "tags": []
   },
   "source": [
    "## Input task and data desciption"
   ]
  },
  {
   "cell_type": "code",
   "execution_count": 359,
   "id": "dd66b2f3-80d7-40bb-9fd0-807a3f70e2ac",
   "metadata": {},
   "outputs": [],
   "source": [
    "# isReview = True\n",
    "isReview = False"
   ]
  },
  {
   "cell_type": "code",
   "execution_count": 360,
   "id": "5e1b3820-1a21-429a-9a15-631ebdb720fa",
   "metadata": {},
   "outputs": [],
   "source": [
    "# task"
   ]
  },
  {
   "cell_type": "code",
   "execution_count": 361,
   "id": "7293aaea-cf30-419f-818a-5b1977389b7b",
   "metadata": {},
   "outputs": [
    {
     "name": "stderr",
     "output_type": "stream",
     "text": [
      "e:\\ProgramData\\Anaconda3\\envs\\ox\\Lib\\site-packages\\langchain_core\\utils\\utils.py:161: UserWarning: WARNING! stream is not default parameter.\n",
      "                stream was transferred to model_kwargs.\n",
      "                Please confirm that stream is what you intended.\n",
      "  warnings.warn(\n"
     ]
    }
   ],
   "source": [
    "# # Case 1\n",
    "# task_name ='OSM_PA_boundary'\n",
    "# saved_fname = r'E:\\OneDrive_PSU\\OneDrive - The Pennsylvania State University\\Research_doc\\LLM-Find\\Downloaded_Data\\OSM_PA_boundary.gpkg.'\n",
    "# task = rf'''1. Download the administrative boundary of Pennsylvania State, USA from OpenStreetMap.\n",
    "# 2. Save the downloaded data in GeoPackage format, save it at: {saved_fname} \n",
    "# '''\n",
    "\n",
    "# task_name ='OSM_SC_boundary'\n",
    "# saved_fname = r'E:\\OneDrive_PSU\\OneDrive - The Pennsylvania State University\\Research_doc\\LLM-Find\\Downloaded_Data\\OSM_SC_boundary.gpkg.'\n",
    "# task = rf'''1. Download the administrative boundary of South Carolina State, USA from OpenStreetMap.\n",
    "# 2. Save the downloaded data in GeoPackage format, save it at: {saved_fname} \n",
    "# '''\n",
    "\n",
    " # task_name ='OSM_PA_hospital'\n",
    "# saved_fname = r'E:\\OneDrive_PSU\\OneDrive - The Pennsylvania State University\\Research_doc\\LLM-Find\\Downloaded_Data\\OSM_PA_hospital.gpkg.'\n",
    "# task = rf'''1. Download all hospital of Pennsylvania State, USA from OpenStreetMap.\n",
    "# 2. Save the downloaded data as points in GeoPackage format, save it at: {saved_fname} \n",
    "# '''\n",
    "\n",
    "# task_name ='OSM_Nigeria_boundary'\n",
    "# saved_fname = r'E:\\OneDrive_PSU\\OneDrive - The Pennsylvania State University\\Research_doc\\LLM-Find\\Downloaded_Data\\OSM_Nigeria_boundary.gpkg.'\n",
    "# task = rf'''1. Download the administrative boundary of Nigeria from OpenStreetMap.\n",
    "# 2. Save the downloaded data in GeoPackage format, save it at: {saved_fname} \n",
    "# '''\n",
    "\n",
    "\n",
    "# task_name ='OSM_Afghanistan_boundary'\n",
    "# saved_fname = r'E:\\OneDrive_PSU\\OneDrive - The Pennsylvania State University\\Research_doc\\LLM-Find\\Downloaded_Data\\OSM_Afghanistan_boundary.gpkg.'\n",
    "# task = rf'''1. Download the administrative boundary of Afghanistan from OpenStreetMap.\n",
    "# 2. Save the downloaded data in GeoPackage format, save it at: {saved_fname} \n",
    "# '''\n",
    "\n",
    "# Case 1\n",
    "# task_name ='Census_Centre_boundary'\n",
    "# saved_fname = r'E:\\OneDrive_PSU\\OneDrive - The Pennsylvania State University\\Research_doc\\LLM-Find\\Downloaded_Data\\Census_Centre_boundary.gpkg.'\n",
    "# task = rf'''1. Download the administrative boundary of Centre County of Pennsylvania State, USA from Census Bureau.\n",
    "# 2. Save the downloaded data in GeoPackage format, save it at: {saved_fname} \n",
    "# '''\n",
    "\n",
    "task_name ='Census_SC_countries_boundary'\n",
    "saved_fname = r'E:\\OneDrive_PSU\\OneDrive - The Pennsylvania State University\\Research_doc\\LLM-Find\\Downloaded_Data\\Census_SC_counties_boundary.gpkg.'\n",
    "task = rf'''1. Download the administrative boundary of all Counties of South Carolina from Census Bureau.\n",
    "2. Save the downloaded data in GeoPackage format, save it at: {saved_fname} \n",
    "'''\n",
    "\n",
    "\n",
    "save_dir = os.path.join(os.getcwd(), task_name)\n",
    "os.makedirs(save_dir, exist_ok=True)\n",
    "\n",
    "# model=r\"gpt-4\"\n",
    "# model = r'gpt-4-turbo-preview'\n",
    "# model_name = \"gpt-3.5-turbo\"\n",
    "\n",
    "\n",
    "model_name = r'gpt-4o'\n",
    "\n",
    "\n",
    "model = ChatOpenAI(api_key=OpenAI_key, model=model_name, temperature=1, stream=True)\n",
    "\n",
    "# model"
   ]
  },
  {
   "cell_type": "code",
   "execution_count": 362,
   "id": "8ba05f98-30b2-46d0-9eb2-624f5dbc2754",
   "metadata": {
    "editable": true,
    "slideshow": {
     "slide_type": ""
    },
    "tags": []
   },
   "outputs": [
    {
     "name": "stdout",
     "output_type": "stream",
     "text": [
      "The autoreload extension is already loaded. To reload it, use:\n",
      "  %reload_ext autoreload\n",
      "Your role: A professional Python programmer in geographic information science (GIScience). You have worked on GIScience for more than 20 years and know every detail and pitfall when collecting data and coding. You know which websites you can get suitable spatial data and know the methods or tricks to download data, such as OpenStreetMap, Census Bureau, or various APIs. You are also experienced in processing the downloaded data, including saving them in suitable formats, map projections, and creating detailed and useful meta-data.\n",
      " \n",
      "Your mission: select a suitable data source from the given list to download the requested geo-spatial data for this task: 1. Download the administrative boundary of all Counties of South Carolina from Census Bureau.\n",
      "2. Save the downloaded data in GeoPackage format, save it at: E:\\OneDrive_PSU\\OneDrive - The Pennsylvania State University\\Research_doc\\LLM-Find\\Downloaded_Data\\Census_SC_counties_boundary.gpkg. \n",
      "\n",
      "\n",
      "Requirements: \n",
      "1. Return the exact name of the data source as the given names.\n",
      "2. If a data source is given in the task, e.g., OpenStreetMap or Census Bureau, you need to select that given data source.\n",
      "3. Follow the given JSON format.\n",
      "4. If you cannot find a suitable data source in the given sources, return a data source you think is most appropriate.\n",
      "5. DO NOT make fake data source. If you cannot find any suitable data source, return 'Unknown' as for the 'Selected data source' key in the reply JSON format. DO NOT use ```json and ```\n",
      "6. If you need to download the administrative boundary of a place and without mentioning the data sources, you can get data from OpenStreetMap. \n",
      "\n",
      "Data sources:\n",
      "1. OpenStreetMap. You can download the administrative boundaries, street networks, points of interest (POIs) from OpenStreetMap.\n",
      "2. US Census Bureau. It provides the Census and demographic data, US administrative boundaries (nation, state, county, tract, and block group level; also metroplitan statistic areas.\n",
      "3. US COVID-19 data by New York Times. Cumulative counts of COVID-19 cases and deaths in the United States, at the state and county level, over time. \n",
      " \n",
      "Your reply example: {'Explaination': \"According to the use requests of US state administrative boundary from OpenStreetMap, I should download data from OpenStreetMap.\", \"Selected data source\": 'OpenStreetMap'}\n",
      "\n"
     ]
    }
   ],
   "source": [
    "%load_ext autoreload\n",
    "%autoreload 2\n",
    "import helper\n",
    "    \n",
    "source_select_prompt_str = helper.create_select_prompt(task=task)\n",
    "\n",
    "# solution = Solution(\n",
    "#                     task=TASK,\n",
    "#                     task_name=task_name,\n",
    "#                     save_dir=save_dir,\n",
    "#                     data_locations=DATA_LOCATIONS,\n",
    "#                     model=model,\n",
    "#                     )\n",
    "# print(\"Prompt to select data source:\\n\")\n",
    "# print(source_select_prompt_langChain.dict()['messages'][1]['prompt']['template'])\n",
    "print(source_select_prompt_str)"
   ]
  },
  {
   "cell_type": "code",
   "execution_count": 363,
   "id": "da93af39-5b6f-41ce-91fa-700042ac5e2a",
   "metadata": {},
   "outputs": [
    {
     "name": "stdout",
     "output_type": "stream",
     "text": [
      "{\n",
      "  \"Explanation\": \"According to the task requirements to download the administrative boundary of all Counties of South Carolina from Census Bureau, I should select the Census Bureau as the data source.\",\n",
      "  \"Selected data source\": \"US Census Bureau\"\n",
      "}\n"
     ]
    }
   ],
   "source": [
    "# print(\"\")\n",
    "\n",
    "from IPython.display import clear_output\n",
    "\n",
    "chunks = []\n",
    "\n",
    "async for chunk in model.astream(source_select_prompt_str):\n",
    "    chunks.append(chunk)\n",
    "    print(chunk.content, end=\"\", flush=True)\n",
    "\n",
    "# clear_output(wait=True)\n",
    "clear_output(wait=False)\n",
    "LLM_reply_str = helper.convert_chunks_to_str(chunks=chunks)\n",
    "print(LLM_reply_str)"
   ]
  },
  {
   "cell_type": "code",
   "execution_count": null,
   "id": "c9f6a7fd-63d7-44d1-9f13-60e175720fc4",
   "metadata": {},
   "outputs": [],
   "source": []
  },
  {
   "cell_type": "code",
   "execution_count": 364,
   "id": "ad5012ca-954c-406a-8e46-7a2eb2f252c0",
   "metadata": {},
   "outputs": [
    {
     "name": "stdout",
     "output_type": "stream",
     "text": [
      "selected_data_source: US Census Bureau\n",
      "data_source_ID: US_Census\n",
      "\n",
      "Handbook:\n",
      "1. If the place of boundaries request is in the USA, you can download boundaries from Census Bureau, which is official and better than OSM. An example link is: https://www2.census.gov/geo/tiger/GENZ2021/shp/cb_{year}_{extend}_{level}_500k.zip. You can change the year and administrative level (state/county) in link accordingly. 'year' is 4-digit. 'extend' can be 'us' or 2-digit state FIPS; when 'extend' = 'us', 'level' can be 'state' and 'county' only, and the downloaded data is national. When 'extend' is 2-digit state FIPS, 'level' can be 'tract' and 'bg' only. 'bg' refers to block groups. E.g., do not set 'extend' to 2-digit FIPS code when download county boundaries for a state. If you need to download counties boundaries, 'extend' must be 'us'.\n",
      "2. If the file saving format is not given in the tasks, save the downloaded files into GeoPackage format.\n",
      "3. You need to create Python code to download and save the data. Another program will execute your code directly. Put your reply into a Python code block, Explanation or conversation can be Python comments at the begining of the code block(enclosed by ```python and ```).\n",
      "4. The download code is only in a function named 'download_data()'. The last line is to execute this function.\n",
      "5. If using GeoPandas to load a zipped ESRI shapefile from a URL, the correct method is `gpd.read_file(URL)`. DO NOT download and unzip the file.\n",
      "6. Note Python package 'pandas' has no attribute or method of 'StringIO'.\n"
     ]
    }
   ],
   "source": [
    "import ast\n",
    "select_source = ast.literal_eval(LLM_reply_str)\n",
    "\n",
    "selected_data_source= select_source['Selected data source']\n",
    "data_source_ID = constants.data_source_dict[selected_data_source]['ID']\n",
    "\n",
    "print(\"selected_data_source:\", selected_data_source)\n",
    "print(\"data_source_ID:\", data_source_ID)\n",
    "\n",
    "handbook_list = constants.handbooks[f\"{data_source_ID}\"]\n",
    "handbook_str =  '\\n'.join([f\"{idx + 1}. {line}\" for idx, line in enumerate(handbook_list)])\n",
    "print()\n",
    "print(f\"Handbook:\\n{handbook_str}\")"
   ]
  },
  {
   "cell_type": "code",
   "execution_count": 365,
   "id": "ed83929d-ae9f-4c3c-aaf0-ee0edbdb93b5",
   "metadata": {},
   "outputs": [
    {
     "name": "stdout",
     "output_type": "stream",
     "text": [
      "The autoreload extension is already loaded. To reload it, use:\n",
      "  %reload_ext autoreload\n",
      "Your role: A professional Python programmer in geographic information science (GIScience). You have worked on GIScience for more than 20 years and know every detail and pitfall when collecting data and coding. You know which websites you can get suitable spatial data and know the methods or tricks to download data, such as OpenStreetMap, Census Bureau, or various APIs. You are also experienced in processing the downloaded data, including saving them in suitable formats, map projections, and creating detailed and useful meta-data. When downloading geo-spatial data, the handbook for a perticular data source is provided, you can follow it, and write Python code carefully to download the data. \n",
      " \n",
      "Your mission: download geo-spatial data from the given data source for this task: 1. Download the administrative boundary of all Counties of South Carolina from Census Bureau.\n",
      "2. Save the downloaded data in GeoPackage format, save it at: E:\\OneDrive_PSU\\OneDrive - The Pennsylvania State University\\Research_doc\\LLM-Find\\Downloaded_Data\\Census_SC_counties_boundary.gpkg. \n",
      "\n",
      "\n",
      "Data source:US Census Bureau \n",
      "Handbook: \n",
      "1. If the place of boundaries request is in the USA, you can download boundaries from Census Bureau, which is official and better than OSM. An example link is: https://www2.census.gov/geo/tiger/GENZ2021/shp/cb_{year}_{extend}_{level}_500k.zip. You can change the year and administrative level (state/county) in link accordingly. 'year' is 4-digit. 'extend' can be 'us' or 2-digit state FIPS; when 'extend' = 'us', 'level' can be 'state' and 'county' only, and the downloaded data is national. When 'extend' is 2-digit state FIPS, 'level' can be 'tract' and 'bg' only. 'bg' refers to block groups. E.g., do not set 'extend' to 2-digit FIPS code when download county boundaries for a state. If you need to download counties boundaries, 'extend' must be 'us'.\n",
      "2. If the file saving format is not given in the tasks, save the downloaded files into GeoPackage format.\n",
      "3. You need to create Python code to download and save the data. Another program will execute your code directly. Put your reply into a Python code block, Explanation or conversation can be Python comments at the begining of the code block(enclosed by ```python and ```).\n",
      "4. The download code is only in a function named 'download_data()'. The last line is to execute this function.\n",
      "5. If using GeoPandas to load a zipped ESRI shapefile from a URL, the correct method is `gpd.read_file(URL)`. DO NOT download and unzip the file.\n",
      "6. Note Python package 'pandas' has no attribute or method of 'StringIO'. \n",
      "\n",
      "Your reply example: \n",
      "```python\n",
      "def download_data():\n",
      "    # data downloading code here\n",
      "    # downloaded code here\n",
      "download_data()\n",
      "```\n",
      "\n"
     ]
    }
   ],
   "source": [
    "# constants.handbooks[f\"US_Census\"]\n",
    "\n",
    "%load_ext autoreload\n",
    "%autoreload 2\n",
    "\n",
    "download_prompt_str = helper.create_download_prompt(task, selected_data_source, handbook_str)\n",
    "\n",
    "# solution = Solution(\n",
    "#                     task=TASK,\n",
    "#                     task_name=task_name,\n",
    "#                     save_dir=save_dir,\n",
    "#                     data_locations=DATA_LOCATIONS,\n",
    "#                     model=model,\n",
    "#                     )\n",
    "# print(\"Prompt to select data source:\\n\")\n",
    "# print(source_select_prompt_langChain.dict()['messages'][1]['prompt']['template'])\n",
    "print(download_prompt_str)"
   ]
  },
  {
   "cell_type": "code",
   "execution_count": 366,
   "id": "71dd534a-3dd6-4292-a12e-4417284ad9d9",
   "metadata": {},
   "outputs": [
    {
     "name": "stdout",
     "output_type": "stream",
     "text": [
      "```python\n",
      "def download_data():\n",
      "    import geopandas as gpd\n",
      "\n",
      "    # Define the URL for downloading the county boundaries of the USA\n",
      "    year = 2021\n",
      "    extend = 'us'\n",
      "    level = 'county'\n",
      "    url = f\"https://www2.census.gov/geo/tiger/GENZ2021/shp/cb_{year}_{extend}_{level}_500k.zip\"\n",
      "\n",
      "    # Load the shapefile directly from the URL using GeoPandas\n",
      "    counties = gpd.read_file(url)\n",
      "\n",
      "    # Filter for the counties in South Carolina (FIPS Code: 45)\n",
      "    sc_counties = counties[counties['STATEFP'] == '45']\n",
      "\n",
      "    # Define the output path\n",
      "    output_path = r\"E:\\OneDrive_PSU\\OneDrive - The Pennsylvania State University\\Research_doc\\LLM-Find\\Downloaded_Data\\Census_SC_counties_boundary.gpkg\"\n",
      "\n",
      "    # Save the data to a GeoPackage\n",
      "    sc_counties.to_file(output_path, layer='SC_counties', driver='GPKG')\n",
      "\n",
      "# Execute the function\n",
      "download_data()\n",
      "```\n"
     ]
    }
   ],
   "source": [
    "from IPython.display import clear_output\n",
    "\n",
    "chunks = []\n",
    "\n",
    "async for chunk in model.astream(download_prompt_str):\n",
    "    chunks.append(chunk)\n",
    "    print(chunk.content, end=\"\", flush=True)\n",
    "\n",
    "# clear_output(wait=True)\n",
    "clear_output(wait=False)\n",
    "LLM_reply_str = helper.convert_chunks_to_str(chunks=chunks)\n",
    "print(LLM_reply_str)"
   ]
  },
  {
   "cell_type": "code",
   "execution_count": 367,
   "id": "42cc63c3-9eb3-40ad-8daa-fefa5ba85190",
   "metadata": {},
   "outputs": [
    {
     "data": {
      "text/html": [
       "<style>pre { line-height: 125%; }\n",
       "td.linenos .normal { color: inherit; background-color: transparent; padding-left: 5px; padding-right: 5px; }\n",
       "span.linenos { color: inherit; background-color: transparent; padding-left: 5px; padding-right: 5px; }\n",
       "td.linenos .special { color: #000000; background-color: #ffffc0; padding-left: 5px; padding-right: 5px; }\n",
       "span.linenos.special { color: #000000; background-color: #ffffc0; padding-left: 5px; padding-right: 5px; }\n",
       ".output_html .hll { background-color: #ffffcc }\n",
       ".output_html { background: #f8f8f8; }\n",
       ".output_html .c { color: #3D7B7B; font-style: italic } /* Comment */\n",
       ".output_html .err { border: 1px solid #FF0000 } /* Error */\n",
       ".output_html .k { color: #008000; font-weight: bold } /* Keyword */\n",
       ".output_html .o { color: #666666 } /* Operator */\n",
       ".output_html .ch { color: #3D7B7B; font-style: italic } /* Comment.Hashbang */\n",
       ".output_html .cm { color: #3D7B7B; font-style: italic } /* Comment.Multiline */\n",
       ".output_html .cp { color: #9C6500 } /* Comment.Preproc */\n",
       ".output_html .cpf { color: #3D7B7B; font-style: italic } /* Comment.PreprocFile */\n",
       ".output_html .c1 { color: #3D7B7B; font-style: italic } /* Comment.Single */\n",
       ".output_html .cs { color: #3D7B7B; font-style: italic } /* Comment.Special */\n",
       ".output_html .gd { color: #A00000 } /* Generic.Deleted */\n",
       ".output_html .ge { font-style: italic } /* Generic.Emph */\n",
       ".output_html .gr { color: #E40000 } /* Generic.Error */\n",
       ".output_html .gh { color: #000080; font-weight: bold } /* Generic.Heading */\n",
       ".output_html .gi { color: #008400 } /* Generic.Inserted */\n",
       ".output_html .go { color: #717171 } /* Generic.Output */\n",
       ".output_html .gp { color: #000080; font-weight: bold } /* Generic.Prompt */\n",
       ".output_html .gs { font-weight: bold } /* Generic.Strong */\n",
       ".output_html .gu { color: #800080; font-weight: bold } /* Generic.Subheading */\n",
       ".output_html .gt { color: #0044DD } /* Generic.Traceback */\n",
       ".output_html .kc { color: #008000; font-weight: bold } /* Keyword.Constant */\n",
       ".output_html .kd { color: #008000; font-weight: bold } /* Keyword.Declaration */\n",
       ".output_html .kn { color: #008000; font-weight: bold } /* Keyword.Namespace */\n",
       ".output_html .kp { color: #008000 } /* Keyword.Pseudo */\n",
       ".output_html .kr { color: #008000; font-weight: bold } /* Keyword.Reserved */\n",
       ".output_html .kt { color: #B00040 } /* Keyword.Type */\n",
       ".output_html .m { color: #666666 } /* Literal.Number */\n",
       ".output_html .s { color: #BA2121 } /* Literal.String */\n",
       ".output_html .na { color: #687822 } /* Name.Attribute */\n",
       ".output_html .nb { color: #008000 } /* Name.Builtin */\n",
       ".output_html .nc { color: #0000FF; font-weight: bold } /* Name.Class */\n",
       ".output_html .no { color: #880000 } /* Name.Constant */\n",
       ".output_html .nd { color: #AA22FF } /* Name.Decorator */\n",
       ".output_html .ni { color: #717171; font-weight: bold } /* Name.Entity */\n",
       ".output_html .ne { color: #CB3F38; font-weight: bold } /* Name.Exception */\n",
       ".output_html .nf { color: #0000FF } /* Name.Function */\n",
       ".output_html .nl { color: #767600 } /* Name.Label */\n",
       ".output_html .nn { color: #0000FF; font-weight: bold } /* Name.Namespace */\n",
       ".output_html .nt { color: #008000; font-weight: bold } /* Name.Tag */\n",
       ".output_html .nv { color: #19177C } /* Name.Variable */\n",
       ".output_html .ow { color: #AA22FF; font-weight: bold } /* Operator.Word */\n",
       ".output_html .w { color: #bbbbbb } /* Text.Whitespace */\n",
       ".output_html .mb { color: #666666 } /* Literal.Number.Bin */\n",
       ".output_html .mf { color: #666666 } /* Literal.Number.Float */\n",
       ".output_html .mh { color: #666666 } /* Literal.Number.Hex */\n",
       ".output_html .mi { color: #666666 } /* Literal.Number.Integer */\n",
       ".output_html .mo { color: #666666 } /* Literal.Number.Oct */\n",
       ".output_html .sa { color: #BA2121 } /* Literal.String.Affix */\n",
       ".output_html .sb { color: #BA2121 } /* Literal.String.Backtick */\n",
       ".output_html .sc { color: #BA2121 } /* Literal.String.Char */\n",
       ".output_html .dl { color: #BA2121 } /* Literal.String.Delimiter */\n",
       ".output_html .sd { color: #BA2121; font-style: italic } /* Literal.String.Doc */\n",
       ".output_html .s2 { color: #BA2121 } /* Literal.String.Double */\n",
       ".output_html .se { color: #AA5D1F; font-weight: bold } /* Literal.String.Escape */\n",
       ".output_html .sh { color: #BA2121 } /* Literal.String.Heredoc */\n",
       ".output_html .si { color: #A45A77; font-weight: bold } /* Literal.String.Interpol */\n",
       ".output_html .sx { color: #008000 } /* Literal.String.Other */\n",
       ".output_html .sr { color: #A45A77 } /* Literal.String.Regex */\n",
       ".output_html .s1 { color: #BA2121 } /* Literal.String.Single */\n",
       ".output_html .ss { color: #19177C } /* Literal.String.Symbol */\n",
       ".output_html .bp { color: #008000 } /* Name.Builtin.Pseudo */\n",
       ".output_html .fm { color: #0000FF } /* Name.Function.Magic */\n",
       ".output_html .vc { color: #19177C } /* Name.Variable.Class */\n",
       ".output_html .vg { color: #19177C } /* Name.Variable.Global */\n",
       ".output_html .vi { color: #19177C } /* Name.Variable.Instance */\n",
       ".output_html .vm { color: #19177C } /* Name.Variable.Magic */\n",
       ".output_html .il { color: #666666 } /* Literal.Number.Integer.Long */</style><div class=\"highlight\"><pre><span></span><span class=\"k\">def</span> <span class=\"nf\">download_data</span><span class=\"p\">():</span>\n",
       "    <span class=\"kn\">import</span> <span class=\"nn\">geopandas</span> <span class=\"k\">as</span> <span class=\"nn\">gpd</span>\n",
       "\n",
       "    <span class=\"c1\"># Define the URL for downloading the county boundaries of the USA</span>\n",
       "    <span class=\"n\">year</span> <span class=\"o\">=</span> <span class=\"mi\">2021</span>\n",
       "    <span class=\"n\">extend</span> <span class=\"o\">=</span> <span class=\"s1\">&#39;us&#39;</span>\n",
       "    <span class=\"n\">level</span> <span class=\"o\">=</span> <span class=\"s1\">&#39;county&#39;</span>\n",
       "    <span class=\"n\">url</span> <span class=\"o\">=</span> <span class=\"sa\">f</span><span class=\"s2\">&quot;https://www2.census.gov/geo/tiger/GENZ2021/shp/cb_</span><span class=\"si\">{</span><span class=\"n\">year</span><span class=\"si\">}</span><span class=\"s2\">_</span><span class=\"si\">{</span><span class=\"n\">extend</span><span class=\"si\">}</span><span class=\"s2\">_</span><span class=\"si\">{</span><span class=\"n\">level</span><span class=\"si\">}</span><span class=\"s2\">_500k.zip&quot;</span>\n",
       "\n",
       "    <span class=\"c1\"># Load the shapefile directly from the URL using GeoPandas</span>\n",
       "    <span class=\"n\">counties</span> <span class=\"o\">=</span> <span class=\"n\">gpd</span><span class=\"o\">.</span><span class=\"n\">read_file</span><span class=\"p\">(</span><span class=\"n\">url</span><span class=\"p\">)</span>\n",
       "\n",
       "    <span class=\"c1\"># Filter for the counties in South Carolina (FIPS Code: 45)</span>\n",
       "    <span class=\"n\">sc_counties</span> <span class=\"o\">=</span> <span class=\"n\">counties</span><span class=\"p\">[</span><span class=\"n\">counties</span><span class=\"p\">[</span><span class=\"s1\">&#39;STATEFP&#39;</span><span class=\"p\">]</span> <span class=\"o\">==</span> <span class=\"s1\">&#39;45&#39;</span><span class=\"p\">]</span>\n",
       "\n",
       "    <span class=\"c1\"># Define the output path</span>\n",
       "    <span class=\"n\">output_path</span> <span class=\"o\">=</span> <span class=\"sa\">r</span><span class=\"s2\">&quot;E:\\OneDrive_PSU\\OneDrive - The Pennsylvania State University\\Research_doc\\LLM-Find\\Downloaded_Data\\Census_SC_counties_boundary.gpkg&quot;</span>\n",
       "\n",
       "    <span class=\"c1\"># Save the data to a GeoPackage</span>\n",
       "    <span class=\"n\">sc_counties</span><span class=\"o\">.</span><span class=\"n\">to_file</span><span class=\"p\">(</span><span class=\"n\">output_path</span><span class=\"p\">,</span> <span class=\"n\">layer</span><span class=\"o\">=</span><span class=\"s1\">&#39;SC_counties&#39;</span><span class=\"p\">,</span> <span class=\"n\">driver</span><span class=\"o\">=</span><span class=\"s1\">&#39;GPKG&#39;</span><span class=\"p\">)</span>\n",
       "\n",
       "<span class=\"c1\"># Execute the function</span>\n",
       "<span class=\"n\">download_data</span><span class=\"p\">()</span>\n",
       "</pre></div>\n"
      ],
      "text/latex": [
       "\\begin{Verbatim}[commandchars=\\\\\\{\\}]\n",
       "\\PY{k}{def} \\PY{n+nf}{download\\PYZus{}data}\\PY{p}{(}\\PY{p}{)}\\PY{p}{:}\n",
       "    \\PY{k+kn}{import} \\PY{n+nn}{geopandas} \\PY{k}{as} \\PY{n+nn}{gpd}\n",
       "\n",
       "    \\PY{c+c1}{\\PYZsh{} Define the URL for downloading the county boundaries of the USA}\n",
       "    \\PY{n}{year} \\PY{o}{=} \\PY{l+m+mi}{2021}\n",
       "    \\PY{n}{extend} \\PY{o}{=} \\PY{l+s+s1}{\\PYZsq{}}\\PY{l+s+s1}{us}\\PY{l+s+s1}{\\PYZsq{}}\n",
       "    \\PY{n}{level} \\PY{o}{=} \\PY{l+s+s1}{\\PYZsq{}}\\PY{l+s+s1}{county}\\PY{l+s+s1}{\\PYZsq{}}\n",
       "    \\PY{n}{url} \\PY{o}{=} \\PY{l+s+sa}{f}\\PY{l+s+s2}{\\PYZdq{}}\\PY{l+s+s2}{https://www2.census.gov/geo/tiger/GENZ2021/shp/cb\\PYZus{}}\\PY{l+s+si}{\\PYZob{}}\\PY{n}{year}\\PY{l+s+si}{\\PYZcb{}}\\PY{l+s+s2}{\\PYZus{}}\\PY{l+s+si}{\\PYZob{}}\\PY{n}{extend}\\PY{l+s+si}{\\PYZcb{}}\\PY{l+s+s2}{\\PYZus{}}\\PY{l+s+si}{\\PYZob{}}\\PY{n}{level}\\PY{l+s+si}{\\PYZcb{}}\\PY{l+s+s2}{\\PYZus{}500k.zip}\\PY{l+s+s2}{\\PYZdq{}}\n",
       "\n",
       "    \\PY{c+c1}{\\PYZsh{} Load the shapefile directly from the URL using GeoPandas}\n",
       "    \\PY{n}{counties} \\PY{o}{=} \\PY{n}{gpd}\\PY{o}{.}\\PY{n}{read\\PYZus{}file}\\PY{p}{(}\\PY{n}{url}\\PY{p}{)}\n",
       "\n",
       "    \\PY{c+c1}{\\PYZsh{} Filter for the counties in South Carolina (FIPS Code: 45)}\n",
       "    \\PY{n}{sc\\PYZus{}counties} \\PY{o}{=} \\PY{n}{counties}\\PY{p}{[}\\PY{n}{counties}\\PY{p}{[}\\PY{l+s+s1}{\\PYZsq{}}\\PY{l+s+s1}{STATEFP}\\PY{l+s+s1}{\\PYZsq{}}\\PY{p}{]} \\PY{o}{==} \\PY{l+s+s1}{\\PYZsq{}}\\PY{l+s+s1}{45}\\PY{l+s+s1}{\\PYZsq{}}\\PY{p}{]}\n",
       "\n",
       "    \\PY{c+c1}{\\PYZsh{} Define the output path}\n",
       "    \\PY{n}{output\\PYZus{}path} \\PY{o}{=} \\PY{l+s+sa}{r}\\PY{l+s+s2}{\\PYZdq{}}\\PY{l+s+s2}{E:}\\PY{l+s+s2}{\\PYZbs{}}\\PY{l+s+s2}{OneDrive\\PYZus{}PSU}\\PY{l+s+s2}{\\PYZbs{}}\\PY{l+s+s2}{OneDrive \\PYZhy{} The Pennsylvania State University}\\PY{l+s+s2}{\\PYZbs{}}\\PY{l+s+s2}{Research\\PYZus{}doc}\\PY{l+s+s2}{\\PYZbs{}}\\PY{l+s+s2}{LLM\\PYZhy{}Find}\\PY{l+s+s2}{\\PYZbs{}}\\PY{l+s+s2}{Downloaded\\PYZus{}Data}\\PY{l+s+s2}{\\PYZbs{}}\\PY{l+s+s2}{Census\\PYZus{}SC\\PYZus{}counties\\PYZus{}boundary.gpkg}\\PY{l+s+s2}{\\PYZdq{}}\n",
       "\n",
       "    \\PY{c+c1}{\\PYZsh{} Save the data to a GeoPackage}\n",
       "    \\PY{n}{sc\\PYZus{}counties}\\PY{o}{.}\\PY{n}{to\\PYZus{}file}\\PY{p}{(}\\PY{n}{output\\PYZus{}path}\\PY{p}{,} \\PY{n}{layer}\\PY{o}{=}\\PY{l+s+s1}{\\PYZsq{}}\\PY{l+s+s1}{SC\\PYZus{}counties}\\PY{l+s+s1}{\\PYZsq{}}\\PY{p}{,} \\PY{n}{driver}\\PY{o}{=}\\PY{l+s+s1}{\\PYZsq{}}\\PY{l+s+s1}{GPKG}\\PY{l+s+s1}{\\PYZsq{}}\\PY{p}{)}\n",
       "\n",
       "\\PY{c+c1}{\\PYZsh{} Execute the function}\n",
       "\\PY{n}{download\\PYZus{}data}\\PY{p}{(}\\PY{p}{)}\n",
       "\\end{Verbatim}\n"
      ],
      "text/plain": [
       "def download_data():\n",
       "    import geopandas as gpd\n",
       "\n",
       "    # Define the URL for downloading the county boundaries of the USA\n",
       "    year = 2021\n",
       "    extend = 'us'\n",
       "    level = 'county'\n",
       "    url = f\"https://www2.census.gov/geo/tiger/GENZ2021/shp/cb_{year}_{extend}_{level}_500k.zip\"\n",
       "\n",
       "    # Load the shapefile directly from the URL using GeoPandas\n",
       "    counties = gpd.read_file(url)\n",
       "\n",
       "    # Filter for the counties in South Carolina (FIPS Code: 45)\n",
       "    sc_counties = counties[counties['STATEFP'] == '45']\n",
       "\n",
       "    # Define the output path\n",
       "    output_path = r\"E:\\OneDrive_PSU\\OneDrive - The Pennsylvania State University\\Research_doc\\LLM-Find\\Downloaded_Data\\Census_SC_counties_boundary.gpkg\"\n",
       "\n",
       "    # Save the data to a GeoPackage\n",
       "    sc_counties.to_file(output_path, layer='SC_counties', driver='GPKG')\n",
       "\n",
       "# Execute the function\n",
       "download_data()"
      ]
     },
     "metadata": {},
     "output_type": "display_data"
    }
   ],
   "source": [
    "code = helper.extract_code_from_str(LLM_reply_str)\n",
    "display(Code(code, language='python'))"
   ]
  },
  {
   "cell_type": "code",
   "execution_count": 368,
   "id": "007ff924-8af3-4b1f-aed6-859033500f69",
   "metadata": {},
   "outputs": [
    {
     "name": "stdout",
     "output_type": "stream",
     "text": [
      "The autoreload extension is already loaded. To reload it, use:\n",
      "  %reload_ext autoreload\n",
      "\n",
      "\n",
      "-------------- Running code (trial # 1/10) --------------\n",
      "\n",
      "\n"
     ]
    },
    {
     "name": "stderr",
     "output_type": "stream",
     "text": [
      "e:\\ProgramData\\Anaconda3\\envs\\ox\\Lib\\asyncio\\selector_events.py:879: ResourceWarning: unclosed transport <_SelectorSocketTransport fd=5808 read=idle write=<idle, bufsize=0>>\n",
      "  _warn(f\"unclosed transport {self!r}\", ResourceWarning, source=self)\n",
      "ResourceWarning: Enable tracemalloc to get the object allocation traceback\n",
      "e:\\ProgramData\\Anaconda3\\envs\\ox\\Lib\\asyncio\\selector_events.py:879: ResourceWarning: unclosed transport <_SelectorSocketTransport fd=5692 read=idle write=<idle, bufsize=0>>\n",
      "  _warn(f\"unclosed transport {self!r}\", ResourceWarning, source=self)\n",
      "ResourceWarning: Enable tracemalloc to get the object allocation traceback\n"
     ]
    },
    {
     "name": "stdout",
     "output_type": "stream",
     "text": [
      "\n",
      "\n",
      "--------------- Done ---------------\n",
      "\n",
      "\n"
     ]
    },
    {
     "name": "stderr",
     "output_type": "stream",
     "text": [
      "e:\\ProgramData\\Anaconda3\\envs\\ox\\Lib\\site-packages\\jupyter_client\\session.py:201: DeprecationWarning: datetime.datetime.utcnow() is deprecated and scheduled for removal in a future version. Use timezone-aware objects to represent datetimes in UTC: datetime.datetime.now(datetime.UTC).\n",
      "  return datetime.utcnow().replace(tzinfo=utc)\n"
     ]
    },
    {
     "data": {
      "text/html": [
       "<style>pre { line-height: 125%; }\n",
       "td.linenos .normal { color: inherit; background-color: transparent; padding-left: 5px; padding-right: 5px; }\n",
       "span.linenos { color: inherit; background-color: transparent; padding-left: 5px; padding-right: 5px; }\n",
       "td.linenos .special { color: #000000; background-color: #ffffc0; padding-left: 5px; padding-right: 5px; }\n",
       "span.linenos.special { color: #000000; background-color: #ffffc0; padding-left: 5px; padding-right: 5px; }\n",
       ".output_html .hll { background-color: #ffffcc }\n",
       ".output_html { background: #f8f8f8; }\n",
       ".output_html .c { color: #3D7B7B; font-style: italic } /* Comment */\n",
       ".output_html .err { border: 1px solid #FF0000 } /* Error */\n",
       ".output_html .k { color: #008000; font-weight: bold } /* Keyword */\n",
       ".output_html .o { color: #666666 } /* Operator */\n",
       ".output_html .ch { color: #3D7B7B; font-style: italic } /* Comment.Hashbang */\n",
       ".output_html .cm { color: #3D7B7B; font-style: italic } /* Comment.Multiline */\n",
       ".output_html .cp { color: #9C6500 } /* Comment.Preproc */\n",
       ".output_html .cpf { color: #3D7B7B; font-style: italic } /* Comment.PreprocFile */\n",
       ".output_html .c1 { color: #3D7B7B; font-style: italic } /* Comment.Single */\n",
       ".output_html .cs { color: #3D7B7B; font-style: italic } /* Comment.Special */\n",
       ".output_html .gd { color: #A00000 } /* Generic.Deleted */\n",
       ".output_html .ge { font-style: italic } /* Generic.Emph */\n",
       ".output_html .gr { color: #E40000 } /* Generic.Error */\n",
       ".output_html .gh { color: #000080; font-weight: bold } /* Generic.Heading */\n",
       ".output_html .gi { color: #008400 } /* Generic.Inserted */\n",
       ".output_html .go { color: #717171 } /* Generic.Output */\n",
       ".output_html .gp { color: #000080; font-weight: bold } /* Generic.Prompt */\n",
       ".output_html .gs { font-weight: bold } /* Generic.Strong */\n",
       ".output_html .gu { color: #800080; font-weight: bold } /* Generic.Subheading */\n",
       ".output_html .gt { color: #0044DD } /* Generic.Traceback */\n",
       ".output_html .kc { color: #008000; font-weight: bold } /* Keyword.Constant */\n",
       ".output_html .kd { color: #008000; font-weight: bold } /* Keyword.Declaration */\n",
       ".output_html .kn { color: #008000; font-weight: bold } /* Keyword.Namespace */\n",
       ".output_html .kp { color: #008000 } /* Keyword.Pseudo */\n",
       ".output_html .kr { color: #008000; font-weight: bold } /* Keyword.Reserved */\n",
       ".output_html .kt { color: #B00040 } /* Keyword.Type */\n",
       ".output_html .m { color: #666666 } /* Literal.Number */\n",
       ".output_html .s { color: #BA2121 } /* Literal.String */\n",
       ".output_html .na { color: #687822 } /* Name.Attribute */\n",
       ".output_html .nb { color: #008000 } /* Name.Builtin */\n",
       ".output_html .nc { color: #0000FF; font-weight: bold } /* Name.Class */\n",
       ".output_html .no { color: #880000 } /* Name.Constant */\n",
       ".output_html .nd { color: #AA22FF } /* Name.Decorator */\n",
       ".output_html .ni { color: #717171; font-weight: bold } /* Name.Entity */\n",
       ".output_html .ne { color: #CB3F38; font-weight: bold } /* Name.Exception */\n",
       ".output_html .nf { color: #0000FF } /* Name.Function */\n",
       ".output_html .nl { color: #767600 } /* Name.Label */\n",
       ".output_html .nn { color: #0000FF; font-weight: bold } /* Name.Namespace */\n",
       ".output_html .nt { color: #008000; font-weight: bold } /* Name.Tag */\n",
       ".output_html .nv { color: #19177C } /* Name.Variable */\n",
       ".output_html .ow { color: #AA22FF; font-weight: bold } /* Operator.Word */\n",
       ".output_html .w { color: #bbbbbb } /* Text.Whitespace */\n",
       ".output_html .mb { color: #666666 } /* Literal.Number.Bin */\n",
       ".output_html .mf { color: #666666 } /* Literal.Number.Float */\n",
       ".output_html .mh { color: #666666 } /* Literal.Number.Hex */\n",
       ".output_html .mi { color: #666666 } /* Literal.Number.Integer */\n",
       ".output_html .mo { color: #666666 } /* Literal.Number.Oct */\n",
       ".output_html .sa { color: #BA2121 } /* Literal.String.Affix */\n",
       ".output_html .sb { color: #BA2121 } /* Literal.String.Backtick */\n",
       ".output_html .sc { color: #BA2121 } /* Literal.String.Char */\n",
       ".output_html .dl { color: #BA2121 } /* Literal.String.Delimiter */\n",
       ".output_html .sd { color: #BA2121; font-style: italic } /* Literal.String.Doc */\n",
       ".output_html .s2 { color: #BA2121 } /* Literal.String.Double */\n",
       ".output_html .se { color: #AA5D1F; font-weight: bold } /* Literal.String.Escape */\n",
       ".output_html .sh { color: #BA2121 } /* Literal.String.Heredoc */\n",
       ".output_html .si { color: #A45A77; font-weight: bold } /* Literal.String.Interpol */\n",
       ".output_html .sx { color: #008000 } /* Literal.String.Other */\n",
       ".output_html .sr { color: #A45A77 } /* Literal.String.Regex */\n",
       ".output_html .s1 { color: #BA2121 } /* Literal.String.Single */\n",
       ".output_html .ss { color: #19177C } /* Literal.String.Symbol */\n",
       ".output_html .bp { color: #008000 } /* Name.Builtin.Pseudo */\n",
       ".output_html .fm { color: #0000FF } /* Name.Function.Magic */\n",
       ".output_html .vc { color: #19177C } /* Name.Variable.Class */\n",
       ".output_html .vg { color: #19177C } /* Name.Variable.Global */\n",
       ".output_html .vi { color: #19177C } /* Name.Variable.Instance */\n",
       ".output_html .vm { color: #19177C } /* Name.Variable.Magic */\n",
       ".output_html .il { color: #666666 } /* Literal.Number.Integer.Long */</style><div class=\"highlight\"><pre><span></span><span class=\"k\">def</span> <span class=\"nf\">download_data</span><span class=\"p\">():</span>\n",
       "    <span class=\"kn\">import</span> <span class=\"nn\">geopandas</span> <span class=\"k\">as</span> <span class=\"nn\">gpd</span>\n",
       "\n",
       "    <span class=\"c1\"># Define the URL for downloading the county boundaries of the USA</span>\n",
       "    <span class=\"n\">year</span> <span class=\"o\">=</span> <span class=\"mi\">2021</span>\n",
       "    <span class=\"n\">extend</span> <span class=\"o\">=</span> <span class=\"s1\">&#39;us&#39;</span>\n",
       "    <span class=\"n\">level</span> <span class=\"o\">=</span> <span class=\"s1\">&#39;county&#39;</span>\n",
       "    <span class=\"n\">url</span> <span class=\"o\">=</span> <span class=\"sa\">f</span><span class=\"s2\">&quot;https://www2.census.gov/geo/tiger/GENZ2021/shp/cb_</span><span class=\"si\">{</span><span class=\"n\">year</span><span class=\"si\">}</span><span class=\"s2\">_</span><span class=\"si\">{</span><span class=\"n\">extend</span><span class=\"si\">}</span><span class=\"s2\">_</span><span class=\"si\">{</span><span class=\"n\">level</span><span class=\"si\">}</span><span class=\"s2\">_500k.zip&quot;</span>\n",
       "\n",
       "    <span class=\"c1\"># Load the shapefile directly from the URL using GeoPandas</span>\n",
       "    <span class=\"n\">counties</span> <span class=\"o\">=</span> <span class=\"n\">gpd</span><span class=\"o\">.</span><span class=\"n\">read_file</span><span class=\"p\">(</span><span class=\"n\">url</span><span class=\"p\">)</span>\n",
       "\n",
       "    <span class=\"c1\"># Filter for the counties in South Carolina (FIPS Code: 45)</span>\n",
       "    <span class=\"n\">sc_counties</span> <span class=\"o\">=</span> <span class=\"n\">counties</span><span class=\"p\">[</span><span class=\"n\">counties</span><span class=\"p\">[</span><span class=\"s1\">&#39;STATEFP&#39;</span><span class=\"p\">]</span> <span class=\"o\">==</span> <span class=\"s1\">&#39;45&#39;</span><span class=\"p\">]</span>\n",
       "\n",
       "    <span class=\"c1\"># Define the output path</span>\n",
       "    <span class=\"n\">output_path</span> <span class=\"o\">=</span> <span class=\"sa\">r</span><span class=\"s2\">&quot;E:\\OneDrive_PSU\\OneDrive - The Pennsylvania State University\\Research_doc\\LLM-Find\\Downloaded_Data\\Census_SC_counties_boundary.gpkg&quot;</span>\n",
       "\n",
       "    <span class=\"c1\"># Save the data to a GeoPackage</span>\n",
       "    <span class=\"n\">sc_counties</span><span class=\"o\">.</span><span class=\"n\">to_file</span><span class=\"p\">(</span><span class=\"n\">output_path</span><span class=\"p\">,</span> <span class=\"n\">layer</span><span class=\"o\">=</span><span class=\"s1\">&#39;SC_counties&#39;</span><span class=\"p\">,</span> <span class=\"n\">driver</span><span class=\"o\">=</span><span class=\"s1\">&#39;GPKG&#39;</span><span class=\"p\">)</span>\n",
       "\n",
       "<span class=\"c1\"># Execute the function</span>\n",
       "<span class=\"n\">download_data</span><span class=\"p\">()</span>\n",
       "</pre></div>\n"
      ],
      "text/latex": [
       "\\begin{Verbatim}[commandchars=\\\\\\{\\}]\n",
       "\\PY{k}{def} \\PY{n+nf}{download\\PYZus{}data}\\PY{p}{(}\\PY{p}{)}\\PY{p}{:}\n",
       "    \\PY{k+kn}{import} \\PY{n+nn}{geopandas} \\PY{k}{as} \\PY{n+nn}{gpd}\n",
       "\n",
       "    \\PY{c+c1}{\\PYZsh{} Define the URL for downloading the county boundaries of the USA}\n",
       "    \\PY{n}{year} \\PY{o}{=} \\PY{l+m+mi}{2021}\n",
       "    \\PY{n}{extend} \\PY{o}{=} \\PY{l+s+s1}{\\PYZsq{}}\\PY{l+s+s1}{us}\\PY{l+s+s1}{\\PYZsq{}}\n",
       "    \\PY{n}{level} \\PY{o}{=} \\PY{l+s+s1}{\\PYZsq{}}\\PY{l+s+s1}{county}\\PY{l+s+s1}{\\PYZsq{}}\n",
       "    \\PY{n}{url} \\PY{o}{=} \\PY{l+s+sa}{f}\\PY{l+s+s2}{\\PYZdq{}}\\PY{l+s+s2}{https://www2.census.gov/geo/tiger/GENZ2021/shp/cb\\PYZus{}}\\PY{l+s+si}{\\PYZob{}}\\PY{n}{year}\\PY{l+s+si}{\\PYZcb{}}\\PY{l+s+s2}{\\PYZus{}}\\PY{l+s+si}{\\PYZob{}}\\PY{n}{extend}\\PY{l+s+si}{\\PYZcb{}}\\PY{l+s+s2}{\\PYZus{}}\\PY{l+s+si}{\\PYZob{}}\\PY{n}{level}\\PY{l+s+si}{\\PYZcb{}}\\PY{l+s+s2}{\\PYZus{}500k.zip}\\PY{l+s+s2}{\\PYZdq{}}\n",
       "\n",
       "    \\PY{c+c1}{\\PYZsh{} Load the shapefile directly from the URL using GeoPandas}\n",
       "    \\PY{n}{counties} \\PY{o}{=} \\PY{n}{gpd}\\PY{o}{.}\\PY{n}{read\\PYZus{}file}\\PY{p}{(}\\PY{n}{url}\\PY{p}{)}\n",
       "\n",
       "    \\PY{c+c1}{\\PYZsh{} Filter for the counties in South Carolina (FIPS Code: 45)}\n",
       "    \\PY{n}{sc\\PYZus{}counties} \\PY{o}{=} \\PY{n}{counties}\\PY{p}{[}\\PY{n}{counties}\\PY{p}{[}\\PY{l+s+s1}{\\PYZsq{}}\\PY{l+s+s1}{STATEFP}\\PY{l+s+s1}{\\PYZsq{}}\\PY{p}{]} \\PY{o}{==} \\PY{l+s+s1}{\\PYZsq{}}\\PY{l+s+s1}{45}\\PY{l+s+s1}{\\PYZsq{}}\\PY{p}{]}\n",
       "\n",
       "    \\PY{c+c1}{\\PYZsh{} Define the output path}\n",
       "    \\PY{n}{output\\PYZus{}path} \\PY{o}{=} \\PY{l+s+sa}{r}\\PY{l+s+s2}{\\PYZdq{}}\\PY{l+s+s2}{E:}\\PY{l+s+s2}{\\PYZbs{}}\\PY{l+s+s2}{OneDrive\\PYZus{}PSU}\\PY{l+s+s2}{\\PYZbs{}}\\PY{l+s+s2}{OneDrive \\PYZhy{} The Pennsylvania State University}\\PY{l+s+s2}{\\PYZbs{}}\\PY{l+s+s2}{Research\\PYZus{}doc}\\PY{l+s+s2}{\\PYZbs{}}\\PY{l+s+s2}{LLM\\PYZhy{}Find}\\PY{l+s+s2}{\\PYZbs{}}\\PY{l+s+s2}{Downloaded\\PYZus{}Data}\\PY{l+s+s2}{\\PYZbs{}}\\PY{l+s+s2}{Census\\PYZus{}SC\\PYZus{}counties\\PYZus{}boundary.gpkg}\\PY{l+s+s2}{\\PYZdq{}}\n",
       "\n",
       "    \\PY{c+c1}{\\PYZsh{} Save the data to a GeoPackage}\n",
       "    \\PY{n}{sc\\PYZus{}counties}\\PY{o}{.}\\PY{n}{to\\PYZus{}file}\\PY{p}{(}\\PY{n}{output\\PYZus{}path}\\PY{p}{,} \\PY{n}{layer}\\PY{o}{=}\\PY{l+s+s1}{\\PYZsq{}}\\PY{l+s+s1}{SC\\PYZus{}counties}\\PY{l+s+s1}{\\PYZsq{}}\\PY{p}{,} \\PY{n}{driver}\\PY{o}{=}\\PY{l+s+s1}{\\PYZsq{}}\\PY{l+s+s1}{GPKG}\\PY{l+s+s1}{\\PYZsq{}}\\PY{p}{)}\n",
       "\n",
       "\\PY{c+c1}{\\PYZsh{} Execute the function}\n",
       "\\PY{n}{download\\PYZus{}data}\\PY{p}{(}\\PY{p}{)}\n",
       "\\end{Verbatim}\n"
      ],
      "text/plain": [
       "def download_data():\n",
       "    import geopandas as gpd\n",
       "\n",
       "    # Define the URL for downloading the county boundaries of the USA\n",
       "    year = 2021\n",
       "    extend = 'us'\n",
       "    level = 'county'\n",
       "    url = f\"https://www2.census.gov/geo/tiger/GENZ2021/shp/cb_{year}_{extend}_{level}_500k.zip\"\n",
       "\n",
       "    # Load the shapefile directly from the URL using GeoPandas\n",
       "    counties = gpd.read_file(url)\n",
       "\n",
       "    # Filter for the counties in South Carolina (FIPS Code: 45)\n",
       "    sc_counties = counties[counties['STATEFP'] == '45']\n",
       "\n",
       "    # Define the output path\n",
       "    output_path = r\"E:\\OneDrive_PSU\\OneDrive - The Pennsylvania State University\\Research_doc\\LLM-Find\\Downloaded_Data\\Census_SC_counties_boundary.gpkg\"\n",
       "\n",
       "    # Save the data to a GeoPackage\n",
       "    sc_counties.to_file(output_path, layer='SC_counties', driver='GPKG')\n",
       "\n",
       "# Execute the function\n",
       "download_data()"
      ]
     },
     "metadata": {},
     "output_type": "display_data"
    }
   ],
   "source": [
    "%load_ext autoreload\n",
    "%autoreload 2\n",
    "\n",
    "code = helper.execute_complete_program(code=code, try_cnt=10)\n",
    "display(Code(code, language='python'))\n"
   ]
  },
  {
   "cell_type": "markdown",
   "id": "696f92ee-4998-4b1a-a55e-7f2267a49b4a",
   "metadata": {},
   "source": [
    "# Show the downloaded data"
   ]
  },
  {
   "cell_type": "code",
   "execution_count": 369,
   "id": "32ea061e-988e-470e-b648-ed831be180b5",
   "metadata": {},
   "outputs": [
    {
     "name": "stderr",
     "output_type": "stream",
     "text": [
      "e:\\ProgramData\\Anaconda3\\envs\\ox\\Lib\\site-packages\\jupyter_client\\session.py:201: DeprecationWarning: datetime.datetime.utcnow() is deprecated and scheduled for removal in a future version. Use timezone-aware objects to represent datetimes in UTC: datetime.datetime.now(datetime.UTC).\n",
      "  return datetime.utcnow().replace(tzinfo=utc)\n"
     ]
    },
    {
     "data": {
      "text/plain": [
       "<Axes: >"
      ]
     },
     "execution_count": 369,
     "metadata": {},
     "output_type": "execute_result"
    },
    {
     "data": {
      "image/png": "[encoded data removed]",
      "text/plain": [
       "<Figure size 640x480 with 1 Axes>"
      ]
     },
     "metadata": {},
     "output_type": "display_data"
    }
   ],
   "source": [
    "gdf = gpd.read_file(saved_fname)\n",
    "gdf.plot()"
   ]
  },
  {
   "cell_type": "code",
   "execution_count": 370,
   "id": "b2aefda4-6e4f-4cdd-a196-2cfa5a63908e",
   "metadata": {},
   "outputs": [
    {
     "data": {
      "text/plain": [
       "'E:\\\\OneDrive_PSU\\\\OneDrive - The Pennsylvania State University\\\\Research_doc\\\\LLM-Find\\\\Downloaded_Data\\\\Census_SC_counties_boundary.gpkg.'"
      ]
     },
     "execution_count": 370,
     "metadata": {},
     "output_type": "execute_result"
    }
   ],
   "source": [
    "saved_fname"
   ]
  }
 ],
 "metadata": {
  "kernelspec": {
   "display_name": "ox",
   "language": "python",
   "name": "ox"
  },
  "language_info": {
   "codemirror_mode": {
    "name": "ipython",
    "version": 3
   },
   "file_extension": ".py",
   "mimetype": "text/x-python",
   "name": "python",
   "nbconvert_exporter": "python",
   "pygments_lexer": "ipython3",
   "version": "3.12.3"
  },
  "widgets": {
   "application/vnd.jupyter.widget-state+json": {
    "state": {},
    "version_major": 2,
    "version_minor": 0
   }
  }
 },
 "nbformat": 4,
 "nbformat_minor": 5
}
