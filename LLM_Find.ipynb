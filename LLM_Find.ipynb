{
 "cells": [
  {
   "cell_type": "markdown",
   "id": "77738df5-e62c-4bf9-ba20-baffea46e951",
   "metadata": {},
   "source": [
    "\n"
   ]
  },
  {
   "cell_type": "markdown",
   "id": "bf676855-2221-47c7-8dff-b185e03c3953",
   "metadata": {
    "tags": []
   },
   "source": [
    "#  Install package"
   ]
  },
  {
   "cell_type": "code",
   "execution_count": 1,
   "id": "05156c09-3ec8-47d7-a629-f9374440658a",
   "metadata": {
    "execution": {
     "iopub.execute_input": "2024-07-22T17:33:30.732265Z",
     "iopub.status.busy": "2024-07-22T17:33:30.732265Z",
     "iopub.status.idle": "2024-07-22T17:33:30.737820Z",
     "shell.execute_reply": "2024-07-22T17:33:30.736810Z",
     "shell.execute_reply.started": "2024-07-22T17:33:30.732265Z"
    },
    "tags": []
   },
   "outputs": [],
   "source": [
    "# # You may need these\n",
    "# ! pip install openai\n",
    "# ! pip install langchain\n",
    "# ! pip install langchain-openai\n",
    "# ! pip install langchain-core\n",
    "# ! pip install osmnx\n",
    "# ! pip install langchain openai --upgrade\n",
    "# ! pip install itables\n",
    "# ! pip install leafmap\n",
    "# ! jupyter labextension install @jupyter-widgets/jupyterlab-manager jupyter-leaflet\n",
    "# ! pip install localtileserver \n",
    "\n",
    "## May not need these\n",
    "## ! pip install pyvis\n",
    "## ! pip install networkx\n",
    "## ! pip install OSMPythonTools\n",
    "## ! pip install contextily\n",
    "## ! pip install matplotlib_scalebar\n",
    "## ! pip install geojson\n"
   ]
  },
  {
   "cell_type": "markdown",
   "id": "b254e9bd-675a-4644-abfd-d642183da809",
   "metadata": {
    "tags": []
   },
   "source": [
    "# Import package"
   ]
  },
  {
   "cell_type": "code",
   "execution_count": 2,
   "id": "392efdfe-e33d-43fb-b8ea-6b6fb444ad9d",
   "metadata": {
    "execution": {
     "iopub.execute_input": "2024-07-22T17:33:30.739821Z",
     "iopub.status.busy": "2024-07-22T17:33:30.739821Z",
     "iopub.status.idle": "2024-07-22T17:33:34.312611Z",
     "shell.execute_reply": "2024-07-22T17:33:34.312611Z",
     "shell.execute_reply.started": "2024-07-22T17:33:30.739821Z"
    },
    "tags": []
   },
   "outputs": [],
   "source": [
    "%load_ext autoreload\n",
    "%autoreload 2\n",
    "    \n",
    "import os\n",
    "import rasterio\n",
    "from PIL import Image\n",
    "\n",
    "import requests\n",
    "import networkx as nx\n",
    "import pandas as pd\n",
    "import geopandas as gpd\n",
    "# from pyvis.network import Network\n",
    "from openai import OpenAI\n",
    "from IPython.display import display, HTML, Code\n",
    "from IPython.display import clear_output\n",
    "import matplotlib.pyplot as plt\n",
    "\n",
    "import base64\n",
    "\n",
    "import pickle\n",
    "import sys\n",
    "import osmnx as ox\n",
    "\n",
    "import LLM_Find_Constants as constants\n",
    "import helper\n",
    "\n",
    "import numpy as np\n",
    "# from LLM_Find_kernel import Solution\n",
    "\n",
    "from langchain_openai import ChatOpenAI\n",
    "\n",
    "# from langchain_core.prompts import ChatPromptTemplate\n",
    "from time import sleep\n",
    "\n",
    "OpenAI_key = helper.load_OpenAI_key()"
   ]
  },
  {
   "cell_type": "code",
   "execution_count": 3,
   "id": "6f7c7853-e8d3-4984-ac53-3b60917a876d",
   "metadata": {
    "execution": {
     "iopub.execute_input": "2024-07-22T17:33:34.313616Z",
     "iopub.status.busy": "2024-07-22T17:33:34.313616Z",
     "iopub.status.idle": "2024-07-22T17:33:34.545038Z",
     "shell.execute_reply": "2024-07-22T17:33:34.545038Z",
     "shell.execute_reply.started": "2024-07-22T17:33:34.313616Z"
    }
   },
   "outputs": [
    {
     "data": {
      "text/html": [
       "\n",
       "<script src=\"https://cdnjs.cloudflare.com/ajax/libs/require.js/2.1.10/require.min.js\"></script>\n"
      ],
      "text/plain": [
       "<IPython.core.display.HTML object>"
      ]
     },
     "metadata": {},
     "output_type": "display_data"
    }
   ],
   "source": [
    "display(HTML(\"\"\"\n",
    "<script src=\"https://cdnjs.cloudflare.com/ajax/libs/require.js/2.1.10/require.min.js\"></script>\n",
    "\"\"\"))\n",
    "\n",
    "sleep(0.1)\n",
    "\n",
    "from itables import init_notebook_mode\n",
    "from itables import show\n",
    "# init_notebook_mode(all_interactive=True)"
   ]
  },
  {
   "cell_type": "code",
   "execution_count": null,
   "id": "f3bdc053-eaa3-4510-9013-98b29f691d5c",
   "metadata": {},
   "outputs": [],
   "source": []
  },
  {
   "cell_type": "markdown",
   "id": "9a545a6b-1456-40b8-a913-b4dfd305c071",
   "metadata": {
    "tags": []
   },
   "source": [
    "# Input task and data desciption"
   ]
  },
  {
   "cell_type": "markdown",
   "id": "80059925-da23-486a-8111-d3b661811b0b",
   "metadata": {},
   "source": [
    "## Data source 1: OpenStreetMap"
   ]
  },
  {
   "cell_type": "code",
   "execution_count": 4,
   "id": "481b7c40-738c-43bb-a06c-ae6e9daa0776",
   "metadata": {
    "execution": {
     "iopub.execute_input": "2024-07-22T17:33:34.546068Z",
     "iopub.status.busy": "2024-07-22T17:33:34.546068Z",
     "iopub.status.idle": "2024-07-22T17:33:34.643976Z",
     "shell.execute_reply": "2024-07-22T17:33:34.643976Z",
     "shell.execute_reply.started": "2024-07-22T17:33:34.546068Z"
    }
   },
   "outputs": [],
   "source": [
    "## task_name ='Nigeria_cities'\n",
    "# downloaded_file_name = r'Nigeria_cities.gpkg'\n",
    "# saved_fname = os.path.join(os.getcwd(), \"Downloaded_Data\", downloaded_file_name)\n",
    "# task = rf'''1. Download the city locations of Nigeria; do not download towns.   \n",
    "# 2. Save the downloaded data as points, save it at: {saved_fname} \n",
    "# '''\n",
    "\n",
    "# task_name ='Nigeria_rivers'\n",
    "# downloaded_file_name = r'Nigeria_rivers.gpkg'\n",
    "# saved_fname = os.path.join(os.getcwd(), \"Downloaded_Data\", downloaded_file_name)\n",
    "# task = rf'''1. Download the rivers of Nigeria.   \n",
    "# 2. Save the downloaded data as polylines, save it at: {saved_fname} \n",
    "# '''\n",
    "\n",
    "# task_name ='Nigeria_state_boundary'  # most test failed!!!!! Soloved.\n",
    "# downloaded_file_name = r'Nigeria_states_boundary.gpkg'\n",
    "# saved_fname = os.path.join(os.getcwd(), \"Downloaded_Data\", downloaded_file_name)\n",
    "# task = rf'''1. Download all state boundaries of Nigeria.   \n",
    "# # 2. Save the downloaded data as polygons, save it at: {saved_fname} \n",
    "# # '''\n",
    "\n",
    "# task_name ='World_country_boundary'  # most test failed!!!!! Soloved.\n",
    "# downloaded_file_name = r'World_country_boundary.gpkg'\n",
    "# saved_fname = os.path.join(os.getcwd(), \"Downloaded_Data\", downloaded_file_name)\n",
    "# task = rf'''1. Download all country boundaries of the world.   \n",
    "# # 2. Save the downloaded data as polygons, save it at: {saved_fname} \n",
    "# # '''\n",
    "\n",
    "\n",
    "## task_name ='China_mainland_province_boundary'  # most test failed! solved.\n",
    "# downloaded_file_name = r'China_mainland_Province_boundary.gpkg'\n",
    "# saved_fname = os.path.join(os.getcwd(), \"Downloaded_Data\", downloaded_file_name)\n",
    "# task = rf'''1. Download all province boundaries of China mainland.   \n",
    "# 2. Save the downloaded data as polygons in GeoPackage format at: {saved_fname} \n",
    "# '''\n",
    "\n",
    "## task_name ='OSM_PA_boundary'\n",
    "# downloaded_file_name = r'PA_boundary.gpkg'\n",
    "# saved_fname = os.path.join(os.getcwd(), \"Downloaded_Data\", downloaded_file_name)\n",
    "# task = rf'''1. Download the administrative boundary of Pennsylvania State, USA.\n",
    "# 2. Save the downloaded data in GeoPackage format, save it at: {saved_fname} \n",
    "# '''\n",
    "\n",
    "## task_name ='OSM_SC_boundary'\n",
    "# downloaded_file_name = r'SC_boundary.gpkg'\n",
    "# saved_fname = os.path.join(os.getcwd(), \"Downloaded_Data\", downloaded_file_name)\n",
    "# task = rf'''1. Download the administrative boundary of South Carolina State, USA.\n",
    "# 2. Save the downloaded data in GeoPackage format at: {saved_fname} \n",
    "# '''\n",
    "\n",
    "# task_name ='OSM_PA_hospital'\n",
    "# downloaded_file_name = r'PA_hospital.gpkg'\n",
    "# saved_fname = os.path.join(os.getcwd(), \"Downloaded_Data\", downloaded_file_name)\n",
    "# task = rf'''1. Download all hospitals in Pennsylvania, USA.\n",
    "# 2. Save the downloaded data as points in GeoPackage format at: {saved_fname} \n",
    "# '''\n",
    "\n",
    "## task_name ='SC_hospital'\n",
    "# downloaded_file_name = r'SC_hospital.gpkg'\n",
    "# saved_fname = os.path.join(os.getcwd(), \"Downloaded_Data\", downloaded_file_name)\n",
    "# task = rf'''1. Download all hospitals in South Carolina, USA.\n",
    "# 2. Save the downloaded data as points in GeoPackage at: {saved_fname} \n",
    "# '''\n",
    "\n",
    "## task_name ='OSM_SC_school'\n",
    "# downloaded_file_name = r'SC_school.gpkg'\n",
    "# saved_fname = os.path.join(os.getcwd(), \"Downloaded_Data\", downloaded_file_name)\n",
    "# task = rf'''1. Download all schools in South Carolina State, USA.\n",
    "# 2. Save the downloaded data as points in GeoPackage format at: {saved_fname} \n",
    "# '''\n",
    "\n",
    "# task_name ='OSM_Yulin_River'\n",
    "# downloaded_file_name = r'Yulin_river.gpkg'\n",
    "# saved_fname = os.path.join(os.getcwd(), \"Downloaded_Data\", downloaded_file_name)\n",
    "# task = rf'''1. Download all rivers in Yulin, Guangxi, China.\n",
    "# 2. Save the downloaded data as polylines in GeoPackage format at: {saved_fname} \n",
    "# '''\n",
    "\n",
    "## task_name ='OSM_CA_park'\n",
    "# downloaded_file_name = r'CA_parks.gpkg'\n",
    "# saved_fname = os.path.join(os.getcwd(), \"Downloaded_Data\", downloaded_file_name)\n",
    "# task = rf'''1. Download all parks in California, USA, including urban public, recreation, state, and national parks.\n",
    "# 2. Save the downloaded data as points in GeoPackage format at: {saved_fname} \n",
    "# # '''\n",
    "\n",
    "## task_name ='OSM_USA_university'\n",
    "# downloaded_file_name = r'USA_universities.gpkg'\n",
    "# saved_fname = os.path.join(os.getcwd(), \"Downloaded_Data\", downloaded_file_name)\n",
    "# task = rf'''1. Download the POIs of all universities, colleges, and other higher education institutions in the USA.\n",
    "# 2. Save the downloaded data as points in GeoPackage format at: {saved_fname} \n",
    "# '''\n",
    "\n",
    "## task_name ='OSM_State_College_street'\n",
    "# downloaded_file_name = r'State_College_street.gpkg'\n",
    "# saved_fname = os.path.join(os.getcwd(), \"Downloaded_Data\", downloaded_file_name)\n",
    "# task = rf'''1. Download all streets of State College, Pennsylvania, USA.\n",
    "# 2. Save the downloaded data as polylines in GeoPackage format at: {saved_fname} \n",
    "# '''\n",
    "\n",
    "# ## task_name ='OSM_Nigeria_boundary'\n",
    "# downloaded_file_name = r'Nigeria_boundary.gpkg'\n",
    "# saved_fname = os.path.join(os.getcwd(), \"Downloaded_Data\", downloaded_file_name)\n",
    "# task = rf'''1. Download the administrative boundary of Nigeria.\n",
    "# 2. Save the downloaded data in GeoPackage format at: {saved_fname} \n",
    "# '''\n",
    "\n",
    "# ## task_name ='OSM_Afghanistan_boundary'\n",
    "# downloaded_file_name = r'Afghanistan_boundary.gpkg'\n",
    "# saved_fname = os.path.join(os.getcwd(), \"Downloaded_Data\", downloaded_file_name)\n",
    "# task = rf'''1. Download the administrative boundary of Afghanistan.\n",
    "# 2. Save the downloaded data in GeoPackage format at: {saved_fname} \n",
    "# '''\n",
    "\n",
    "\n",
    "# task_name ='OSM_Nigeria_railway'\n",
    "# downloaded_file_name = r'Nigeria_railway.gpkg'\n",
    "# saved_fname = os.path.join(os.getcwd(), \"Downloaded_Data\", downloaded_file_name)\n",
    "# task = rf'''1. Download the railway network of Nigeria.\n",
    "# 2. Save the downloaded data in GeoPackage format, save it at: {saved_fname} \n",
    "# '''\n",
    "\n",
    "## task_name ='Wuhan_railway_network'\n",
    "# downloaded_file_name = r'Wuhan_Railway_network.gpkg'\n",
    "# saved_fname = os.path.join(os.getcwd(), \"Downloaded_Data\", downloaded_file_name)\n",
    "# task = rf'''1. Download the railway network in Wuhan, Hubei, China.\n",
    "# 2. Save the downloaded data as polylines in GeoPackage format at: {saved_fname} \n",
    "# '''\n",
    "# # Wuhan_railway_network is a difficult case! It succeeded at the beginning, but failed all the time later.\n",
    "# # The query: area[\"name\"=\"Wuhan\"][\"boundary\"=\"administrative\"]->.searchArea; is not correct. Need to use \"name:en\". \n",
    "# # Using \"Hubei Province\" may not return polygons\n",
    "\n",
    "## task_name ='Qingdao_boundary'\n",
    "# downloaded_file_name = r'Qingdao_boundary.gpkg'\n",
    "# saved_fname = os.path.join(os.getcwd(), \"Downloaded_Data\", downloaded_file_name)\n",
    "# task = rf'''1. Download the administrative of Qingdao, Shandong, China.\n",
    "# 2. Save the downloaded data as polygons, save it at: {saved_fname} \n",
    "# '''\n",
    "\n",
    "# task_name ='China_Guangdong_province_boundary'   \n",
    "# downloaded_file_name = r'China_Guangdong_province_boundary.gpkg'\n",
    "# saved_fname = os.path.join(os.getcwd(), \"Downloaded_Data\", downloaded_file_name)\n",
    "# task = rf'''1. Download the Guangdong province boundaries of China.   \n",
    "# 2. Save the downloaded data as polygons, save it at: {saved_fname} \n",
    "# '''\n",
    "\n",
    "## task_name ='OSM_coffee_shop_Vietnam'\n",
    "# downloaded_file_name = r'coffee_shop_Vietnam.gpkg'\n",
    "# saved_fname = os.path.join(os.getcwd(), \"Downloaded_Data\", downloaded_file_name)\n",
    "# task = rf'''1. Download all the coffee shops in Vietnam.\n",
    "# 2. Save the downloaded data in GeoPackage format, save it at: {saved_fname} \n",
    "# '''"
   ]
  },
  {
   "cell_type": "markdown",
   "id": "771c84ba-9962-4074-9f32-c355d01d5511",
   "metadata": {
    "execution": {
     "iopub.execute_input": "2024-07-01T23:32:40.650197Z",
     "iopub.status.busy": "2024-07-01T23:32:40.650197Z",
     "iopub.status.idle": "2024-07-01T23:32:40.738168Z",
     "shell.execute_reply": "2024-07-01T23:32:40.738168Z",
     "shell.execute_reply.started": "2024-07-01T23:32:40.650197Z"
    },
    "jp-MarkdownHeadingCollapsed": true
   },
   "source": [
    "## Data source 2:  US Census Bureau administrative boundary"
   ]
  },
  {
   "cell_type": "code",
   "execution_count": 5,
   "id": "6df26e3f-82da-4abe-ac6d-3fa7d26d0c47",
   "metadata": {
    "execution": {
     "iopub.execute_input": "2024-07-22T17:33:34.645982Z",
     "iopub.status.busy": "2024-07-22T17:33:34.645016Z",
     "iopub.status.idle": "2024-07-22T17:33:34.741368Z",
     "shell.execute_reply": "2024-07-22T17:33:34.741368Z",
     "shell.execute_reply.started": "2024-07-22T17:33:34.645982Z"
    }
   },
   "outputs": [],
   "source": [
    "## task_name ='Census_SC_tract'\n",
    "# downloaded_file_name = r'Census_SC_tract.gpkg'\n",
    "# saved_fname = os.path.join(os.getcwd(), \"Downloaded_Data\", downloaded_file_name)\n",
    "# task = rf'''1. Download all census tract boundaries in South Carolina, USA.\n",
    "# 2. Save the downloaded data as polygons in GeoPackage format, save it at: {saved_fname} \n",
    "# '''\n",
    "\n",
    "# task_name ='Census_SC_blockgroups'\n",
    "# saved_fname = r'E:\\OneDrive_PSU\\OneDrive - The Pennsylvania State University\\Research_doc\\LLM-Find\\Downloaded_Data\\Census_SC_blockgroups.gpkg'\n",
    "# if os.path.exists(saved_fname):\n",
    "#     os.remove(saved_fname)\n",
    "# task = rf'''1. Download all Census block group boundaries in South Carolina, USA.\n",
    "# 2. Save the downloaded data as polygons in GeoPackage format, save it at: {saved_fname} \n",
    "# '''\n",
    "\n",
    "# task_name ='Census_Centre_boundary'\n",
    "# saved_fname = r'E:\\OneDrive_PSU\\OneDrive - The Pennsylvania State University\\Research_doc\\LLM-Find\\Downloaded_Data\\Census_Centre_boundary.gpkg'\n",
    "# task = rf'''1. Download the administrative boundary of Centre County of Pennsylvania State, USA from Census Bureau.\n",
    "# 2. Save the downloaded data in GeoPackage format, save it at: {saved_fname} \n",
    "# '''\n",
    "\n",
    "# task_name ='Census_SC_countries_boundary'\n",
    "# saved_fname = r'E:\\OneDrive_PSU\\OneDrive - The Pennsylvania State University\\Research_doc\\LLM-Find\\Downloaded_Data\\Census_SC_counties_boundary.gpkg'\n",
    "# task = rf'''1. Download the administrative boundary of all Counties of South Carolina from Census Bureau.\n",
    "# 2. Save the downloaded data in GeoPackage format, save it at: {saved_fname} \n",
    "# '''\n",
    "\n",
    "# # task_name ='US_Carolinas_tract\"\n",
    "# downloaded_file_name = r'US_Carolinas_tract.gpkg'\n",
    "# saved_fname = os.path.join(os.getcwd(), \"Downloaded_Data\", downloaded_file_name)\n",
    "# task = rf'''1. Download all the Census tract boundaries of North Carolina and South Carolina in the USA.\n",
    "# 2. Save the downloaded data in GeoPackage format at: {saved_fname} \n",
    "# '''\n",
    "\n",
    "# # task_name ='US_county_boundary\"\n",
    "# downloaded_file_name = r'US_county_boundary.gpkg'\n",
    "# saved_fname = os.path.join(os.getcwd(), \"Downloaded_Data\", downloaded_file_name)\n",
    "# task = rf'''1. Download all the county boundaries in the USA.\n",
    "# 2. Save the downloaded data in GeoPackage format at: {saved_fname} \n",
    "# '''"
   ]
  },
  {
   "cell_type": "markdown",
   "id": "b3fc6f56-74dc-4ddd-9951-a8ba631dc18f",
   "metadata": {
    "execution": {
     "iopub.execute_input": "2024-07-01T23:37:35.291616Z",
     "iopub.status.busy": "2024-07-01T23:37:35.291616Z",
     "iopub.status.idle": "2024-07-01T23:37:35.379023Z",
     "shell.execute_reply": "2024-07-01T23:37:35.379023Z",
     "shell.execute_reply.started": "2024-07-01T23:37:35.291616Z"
    }
   },
   "source": [
    "## Data source 3:  US Census Bureau demographic variables"
   ]
  },
  {
   "cell_type": "code",
   "execution_count": 6,
   "id": "fe4bb18b-87af-4110-8a17-0a8b750df499",
   "metadata": {
    "execution": {
     "iopub.execute_input": "2024-07-22T17:33:34.744376Z",
     "iopub.status.busy": "2024-07-22T17:33:34.743374Z",
     "iopub.status.idle": "2024-07-22T17:33:34.841517Z",
     "shell.execute_reply": "2024-07-22T17:33:34.841517Z",
     "shell.execute_reply.started": "2024-07-22T17:33:34.744376Z"
    }
   },
   "outputs": [],
   "source": [
    "# task_name ='Census_SC_counties_population'\n",
    "# saved_fname = r'E:\\OneDrive_PSU\\OneDrive - The Pennsylvania State University\\Research_doc\\LLM-Find\\Downloaded_Data\\Census_SC_counties_population.csv'\n",
    "# task = rf'''1. Download latest population for each county in South Carolina.\n",
    "# 2. Save the downloaded data as CSV files, save it at: {saved_fname} \n",
    "# '''\n",
    "\n",
    "# task_name ='Census_SC_Richland_race_population'\n",
    "# saved_fname = r'E:\\OneDrive_PSU\\OneDrive - The Pennsylvania State University\\Research_doc\\LLM-Find\\Downloaded_Data\\Census_SC_Richland_race_population.csv'\n",
    "# task = rf'''1. Download latest population of each race for Richland county in South Carolina, at Census block group level.\n",
    "# 2. Save the downloaded data as CSV files, save it at: {saved_fname} \n",
    "# '''\n",
    "\n",
    "# task_name ='Census_PA_counties_race_population'\n",
    "# saved_fname = r'E:\\OneDrive_PSU\\OneDrive - The Pennsylvania State University\\Research_doc\\LLM-Find\\Downloaded_Data\\Census_PA_counties_race_population.csv'\n",
    "# task = rf'''1. Download latest population by race for all counties in Pennsylvania.\n",
    "# 2. Save the downloaded data as CSV files, save it at: {saved_fname} \n",
    "# '''\n",
    "\n",
    "# task_name ='Census_US_states_population'\n",
    "# saved_fname = r'E:\\OneDrive_PSU\\OneDrive - The Pennsylvania State University\\Research_doc\\LLM-Find\\Downloaded_Data\\Census_US_states_population.csv'\n",
    "# task = rf'''1. Download latest population for all states in USA.   \n",
    "# 2. Save the downloaded data as CSV files, save it at: {saved_fname} \n",
    "# '''\n",
    "\n",
    "# task_name ='Census_US_states_education_population'\n",
    "# saved_fname = r'E:\\OneDrive_PSU\\OneDrive - The Pennsylvania State University\\Research_doc\\LLM-Find\\Downloaded_Data\\Census_US_states_education_population.csv'\n",
    "# task = rf'''1. Download latest population by higher education attainment over 25 for all states in USA, together with the entire population of each state.   \n",
    "# 2. Save the downloaded data as CSV files, save it at: {saved_fname} \n",
    "# '''\n",
    "\n",
    "# task_name ='Census_US_county_household_income'\n",
    "# saved_fname = r'E:\\OneDrive_PSU\\OneDrive - The Pennsylvania State University\\Research_doc\\LLM-Find\\Downloaded_Data\\Census_US_county_household_income.csv'\n",
    "# task = rf'''1. Download the latest median household income data for each county in the USA.   \n",
    "# 2. Save the downloaded data as CSV files, save it at: {saved_fname} \n",
    "# '''\n",
    "\n",
    "# task_name ='Census_US_county_population_by_race'\n",
    "# saved_fname = r'E:\\OneDrive_PSU\\OneDrive - The Pennsylvania State University\\Research_doc\\LLM-Find\\Downloaded_Data\\Census_US_county_population_by_race.csv'\n",
    "# task = rf'''1. Download the latest population by race data for each county in the USA.   \n",
    "# 2. Save the downloaded data as CSV files, save it at: {saved_fname} \n",
    "# '''\n",
    "\n",
    "# # task_name ='States_colledge_popultion'   # difficult to get the correct variable combination. \n",
    "# downloaded_file_name = r'States_colledge_popultion.csv'\n",
    "# saved_fname = os.path.join(os.getcwd(), \"Downloaded_Data\", downloaded_file_name)\n",
    "# task = rf'''1. Download the population over 25 years old and the population with a college degree or higher at the state level of USA for 2012 and 2022.\n",
    "# 2. Save the downloaded data in CSV format, save it at: {saved_fname} \n",
    "# '''\n",
    "\n",
    "## task_name ='US_SDOH'   # difficult to get the correct variable combination\n",
    "# downloaded_file_name = r'US_SDOH.csv'\n",
    "# saved_fname = os.path.join(os.getcwd(), \"Downloaded_Data\", downloaded_file_name)\n",
    "# task = rf'''1. Download the social determinators of health, including: 1) population of each race; 2) Median household income; 3) health insurance coverage; 4) Population of speaking only English at home for the population 5 years and over.\n",
    "# 2. The data should be at the county level in the USA. Year: 2022.\n",
    "# 3. Save the downloaded data in a CSV file, save it at: {saved_fname} \n",
    "# '''\n",
    "\n",
    "# task_name ='US_County_poverty'\n",
    "# saved_fname = r'E:\\OneDrive_PSU\\OneDrive - The Pennsylvania State University\\Research_doc\\LLM-Find\\Downloaded_Data\\US_County_poverty.csv'\n",
    "# task = rf'''1. Download the ratios of income to all poverty level at the county level in the USA. Year: 2022.\n",
    "# 3. Save the downloaded data in a CSV file, save it at: {saved_fname} \n",
    "# '''\n",
    "\n",
    "## task_name ='Washington_DC_blockgroup_senior_population'\n",
    "# downloaded_file_name = r'Washington_DC_blockgroup_senior_population.csv'\n",
    "# saved_fname = os.path.join(os.getcwd(), \"Downloaded_Data\", downloaded_file_name)\n",
    "# task_name ='Washington_DC_blockgroup_senior_population'\n",
    "# task = rf'''1. Download the senior (older than  65) population groups senior  for all Census blockgroups in Washington D.C., USA.   \n",
    "# 2. Save the downloaded data as CSV files, save it at: {saved_fname} \n",
    "# '''\n",
    "\n",
    "# task_name ='School_enrollment'\n",
    "# saved_fname = r'E:\\OneDrive_PSU\\OneDrive - The Pennsylvania State University\\Research_doc\\LLM-Find\\Downloaded_Data\\School_enrollment_population.csv'\n",
    "# task = rf'''1. From Census 2020 data, download the school enrollment by level of school for the population 3 years and over of all Census block groups in San Francisco County, California, USA.   \n",
    "# 2. Save the downloaded data as CSV files, save it at: {saved_fname} \n",
    "# '''"
   ]
  },
  {
   "cell_type": "markdown",
   "id": "be421007-ac58-4e43-8a85-6111b842afc8",
   "metadata": {
    "execution": {
     "iopub.execute_input": "2024-07-02T14:08:49.804272Z",
     "iopub.status.busy": "2024-07-02T14:08:49.804272Z",
     "iopub.status.idle": "2024-07-02T14:08:49.899960Z",
     "shell.execute_reply": "2024-07-02T14:08:49.899960Z",
     "shell.execute_reply.started": "2024-07-02T14:08:49.804272Z"
    }
   },
   "source": [
    "##  Data source 4:  COVID-19 accumulative cases by New York Times"
   ]
  },
  {
   "cell_type": "code",
   "execution_count": 7,
   "id": "1ee3f323-b738-4401-9dbf-52b3e63a62e7",
   "metadata": {
    "execution": {
     "iopub.execute_input": "2024-07-22T17:33:34.842524Z",
     "iopub.status.busy": "2024-07-22T17:33:34.842524Z",
     "iopub.status.idle": "2024-07-22T17:33:34.940143Z",
     "shell.execute_reply": "2024-07-22T17:33:34.940143Z",
     "shell.execute_reply.started": "2024-07-22T17:33:34.842524Z"
    }
   },
   "outputs": [],
   "source": [
    "## task_name ='COVID_Richland_SC'\n",
    "# downloaded_file_name = r'COVID_Richland_SC.csv'\n",
    "# saved_fname = os.path.join(os.getcwd(), \"Downloaded_Data\", downloaded_file_name)\n",
    "# task = rf'''1. Download the COVID-19 case data of Richland County in South Carolina, USA. The time is from 2021-01 to 2021-09.   \n",
    "# 2. Save the downloaded data as a CSV file at: {saved_fname} \n",
    "# '''\n",
    "\n",
    "# task_name ='COVID_PA'\n",
    "# downloaded_file_name = r'COVID_PA.csv'\n",
    "# saved_fname = os.path.join(os.getcwd(), \"Downloaded_Data\", downloaded_file_name)\n",
    "# task = rf'''1. Download the COVID-19 case data of all counties in Pennsylvania, USA. The time is from 2021-10 to 2022-02.   \n",
    "# 2. Save the downloaded data as a CSV file at: {saved_fname} \n",
    "# '''\n",
    "\n",
    "# task_name ='COVID_PA'\n",
    "# downloaded_file_name = r'COVID_NJ_NY.csv'\n",
    "# saved_fname = os.path.join(os.getcwd(), \"Downloaded_Data\", downloaded_file_name)\n",
    "# task = rf'''1. Download the COVID-19 case data of all counties in Pennsylvania State and New York State, USA. The period is entire 2021.   \n",
    "# 2. Save the downloaded data as a CSV file at: {saved_fname} \n",
    "# '''"
   ]
  },
  {
   "cell_type": "markdown",
   "id": "827ef639-e2fe-43ae-bb4a-1dfe5a63cf3e",
   "metadata": {},
   "source": [
    "## Data source 5:  Weather data"
   ]
  },
  {
   "cell_type": "code",
   "execution_count": 8,
   "id": "16c6f0f6-c541-4877-8624-6b6c560ec954",
   "metadata": {
    "execution": {
     "iopub.execute_input": "2024-07-22T17:33:34.941147Z",
     "iopub.status.busy": "2024-07-22T17:33:34.941147Z",
     "iopub.status.idle": "2024-07-22T17:33:35.033743Z",
     "shell.execute_reply": "2024-07-22T17:33:35.033743Z",
     "shell.execute_reply.started": "2024-07-22T17:33:34.941147Z"
    }
   },
   "outputs": [],
   "source": [
    "## task_name ='OpenWeather_Columbia'\n",
    "# downloaded_file_name = r'OpenWeather_Columbia.csv'\n",
    "# saved_fname = os.path.join(os.getcwd(), \"Downloaded_Data\", downloaded_file_name)\n",
    "# task = rf'''1. Download the historical weather data of Columbia, South Carolina in May 2024.\n",
    "# 2. Save the downloaded data in CSV format, save it at: {saved_fname} \n",
    "# '''\n",
    "\n",
    "# # task_name ='OpenWeather_Yulin_Guangxi'\n",
    "# downloaded_file_name = r'OpenWeather_Yulin_Guangxi.csv'\n",
    "# saved_fname = os.path.join(os.getcwd(), \"Downloaded_Data\", downloaded_file_name)\n",
    "# task = rf'''1. Download the historical weather data of Yulin, Guangxi, China, in May 2024.\n",
    "# 2. Save the downloaded data in CSV format, save it at: {saved_fname} \n",
    "# '''\n",
    "\n",
    "## task_name ='OpenWeather_Cairo'\n",
    "# downloaded_file_name = r'OpenWeather_Cairo.csv'\n",
    "# saved_fname = os.path.join(os.getcwd(), \"Downloaded_Data\", downloaded_file_name)\n",
    "# task = rf'''1. Download the current weather data of Cairo, Egypt.\n",
    "# 2. Save the downloaded data in CSV format, save it at: {saved_fname} \n",
    "# '''\n",
    "\n",
    "## task_name ='OpenWeather_Kabul'\n",
    "# downloaded_file_name = r'OpenWeather_Kabul.csv'\n",
    "# saved_fname = os.path.join(os.getcwd(), \"Downloaded_Data\", downloaded_file_name)\n",
    "# task = rf'''1. Download the 16-day daily forecast weather data of Kabul, Afghanistan.\n",
    "# 2. Save the downloaded data in CSV format, save it at: {saved_fname} \n",
    "# '''"
   ]
  },
  {
   "cell_type": "markdown",
   "id": "4a19c9ca-5025-4fb2-88b5-bb54ddd5d57c",
   "metadata": {
    "execution": {
     "iopub.execute_input": "2024-07-02T14:09:30.817569Z",
     "iopub.status.busy": "2024-07-02T14:09:30.817569Z",
     "iopub.status.idle": "2024-07-02T14:09:30.912003Z",
     "shell.execute_reply": "2024-07-02T14:09:30.912003Z",
     "shell.execute_reply.started": "2024-07-02T14:09:30.817569Z"
    }
   },
   "source": [
    "## Data source 6:  Satellite image (ESRI World Imagery (for export))"
   ]
  },
  {
   "cell_type": "code",
   "execution_count": 9,
   "id": "9ecc3209-471b-4e71-b07b-bc60984de039",
   "metadata": {
    "execution": {
     "iopub.execute_input": "2024-07-22T17:33:35.034749Z",
     "iopub.status.busy": "2024-07-22T17:33:35.034749Z",
     "iopub.status.idle": "2024-07-22T17:33:35.130144Z",
     "shell.execute_reply": "2024-07-22T17:33:35.130144Z",
     "shell.execute_reply.started": "2024-07-22T17:33:35.034749Z"
    }
   },
   "outputs": [],
   "source": [
    "# task_name ='FAST_Telescope'\n",
    "# downloaded_file_name = r'FAST_Telescope_image.tif'\n",
    "# saved_fname = os.path.join(os.getcwd(), \"Downloaded_Data\", downloaded_file_name)\n",
    "# task = rf'''1. Download the FAST Telescope (Guizhou, China) satellite image at level 18.\n",
    "# 2. Save the downloaded data in tiff format, save it at: {saved_fname} \n",
    "# '''\n",
    "\n",
    "# # task_name ='Nigeria_image'\n",
    "# downloaded_file_name = r'Nigeria_image.tif'\n",
    "# saved_fname = os.path.join(os.getcwd(), \"Downloaded_Data\", downloaded_file_name)\n",
    "# task = rf'''1. Download the Nigeria satellite image at level 7.\n",
    "# 2. Save the downloaded data in tiff format, save it at: {saved_fname} \n",
    "# '''\n",
    "\n",
    "# # task_name ='Qingdao_image'\n",
    "# downloaded_file_name = r'Qingdao_image.tif'\n",
    "# saved_fname = os.path.join(os.getcwd(), \"Downloaded_Data\", downloaded_file_name)\n",
    "# task = rf'''1. Download the Qingdao, Shandong, China satellite image at level 10.\n",
    "# 2. Save the downloaded data in tiff format, save it at: {saved_fname} \n",
    "# '''\n",
    "\n",
    "# ## task_name ='Crescent_Moon_Spring'\n",
    "# downloaded_file_name = r'Crescent_Moon_Spring_image.tif'\n",
    "# saved_fname = os.path.join(os.getcwd(), \"Downloaded_Data\", downloaded_file_name)\n",
    "# task = rf'''1. Download the Singing-Sand Mountain and Crescent Moon Spring satellite image at level 16.\n",
    "# 2. Save the downloaded data in tiff format, save it at: {saved_fname} \n",
    "# '''\n",
    "\n",
    "## task_name ='Christ the Redeemer'  # this is a point: a difficult case\n",
    "# downloaded_file_name = r'Christ_the_Redeemer.tif'\n",
    "# saved_fname = os.path.join(os.getcwd(), \"Downloaded_Data\", downloaded_file_name)\n",
    "# task = rf'''1. Download the Christ the Redeemer satellite image at level 18.\n",
    "# 2. Save the downloaded data in tiff format, save it at: {saved_fname} \n",
    "# '''\n",
    "\n",
    "# #task_name ='Brasília_image'   # not ready yet\n",
    "# saved_fname = r'E:\\OneDrive_PSU\\OneDrive - The Pennsylvania State University\\Research_doc\\LLM-Find\\Downloaded_Data\\Brasília_image.tif'\n",
    "# task = rf'''1. Download the Brasília satellite image at level 6.\n",
    "# 2. Save the downloaded data in tiff format, save it at: {saved_fname} \n",
    "# '''\n",
    "\n",
    "## task_name ='Japan_image'\n",
    "# saved_fname = r'E:\\OneDrive_PSU\\OneDrive - The Pennsylvania State University\\Research_doc\\LLM-Find\\Downloaded_Data\\Japan_image.tif'\n",
    "# task = rf'''1. Download the Japan satellite image at level 6.\n",
    "# 2. Save the downloaded data in tiff format, save it at: {saved_fname} \n",
    "# '''\n",
    "\n",
    "## task_name ='China'\n",
    "# saved_fname = r'E:\\OneDrive_PSU\\OneDrive - The Pennsylvania State University\\Research_doc\\LLM-Find\\Downloaded_Data\\China_image.tif'\n",
    "# task = rf'''1. Download the China satellite image at level 6.\n",
    "# 2. Save the downloaded data in tiff format, save it at: {saved_fname} \n",
    "# '''\n",
    "\n",
    "# task_name ='YellowStone_National_Park'\n",
    "# saved_fname = r'E:\\OneDrive_PSU\\OneDrive - The Pennsylvania State University\\Research_doc\\LLM-Find\\Downloaded_Data\\Yellow_Stone_National_Park_image.tif'\n",
    "# task = rf'''1. Download the YellowStone National Park satellite image at level 10.\n",
    "# 2. Save the downloaded data in tiff format, save it at: {saved_fname} \n",
    "# '''\n",
    "\n",
    "## task_name ='Hawaii'\n",
    "# saved_fname = r'E:\\OneDrive_PSU\\OneDrive - The Pennsylvania State University\\Research_doc\\LLM-Find\\Downloaded_Data\\Hawaii_image.tif'\n",
    "# task = rf'''1. Download the Hawaii State satellite image at level 7.\n",
    "# 2. Save the downloaded data in tiff format, save it at: {saved_fname} \n",
    "# '''\n",
    "\n",
    "## task_name ='Honolulu'\n",
    "# saved_fname = r'E:\\OneDrive_PSU\\OneDrive - The Pennsylvania State University\\Research_doc\\LLM-Find\\Downloaded_Data\\Honolulu_image.tif'\n",
    "# task = rf'''1. Download the Honolulu satellite image at level 12.\n",
    "# 2. Save the downloaded data in tiff format, save it at: {saved_fname} \n",
    "# '''\n",
    "\n",
    "## task_name ='Kennedy_Space_Center_Visitor_Complex'\n",
    "# saved_fname = r'E:\\OneDrive_PSU\\OneDrive - The Pennsylvania State University\\Research_doc\\LLM-Find\\Downloaded_Data\\Kennedy_Space_Center_Visitor_Complex_image.tif'\n",
    "# task = rf'''1. Download the Kennedy Space Center Visitor Complex satellite image at level 18.\n",
    "# 2. Save the downloaded data in tiff format, save it at: {saved_fname} \n",
    "# '''\n",
    "\n",
    "## task_name ='Hoover_Dam'\n",
    "# saved_fname = r'E:\\OneDrive_PSU\\OneDrive - The Pennsylvania State University\\Research_doc\\LLM-Find\\Downloaded_Data\\Hoover_Dam_image.tif'\n",
    "# task = rf'''1. Download the Hoover Dam satellite image at level 18.\n",
    "# 2. Save the downloaded data in tiff format, save it at: {saved_fname} \n",
    "# '''\n",
    "\n",
    "## task_name ='Nigeria'\n",
    "# saved_fname = r'E:\\OneDrive_PSU\\OneDrive - The Pennsylvania State University\\Research_doc\\LLM-Find\\Downloaded_Data\\Nigeria_image.tif'\n",
    "# task = rf'''1. Download the Nigeria satellite image at level 8.\n",
    "# 2. Save the downloaded data in tiff format, save it at: {saved_fname} \n",
    "# '''\n",
    "\n",
    "## task_name ='Afghanistan'\n",
    "# saved_fname = r'E:\\OneDrive_PSU\\OneDrive - The Pennsylvania State University\\Research_doc\\LLM-Find\\Downloaded_Data\\Afghanistan_image.tif'\n",
    "# task = rf'''1. Download the Afghanistan satellite image at level 8.\n",
    "# 2. Save the downloaded data in tiff format, save it at: {saved_fname} \n",
    "# '''\n",
    "\n",
    "## task_name ='State_college'\n",
    "# saved_fname = r'E:\\OneDrive_PSU\\OneDrive - The Pennsylvania State University\\Research_doc\\LLM-Find\\Downloaded_Data\\State_college_image.tif'\n",
    "# task = rf'''1. Download the State College City, PA satellite image at level 12.\n",
    "# 2. Save the downloaded data in tiff format, save it at: {saved_fname} \n",
    "# '''\n",
    "\n",
    "# #task_name = 'Tigard'\n",
    "# saved_fname = r'E:\\OneDrive_PSU\\OneDrive - The Pennsylvania State University\\Research_doc\\LLM-Find\\Downloaded_Data\\Tigard_OR_image.tif'\n",
    "# task = rf'''1. Download the Tigard, OR satellite image at level 14.\n",
    "# 2. Save the downloaded data in tiff format, save it at: {saved_fname} \n",
    "# '''\n",
    "\n",
    "## task_name = \"Xiong'an\"\n",
    "# downloaded_file_name = r'Xiong_an.tif'\n",
    "# saved_fname = os.path.join(os.getcwd(), \"Downloaded_Data\", downloaded_file_name)\n",
    "# task = rf'''1. Download the Xiong'an New Area, China satellite image at level 12.\n",
    "# 2. Save the downloaded data in tiff format, save it at: {saved_fname} \n",
    "# '''\n",
    "\n",
    "## task_name = \"Penn_State_University\"\n",
    "# downloaded_file_name = r'Penn_State_University.tif'\n",
    "# saved_fname = os.path.join(os.getcwd(), \"Downloaded_Data\", downloaded_file_name)\n",
    "# task = rf'''1. Download the Pennsylvania State University satellite image at level 15.\n",
    "# 2. Save the downloaded data in tiff format, save it at: {saved_fname} \n",
    "# '''"
   ]
  },
  {
   "cell_type": "markdown",
   "id": "da31528d-e2db-477e-880c-9efee3d4b2c8",
   "metadata": {
    "execution": {
     "iopub.execute_input": "2024-07-17T14:29:35.133904Z",
     "iopub.status.busy": "2024-07-17T14:29:35.131903Z",
     "iopub.status.idle": "2024-07-17T14:29:35.149048Z",
     "shell.execute_reply": "2024-07-17T14:29:35.148041Z",
     "shell.execute_reply.started": "2024-07-17T14:29:35.132904Z"
    }
   },
   "source": [
    "## Data source 7:  OpenTopography"
   ]
  },
  {
   "cell_type": "code",
   "execution_count": 10,
   "id": "524c7a38-3f60-4746-bb25-8efaef3fbe4c",
   "metadata": {
    "execution": {
     "iopub.execute_input": "2024-07-22T17:33:35.131149Z",
     "iopub.status.busy": "2024-07-22T17:33:35.131149Z",
     "iopub.status.idle": "2024-07-22T17:33:35.226070Z",
     "shell.execute_reply": "2024-07-22T17:33:35.226070Z",
     "shell.execute_reply.started": "2024-07-22T17:33:35.131149Z"
    }
   },
   "outputs": [],
   "source": [
    "## task_name = \"Wuhan_DEM\"\n",
    "# downloaded_file_name = r'Wuhan_DEM.tif'\n",
    "# saved_fname = os.path.join(os.getcwd(), \"Downloaded_Data\", downloaded_file_name)\n",
    "# task = rf'''1. Download the 90m resolution DEM of Wuhan, China from SRTMGL3.\n",
    "# 2. Save the downloaded data in tiff format, save it at: {saved_fname} \n",
    "# '''\n",
    "\n",
    "# # task_name = \"Chongqing_DEM\"\n",
    "# downloaded_file_name = r'Chongqing_DEM.tif'\n",
    "# saved_fname = os.path.join(os.getcwd(), \"Downloaded_Data\", downloaded_file_name)\n",
    "# task = rf'''1. Download the 30m resolution DEM of Chongqing, China from SRTMGL1.\n",
    "# 2. Save the downloaded data in tiff format, save it at: {saved_fname} \n",
    "# '''\n",
    "\n",
    "# # task_name = \"Hawaii_DEM\"\n",
    "# downloaded_file_name = r'Hawaii_DEM.tif'\n",
    "# saved_fname = os.path.join(os.getcwd(), \"Downloaded_Data\", downloaded_file_name)\n",
    "# task = rf'''1. Download the 90m resolution DEM of Hawaii, USA from SRTMGL3.\n",
    "# 2. Save the downloaded data in tiff format, save it at: {saved_fname} \n",
    "# '''\n",
    "\n",
    "\n",
    "## task_name = \"Lhasa, China_DEM\"\n",
    "# downloaded_file_name = r'Lhasa_DEM.tif'\n",
    "# saved_fname = os.path.join(os.getcwd(), \"Downloaded_Data\", downloaded_file_name)\n",
    "# task = rf'''1. Download the 30m resolution DEM of Lhasa, China, from COP30.\n",
    "# 2. Save the downloaded data in tiff format, save it at: {saved_fname} \n",
    "# '''\n",
    "\n",
    "\n",
    "## task_name = \"Mount Everest\"\n",
    "downloaded_file_name = r'Everest_DEM.tif'\n",
    "saved_fname = os.path.join(os.getcwd(), \"Downloaded_Data\", downloaded_file_name)\n",
    "task = rf'''1. Download the 30m resolution DEM of this region [south:27.82, west:86.73, north:28.17, east:87.13] from AW3D30.\n",
    "2. Save the downloaded data in tiff format, save it at: {saved_fname} \n",
    "'''\n",
    "\n",
    "# # task_name = \"Iceland\"\n",
    "# downloaded_file_name = r'Iceland_DEM.tif'\n",
    "# saved_fname = os.path.join(os.getcwd(), \"Downloaded_Data\", downloaded_file_name)\n",
    "# task = rf'''1. Download the 30m resolution DEM of Iceland_DEM from EU_DTM.\n",
    "# 2. Save the downloaded data in tiff format, save it at: {saved_fname} \n",
    "# '''"
   ]
  },
  {
   "cell_type": "code",
   "execution_count": null,
   "id": "fd22ce32-4f33-481c-931e-e0c960c06617",
   "metadata": {},
   "outputs": [],
   "source": []
  },
  {
   "cell_type": "markdown",
   "id": "7b63f0cd-07d6-4056-9007-c9ee64b312a6",
   "metadata": {
    "execution": {
     "iopub.execute_input": "2024-07-02T19:44:17.794131Z",
     "iopub.status.busy": "2024-07-02T19:44:17.794131Z",
     "iopub.status.idle": "2024-07-02T19:44:17.885259Z",
     "shell.execute_reply": "2024-07-02T19:44:17.885259Z",
     "shell.execute_reply.started": "2024-07-02T19:44:17.794131Z"
    }
   },
   "source": [
    "# Fetching data"
   ]
  },
  {
   "cell_type": "markdown",
   "id": "5fbfdaa9-31ec-4248-a892-9fbe0478f87a",
   "metadata": {
    "execution": {
     "iopub.execute_input": "2024-07-02T19:44:05.267712Z",
     "iopub.status.busy": "2024-07-02T19:44:05.267712Z",
     "iopub.status.idle": "2024-07-02T19:44:05.359116Z",
     "shell.execute_reply": "2024-07-02T19:44:05.359116Z",
     "shell.execute_reply.started": "2024-07-02T19:44:05.267712Z"
    }
   },
   "source": [
    "## Create the model"
   ]
  },
  {
   "cell_type": "code",
   "execution_count": 11,
   "id": "c490a851-f1f2-4278-ba15-2e63ddd42b38",
   "metadata": {
    "execution": {
     "iopub.execute_input": "2024-07-22T17:33:35.227074Z",
     "iopub.status.busy": "2024-07-22T17:33:35.227074Z",
     "iopub.status.idle": "2024-07-22T17:33:35.660827Z",
     "shell.execute_reply": "2024-07-22T17:33:35.660827Z",
     "shell.execute_reply.started": "2024-07-22T17:33:35.227074Z"
    }
   },
   "outputs": [],
   "source": [
    "if os.path.exists(saved_fname):\n",
    "    os.remove(saved_fname)\n",
    "\n",
    "save_dir = os.path.join(os.getcwd(), \"Downloaded_Data\")\n",
    "os.makedirs(save_dir, exist_ok=True)\n",
    "\n",
    "model_name = r'gpt-4o'\n",
    "# model_name = r'gpt-4'\n",
    "# model_name = r'gpt-4-turbo'\n",
    "# model_name = r'gpt-3.5-turbo'  # gpt-4-turbo\n",
    "\n",
    "model = ChatOpenAI(api_key=OpenAI_key, model=model_name, temperature=1)"
   ]
  },
  {
   "cell_type": "markdown",
   "id": "769a5e4b-7a5b-4463-a7ab-d44d34a00c69",
   "metadata": {
    "execution": {
     "iopub.execute_input": "2024-07-02T19:44:41.493282Z",
     "iopub.status.busy": "2024-07-02T19:44:41.493282Z",
     "iopub.status.idle": "2024-07-02T19:44:41.582989Z",
     "shell.execute_reply": "2024-07-02T19:44:41.582989Z",
     "shell.execute_reply.started": "2024-07-02T19:44:41.493282Z"
    }
   },
   "source": [
    "## Select the data source"
   ]
  },
  {
   "cell_type": "code",
   "execution_count": 12,
   "id": "8ba05f98-30b2-46d0-9eb2-624f5dbc2754",
   "metadata": {
    "editable": true,
    "execution": {
     "iopub.execute_input": "2024-07-22T17:33:35.661833Z",
     "iopub.status.busy": "2024-07-22T17:33:35.661833Z",
     "iopub.status.idle": "2024-07-22T17:33:35.754693Z",
     "shell.execute_reply": "2024-07-22T17:33:35.754693Z",
     "shell.execute_reply.started": "2024-07-22T17:33:35.661833Z"
    },
    "slideshow": {
     "slide_type": ""
    },
    "tags": []
   },
   "outputs": [
    {
     "name": "stdout",
     "output_type": "stream",
     "text": [
      "Your role: A professional Python programmer in geographic information science (GIScience). You have worked on GIScience for more than 20 years and know every detail and pitfall when collecting data and coding. You know which websites you can get suitable spatial data and know the methods or tricks to download data, such as OpenStreetMap, Census Bureau, or various APIs. You are also experienced in processing the downloaded data, including saving them in suitable formats, map projections, and creating detailed and useful meta-data.\n",
      " \n",
      "Your mission: select a suitable data source from the given list to download the requested geo-spatial data for this task: 1. Download the 30m resolution DEM of this region [south:27.82, west:86.73, north:28.17, east:87.13] from AW3D30.\n",
      "2. Save the downloaded data in tiff format, save it at: E:\\OneDrive_PSU\\OneDrive - The Pennsylvania State University\\Research_doc\\LLM-Find\\Downloaded_Data\\Everest_DEM.tif \n",
      "\n",
      "\n",
      "Requirements: \n",
      "1. Return the exact name of the data source as the given names.\n",
      "2. If a data source is given in the task, e.g., OpenStreetMap or Census Bureau, you need to select that given data source.\n",
      "3. If you need to download the administrative boundary of a place without mentioning the data sources, you can get data from OpenStreetMap.If you need to download the US Census tract and block group boundaries, download them from Census Bureau.Follow the given JSON format.\n",
      "4. If you cannot find a suitable data source in the given sources, return a data source you think is most appropriate.\n",
      "5. DO NOT make fake data source. If you cannot find any suitable data source, return 'Unknown' as for the 'Selected data source' key in the reply JSON format. DO NOT use ```json and ``` \n",
      "\n",
      "Data sources:\n",
      "1. OpenStreetMap. You can download the administrative boundaries, street networks, points of interest (POIs) from OpenStreetMap.\n",
      "2. US Census Bureau boundary. It provides the US administrative boundaries (nation, state, county, tract, and block group level, as well as metropolitan statistic areas.\n",
      "3. US Census Bureau demography. It provides the demographic and socio-economic data, such as population, gender, income, education, and race.\n",
      "4. US COVID-19 data by New York Times. Cumulative counts of COVID-19 cases and deaths in the United States, at the state and county level, over time from 2020-01-21 to 2023-03-23. \n",
      "5. OpenWeather data. It provides historical, current, and forecast weather data. The historical data can be back to 2023-08. API limited: [Hourly forecast: 4 days, Daily forecast: 16 days, 3 hour forecast: 5 days]\n",
      "6. ESRI World Imagery (for Export). It is a web map service, providing satellite image tiles. You can download tiles and mosaic them into a large image. \n",
      "7. OpenTopography. You can download global digital elevation model (DEM) data using API; the resolution ranges from 15m to 1000m, such as SRTM GL3 (global 90m), and GL1 (global 30m). The DEM source list from this API contains: SRTMGL3, SRTMGL1, SRTMGL1_E, AW3D30, AW3D30, SRTM15Plus, NASADEM, COP30, COP30, EU_DTM, GEDI_L3, GEBCOIceTopo, GEBCOSubIceTopo.\n",
      " \n",
      "Your reply example: {'Explanation': \"According to the use requests of US state administrative boundary from OpenStreetMap, I should download data from OpenStreetMap.\", \"Selected data source\": 'OpenStreetMap'}\n",
      "\n"
     ]
    }
   ],
   "source": [
    "# %load_ext autoreload\n",
    "# %autoreload 2\n",
    "import helper\n",
    "    \n",
    "source_select_prompt_str = helper.create_select_prompt(task=task)\n",
    "\n",
    "print(source_select_prompt_str)"
   ]
  },
  {
   "cell_type": "code",
   "execution_count": 13,
   "id": "da93af39-5b6f-41ce-91fa-700042ac5e2a",
   "metadata": {
    "execution": {
     "iopub.execute_input": "2024-07-22T17:33:35.755698Z",
     "iopub.status.busy": "2024-07-22T17:33:35.755698Z",
     "iopub.status.idle": "2024-07-22T17:33:37.172048Z",
     "shell.execute_reply": "2024-07-22T17:33:37.172048Z",
     "shell.execute_reply.started": "2024-07-22T17:33:35.755698Z"
    }
   },
   "outputs": [
    {
     "name": "stdout",
     "output_type": "stream",
     "text": [
      "Select the data source: \n",
      "\n",
      "{'Explanation': \"To download the 30m resolution DEM of the specified region, the most appropriate data source from the list is AW3D30 available via OpenTopography.\", \"Selected data source\": 'OpenTopography'}\n"
     ]
    }
   ],
   "source": [
    "from IPython.display import clear_output\n",
    "\n",
    "chunks = []\n",
    "\n",
    "async for chunk in model.astream(source_select_prompt_str):\n",
    "    chunks.append(chunk)\n",
    "    print(chunk.content, end=\"\", flush=True)\n",
    "\n",
    "# clear_output(wait=True)\n",
    "clear_output(wait=False)\n",
    "LLM_reply_str = helper.convert_chunks_to_str(chunks=chunks)\n",
    "\n",
    "print(\"Select the data source: \\n\")\n",
    "print(LLM_reply_str)"
   ]
  },
  {
   "cell_type": "markdown",
   "id": "13e9b9cc-6f87-4783-9b45-f04e8e66bd6e",
   "metadata": {
    "execution": {
     "iopub.execute_input": "2024-07-02T19:45:05.791108Z",
     "iopub.status.busy": "2024-07-02T19:45:05.791108Z",
     "iopub.status.idle": "2024-07-02T19:45:05.885257Z",
     "shell.execute_reply": "2024-07-02T19:45:05.885257Z",
     "shell.execute_reply.started": "2024-07-02T19:45:05.791108Z"
    }
   },
   "source": [
    "## Generate the data fetching program"
   ]
  },
  {
   "cell_type": "code",
   "execution_count": 14,
   "id": "ad5012ca-954c-406a-8e46-7a2eb2f252c0",
   "metadata": {
    "execution": {
     "iopub.execute_input": "2024-07-22T17:33:37.173056Z",
     "iopub.status.busy": "2024-07-22T17:33:37.173056Z",
     "iopub.status.idle": "2024-07-22T17:33:37.267958Z",
     "shell.execute_reply": "2024-07-22T17:33:37.267958Z",
     "shell.execute_reply.started": "2024-07-22T17:33:37.173056Z"
    }
   },
   "outputs": [
    {
     "name": "stdout",
     "output_type": "stream",
     "text": [
      "selected_data_source: OpenTopography\n",
      "data_source_ID: OpenTopography\n",
      "\n",
      "Handbook:\n",
      "1. The OpenTopography API key is: ae061ea579bcd45cae8f64ae8d3fc47f\n",
      "2. The endpoint is: https://portal.opentopography.org/API/globaldem?demtype=SRTMGL3&south=50&north=50.1&west=14.35&east=14.6&outputFormat=GTiff&API_Key=XXX.\n",
      "3. The REST API parameter description: demtype: [SRTMGL3 (SRTM GL3 90m)， SRTMGL1 (SRTM GL1 30m)， SRTMGL1_E (SRTM GL1 Ellipsoidal 30m)， AW3D30 (ALOS World 3D 30m)， AW3D30_E (ALOS World 3D Ellipsoidal, 30m)， SRTM15Plus (Global Bathymetry SRTM15+ V2.1 500m)， NASADEM (NASADEM Global DEM)， COP30 (Copernicus Global DSM 30m)， COP90 (Copernicus Global DSM 90m)， EU_DTM (DTM 30m)， GEDI_L3 (DTM 1000m)， GEBCOIceTopo (Global Bathymetry 500m)， GEBCOSubIceTopo (Global Bathymetry 500m)]; south, north, west, and east: WGS 84 bounding box; outputFormat: 'GTiff' for GeoTiff, 'AAIGrid' for Arc ASCII Grid, 'HFA' for Erdas Imagine (.IMG).\n",
      "4. Shuttle Radar Topography Mission GL3 (Global 90m), GL1 (Global 30m), GL1 Ellipsoidal, ALOS World 3D (Global 30m), ALOS World 3D Ellipsoidal, Global Bathymetry and Topography at 15 Arc Sec: SRTM15+ V2.1, NASADEM (NASADEM Global DEM), COP30 (Copernicus Global DSM 30m), COP90 (Copernicus Global DSM 90m), Continental Europe Digital Terrain Model 30m, GEDI L3 (DTM 1000 meter), GEBCOIceTopo (Global Bathymetry 500m) and GEBCOSubIceTopo (Global Bathymetry 500m) data.\n",
      "5. You will receive a place name or a bounding box of the target area.\n",
      "6. Try not to use `osgeo` Python package; it may have many errors.\n",
      "7. Put your reply into a Python code block. Explanation or conversation can be Python comments at the begining of the code block(enclosed by ```python and ```).\n",
      "8. The download code is only in a function named 'download_data()'. The last line is to execute this function; do not use `if __name__ == '__main__':`.\n",
      "9. If the requested area is provided as a place name, search its bounding box from OpenStreetMap, do not guess the lat/lon yourself since we need accurate results.\n",
      "10. If you use `ox.geocode_to_gdf(place)` to get the place boundary, note that this function return the first POLYGON result from the OpenStreetMap Nominatim 'search' endpoint. Thus, you are searching a POI (a single point), you can use Nominatim (do not forget to set the application name before get the data. Try the Nominatim first.\n",
      "11. To the get bounding box, you can use `gdf = ox.geocode_to_gdf(place_name); west, south, east, north = gdf.unary_union.bounds`.\n",
      "12. DO NOT handle any exceptions since we need to error information for debug.\n",
      "13. This is a program for your reference, note that you can improve it: \n",
      "import requests\n",
      "import osmnx as ox\n",
      "\n",
      "def download_data():\n",
      "    place_name = \"Great Smoky Mountains National Park, USA\"\n",
      "    \n",
      "    # Get the bounding box for the place name\n",
      "    gdf = ox.geocode_to_gdf(place_name)\n",
      "    west, south, east, north = gdf.unary_union.bounds\n",
      "    \n",
      "    # Set the OpenTopography API parameters\n",
      "    demtype = \"SRTMGL3\"  # This is 90m resolution\n",
      "    output_format = \"GTiff\"\n",
      "    api_url = (\n",
      "        f\"https://portal.opentopography.org/API/globaldem?\"\n",
      "        f\"demtype={demtype}&south={south}&north={north}&west={west}&east={east}&outputFormat={output_format}&API_Key=XXXX\"\n",
      "    )\n",
      "    \n",
      "    # Send the request to download the data\n",
      "    response = requests.get(api_url)\n",
      "    \n",
      "    # Raise an exception if the request was unsuccessful\n",
      "    response.raise_for_status()\n",
      "    \n",
      "    # Save the downloaded data to the specified path\n",
      "    output_path = r\"E:\\Great Smoky Mountains National Park.tif\"\n",
      "    \n",
      "    with open(output_path, 'wb') as file:\n",
      "        file.write(response.content)\n",
      "\n",
      "# Execute the function to download the data\n",
      "download_data()\n",
      "\n"
     ]
    }
   ],
   "source": [
    "import ast\n",
    "select_source = ast.literal_eval(LLM_reply_str)\n",
    "\n",
    "selected_data_source= select_source['Selected data source']\n",
    "data_source_ID = constants.data_source_dict[selected_data_source]['ID']\n",
    "\n",
    "print(\"selected_data_source:\", selected_data_source)\n",
    "print(\"data_source_ID:\", data_source_ID)\n",
    "\n",
    "handbook_list = constants.handbooks[f\"{data_source_ID}\"]\n",
    "handbook_str =  '\\n'.join([f\"{idx + 1}. {line}\" for idx, line in enumerate(handbook_list)])\n",
    "print()\n",
    "print(f\"Handbook:\\n{handbook_str}\")"
   ]
  },
  {
   "cell_type": "code",
   "execution_count": 15,
   "id": "ed83929d-ae9f-4c3c-aaf0-ee0edbdb93b5",
   "metadata": {
    "execution": {
     "iopub.execute_input": "2024-07-22T17:33:37.268967Z",
     "iopub.status.busy": "2024-07-22T17:33:37.268967Z",
     "iopub.status.idle": "2024-07-22T17:33:37.363913Z",
     "shell.execute_reply": "2024-07-22T17:33:37.363913Z",
     "shell.execute_reply.started": "2024-07-22T17:33:37.268967Z"
    }
   },
   "outputs": [
    {
     "name": "stdout",
     "output_type": "stream",
     "text": [
      "Your role: A professional Python programmer in geographic information science (GIScience). You have worked on GIScience for more than 20 years and know every detail and pitfall when collecting data and coding. You know which websites you can get suitable spatial data and know the methods or tricks to download data, such as OpenStreetMap, Census Bureau, or various APIs. You are also experienced in processing the downloaded data, including saving them in suitable formats, map projections, and creating detailed and useful meta-data. When downloading geo-spatial data, the technical handbook for a particular data source is provided; you can follow it, and write Python code carefully to download the data. \n",
      " \n",
      "Your mission: download geo-spatial data from the given data source for this task: 1. Download the 30m resolution DEM of this region [south:27.82, west:86.73, north:28.17, east:87.13] from AW3D30.\n",
      "2. Save the downloaded data in tiff format, save it at: E:\\OneDrive_PSU\\OneDrive - The Pennsylvania State University\\Research_doc\\LLM-Find\\Downloaded_Data\\Everest_DEM.tif \n",
      "\n",
      "\n",
      "Data source:OpenTopography \n",
      "Your reply example: \n",
      "```python\n",
      "import geopandas as gpd\n",
      "import osmnx as ox\n",
      "def download_data():\n",
      "    # data downloading code \n",
      "    # downloaded code \n",
      "download_data()\n",
      "```\n",
      "\n",
      "Technical handbook: \n",
      "1. The OpenTopography API key is: ae061ea579bcd45cae8f64ae8d3fc47f\n",
      "2. The endpoint is: https://portal.opentopography.org/API/globaldem?demtype=SRTMGL3&south=50&north=50.1&west=14.35&east=14.6&outputFormat=GTiff&API_Key=XXX.\n",
      "3. The REST API parameter description: demtype: [SRTMGL3 (SRTM GL3 90m)， SRTMGL1 (SRTM GL1 30m)， SRTMGL1_E (SRTM GL1 Ellipsoidal 30m)， AW3D30 (ALOS World 3D 30m)， AW3D30_E (ALOS World 3D Ellipsoidal, 30m)， SRTM15Plus (Global Bathymetry SRTM15+ V2.1 500m)， NASADEM (NASADEM Global DEM)， COP30 (Copernicus Global DSM 30m)， COP90 (Copernicus Global DSM 90m)， EU_DTM (DTM 30m)， GEDI_L3 (DTM 1000m)， GEBCOIceTopo (Global Bathymetry 500m)， GEBCOSubIceTopo (Global Bathymetry 500m)]; south, north, west, and east: WGS 84 bounding box; outputFormat: 'GTiff' for GeoTiff, 'AAIGrid' for Arc ASCII Grid, 'HFA' for Erdas Imagine (.IMG).\n",
      "4. Shuttle Radar Topography Mission GL3 (Global 90m), GL1 (Global 30m), GL1 Ellipsoidal, ALOS World 3D (Global 30m), ALOS World 3D Ellipsoidal, Global Bathymetry and Topography at 15 Arc Sec: SRTM15+ V2.1, NASADEM (NASADEM Global DEM), COP30 (Copernicus Global DSM 30m), COP90 (Copernicus Global DSM 90m), Continental Europe Digital Terrain Model 30m, GEDI L3 (DTM 1000 meter), GEBCOIceTopo (Global Bathymetry 500m) and GEBCOSubIceTopo (Global Bathymetry 500m) data.\n",
      "5. You will receive a place name or a bounding box of the target area.\n",
      "6. Try not to use `osgeo` Python package; it may have many errors.\n",
      "7. Put your reply into a Python code block. Explanation or conversation can be Python comments at the begining of the code block(enclosed by ```python and ```).\n",
      "8. The download code is only in a function named 'download_data()'. The last line is to execute this function; do not use `if __name__ == '__main__':`.\n",
      "9. If the requested area is provided as a place name, search its bounding box from OpenStreetMap, do not guess the lat/lon yourself since we need accurate results.\n",
      "10. If you use `ox.geocode_to_gdf(place)` to get the place boundary, note that this function return the first POLYGON result from the OpenStreetMap Nominatim 'search' endpoint. Thus, you are searching a POI (a single point), you can use Nominatim (do not forget to set the application name before get the data. Try the Nominatim first.\n",
      "11. To the get bounding box, you can use `gdf = ox.geocode_to_gdf(place_name); west, south, east, north = gdf.unary_union.bounds`.\n",
      "12. DO NOT handle any exceptions since we need to error information for debug.\n",
      "13. This is a program for your reference, note that you can improve it: \n",
      "import requests\n",
      "import osmnx as ox\n",
      "\n",
      "def download_data():\n",
      "    place_name = \"Great Smoky Mountains National Park, USA\"\n",
      "    \n",
      "    # Get the bounding box for the place name\n",
      "    gdf = ox.geocode_to_gdf(place_name)\n",
      "    west, south, east, north = gdf.unary_union.bounds\n",
      "    \n",
      "    # Set the OpenTopography API parameters\n",
      "    demtype = \"SRTMGL3\"  # This is 90m resolution\n",
      "    output_format = \"GTiff\"\n",
      "    api_url = (\n",
      "        f\"https://portal.opentopography.org/API/globaldem?\"\n",
      "        f\"demtype={demtype}&south={south}&north={north}&west={west}&east={east}&outputFormat={output_format}&API_Key=XXXX\"\n",
      "    )\n",
      "    \n",
      "    # Send the request to download the data\n",
      "    response = requests.get(api_url)\n",
      "    \n",
      "    # Raise an exception if the request was unsuccessful\n",
      "    response.raise_for_status()\n",
      "    \n",
      "    # Save the downloaded data to the specified path\n",
      "    output_path = r\"E:\\Great Smoky Mountains National Park.tif\"\n",
      "    \n",
      "    with open(output_path, 'wb') as file:\n",
      "        file.write(response.content)\n",
      "\n",
      "# Execute the function to download the data\n",
      "download_data()\n",
      "\n"
     ]
    }
   ],
   "source": [
    "# %load_ext autoreload\n",
    "# %autoreload 2\n",
    "\n",
    "download_prompt_str = helper.create_download_prompt(task, selected_data_source, handbook_str)\n",
    "\n",
    "print(download_prompt_str)"
   ]
  },
  {
   "cell_type": "code",
   "execution_count": 16,
   "id": "71dd534a-3dd6-4292-a12e-4417284ad9d9",
   "metadata": {
    "execution": {
     "iopub.execute_input": "2024-07-22T17:33:37.365919Z",
     "iopub.status.busy": "2024-07-22T17:33:37.364917Z",
     "iopub.status.idle": "2024-07-22T17:33:45.214290Z",
     "shell.execute_reply": "2024-07-22T17:33:45.214290Z",
     "shell.execute_reply.started": "2024-07-22T17:33:37.365919Z"
    }
   },
   "outputs": [
    {
     "name": "stdout",
     "output_type": "stream",
     "text": [
      "```python\n",
      "import requests\n",
      "\n",
      "def download_data():\n",
      "    # Define the bounding box for the target region\n",
      "    south, west, north, east = 27.82, 86.73, 28.17, 87.13\n",
      "\n",
      "    # Set the OpenTopography API parameters\n",
      "    demtype = \"AW3D30\"  # This is 30m resolution\n",
      "    output_format = \"GTiff\"\n",
      "    api_key = \"ae061ea579bcd45cae8f64ae8d3fc47f\"\n",
      "    api_url = (\n",
      "        f\"https://portal.opentopography.org/API/globaldem?\"\n",
      "        f\"demtype={demtype}&south={south}&north={north}&west={west}&east={east}&outputFormat={output_format}&API_Key={api_key}\"\n",
      "    )\n",
      "\n",
      "    # Send the request to download the data\n",
      "    response = requests.get(api_url)\n",
      "    \n",
      "    # Raise an exception if the request was unsuccessful\n",
      "    response.raise_for_status()\n",
      "    \n",
      "    # Save the downloaded data to the specified path\n",
      "    output_path = r\"E:\\OneDrive_PSU\\OneDrive - The Pennsylvania State University\\Research_doc\\LLM-Find\\Downloaded_Data\\Everest_DEM.tif\"\n",
      "    \n",
      "    with open(output_path, 'wb') as file:\n",
      "        file.write(response.content)\n",
      "\n",
      "# Execute the function to download the data\n",
      "download_data()\n",
      "```\n"
     ]
    }
   ],
   "source": [
    "from IPython.display import clear_output\n",
    "\n",
    "chunks = []\n",
    "\n",
    "async for chunk in model.astream(download_prompt_str):\n",
    "    chunks.append(chunk)\n",
    "    print(chunk.content, end=\"\", flush=True)\n",
    "\n",
    "# clear_output(wait=True)\n",
    "clear_output(wait=False)\n",
    "LLM_reply_str = helper.convert_chunks_to_str(chunks=chunks)\n",
    "print(LLM_reply_str)"
   ]
  },
  {
   "cell_type": "code",
   "execution_count": 17,
   "id": "42cc63c3-9eb3-40ad-8daa-fefa5ba85190",
   "metadata": {
    "execution": {
     "iopub.execute_input": "2024-07-22T17:33:45.215294Z",
     "iopub.status.busy": "2024-07-22T17:33:45.215294Z",
     "iopub.status.idle": "2024-07-22T17:33:45.350249Z",
     "shell.execute_reply": "2024-07-22T17:33:45.350249Z",
     "shell.execute_reply.started": "2024-07-22T17:33:45.215294Z"
    }
   },
   "outputs": [
    {
     "name": "stdout",
     "output_type": "stream",
     "text": [
      "import requests\n",
      "\n",
      "def download_data():\n",
      "    # Define the bounding box for the target region\n",
      "    south, west, north, east = 27.82, 86.73, 28.17, 87.13\n",
      "\n",
      "    # Set the OpenTopography API parameters\n",
      "    demtype = \"AW3D30\"  # This is 30m resolution\n",
      "    output_format = \"GTiff\"\n",
      "    api_key = \"ae061ea579bcd45cae8f64ae8d3fc47f\"\n",
      "    api_url = (\n",
      "        f\"https://portal.opentopography.org/API/globaldem?\"\n",
      "        f\"demtype={demtype}&south={south}&north={north}&west={west}&east={east}&outputFormat={output_format}&API_Key={api_key}\"\n",
      "    )\n",
      "\n",
      "    # Send the request to download the data\n",
      "    response = requests.get(api_url)\n",
      "    \n",
      "    # Raise an exception if the request was unsuccessful\n",
      "    response.raise_for_status()\n",
      "    \n",
      "    # Save the downloaded data to the specified path\n",
      "    output_path = r\"E:\\OneDrive_PSU\\OneDrive - The Pennsylvania State University\\Research_doc\\LLM-Find\\Downloaded_Data\\Everest_DEM.tif\"\n",
      "    \n",
      "    with open(output_path, 'wb') as file:\n",
      "        file.write(response.content)\n",
      "\n",
      "# Execute the function to download the data\n",
      "download_data()\n"
     ]
    },
    {
     "data": {
      "text/html": [
       "<style>pre { line-height: 125%; }\n",
       "td.linenos .normal { color: inherit; background-color: transparent; padding-left: 5px; padding-right: 5px; }\n",
       "span.linenos { color: inherit; background-color: transparent; padding-left: 5px; padding-right: 5px; }\n",
       "td.linenos .special { color: #000000; background-color: #ffffc0; padding-left: 5px; padding-right: 5px; }\n",
       "span.linenos.special { color: #000000; background-color: #ffffc0; padding-left: 5px; padding-right: 5px; }\n",
       ".output_html .hll { background-color: #ffffcc }\n",
       ".output_html { background: #f8f8f8; }\n",
       ".output_html .c { color: #3D7B7B; font-style: italic } /* Comment */\n",
       ".output_html .err { border: 1px solid #FF0000 } /* Error */\n",
       ".output_html .k { color: #008000; font-weight: bold } /* Keyword */\n",
       ".output_html .o { color: #666666 } /* Operator */\n",
       ".output_html .ch { color: #3D7B7B; font-style: italic } /* Comment.Hashbang */\n",
       ".output_html .cm { color: #3D7B7B; font-style: italic } /* Comment.Multiline */\n",
       ".output_html .cp { color: #9C6500 } /* Comment.Preproc */\n",
       ".output_html .cpf { color: #3D7B7B; font-style: italic } /* Comment.PreprocFile */\n",
       ".output_html .c1 { color: #3D7B7B; font-style: italic } /* Comment.Single */\n",
       ".output_html .cs { color: #3D7B7B; font-style: italic } /* Comment.Special */\n",
       ".output_html .gd { color: #A00000 } /* Generic.Deleted */\n",
       ".output_html .ge { font-style: italic } /* Generic.Emph */\n",
       ".output_html .gr { color: #E40000 } /* Generic.Error */\n",
       ".output_html .gh { color: #000080; font-weight: bold } /* Generic.Heading */\n",
       ".output_html .gi { color: #008400 } /* Generic.Inserted */\n",
       ".output_html .go { color: #717171 } /* Generic.Output */\n",
       ".output_html .gp { color: #000080; font-weight: bold } /* Generic.Prompt */\n",
       ".output_html .gs { font-weight: bold } /* Generic.Strong */\n",
       ".output_html .gu { color: #800080; font-weight: bold } /* Generic.Subheading */\n",
       ".output_html .gt { color: #0044DD } /* Generic.Traceback */\n",
       ".output_html .kc { color: #008000; font-weight: bold } /* Keyword.Constant */\n",
       ".output_html .kd { color: #008000; font-weight: bold } /* Keyword.Declaration */\n",
       ".output_html .kn { color: #008000; font-weight: bold } /* Keyword.Namespace */\n",
       ".output_html .kp { color: #008000 } /* Keyword.Pseudo */\n",
       ".output_html .kr { color: #008000; font-weight: bold } /* Keyword.Reserved */\n",
       ".output_html .kt { color: #B00040 } /* Keyword.Type */\n",
       ".output_html .m { color: #666666 } /* Literal.Number */\n",
       ".output_html .s { color: #BA2121 } /* Literal.String */\n",
       ".output_html .na { color: #687822 } /* Name.Attribute */\n",
       ".output_html .nb { color: #008000 } /* Name.Builtin */\n",
       ".output_html .nc { color: #0000FF; font-weight: bold } /* Name.Class */\n",
       ".output_html .no { color: #880000 } /* Name.Constant */\n",
       ".output_html .nd { color: #AA22FF } /* Name.Decorator */\n",
       ".output_html .ni { color: #717171; font-weight: bold } /* Name.Entity */\n",
       ".output_html .ne { color: #CB3F38; font-weight: bold } /* Name.Exception */\n",
       ".output_html .nf { color: #0000FF } /* Name.Function */\n",
       ".output_html .nl { color: #767600 } /* Name.Label */\n",
       ".output_html .nn { color: #0000FF; font-weight: bold } /* Name.Namespace */\n",
       ".output_html .nt { color: #008000; font-weight: bold } /* Name.Tag */\n",
       ".output_html .nv { color: #19177C } /* Name.Variable */\n",
       ".output_html .ow { color: #AA22FF; font-weight: bold } /* Operator.Word */\n",
       ".output_html .w { color: #bbbbbb } /* Text.Whitespace */\n",
       ".output_html .mb { color: #666666 } /* Literal.Number.Bin */\n",
       ".output_html .mf { color: #666666 } /* Literal.Number.Float */\n",
       ".output_html .mh { color: #666666 } /* Literal.Number.Hex */\n",
       ".output_html .mi { color: #666666 } /* Literal.Number.Integer */\n",
       ".output_html .mo { color: #666666 } /* Literal.Number.Oct */\n",
       ".output_html .sa { color: #BA2121 } /* Literal.String.Affix */\n",
       ".output_html .sb { color: #BA2121 } /* Literal.String.Backtick */\n",
       ".output_html .sc { color: #BA2121 } /* Literal.String.Char */\n",
       ".output_html .dl { color: #BA2121 } /* Literal.String.Delimiter */\n",
       ".output_html .sd { color: #BA2121; font-style: italic } /* Literal.String.Doc */\n",
       ".output_html .s2 { color: #BA2121 } /* Literal.String.Double */\n",
       ".output_html .se { color: #AA5D1F; font-weight: bold } /* Literal.String.Escape */\n",
       ".output_html .sh { color: #BA2121 } /* Literal.String.Heredoc */\n",
       ".output_html .si { color: #A45A77; font-weight: bold } /* Literal.String.Interpol */\n",
       ".output_html .sx { color: #008000 } /* Literal.String.Other */\n",
       ".output_html .sr { color: #A45A77 } /* Literal.String.Regex */\n",
       ".output_html .s1 { color: #BA2121 } /* Literal.String.Single */\n",
       ".output_html .ss { color: #19177C } /* Literal.String.Symbol */\n",
       ".output_html .bp { color: #008000 } /* Name.Builtin.Pseudo */\n",
       ".output_html .fm { color: #0000FF } /* Name.Function.Magic */\n",
       ".output_html .vc { color: #19177C } /* Name.Variable.Class */\n",
       ".output_html .vg { color: #19177C } /* Name.Variable.Global */\n",
       ".output_html .vi { color: #19177C } /* Name.Variable.Instance */\n",
       ".output_html .vm { color: #19177C } /* Name.Variable.Magic */\n",
       ".output_html .il { color: #666666 } /* Literal.Number.Integer.Long */</style><div class=\"highlight\"><pre><span></span><span class=\"kn\">import</span> <span class=\"nn\">requests</span>\n",
       "\n",
       "<span class=\"k\">def</span> <span class=\"nf\">download_data</span><span class=\"p\">():</span>\n",
       "    <span class=\"c1\"># Define the bounding box for the target region</span>\n",
       "    <span class=\"n\">south</span><span class=\"p\">,</span> <span class=\"n\">west</span><span class=\"p\">,</span> <span class=\"n\">north</span><span class=\"p\">,</span> <span class=\"n\">east</span> <span class=\"o\">=</span> <span class=\"mf\">27.82</span><span class=\"p\">,</span> <span class=\"mf\">86.73</span><span class=\"p\">,</span> <span class=\"mf\">28.17</span><span class=\"p\">,</span> <span class=\"mf\">87.13</span>\n",
       "\n",
       "    <span class=\"c1\"># Set the OpenTopography API parameters</span>\n",
       "    <span class=\"n\">demtype</span> <span class=\"o\">=</span> <span class=\"s2\">&quot;AW3D30&quot;</span>  <span class=\"c1\"># This is 30m resolution</span>\n",
       "    <span class=\"n\">output_format</span> <span class=\"o\">=</span> <span class=\"s2\">&quot;GTiff&quot;</span>\n",
       "    <span class=\"n\">api_key</span> <span class=\"o\">=</span> <span class=\"s2\">&quot;ae061ea579bcd45cae8f64ae8d3fc47f&quot;</span>\n",
       "    <span class=\"n\">api_url</span> <span class=\"o\">=</span> <span class=\"p\">(</span>\n",
       "        <span class=\"sa\">f</span><span class=\"s2\">&quot;https://portal.opentopography.org/API/globaldem?&quot;</span>\n",
       "        <span class=\"sa\">f</span><span class=\"s2\">&quot;demtype=</span><span class=\"si\">{</span><span class=\"n\">demtype</span><span class=\"si\">}</span><span class=\"s2\">&amp;south=</span><span class=\"si\">{</span><span class=\"n\">south</span><span class=\"si\">}</span><span class=\"s2\">&amp;north=</span><span class=\"si\">{</span><span class=\"n\">north</span><span class=\"si\">}</span><span class=\"s2\">&amp;west=</span><span class=\"si\">{</span><span class=\"n\">west</span><span class=\"si\">}</span><span class=\"s2\">&amp;east=</span><span class=\"si\">{</span><span class=\"n\">east</span><span class=\"si\">}</span><span class=\"s2\">&amp;outputFormat=</span><span class=\"si\">{</span><span class=\"n\">output_format</span><span class=\"si\">}</span><span class=\"s2\">&amp;API_Key=</span><span class=\"si\">{</span><span class=\"n\">api_key</span><span class=\"si\">}</span><span class=\"s2\">&quot;</span>\n",
       "    <span class=\"p\">)</span>\n",
       "\n",
       "    <span class=\"c1\"># Send the request to download the data</span>\n",
       "    <span class=\"n\">response</span> <span class=\"o\">=</span> <span class=\"n\">requests</span><span class=\"o\">.</span><span class=\"n\">get</span><span class=\"p\">(</span><span class=\"n\">api_url</span><span class=\"p\">)</span>\n",
       "    \n",
       "    <span class=\"c1\"># Raise an exception if the request was unsuccessful</span>\n",
       "    <span class=\"n\">response</span><span class=\"o\">.</span><span class=\"n\">raise_for_status</span><span class=\"p\">()</span>\n",
       "    \n",
       "    <span class=\"c1\"># Save the downloaded data to the specified path</span>\n",
       "    <span class=\"n\">output_path</span> <span class=\"o\">=</span> <span class=\"sa\">r</span><span class=\"s2\">&quot;E:\\OneDrive_PSU\\OneDrive - The Pennsylvania State University\\Research_doc\\LLM-Find\\Downloaded_Data\\Everest_DEM.tif&quot;</span>\n",
       "    \n",
       "    <span class=\"k\">with</span> <span class=\"nb\">open</span><span class=\"p\">(</span><span class=\"n\">output_path</span><span class=\"p\">,</span> <span class=\"s1\">&#39;wb&#39;</span><span class=\"p\">)</span> <span class=\"k\">as</span> <span class=\"n\">file</span><span class=\"p\">:</span>\n",
       "        <span class=\"n\">file</span><span class=\"o\">.</span><span class=\"n\">write</span><span class=\"p\">(</span><span class=\"n\">response</span><span class=\"o\">.</span><span class=\"n\">content</span><span class=\"p\">)</span>\n",
       "\n",
       "<span class=\"c1\"># Execute the function to download the data</span>\n",
       "<span class=\"n\">download_data</span><span class=\"p\">()</span>\n",
       "</pre></div>\n"
      ],
      "text/latex": [
       "\\begin{Verbatim}[commandchars=\\\\\\{\\}]\n",
       "\\PY{k+kn}{import} \\PY{n+nn}{requests}\n",
       "\n",
       "\\PY{k}{def} \\PY{n+nf}{download\\PYZus{}data}\\PY{p}{(}\\PY{p}{)}\\PY{p}{:}\n",
       "    \\PY{c+c1}{\\PYZsh{} Define the bounding box for the target region}\n",
       "    \\PY{n}{south}\\PY{p}{,} \\PY{n}{west}\\PY{p}{,} \\PY{n}{north}\\PY{p}{,} \\PY{n}{east} \\PY{o}{=} \\PY{l+m+mf}{27.82}\\PY{p}{,} \\PY{l+m+mf}{86.73}\\PY{p}{,} \\PY{l+m+mf}{28.17}\\PY{p}{,} \\PY{l+m+mf}{87.13}\n",
       "\n",
       "    \\PY{c+c1}{\\PYZsh{} Set the OpenTopography API parameters}\n",
       "    \\PY{n}{demtype} \\PY{o}{=} \\PY{l+s+s2}{\\PYZdq{}}\\PY{l+s+s2}{AW3D30}\\PY{l+s+s2}{\\PYZdq{}}  \\PY{c+c1}{\\PYZsh{} This is 30m resolution}\n",
       "    \\PY{n}{output\\PYZus{}format} \\PY{o}{=} \\PY{l+s+s2}{\\PYZdq{}}\\PY{l+s+s2}{GTiff}\\PY{l+s+s2}{\\PYZdq{}}\n",
       "    \\PY{n}{api\\PYZus{}key} \\PY{o}{=} \\PY{l+s+s2}{\\PYZdq{}}\\PY{l+s+s2}{ae061ea579bcd45cae8f64ae8d3fc47f}\\PY{l+s+s2}{\\PYZdq{}}\n",
       "    \\PY{n}{api\\PYZus{}url} \\PY{o}{=} \\PY{p}{(}\n",
       "        \\PY{l+s+sa}{f}\\PY{l+s+s2}{\\PYZdq{}}\\PY{l+s+s2}{https://portal.opentopography.org/API/globaldem?}\\PY{l+s+s2}{\\PYZdq{}}\n",
       "        \\PY{l+s+sa}{f}\\PY{l+s+s2}{\\PYZdq{}}\\PY{l+s+s2}{demtype=}\\PY{l+s+si}{\\PYZob{}}\\PY{n}{demtype}\\PY{l+s+si}{\\PYZcb{}}\\PY{l+s+s2}{\\PYZam{}south=}\\PY{l+s+si}{\\PYZob{}}\\PY{n}{south}\\PY{l+s+si}{\\PYZcb{}}\\PY{l+s+s2}{\\PYZam{}north=}\\PY{l+s+si}{\\PYZob{}}\\PY{n}{north}\\PY{l+s+si}{\\PYZcb{}}\\PY{l+s+s2}{\\PYZam{}west=}\\PY{l+s+si}{\\PYZob{}}\\PY{n}{west}\\PY{l+s+si}{\\PYZcb{}}\\PY{l+s+s2}{\\PYZam{}east=}\\PY{l+s+si}{\\PYZob{}}\\PY{n}{east}\\PY{l+s+si}{\\PYZcb{}}\\PY{l+s+s2}{\\PYZam{}outputFormat=}\\PY{l+s+si}{\\PYZob{}}\\PY{n}{output\\PYZus{}format}\\PY{l+s+si}{\\PYZcb{}}\\PY{l+s+s2}{\\PYZam{}API\\PYZus{}Key=}\\PY{l+s+si}{\\PYZob{}}\\PY{n}{api\\PYZus{}key}\\PY{l+s+si}{\\PYZcb{}}\\PY{l+s+s2}{\\PYZdq{}}\n",
       "    \\PY{p}{)}\n",
       "\n",
       "    \\PY{c+c1}{\\PYZsh{} Send the request to download the data}\n",
       "    \\PY{n}{response} \\PY{o}{=} \\PY{n}{requests}\\PY{o}{.}\\PY{n}{get}\\PY{p}{(}\\PY{n}{api\\PYZus{}url}\\PY{p}{)}\n",
       "    \n",
       "    \\PY{c+c1}{\\PYZsh{} Raise an exception if the request was unsuccessful}\n",
       "    \\PY{n}{response}\\PY{o}{.}\\PY{n}{raise\\PYZus{}for\\PYZus{}status}\\PY{p}{(}\\PY{p}{)}\n",
       "    \n",
       "    \\PY{c+c1}{\\PYZsh{} Save the downloaded data to the specified path}\n",
       "    \\PY{n}{output\\PYZus{}path} \\PY{o}{=} \\PY{l+s+sa}{r}\\PY{l+s+s2}{\\PYZdq{}}\\PY{l+s+s2}{E:}\\PY{l+s+s2}{\\PYZbs{}}\\PY{l+s+s2}{OneDrive\\PYZus{}PSU}\\PY{l+s+s2}{\\PYZbs{}}\\PY{l+s+s2}{OneDrive \\PYZhy{} The Pennsylvania State University}\\PY{l+s+s2}{\\PYZbs{}}\\PY{l+s+s2}{Research\\PYZus{}doc}\\PY{l+s+s2}{\\PYZbs{}}\\PY{l+s+s2}{LLM\\PYZhy{}Find}\\PY{l+s+s2}{\\PYZbs{}}\\PY{l+s+s2}{Downloaded\\PYZus{}Data}\\PY{l+s+s2}{\\PYZbs{}}\\PY{l+s+s2}{Everest\\PYZus{}DEM.tif}\\PY{l+s+s2}{\\PYZdq{}}\n",
       "    \n",
       "    \\PY{k}{with} \\PY{n+nb}{open}\\PY{p}{(}\\PY{n}{output\\PYZus{}path}\\PY{p}{,} \\PY{l+s+s1}{\\PYZsq{}}\\PY{l+s+s1}{wb}\\PY{l+s+s1}{\\PYZsq{}}\\PY{p}{)} \\PY{k}{as} \\PY{n}{file}\\PY{p}{:}\n",
       "        \\PY{n}{file}\\PY{o}{.}\\PY{n}{write}\\PY{p}{(}\\PY{n}{response}\\PY{o}{.}\\PY{n}{content}\\PY{p}{)}\n",
       "\n",
       "\\PY{c+c1}{\\PYZsh{} Execute the function to download the data}\n",
       "\\PY{n}{download\\PYZus{}data}\\PY{p}{(}\\PY{p}{)}\n",
       "\\end{Verbatim}\n"
      ],
      "text/plain": [
       "import requests\n",
       "\n",
       "def download_data():\n",
       "    # Define the bounding box for the target region\n",
       "    south, west, north, east = 27.82, 86.73, 28.17, 87.13\n",
       "\n",
       "    # Set the OpenTopography API parameters\n",
       "    demtype = \"AW3D30\"  # This is 30m resolution\n",
       "    output_format = \"GTiff\"\n",
       "    api_key = \"ae061ea579bcd45cae8f64ae8d3fc47f\"\n",
       "    api_url = (\n",
       "        f\"https://portal.opentopography.org/API/globaldem?\"\n",
       "        f\"demtype={demtype}&south={south}&north={north}&west={west}&east={east}&outputFormat={output_format}&API_Key={api_key}\"\n",
       "    )\n",
       "\n",
       "    # Send the request to download the data\n",
       "    response = requests.get(api_url)\n",
       "    \n",
       "    # Raise an exception if the request was unsuccessful\n",
       "    response.raise_for_status()\n",
       "    \n",
       "    # Save the downloaded data to the specified path\n",
       "    output_path = r\"E:\\OneDrive_PSU\\OneDrive - The Pennsylvania State University\\Research_doc\\LLM-Find\\Downloaded_Data\\Everest_DEM.tif\"\n",
       "    \n",
       "    with open(output_path, 'wb') as file:\n",
       "        file.write(response.content)\n",
       "\n",
       "# Execute the function to download the data\n",
       "download_data()"
      ]
     },
     "metadata": {},
     "output_type": "display_data"
    }
   ],
   "source": [
    "code = helper.extract_code_from_str(LLM_reply_str, task)\n",
    "display(Code(code, language='python'))"
   ]
  },
  {
   "cell_type": "markdown",
   "id": "5288069a-6deb-4bbb-bbf9-1998cf823b9b",
   "metadata": {
    "execution": {
     "iopub.execute_input": "2024-07-02T19:45:44.349836Z",
     "iopub.status.busy": "2024-07-02T19:45:44.349836Z",
     "iopub.status.idle": "2024-07-02T19:45:44.441835Z",
     "shell.execute_reply": "2024-07-02T19:45:44.441835Z",
     "shell.execute_reply.started": "2024-07-02T19:45:44.349836Z"
    }
   },
   "source": [
    "# Execute the generated program"
   ]
  },
  {
   "cell_type": "code",
   "execution_count": 18,
   "id": "007ff924-8af3-4b1f-aed6-859033500f69",
   "metadata": {
    "execution": {
     "iopub.execute_input": "2024-07-22T17:33:45.351253Z",
     "iopub.status.busy": "2024-07-22T17:33:45.351253Z",
     "iopub.status.idle": "2024-07-22T17:33:56.823607Z",
     "shell.execute_reply": "2024-07-22T17:33:56.823607Z",
     "shell.execute_reply.started": "2024-07-22T17:33:45.351253Z"
    },
    "tags": []
   },
   "outputs": [
    {
     "name": "stdout",
     "output_type": "stream",
     "text": [
      "\n",
      "\n",
      "-------------- Running code (trial # 1/10) --------------\n",
      "\n",
      "\n",
      "\n",
      "\n",
      "--------------- Done ---------------\n",
      "\n",
      "\n"
     ]
    },
    {
     "data": {
      "text/html": [
       "<style>pre { line-height: 125%; }\n",
       "td.linenos .normal { color: inherit; background-color: transparent; padding-left: 5px; padding-right: 5px; }\n",
       "span.linenos { color: inherit; background-color: transparent; padding-left: 5px; padding-right: 5px; }\n",
       "td.linenos .special { color: #000000; background-color: #ffffc0; padding-left: 5px; padding-right: 5px; }\n",
       "span.linenos.special { color: #000000; background-color: #ffffc0; padding-left: 5px; padding-right: 5px; }\n",
       ".output_html .hll { background-color: #ffffcc }\n",
       ".output_html { background: #f8f8f8; }\n",
       ".output_html .c { color: #3D7B7B; font-style: italic } /* Comment */\n",
       ".output_html .err { border: 1px solid #FF0000 } /* Error */\n",
       ".output_html .k { color: #008000; font-weight: bold } /* Keyword */\n",
       ".output_html .o { color: #666666 } /* Operator */\n",
       ".output_html .ch { color: #3D7B7B; font-style: italic } /* Comment.Hashbang */\n",
       ".output_html .cm { color: #3D7B7B; font-style: italic } /* Comment.Multiline */\n",
       ".output_html .cp { color: #9C6500 } /* Comment.Preproc */\n",
       ".output_html .cpf { color: #3D7B7B; font-style: italic } /* Comment.PreprocFile */\n",
       ".output_html .c1 { color: #3D7B7B; font-style: italic } /* Comment.Single */\n",
       ".output_html .cs { color: #3D7B7B; font-style: italic } /* Comment.Special */\n",
       ".output_html .gd { color: #A00000 } /* Generic.Deleted */\n",
       ".output_html .ge { font-style: italic } /* Generic.Emph */\n",
       ".output_html .gr { color: #E40000 } /* Generic.Error */\n",
       ".output_html .gh { color: #000080; font-weight: bold } /* Generic.Heading */\n",
       ".output_html .gi { color: #008400 } /* Generic.Inserted */\n",
       ".output_html .go { color: #717171 } /* Generic.Output */\n",
       ".output_html .gp { color: #000080; font-weight: bold } /* Generic.Prompt */\n",
       ".output_html .gs { font-weight: bold } /* Generic.Strong */\n",
       ".output_html .gu { color: #800080; font-weight: bold } /* Generic.Subheading */\n",
       ".output_html .gt { color: #0044DD } /* Generic.Traceback */\n",
       ".output_html .kc { color: #008000; font-weight: bold } /* Keyword.Constant */\n",
       ".output_html .kd { color: #008000; font-weight: bold } /* Keyword.Declaration */\n",
       ".output_html .kn { color: #008000; font-weight: bold } /* Keyword.Namespace */\n",
       ".output_html .kp { color: #008000 } /* Keyword.Pseudo */\n",
       ".output_html .kr { color: #008000; font-weight: bold } /* Keyword.Reserved */\n",
       ".output_html .kt { color: #B00040 } /* Keyword.Type */\n",
       ".output_html .m { color: #666666 } /* Literal.Number */\n",
       ".output_html .s { color: #BA2121 } /* Literal.String */\n",
       ".output_html .na { color: #687822 } /* Name.Attribute */\n",
       ".output_html .nb { color: #008000 } /* Name.Builtin */\n",
       ".output_html .nc { color: #0000FF; font-weight: bold } /* Name.Class */\n",
       ".output_html .no { color: #880000 } /* Name.Constant */\n",
       ".output_html .nd { color: #AA22FF } /* Name.Decorator */\n",
       ".output_html .ni { color: #717171; font-weight: bold } /* Name.Entity */\n",
       ".output_html .ne { color: #CB3F38; font-weight: bold } /* Name.Exception */\n",
       ".output_html .nf { color: #0000FF } /* Name.Function */\n",
       ".output_html .nl { color: #767600 } /* Name.Label */\n",
       ".output_html .nn { color: #0000FF; font-weight: bold } /* Name.Namespace */\n",
       ".output_html .nt { color: #008000; font-weight: bold } /* Name.Tag */\n",
       ".output_html .nv { color: #19177C } /* Name.Variable */\n",
       ".output_html .ow { color: #AA22FF; font-weight: bold } /* Operator.Word */\n",
       ".output_html .w { color: #bbbbbb } /* Text.Whitespace */\n",
       ".output_html .mb { color: #666666 } /* Literal.Number.Bin */\n",
       ".output_html .mf { color: #666666 } /* Literal.Number.Float */\n",
       ".output_html .mh { color: #666666 } /* Literal.Number.Hex */\n",
       ".output_html .mi { color: #666666 } /* Literal.Number.Integer */\n",
       ".output_html .mo { color: #666666 } /* Literal.Number.Oct */\n",
       ".output_html .sa { color: #BA2121 } /* Literal.String.Affix */\n",
       ".output_html .sb { color: #BA2121 } /* Literal.String.Backtick */\n",
       ".output_html .sc { color: #BA2121 } /* Literal.String.Char */\n",
       ".output_html .dl { color: #BA2121 } /* Literal.String.Delimiter */\n",
       ".output_html .sd { color: #BA2121; font-style: italic } /* Literal.String.Doc */\n",
       ".output_html .s2 { color: #BA2121 } /* Literal.String.Double */\n",
       ".output_html .se { color: #AA5D1F; font-weight: bold } /* Literal.String.Escape */\n",
       ".output_html .sh { color: #BA2121 } /* Literal.String.Heredoc */\n",
       ".output_html .si { color: #A45A77; font-weight: bold } /* Literal.String.Interpol */\n",
       ".output_html .sx { color: #008000 } /* Literal.String.Other */\n",
       ".output_html .sr { color: #A45A77 } /* Literal.String.Regex */\n",
       ".output_html .s1 { color: #BA2121 } /* Literal.String.Single */\n",
       ".output_html .ss { color: #19177C } /* Literal.String.Symbol */\n",
       ".output_html .bp { color: #008000 } /* Name.Builtin.Pseudo */\n",
       ".output_html .fm { color: #0000FF } /* Name.Function.Magic */\n",
       ".output_html .vc { color: #19177C } /* Name.Variable.Class */\n",
       ".output_html .vg { color: #19177C } /* Name.Variable.Global */\n",
       ".output_html .vi { color: #19177C } /* Name.Variable.Instance */\n",
       ".output_html .vm { color: #19177C } /* Name.Variable.Magic */\n",
       ".output_html .il { color: #666666 } /* Literal.Number.Integer.Long */</style><div class=\"highlight\"><pre><span></span><span class=\"kn\">import</span> <span class=\"nn\">requests</span>\n",
       "\n",
       "<span class=\"k\">def</span> <span class=\"nf\">download_data</span><span class=\"p\">():</span>\n",
       "    <span class=\"c1\"># Define the bounding box for the target region</span>\n",
       "    <span class=\"n\">south</span><span class=\"p\">,</span> <span class=\"n\">west</span><span class=\"p\">,</span> <span class=\"n\">north</span><span class=\"p\">,</span> <span class=\"n\">east</span> <span class=\"o\">=</span> <span class=\"mf\">27.82</span><span class=\"p\">,</span> <span class=\"mf\">86.73</span><span class=\"p\">,</span> <span class=\"mf\">28.17</span><span class=\"p\">,</span> <span class=\"mf\">87.13</span>\n",
       "\n",
       "    <span class=\"c1\"># Set the OpenTopography API parameters</span>\n",
       "    <span class=\"n\">demtype</span> <span class=\"o\">=</span> <span class=\"s2\">&quot;AW3D30&quot;</span>  <span class=\"c1\"># This is 30m resolution</span>\n",
       "    <span class=\"n\">output_format</span> <span class=\"o\">=</span> <span class=\"s2\">&quot;GTiff&quot;</span>\n",
       "    <span class=\"n\">api_key</span> <span class=\"o\">=</span> <span class=\"s2\">&quot;ae061ea579bcd45cae8f64ae8d3fc47f&quot;</span>\n",
       "    <span class=\"n\">api_url</span> <span class=\"o\">=</span> <span class=\"p\">(</span>\n",
       "        <span class=\"sa\">f</span><span class=\"s2\">&quot;https://portal.opentopography.org/API/globaldem?&quot;</span>\n",
       "        <span class=\"sa\">f</span><span class=\"s2\">&quot;demtype=</span><span class=\"si\">{</span><span class=\"n\">demtype</span><span class=\"si\">}</span><span class=\"s2\">&amp;south=</span><span class=\"si\">{</span><span class=\"n\">south</span><span class=\"si\">}</span><span class=\"s2\">&amp;north=</span><span class=\"si\">{</span><span class=\"n\">north</span><span class=\"si\">}</span><span class=\"s2\">&amp;west=</span><span class=\"si\">{</span><span class=\"n\">west</span><span class=\"si\">}</span><span class=\"s2\">&amp;east=</span><span class=\"si\">{</span><span class=\"n\">east</span><span class=\"si\">}</span><span class=\"s2\">&amp;outputFormat=</span><span class=\"si\">{</span><span class=\"n\">output_format</span><span class=\"si\">}</span><span class=\"s2\">&amp;API_Key=</span><span class=\"si\">{</span><span class=\"n\">api_key</span><span class=\"si\">}</span><span class=\"s2\">&quot;</span>\n",
       "    <span class=\"p\">)</span>\n",
       "\n",
       "    <span class=\"c1\"># Send the request to download the data</span>\n",
       "    <span class=\"n\">response</span> <span class=\"o\">=</span> <span class=\"n\">requests</span><span class=\"o\">.</span><span class=\"n\">get</span><span class=\"p\">(</span><span class=\"n\">api_url</span><span class=\"p\">)</span>\n",
       "    \n",
       "    <span class=\"c1\"># Raise an exception if the request was unsuccessful</span>\n",
       "    <span class=\"n\">response</span><span class=\"o\">.</span><span class=\"n\">raise_for_status</span><span class=\"p\">()</span>\n",
       "    \n",
       "    <span class=\"c1\"># Save the downloaded data to the specified path</span>\n",
       "    <span class=\"n\">output_path</span> <span class=\"o\">=</span> <span class=\"sa\">r</span><span class=\"s2\">&quot;E:\\OneDrive_PSU\\OneDrive - The Pennsylvania State University\\Research_doc\\LLM-Find\\Downloaded_Data\\Everest_DEM.tif&quot;</span>\n",
       "    \n",
       "    <span class=\"k\">with</span> <span class=\"nb\">open</span><span class=\"p\">(</span><span class=\"n\">output_path</span><span class=\"p\">,</span> <span class=\"s1\">&#39;wb&#39;</span><span class=\"p\">)</span> <span class=\"k\">as</span> <span class=\"n\">file</span><span class=\"p\">:</span>\n",
       "        <span class=\"n\">file</span><span class=\"o\">.</span><span class=\"n\">write</span><span class=\"p\">(</span><span class=\"n\">response</span><span class=\"o\">.</span><span class=\"n\">content</span><span class=\"p\">)</span>\n",
       "\n",
       "<span class=\"c1\"># Execute the function to download the data</span>\n",
       "<span class=\"n\">download_data</span><span class=\"p\">()</span>\n",
       "</pre></div>\n"
      ],
      "text/latex": [
       "\\begin{Verbatim}[commandchars=\\\\\\{\\}]\n",
       "\\PY{k+kn}{import} \\PY{n+nn}{requests}\n",
       "\n",
       "\\PY{k}{def} \\PY{n+nf}{download\\PYZus{}data}\\PY{p}{(}\\PY{p}{)}\\PY{p}{:}\n",
       "    \\PY{c+c1}{\\PYZsh{} Define the bounding box for the target region}\n",
       "    \\PY{n}{south}\\PY{p}{,} \\PY{n}{west}\\PY{p}{,} \\PY{n}{north}\\PY{p}{,} \\PY{n}{east} \\PY{o}{=} \\PY{l+m+mf}{27.82}\\PY{p}{,} \\PY{l+m+mf}{86.73}\\PY{p}{,} \\PY{l+m+mf}{28.17}\\PY{p}{,} \\PY{l+m+mf}{87.13}\n",
       "\n",
       "    \\PY{c+c1}{\\PYZsh{} Set the OpenTopography API parameters}\n",
       "    \\PY{n}{demtype} \\PY{o}{=} \\PY{l+s+s2}{\\PYZdq{}}\\PY{l+s+s2}{AW3D30}\\PY{l+s+s2}{\\PYZdq{}}  \\PY{c+c1}{\\PYZsh{} This is 30m resolution}\n",
       "    \\PY{n}{output\\PYZus{}format} \\PY{o}{=} \\PY{l+s+s2}{\\PYZdq{}}\\PY{l+s+s2}{GTiff}\\PY{l+s+s2}{\\PYZdq{}}\n",
       "    \\PY{n}{api\\PYZus{}key} \\PY{o}{=} \\PY{l+s+s2}{\\PYZdq{}}\\PY{l+s+s2}{ae061ea579bcd45cae8f64ae8d3fc47f}\\PY{l+s+s2}{\\PYZdq{}}\n",
       "    \\PY{n}{api\\PYZus{}url} \\PY{o}{=} \\PY{p}{(}\n",
       "        \\PY{l+s+sa}{f}\\PY{l+s+s2}{\\PYZdq{}}\\PY{l+s+s2}{https://portal.opentopography.org/API/globaldem?}\\PY{l+s+s2}{\\PYZdq{}}\n",
       "        \\PY{l+s+sa}{f}\\PY{l+s+s2}{\\PYZdq{}}\\PY{l+s+s2}{demtype=}\\PY{l+s+si}{\\PYZob{}}\\PY{n}{demtype}\\PY{l+s+si}{\\PYZcb{}}\\PY{l+s+s2}{\\PYZam{}south=}\\PY{l+s+si}{\\PYZob{}}\\PY{n}{south}\\PY{l+s+si}{\\PYZcb{}}\\PY{l+s+s2}{\\PYZam{}north=}\\PY{l+s+si}{\\PYZob{}}\\PY{n}{north}\\PY{l+s+si}{\\PYZcb{}}\\PY{l+s+s2}{\\PYZam{}west=}\\PY{l+s+si}{\\PYZob{}}\\PY{n}{west}\\PY{l+s+si}{\\PYZcb{}}\\PY{l+s+s2}{\\PYZam{}east=}\\PY{l+s+si}{\\PYZob{}}\\PY{n}{east}\\PY{l+s+si}{\\PYZcb{}}\\PY{l+s+s2}{\\PYZam{}outputFormat=}\\PY{l+s+si}{\\PYZob{}}\\PY{n}{output\\PYZus{}format}\\PY{l+s+si}{\\PYZcb{}}\\PY{l+s+s2}{\\PYZam{}API\\PYZus{}Key=}\\PY{l+s+si}{\\PYZob{}}\\PY{n}{api\\PYZus{}key}\\PY{l+s+si}{\\PYZcb{}}\\PY{l+s+s2}{\\PYZdq{}}\n",
       "    \\PY{p}{)}\n",
       "\n",
       "    \\PY{c+c1}{\\PYZsh{} Send the request to download the data}\n",
       "    \\PY{n}{response} \\PY{o}{=} \\PY{n}{requests}\\PY{o}{.}\\PY{n}{get}\\PY{p}{(}\\PY{n}{api\\PYZus{}url}\\PY{p}{)}\n",
       "    \n",
       "    \\PY{c+c1}{\\PYZsh{} Raise an exception if the request was unsuccessful}\n",
       "    \\PY{n}{response}\\PY{o}{.}\\PY{n}{raise\\PYZus{}for\\PYZus{}status}\\PY{p}{(}\\PY{p}{)}\n",
       "    \n",
       "    \\PY{c+c1}{\\PYZsh{} Save the downloaded data to the specified path}\n",
       "    \\PY{n}{output\\PYZus{}path} \\PY{o}{=} \\PY{l+s+sa}{r}\\PY{l+s+s2}{\\PYZdq{}}\\PY{l+s+s2}{E:}\\PY{l+s+s2}{\\PYZbs{}}\\PY{l+s+s2}{OneDrive\\PYZus{}PSU}\\PY{l+s+s2}{\\PYZbs{}}\\PY{l+s+s2}{OneDrive \\PYZhy{} The Pennsylvania State University}\\PY{l+s+s2}{\\PYZbs{}}\\PY{l+s+s2}{Research\\PYZus{}doc}\\PY{l+s+s2}{\\PYZbs{}}\\PY{l+s+s2}{LLM\\PYZhy{}Find}\\PY{l+s+s2}{\\PYZbs{}}\\PY{l+s+s2}{Downloaded\\PYZus{}Data}\\PY{l+s+s2}{\\PYZbs{}}\\PY{l+s+s2}{Everest\\PYZus{}DEM.tif}\\PY{l+s+s2}{\\PYZdq{}}\n",
       "    \n",
       "    \\PY{k}{with} \\PY{n+nb}{open}\\PY{p}{(}\\PY{n}{output\\PYZus{}path}\\PY{p}{,} \\PY{l+s+s1}{\\PYZsq{}}\\PY{l+s+s1}{wb}\\PY{l+s+s1}{\\PYZsq{}}\\PY{p}{)} \\PY{k}{as} \\PY{n}{file}\\PY{p}{:}\n",
       "        \\PY{n}{file}\\PY{o}{.}\\PY{n}{write}\\PY{p}{(}\\PY{n}{response}\\PY{o}{.}\\PY{n}{content}\\PY{p}{)}\n",
       "\n",
       "\\PY{c+c1}{\\PYZsh{} Execute the function to download the data}\n",
       "\\PY{n}{download\\PYZus{}data}\\PY{p}{(}\\PY{p}{)}\n",
       "\\end{Verbatim}\n"
      ],
      "text/plain": [
       "import requests\n",
       "\n",
       "def download_data():\n",
       "    # Define the bounding box for the target region\n",
       "    south, west, north, east = 27.82, 86.73, 28.17, 87.13\n",
       "\n",
       "    # Set the OpenTopography API parameters\n",
       "    demtype = \"AW3D30\"  # This is 30m resolution\n",
       "    output_format = \"GTiff\"\n",
       "    api_key = \"ae061ea579bcd45cae8f64ae8d3fc47f\"\n",
       "    api_url = (\n",
       "        f\"https://portal.opentopography.org/API/globaldem?\"\n",
       "        f\"demtype={demtype}&south={south}&north={north}&west={west}&east={east}&outputFormat={output_format}&API_Key={api_key}\"\n",
       "    )\n",
       "\n",
       "    # Send the request to download the data\n",
       "    response = requests.get(api_url)\n",
       "    \n",
       "    # Raise an exception if the request was unsuccessful\n",
       "    response.raise_for_status()\n",
       "    \n",
       "    # Save the downloaded data to the specified path\n",
       "    output_path = r\"E:\\OneDrive_PSU\\OneDrive - The Pennsylvania State University\\Research_doc\\LLM-Find\\Downloaded_Data\\Everest_DEM.tif\"\n",
       "    \n",
       "    with open(output_path, 'wb') as file:\n",
       "        file.write(response.content)\n",
       "\n",
       "# Execute the function to download the data\n",
       "download_data()"
      ]
     },
     "metadata": {},
     "output_type": "display_data"
    }
   ],
   "source": [
    "# %autoreload 2\n",
    "# %load_ext autoreload\n",
    "\n",
    "code = code.replace('area({osm_id})->.searchArea;', 'relation({osm_id}); map_to_area->.searchArea;')  # GPT-4o never follow the related instruction!\n",
    "    \n",
    "code = helper.execute_complete_program(code=code, try_cnt=10, task=task, model_name=model_name, handbook_str=handbook_str)\n",
    "\n",
    "code = code.replace('area({osm_id})->.searchArea;', 'relation({osm_id}); map_to_area->.searchArea;')  # GPT-4o never follow the related instruction!\n",
    "\n",
    "\n",
    "display(Code(code, language='python'))\n"
   ]
  },
  {
   "cell_type": "code",
   "execution_count": null,
   "id": "9a1d12ec-07ff-4120-adec-66e3ca2272b9",
   "metadata": {},
   "outputs": [],
   "source": []
  },
  {
   "cell_type": "markdown",
   "id": "696f92ee-4998-4b1a-a55e-7f2267a49b4a",
   "metadata": {},
   "source": [
    "# Show the downloaded data"
   ]
  },
  {
   "cell_type": "code",
   "execution_count": 19,
   "id": "8119c498-86f1-4041-b3d1-ae9d85ea9c72",
   "metadata": {
    "execution": {
     "iopub.execute_input": "2024-07-22T17:33:56.824612Z",
     "iopub.status.busy": "2024-07-22T17:33:56.824612Z",
     "iopub.status.idle": "2024-07-22T17:33:56.918259Z",
     "shell.execute_reply": "2024-07-22T17:33:56.918259Z",
     "shell.execute_reply.started": "2024-07-22T17:33:56.824612Z"
    }
   },
   "outputs": [
    {
     "name": "stdout",
     "output_type": "stream",
     "text": [
      "Saved file: E:\\OneDrive_PSU\\OneDrive - The Pennsylvania State University\\Research_doc\\LLM-Find\\Downloaded_Data\\Everest_DEM.tif\n",
      "ext_name: .tif\n"
     ]
    }
   ],
   "source": [
    "ext_name = saved_fname[-4:]\n",
    "print(\"Saved file:\", saved_fname)\n",
    "print(\"ext_name:\", ext_name)"
   ]
  },
  {
   "cell_type": "code",
   "execution_count": 20,
   "id": "7ebfd8fe-0766-4f90-9c61-99ac47603dd3",
   "metadata": {
    "execution": {
     "iopub.execute_input": "2024-07-22T17:33:56.919265Z",
     "iopub.status.busy": "2024-07-22T17:33:56.919265Z",
     "iopub.status.idle": "2024-07-22T17:34:00.409309Z",
     "shell.execute_reply": "2024-07-22T17:34:00.409309Z",
     "shell.execute_reply.started": "2024-07-22T17:33:56.919265Z"
    }
   },
   "outputs": [
    {
     "data": {
      "application/vnd.jupyter.widget-view+json": {
       "model_id": "408b0e65ab7146e7b64d2654da70ddbc",
       "version_major": 2,
       "version_minor": 0
      },
      "text/plain": [
       "Map(center=[20, 0], controls=(ZoomControl(options=['position', 'zoom_in_text', 'zoom_in_title', 'zoom_out_text…"
      ]
     },
     "execution_count": 20,
     "metadata": {},
     "output_type": "execute_result"
    }
   ],
   "source": [
    "# import leafmap.leafmap as leafmap\n",
    "\n",
    "import leafmap\n",
    "  # center=(40, -100), zoom=4\n",
    "\n",
    "if ext_name == 'gpkg':\n",
    "    # gdf = gpd.read_file(saved_fname)  \n",
    "    bounding_box = gdf.total_bounds\n",
    "    m = leafmap.Map()     \n",
    "    m.add_gdf(gdf, layer_name=\"Downloaded_data\")\n",
    "    m.fit_bounds([[bounding_box[1], bounding_box[0]], [bounding_box[3], bounding_box[2]]])\n",
    "\n",
    "if selected_data_source == 'OpenTopography':\n",
    "    m = leafmap.Map()\n",
    "    m.add_raster(source=saved_fname, layer_name='OpenTopography DEM', colormap='viridis') \n",
    "\n",
    "m"
   ]
  },
  {
   "cell_type": "code",
   "execution_count": 21,
   "id": "32ea061e-988e-470e-b648-ed831be180b5",
   "metadata": {
    "execution": {
     "iopub.execute_input": "2024-07-22T17:34:00.411319Z",
     "iopub.status.busy": "2024-07-22T17:34:00.410316Z",
     "iopub.status.idle": "2024-07-22T17:34:01.455628Z",
     "shell.execute_reply": "2024-07-22T17:34:01.454622Z",
     "shell.execute_reply.started": "2024-07-22T17:34:00.411319Z"
    }
   },
   "outputs": [
    {
     "ename": "NameError",
     "evalue": "name 'results' is not defined",
     "output_type": "error",
     "traceback": [
      "\u001b[1;31m---------------------------------------------------------------------------\u001b[0m",
      "\u001b[1;31mNameError\u001b[0m                                 Traceback (most recent call last)",
      "Cell \u001b[1;32mIn[21], line 14\u001b[0m\n\u001b[0;32m     11\u001b[0m \u001b[38;5;28;01mif\u001b[39;00m selected_data_source \u001b[38;5;241m==\u001b[39m \u001b[38;5;124m'\u001b[39m\u001b[38;5;124mESRI_world_imagery\u001b[39m\u001b[38;5;124m'\u001b[39m:\n\u001b[0;32m     12\u001b[0m     results \u001b[38;5;241m=\u001b[39m Image\u001b[38;5;241m.\u001b[39mopen(saved_fname)\n\u001b[1;32m---> 14\u001b[0m results\n",
      "\u001b[1;31mNameError\u001b[0m: name 'results' is not defined"
     ]
    }
   ],
   "source": [
    "if ext_name == '.csv':\n",
    "    df = pd.read_csv(saved_fname, encoding='ISO-8859-1')\n",
    "    results = df\n",
    "\n",
    "if ext_name == 'gpkg':\n",
    "    gdf = gpd.read_file(saved_fname)\n",
    "    results = gdf\n",
    "    gdf.plot()\n",
    "    # gdf.explore()\n",
    "\n",
    "if selected_data_source == 'ESRI_world_imagery':\n",
    "    results = Image.open(saved_fname)\n",
    "    \n",
    "results"
   ]
  },
  {
   "cell_type": "code",
   "execution_count": null,
   "id": "2080d8cc-f75f-40ba-8363-8e27718add96",
   "metadata": {
    "execution": {
     "iopub.status.busy": "2024-07-22T17:34:01.456626Z",
     "iopub.status.idle": "2024-07-22T17:34:01.457627Z",
     "shell.execute_reply": "2024-07-22T17:34:01.456626Z",
     "shell.execute_reply.started": "2024-07-22T17:34:01.456626Z"
    }
   },
   "outputs": [],
   "source": [
    "# # If you need to use the interative table:\n",
    "# show(results)"
   ]
  },
  {
   "cell_type": "code",
   "execution_count": null,
   "id": "700f3e95-adb7-4c66-97f2-e4f656a9e3ca",
   "metadata": {
    "execution": {
     "iopub.status.busy": "2024-07-22T17:34:01.458627Z",
     "iopub.status.idle": "2024-07-22T17:34:01.458627Z",
     "shell.execute_reply": "2024-07-22T17:34:01.458627Z",
     "shell.execute_reply.started": "2024-07-22T17:34:01.458627Z"
    }
   },
   "outputs": [],
   "source": [
    "### If you do not like to install Leafmap or have difficulty to install it, \n",
    "### just use gdf.explore() to check the downloaded data in an interative way\n",
    "# gdf.explore()"
   ]
  },
  {
   "cell_type": "code",
   "execution_count": null,
   "id": "e7982bf4-4e61-47d5-856a-f981a29a4226",
   "metadata": {
    "execution": {
     "iopub.status.busy": "2024-07-22T17:34:01.460629Z",
     "iopub.status.idle": "2024-07-22T17:34:01.460629Z",
     "shell.execute_reply": "2024-07-22T17:34:01.460629Z",
     "shell.execute_reply.started": "2024-07-22T17:34:01.460629Z"
    }
   },
   "outputs": [],
   "source": [
    "STOP"
   ]
  },
  {
   "cell_type": "code",
   "execution_count": null,
   "id": "b60a948b-8dd4-4a35-9510-e84667e6b935",
   "metadata": {},
   "outputs": [],
   "source": []
  }
 ],
 "metadata": {
  "kernelspec": {
   "display_name": "ox",
   "language": "python",
   "name": "ox"
  },
  "language_info": {
   "codemirror_mode": {
    "name": "ipython",
    "version": 3
   },
   "file_extension": ".py",
   "mimetype": "text/x-python",
   "name": "python",
   "nbconvert_exporter": "python",
   "pygments_lexer": "ipython3",
   "version": "3.12.3"
  },
  "widgets": {
   "application/vnd.jupyter.widget-state+json": {
    "state": {
     "00df77f664e84f77957184b4360d0c32": {
      "model_module": "@jupyter-widgets/controls",
      "model_module_version": "2.0.0",
      "model_name": "ToggleButtonStyleModel",
      "state": {
       "description_width": "",
       "font_family": null,
       "font_size": null,
       "font_style": null,
       "font_variant": null,
       "font_weight": null,
       "text_color": null,
       "text_decoration": null
      }
     },
     "014fc18394f9444db0b9491c1bb291f0": {
      "model_module": "jupyter-leaflet",
      "model_module_version": "^0.19",
      "model_name": "LeafletMapStyleModel",
      "state": {
       "_model_module_version": "^0.19",
       "cursor": "move"
      }
     },
     "046747aa79834a9fa706813542432677": {
      "model_module": "@jupyter-widgets/controls",
      "model_module_version": "2.0.0",
      "model_name": "ToggleButtonStyleModel",
      "state": {
       "description_width": "",
       "font_family": null,
       "font_size": null,
       "font_style": null,
       "font_variant": null,
       "font_weight": null,
       "text_color": null,
       "text_decoration": null
      }
     },
     "046e9498bb1b4b588a1a514346dd6afc": {
      "model_module": "@jupyter-widgets/controls",
      "model_module_version": "2.0.0",
      "model_name": "ToggleButtonStyleModel",
      "state": {
       "description_width": "",
       "font_family": null,
       "font_size": null,
       "font_style": null,
       "font_variant": null,
       "font_weight": null,
       "text_color": null,
       "text_decoration": null
      }
     },
     "08f077ed587449ce8e7168212373fcfe": {
      "model_module": "@jupyter-widgets/controls",
      "model_module_version": "2.0.0",
      "model_name": "ToggleButtonModel",
      "state": {
       "button_style": "primary",
       "icon": "table",
       "layout": "IPY_MODEL_cc4d227c31004942a515de87a58e7ff4",
       "style": "IPY_MODEL_9716ed4aaeab449a85bb611bb513b504",
       "tooltip": "Open attribute table"
      }
     },
     "09e37f27ea3d4f5cbfbbf17eba6231f4": {
      "model_module": "@jupyter-widgets/controls",
      "model_module_version": "2.0.0",
      "model_name": "ToggleButtonModel",
      "state": {
       "button_style": "primary",
       "icon": "stack-exchange",
       "layout": "IPY_MODEL_4988ed64c71c4dd2832b37163b79dac8",
       "style": "IPY_MODEL_cbdd1aa498634f00b400791d1e70c13d",
       "tooltip": "Discover STAC Catalog"
      }
     },
     "0a131c0558754b0ba03831efbf92ed01": {
      "model_module": "jupyter-leaflet",
      "model_module_version": "^0.19",
      "model_name": "LeafletMapStyleModel",
      "state": {
       "_model_module_version": "^0.19"
      }
     },
     "0cae6260892c4cfaa1ac43d754dfbf42": {
      "model_module": "@jupyter-widgets/controls",
      "model_module_version": "2.0.0",
      "model_name": "ToggleButtonStyleModel",
      "state": {
       "description_width": "",
       "font_family": null,
       "font_size": null,
       "font_style": null,
       "font_variant": null,
       "font_weight": null,
       "text_color": null,
       "text_decoration": null
      }
     },
     "0db03e793376412c9258a17146b0448f": {
      "model_module": "@jupyter-widgets/base",
      "model_module_version": "2.0.0",
      "model_name": "LayoutModel",
      "state": {
       "height": "auto",
       "padding": "0px 0px 0px 4px",
       "width": "auto"
      }
     },
     "1645cfccdc334eb6aef3fa54f206d439": {
      "model_module": "@jupyter-widgets/controls",
      "model_module_version": "2.0.0",
      "model_name": "ToggleButtonStyleModel",
      "state": {
       "description_width": "",
       "font_family": null,
       "font_size": null,
       "font_style": null,
       "font_variant": null,
       "font_weight": null,
       "text_color": null,
       "text_decoration": null
      }
     },
     "179e5e2583354381b0339286432c9d66": {
      "model_module": "ipyevents",
      "model_module_version": "2.0.2",
      "model_name": "EventModel",
      "state": {
       "_supported_key_events": [
        "keydown",
        "keyup"
       ],
       "_supported_mouse_events": [
        "click",
        "auxclick",
        "dblclick",
        "mouseenter",
        "mouseleave",
        "mousedown",
        "mouseup",
        "mousemove",
        "wheel",
        "contextmenu",
        "dragstart",
        "drag",
        "dragend",
        "dragenter",
        "dragover",
        "dragleave",
        "drop"
       ],
       "_supported_touch_events": [
        "touchstart",
        "touchend",
        "touchmove",
        "touchcancel"
       ],
       "_view_module": "@jupyter-widgets/controls",
       "source": "IPY_MODEL_4c980f2a1fb542eb9e59449e2c7c3d33",
       "throttle_or_debounce": "",
       "watched_events": [
        "mouseenter",
        "mouseleave"
       ],
       "xy_coordinate_system": ""
      }
     },
     "1aa655df581c49399c69dcb167f4730d": {
      "model_module": "@jupyter-widgets/controls",
      "model_module_version": "2.0.0",
      "model_name": "ToggleButtonStyleModel",
      "state": {
       "description_width": "",
       "font_family": null,
       "font_size": null,
       "font_style": null,
       "font_variant": null,
       "font_weight": null,
       "text_color": null,
       "text_decoration": null
      }
     },
     "1b300a3d15eb41cbb745192fab96df92": {
      "model_module": "@jupyter-widgets/controls",
      "model_module_version": "2.0.0",
      "model_name": "ToggleButtonStyleModel",
      "state": {
       "description_width": "",
       "font_family": null,
       "font_size": null,
       "font_style": null,
       "font_variant": null,
       "font_weight": null,
       "text_color": null,
       "text_decoration": null
      }
     },
     "1ea1b335d3fd479fb0060609205579b0": {
      "model_module": "@jupyter-widgets/controls",
      "model_module_version": "2.0.0",
      "model_name": "ToggleButtonStyleModel",
      "state": {
       "description_width": "",
       "font_family": null,
       "font_size": null,
       "font_style": null,
       "font_variant": null,
       "font_weight": null,
       "text_color": null,
       "text_decoration": null
      }
     },
     "26568476aaa44e5fb8519e4dbcd77de3": {
      "model_module": "@jupyter-widgets/controls",
      "model_module_version": "2.0.0",
      "model_name": "ToggleButtonModel",
      "state": {
       "button_style": "primary",
       "icon": "globe",
       "layout": "IPY_MODEL_a37692fb1b094a23a10d37528c202b78",
       "style": "IPY_MODEL_455f656c502e4c798bdd0e18654c7834",
       "tooltip": "Split-panel map"
      }
     },
     "2e765f74d26c4412acb934104542dbe1": {
      "model_module": "jupyter-leaflet",
      "model_module_version": "^0.19",
      "model_name": "LeafletTileLayerModel",
      "state": {
       "_model_module_version": "^0.19",
       "_view_module_version": "^0.19",
       "attribution": "Raster file served by <a href='https://github.com/banesullivan/localtileserver' target='_blank'>localtileserver</a>.",
       "bounds": [
        [
         27.82,
         86.73
        ],
        [
         28.17,
         87.13
        ]
       ],
       "max_native_zoom": 30,
       "max_zoom": 30,
       "name": "OpenTopography DEM",
       "options": [
        "attribution",
        "bounds",
        "detect_retina",
        "max_native_zoom",
        "max_zoom",
        "min_native_zoom",
        "min_zoom",
        "no_wrap",
        "tile_size",
        "tms",
        "zoom_offset"
       ],
       "show_loading": true,
       "url": "http://localhost:9225/api/tiles/{z}/{x}/{y}.png?&filename=E%3A%2FOneDrive_PSU%2FOneDrive+-+The+Pennsylvania+State+University%2FResearch_doc%2FLLM-Find%2FDownloaded_Data%2FEverest_DEM.tif&colormap=viridis"
      }
     },
     "2e8b996404614c15989177b89983f2f8": {
      "model_module": "@jupyter-widgets/base",
      "model_module_version": "2.0.0",
      "model_name": "LayoutModel",
      "state": {
       "height": "auto",
       "padding": "0px 0px 0px 4px",
       "width": "auto"
      }
     },
     "2efdd3a958e845d786d4ba6e2cc9cc42": {
      "model_module": "@jupyter-widgets/base",
      "model_module_version": "2.0.0",
      "model_name": "LayoutModel",
      "state": {
       "height": "auto",
       "padding": "0px 0px 0px 4px",
       "width": "auto"
      }
     },
     "31bab7dc0aab452b9a50e6bd5f8b7a0e": {
      "model_module": "@jupyter-widgets/controls",
      "model_module_version": "2.0.0",
      "model_name": "ToggleButtonModel",
      "state": {
       "button_style": "primary",
       "icon": "adjust",
       "layout": "IPY_MODEL_b7d12f9104fd4bf1aa3664e3b6637a26",
       "style": "IPY_MODEL_8fc47ef99d4340ddbda93107ffa9c613",
       "tooltip": "Planet imagery"
      }
     },
     "33cc803c88a04b37a94ad473ffd7b1a0": {
      "model_module": "@jupyter-widgets/controls",
      "model_module_version": "2.0.0",
      "model_name": "ToggleButtonStyleModel",
      "state": {
       "description_width": "",
       "font_family": null,
       "font_size": null,
       "font_style": null,
       "font_variant": null,
       "font_weight": null,
       "text_color": null,
       "text_decoration": null
      }
     },
     "35b14c493b1d4f2098fd3b6eed42200e": {
      "model_module": "@jupyter-widgets/base",
      "model_module_version": "2.0.0",
      "model_name": "LayoutModel",
      "state": {
       "height": "28px",
       "width": "72px"
      }
     },
     "3849678a22f24a6e9290fc38a530b6d7": {
      "model_module": "@jupyter-widgets/base",
      "model_module_version": "2.0.0",
      "model_name": "LayoutModel",
      "state": {
       "grid_gap": "1px 1px",
       "grid_template_columns": "32px 32px 32px ",
       "grid_template_rows": "32px 32px 32px 32px 32px 32px ",
       "padding": "5px",
       "width": "109px"
      }
     },
     "3d3afb609201475ab6c44e78e6d31606": {
      "model_module": "@jupyter-widgets/controls",
      "model_module_version": "2.0.0",
      "model_name": "ToggleButtonModel",
      "state": {
       "button_style": "primary",
       "icon": "map",
       "layout": "IPY_MODEL_a9061d3d8a3542ba80031ecd7d20f182",
       "style": "IPY_MODEL_1b300a3d15eb41cbb745192fab96df92",
       "tooltip": "Change basemap"
      }
     },
     "408b0e65ab7146e7b64d2654da70ddbc": {
      "model_module": "jupyter-leaflet",
      "model_module_version": "^0.19",
      "model_name": "LeafletMapModel",
      "state": {
       "_model_module_version": "^0.19",
       "_view_module_version": "^0.19",
       "bottom": 110121,
       "center": [
        27.99803917062052,
        86.93276393640164
       ],
       "controls": [
        "IPY_MODEL_a24cc27410b649e0b26916f959949e58",
        "IPY_MODEL_ee809ce8376546f8b7474ef888d2301b",
        "IPY_MODEL_f4a791a74b574ead9f52139cd44de9a4",
        "IPY_MODEL_cf17ef043f2d47efa23277a209af1a47",
        "IPY_MODEL_c53adfd7f16f46989387ecad97927f05",
        "IPY_MODEL_fc4575e07728498e913f8b5789f3dfe4"
       ],
       "default_style": "IPY_MODEL_a4fc65443cd74a39a60933ff9ca72c9a",
       "dragging_style": "IPY_MODEL_014fc18394f9444db0b9491c1bb291f0",
       "east": 87.7436922811282,
       "fullscreen": false,
       "interpolation": "bilinear",
       "layers": [
        "IPY_MODEL_9b1cb76243bd46f1aac9722f0f29eb20",
        "IPY_MODEL_2e765f74d26c4412acb934104542dbe1"
       ],
       "layout": "IPY_MODEL_d1eed124a4574e9a99dfde6d952e1793",
       "left": 193784.00685928907,
       "max_zoom": 24,
       "modisdate": "2024-07-21",
       "north": 28.36119328651737,
       "options": [
        "bounce_at_zoom_limits",
        "box_zoom",
        "center",
        "close_popup_on_click",
        "double_click_zoom",
        "dragging",
        "fullscreen",
        "inertia",
        "inertia_deceleration",
        "inertia_max_speed",
        "interpolation",
        "keyboard",
        "keyboard_pan_offset",
        "keyboard_zoom_offset",
        "max_zoom",
        "min_zoom",
        "prefer_canvas",
        "scroll_wheel_zoom",
        "tap",
        "tap_tolerance",
        "touch_zoom",
        "world_copy_jump",
        "zoom",
        "zoom_animation_threshold",
        "zoom_delta",
        "zoom_snap"
       ],
       "prefer_canvas": false,
       "right": 194965.00685928907,
       "scroll_wheel_zoom": true,
       "south": 27.633657156647324,
       "style": "IPY_MODEL_a4fc65443cd74a39a60933ff9ca72c9a",
       "top": 109521,
       "west": 86.12183559167508,
       "window_url": "http://localhost:8889/lab/tree/LLM_Find.ipynb",
       "zoom": 10
      }
     },
     "435e85ab0baa466e9d16ba8a487b84e1": {
      "model_module": "@jupyter-widgets/controls",
      "model_module_version": "2.0.0",
      "model_name": "GridBoxModel",
      "state": {
       "children": [
        "IPY_MODEL_3d3afb609201475ab6c44e78e6d31606",
        "IPY_MODEL_26568476aaa44e5fb8519e4dbcd77de3",
        "IPY_MODEL_31bab7dc0aab452b9a50e6bd5f8b7a0e",
        "IPY_MODEL_5df5bb25594f42c18ebfd3142628c15c",
        "IPY_MODEL_fe5e719eb3da4c63bdb2671240d54714",
        "IPY_MODEL_d2831831094b4bc4b4006fafecefb95a",
        "IPY_MODEL_9dcb7f09656f4be49f254cc6cd4f1fba",
        "IPY_MODEL_ad0ad7d9a7294a7abe8385aa30366a78",
        "IPY_MODEL_d3dbe2c627944b5bbcd7d7fa7baa31f4",
        "IPY_MODEL_b436430d6dfe4a74ba32a145acf2cb85",
        "IPY_MODEL_4d1c4c51dcb947b3864391ca5e5a1bda",
        "IPY_MODEL_93468611c8da41f7a17944ba2b231811",
        "IPY_MODEL_c2913e3648434371b7407e5ff63cf3f6",
        "IPY_MODEL_90661269d12e432c9219128421872230",
        "IPY_MODEL_08f077ed587449ce8e7168212373fcfe",
        "IPY_MODEL_92faec99aca3454cb2d51ea71790224d",
        "IPY_MODEL_09e37f27ea3d4f5cbfbbf17eba6231f4",
        "IPY_MODEL_e1ea442b00ee4ec584f9127f71d1d97a"
       ],
       "layout": "IPY_MODEL_3849678a22f24a6e9290fc38a530b6d7"
      }
     },
     "455f656c502e4c798bdd0e18654c7834": {
      "model_module": "@jupyter-widgets/controls",
      "model_module_version": "2.0.0",
      "model_name": "ToggleButtonStyleModel",
      "state": {
       "description_width": "",
       "font_family": null,
       "font_size": null,
       "font_style": null,
       "font_variant": null,
       "font_weight": null,
       "text_color": null,
       "text_decoration": null
      }
     },
     "466478730fc0484ba566ae23a3023d9e": {
      "model_module": "@jupyter-widgets/base",
      "model_module_version": "2.0.0",
      "model_name": "LayoutModel",
      "state": {
       "height": "auto",
       "padding": "0px 0px 0px 4px",
       "width": "auto"
      }
     },
     "4988ed64c71c4dd2832b37163b79dac8": {
      "model_module": "@jupyter-widgets/base",
      "model_module_version": "2.0.0",
      "model_name": "LayoutModel",
      "state": {
       "height": "auto",
       "padding": "0px 0px 0px 4px",
       "width": "auto"
      }
     },
     "4c980f2a1fb542eb9e59449e2c7c3d33": {
      "model_module": "@jupyter-widgets/controls",
      "model_module_version": "2.0.0",
      "model_name": "VBoxModel",
      "state": {
       "_view_count": 1,
       "children": [
        "IPY_MODEL_eb01cb02954249939206fd3d6531ca2a"
       ],
       "layout": "IPY_MODEL_e192e20050b34293a58fde36ba8ebd45"
      }
     },
     "4d1c4c51dcb947b3864391ca5e5a1bda": {
      "model_module": "@jupyter-widgets/controls",
      "model_module_version": "2.0.0",
      "model_name": "ToggleButtonModel",
      "state": {
       "button_style": "primary",
       "icon": "search",
       "layout": "IPY_MODEL_0db03e793376412c9258a17146b0448f",
       "style": "IPY_MODEL_33cc803c88a04b37a94ad473ffd7b1a0",
       "tooltip": "Search XYZ tile services"
      }
     },
     "4faf1e298ae6473ba610b18ca5494834": {
      "model_module": "@jupyter-widgets/base",
      "model_module_version": "2.0.0",
      "model_name": "LayoutModel",
      "state": {
       "height": "auto",
       "padding": "0px 0px 0px 4px",
       "width": "auto"
      }
     },
     "5287b8df4d9b415ca5fdc19494c41029": {
      "model_module": "@jupyter-widgets/base",
      "model_module_version": "2.0.0",
      "model_name": "LayoutModel",
      "state": {
       "height": "auto",
       "padding": "0px 0px 0px 4px",
       "width": "auto"
      }
     },
     "5bfedad1d6b34ba78dc3cdcd833eb7c6": {
      "model_module": "@jupyter-widgets/controls",
      "model_module_version": "2.0.0",
      "model_name": "ToggleButtonModel",
      "state": {
       "icon": "server",
       "layout": "IPY_MODEL_35b14c493b1d4f2098fd3b6eed42200e",
       "style": "IPY_MODEL_0cae6260892c4cfaa1ac43d754dfbf42",
       "tooltip": "Layers"
      }
     },
     "5cb92d3fbe2f461bb8ab5e799b0aaeda": {
      "model_module": "@jupyter-widgets/base",
      "model_module_version": "2.0.0",
      "model_name": "LayoutModel",
      "state": {
       "height": "auto",
       "padding": "0px 0px 0px 4px",
       "width": "auto"
      }
     },
     "5dde503ca3ef48ca8ddcba8e16015725": {
      "model_module": "@jupyter-widgets/controls",
      "model_module_version": "2.0.0",
      "model_name": "ToggleButtonStyleModel",
      "state": {
       "description_width": "",
       "font_family": null,
       "font_size": null,
       "font_style": null,
       "font_variant": null,
       "font_weight": null,
       "text_color": null,
       "text_decoration": null
      }
     },
     "5def01ef20c54670885c5a85ab6f3997": {
      "model_module": "@jupyter-widgets/controls",
      "model_module_version": "2.0.0",
      "model_name": "ToggleButtonStyleModel",
      "state": {
       "description_width": "",
       "font_family": null,
       "font_size": null,
       "font_style": null,
       "font_variant": null,
       "font_weight": null,
       "text_color": null,
       "text_decoration": null
      }
     },
     "5df5bb25594f42c18ebfd3142628c15c": {
      "model_module": "@jupyter-widgets/controls",
      "model_module_version": "2.0.0",
      "model_name": "ToggleButtonModel",
      "state": {
       "button_style": "primary",
       "icon": "folder-open",
       "layout": "IPY_MODEL_6d9b9e7b0aaa40078d867efcc9982ff7",
       "style": "IPY_MODEL_1ea1b335d3fd479fb0060609205579b0",
       "tooltip": "Open local vector/raster data"
      }
     },
     "6d9b9e7b0aaa40078d867efcc9982ff7": {
      "model_module": "@jupyter-widgets/base",
      "model_module_version": "2.0.0",
      "model_name": "LayoutModel",
      "state": {
       "height": "auto",
       "padding": "0px 0px 0px 4px",
       "width": "auto"
      }
     },
     "703de7708d144f3eb1bcb0896adb68e3": {
      "model_module": "@jupyter-widgets/controls",
      "model_module_version": "2.0.0",
      "model_name": "ToggleButtonStyleModel",
      "state": {
       "description_width": "",
       "font_family": null,
       "font_size": null,
       "font_style": null,
       "font_variant": null,
       "font_weight": null,
       "text_color": null,
       "text_decoration": null
      }
     },
     "7417128f52e84412987894b21eeee55b": {
      "model_module": "@jupyter-widgets/controls",
      "model_module_version": "2.0.0",
      "model_name": "ToggleButtonStyleModel",
      "state": {
       "description_width": "",
       "font_family": null,
       "font_size": null,
       "font_style": null,
       "font_variant": null,
       "font_weight": null,
       "text_color": null,
       "text_decoration": null
      }
     },
     "742ab3d8f1ad4f67b3ce60b13e787e7c": {
      "model_module": "@jupyter-widgets/base",
      "model_module_version": "2.0.0",
      "model_name": "LayoutModel",
      "state": {
       "height": "auto",
       "padding": "0px 0px 0px 4px",
       "width": "auto"
      }
     },
     "862d939bdf20426ab383bd75a3a9d948": {
      "model_module": "@jupyter-widgets/controls",
      "model_module_version": "2.0.0",
      "model_name": "HBoxModel",
      "state": {
       "children": [
        "IPY_MODEL_5bfedad1d6b34ba78dc3cdcd833eb7c6",
        "IPY_MODEL_eb01cb02954249939206fd3d6531ca2a"
       ],
       "layout": "IPY_MODEL_9c1f9626338141a2b4d54cebd15830e6"
      }
     },
     "8fc47ef99d4340ddbda93107ffa9c613": {
      "model_module": "@jupyter-widgets/controls",
      "model_module_version": "2.0.0",
      "model_name": "ToggleButtonStyleModel",
      "state": {
       "description_width": "",
       "font_family": null,
       "font_size": null,
       "font_style": null,
       "font_variant": null,
       "font_weight": null,
       "text_color": null,
       "text_decoration": null
      }
     },
     "90661269d12e432c9219128421872230": {
      "model_module": "@jupyter-widgets/controls",
      "model_module_version": "2.0.0",
      "model_name": "ToggleButtonModel",
      "state": {
       "button_style": "primary",
       "icon": "search-plus",
       "layout": "IPY_MODEL_2efdd3a958e845d786d4ba6e2cc9cc42",
       "style": "IPY_MODEL_00df77f664e84f77957184b4360d0c32",
       "tooltip": "Search features in GeoJSON layer"
      }
     },
     "92c11c5504f747459fd587f5b864a59b": {
      "model_module": "@jupyter-widgets/controls",
      "model_module_version": "2.0.0",
      "model_name": "ToggleButtonStyleModel",
      "state": {
       "description_width": "",
       "font_family": null,
       "font_size": null,
       "font_style": null,
       "font_variant": null,
       "font_weight": null,
       "text_color": null,
       "text_decoration": null
      }
     },
     "92faec99aca3454cb2d51ea71790224d": {
      "model_module": "@jupyter-widgets/controls",
      "model_module_version": "2.0.0",
      "model_name": "ToggleButtonModel",
      "state": {
       "button_style": "primary",
       "icon": "pencil-square-o",
       "layout": "IPY_MODEL_2e8b996404614c15989177b89983f2f8",
       "style": "IPY_MODEL_b4fb47c349aa4bea8e6253a39beeff4c",
       "tooltip": "Create vector data"
      }
     },
     "93468611c8da41f7a17944ba2b231811": {
      "model_module": "@jupyter-widgets/controls",
      "model_module_version": "2.0.0",
      "model_name": "ToggleButtonModel",
      "state": {
       "button_style": "primary",
       "icon": "download",
       "layout": "IPY_MODEL_f8fc8d49414341efbda25817a0e825b0",
       "style": "IPY_MODEL_046e9498bb1b4b588a1a514346dd6afc",
       "tooltip": "Download OSM data"
      }
     },
     "9716ed4aaeab449a85bb611bb513b504": {
      "model_module": "@jupyter-widgets/controls",
      "model_module_version": "2.0.0",
      "model_name": "ToggleButtonStyleModel",
      "state": {
       "description_width": "",
       "font_family": null,
       "font_size": null,
       "font_style": null,
       "font_variant": null,
       "font_weight": null,
       "text_color": null,
       "text_decoration": null
      }
     },
     "9b1cb76243bd46f1aac9722f0f29eb20": {
      "model_module": "jupyter-leaflet",
      "model_module_version": "^0.19",
      "model_name": "LeafletTileLayerModel",
      "state": {
       "_model_module_version": "^0.19",
       "_view_module_version": "^0.19",
       "attribution": "&copy; <a href=\"https://www.openstreetmap.org/copyright\">OpenStreetMap</a> contributors",
       "base": true,
       "max_zoom": 19,
       "min_zoom": 1,
       "name": "OpenStreetMap",
       "options": [
        "attribution",
        "bounds",
        "detect_retina",
        "max_native_zoom",
        "max_zoom",
        "min_native_zoom",
        "min_zoom",
        "no_wrap",
        "tile_size",
        "tms",
        "zoom_offset"
       ],
       "url": "https://tile.openstreetmap.org/{z}/{x}/{y}.png"
      }
     },
     "9c1f9626338141a2b4d54cebd15830e6": {
      "model_module": "@jupyter-widgets/base",
      "model_module_version": "2.0.0",
      "model_name": "LayoutModel",
      "state": {}
     },
     "9dcb7f09656f4be49f254cc6cd4f1fba": {
      "model_module": "@jupyter-widgets/controls",
      "model_module_version": "2.0.0",
      "model_name": "ToggleButtonModel",
      "state": {
       "button_style": "primary",
       "icon": "eraser",
       "layout": "IPY_MODEL_742ab3d8f1ad4f67b3ce60b13e787e7c",
       "style": "IPY_MODEL_92c11c5504f747459fd587f5b864a59b",
       "tooltip": "Remove all drawn features"
      }
     },
     "a0002eb35a8f4262ab8e62a4d8cf9a46": {
      "model_module": "@jupyter-widgets/base",
      "model_module_version": "2.0.0",
      "model_name": "LayoutModel",
      "state": {}
     },
     "a24cc27410b649e0b26916f959949e58": {
      "model_module": "jupyter-leaflet",
      "model_module_version": "^0.19",
      "model_name": "LeafletZoomControlModel",
      "state": {
       "_model_module_version": "^0.19",
       "_view_module_version": "^0.19",
       "options": [
        "position",
        "zoom_in_text",
        "zoom_in_title",
        "zoom_out_text",
        "zoom_out_title"
       ]
      }
     },
     "a37692fb1b094a23a10d37528c202b78": {
      "model_module": "@jupyter-widgets/base",
      "model_module_version": "2.0.0",
      "model_name": "LayoutModel",
      "state": {
       "height": "auto",
       "padding": "0px 0px 0px 4px",
       "width": "auto"
      }
     },
     "a489c3b7df8a4fb1a99c77b1b857a225": {
      "model_module": "@jupyter-widgets/controls",
      "model_module_version": "2.0.0",
      "model_name": "VBoxModel",
      "state": {
       "children": [
        "IPY_MODEL_435e85ab0baa466e9d16ba8a487b84e1"
       ],
       "layout": "IPY_MODEL_a0002eb35a8f4262ab8e62a4d8cf9a46"
      }
     },
     "a4fc65443cd74a39a60933ff9ca72c9a": {
      "model_module": "jupyter-leaflet",
      "model_module_version": "^0.19",
      "model_name": "LeafletMapStyleModel",
      "state": {
       "_model_module_version": "^0.19"
      }
     },
     "a8368e1c3d714cd09aa6b15bbd1518c0": {
      "model_module": "@jupyter-widgets/base",
      "model_module_version": "2.0.0",
      "model_name": "LayoutModel",
      "state": {
       "height": "auto",
       "padding": "0px 0px 0px 4px",
       "width": "auto"
      }
     },
     "a9061d3d8a3542ba80031ecd7d20f182": {
      "model_module": "@jupyter-widgets/base",
      "model_module_version": "2.0.0",
      "model_name": "LayoutModel",
      "state": {
       "height": "auto",
       "padding": "0px 0px 0px 4px",
       "width": "auto"
      }
     },
     "ad0ad7d9a7294a7abe8385aa30366a78": {
      "model_module": "@jupyter-widgets/controls",
      "model_module_version": "2.0.0",
      "model_name": "ToggleButtonModel",
      "state": {
       "button_style": "primary",
       "icon": "camera",
       "layout": "IPY_MODEL_5287b8df4d9b415ca5fdc19494c41029",
       "style": "IPY_MODEL_fee4faca9a914e7aa882dc47d0a159bb",
       "tooltip": "Save map as HTML or image"
      }
     },
     "af997bf9888e4ea8bb916e37e44d06c6": {
      "model_module": "@jupyter-widgets/base",
      "model_module_version": "2.0.0",
      "model_name": "LayoutModel",
      "state": {
       "height": "auto",
       "padding": "0px 0px 0px 4px",
       "width": "auto"
      }
     },
     "b050043503a54f06971093c0bbfc00ee": {
      "model_module": "@jupyter-widgets/base",
      "model_module_version": "2.0.0",
      "model_name": "LayoutModel",
      "state": {
       "width": "500px"
      }
     },
     "b436430d6dfe4a74ba32a145acf2cb85": {
      "model_module": "@jupyter-widgets/controls",
      "model_module_version": "2.0.0",
      "model_name": "ToggleButtonModel",
      "state": {
       "button_style": "primary",
       "icon": "info",
       "layout": "IPY_MODEL_f52318b2773f4b019441b178ed1b0fb2",
       "style": "IPY_MODEL_046747aa79834a9fa706813542432677",
       "tooltip": "Get COG/STAC pixel value"
      }
     },
     "b4fb47c349aa4bea8e6253a39beeff4c": {
      "model_module": "@jupyter-widgets/controls",
      "model_module_version": "2.0.0",
      "model_name": "ToggleButtonStyleModel",
      "state": {
       "description_width": "",
       "font_family": null,
       "font_size": null,
       "font_style": null,
       "font_variant": null,
       "font_weight": null,
       "text_color": null,
       "text_decoration": null
      }
     },
     "b7d12f9104fd4bf1aa3664e3b6637a26": {
      "model_module": "@jupyter-widgets/base",
      "model_module_version": "2.0.0",
      "model_name": "LayoutModel",
      "state": {
       "height": "auto",
       "padding": "0px 0px 0px 4px",
       "width": "auto"
      }
     },
     "c2913e3648434371b7407e5ff63cf3f6": {
      "model_module": "@jupyter-widgets/controls",
      "model_module_version": "2.0.0",
      "model_name": "ToggleButtonModel",
      "state": {
       "button_style": "primary",
       "icon": "picture-o",
       "layout": "IPY_MODEL_5cb92d3fbe2f461bb8ab5e799b0aaeda",
       "style": "IPY_MODEL_703de7708d144f3eb1bcb0896adb68e3",
       "tooltip": "Open COG/STAC dataset"
      }
     },
     "c53adfd7f16f46989387ecad97927f05": {
      "model_module": "jupyter-leaflet",
      "model_module_version": "^0.19",
      "model_name": "LeafletScaleControlModel",
      "state": {
       "_model_module_version": "^0.19",
       "_view_module_version": "^0.19",
       "imperial": true,
       "max_width": 100,
       "metric": true,
       "options": [
        "imperial",
        "max_width",
        "metric",
        "position",
        "update_when_idle"
       ],
       "position": "bottomleft",
       "update_when_idle": false
      }
     },
     "cbdd1aa498634f00b400791d1e70c13d": {
      "model_module": "@jupyter-widgets/controls",
      "model_module_version": "2.0.0",
      "model_name": "ToggleButtonStyleModel",
      "state": {
       "description_width": "",
       "font_family": null,
       "font_size": null,
       "font_style": null,
       "font_variant": null,
       "font_weight": null,
       "text_color": null,
       "text_decoration": null
      }
     },
     "cc4d227c31004942a515de87a58e7ff4": {
      "model_module": "@jupyter-widgets/base",
      "model_module_version": "2.0.0",
      "model_name": "LayoutModel",
      "state": {
       "height": "auto",
       "padding": "0px 0px 0px 4px",
       "width": "auto"
      }
     },
     "cf17ef043f2d47efa23277a209af1a47": {
      "model_module": "jupyter-leaflet",
      "model_module_version": "^0.19",
      "model_name": "LeafletDrawControlModel",
      "state": {
       "_model_module_version": "^0.19",
       "_view_module_version": "^0.19",
       "circle": {
        "repeatMode": false,
        "shapeOptions": {
         "clickable": true,
         "color": "#3388ff",
         "fill": true,
         "fillColor": null,
         "fillOpacity": 0.2,
         "opacity": 0.5,
         "stroke": true,
         "weight": 4
        }
       },
       "marker": {
        "repeatMode": false,
        "shapeOptions": {
         "color": "#3388ff"
        }
       },
       "options": [
        "position"
       ],
       "polygon": {
        "repeatMode": false
       },
       "polyline": {
        "repeatMode": false
       },
       "rectangle": {
        "repeatMode": false,
        "shapeOptions": {
         "clickable": true,
         "color": "#3388ff",
         "fill": true,
         "fillColor": null,
         "fillOpacity": 0.2,
         "opacity": 0.5,
         "stroke": true,
         "weight": 4
        }
       }
      }
     },
     "d1eed124a4574e9a99dfde6d952e1793": {
      "model_module": "@jupyter-widgets/base",
      "model_module_version": "2.0.0",
      "model_name": "LayoutModel",
      "state": {
       "height": "600px"
      }
     },
     "d2831831094b4bc4b4006fafecefb95a": {
      "model_module": "@jupyter-widgets/controls",
      "model_module_version": "2.0.0",
      "model_name": "ToggleButtonModel",
      "state": {
       "button_style": "primary",
       "icon": "fast-forward",
       "layout": "IPY_MODEL_af997bf9888e4ea8bb916e37e44d06c6",
       "style": "IPY_MODEL_1645cfccdc334eb6aef3fa54f206d439",
       "tooltip": "Activate the time slider"
      }
     },
     "d3dbe2c627944b5bbcd7d7fa7baa31f4": {
      "model_module": "@jupyter-widgets/controls",
      "model_module_version": "2.0.0",
      "model_name": "ToggleButtonModel",
      "state": {
       "button_style": "primary",
       "icon": "filter",
       "layout": "IPY_MODEL_4faf1e298ae6473ba610b18ca5494834",
       "style": "IPY_MODEL_5dde503ca3ef48ca8ddcba8e16015725",
       "tooltip": "Get US Census data"
      }
     },
     "e192e20050b34293a58fde36ba8ebd45": {
      "model_module": "@jupyter-widgets/base",
      "model_module_version": "2.0.0",
      "model_name": "LayoutModel",
      "state": {}
     },
     "e1ea442b00ee4ec584f9127f71d1d97a": {
      "model_module": "@jupyter-widgets/controls",
      "model_module_version": "2.0.0",
      "model_name": "ToggleButtonModel",
      "state": {
       "button_style": "primary",
       "icon": "plane",
       "layout": "IPY_MODEL_a8368e1c3d714cd09aa6b15bbd1518c0",
       "style": "IPY_MODEL_7417128f52e84412987894b21eeee55b",
       "tooltip": "Search OpenAerialMap"
      }
     },
     "eb01cb02954249939206fd3d6531ca2a": {
      "model_module": "@jupyter-widgets/controls",
      "model_module_version": "2.0.0",
      "model_name": "ToggleButtonModel",
      "state": {
       "icon": "wrench",
       "layout": "IPY_MODEL_ed343bdd78404ae68f92107282874c37",
       "style": "IPY_MODEL_1aa655df581c49399c69dcb167f4730d",
       "tooltip": "Toolbar"
      }
     },
     "ed343bdd78404ae68f92107282874c37": {
      "model_module": "@jupyter-widgets/base",
      "model_module_version": "2.0.0",
      "model_name": "LayoutModel",
      "state": {
       "height": "28px",
       "padding": "0px 0px 0px 4px",
       "width": "28px"
      }
     },
     "ee809ce8376546f8b7474ef888d2301b": {
      "model_module": "jupyter-leaflet",
      "model_module_version": "^0.19",
      "model_name": "LeafletAttributionControlModel",
      "state": {
       "_model_module_version": "^0.19",
       "_view_module_version": "^0.19",
       "options": [
        "position",
        "prefix"
       ],
       "position": "bottomright",
       "prefix": "ipyleaflet"
      }
     },
     "f4a791a74b574ead9f52139cd44de9a4": {
      "model_module": "jupyter-leaflet",
      "model_module_version": "^0.19",
      "model_name": "LeafletFullScreenControlModel",
      "state": {
       "_model_module_version": "^0.19",
       "_view_module_version": "^0.19",
       "options": [
        "position"
       ]
      }
     },
     "f52318b2773f4b019441b178ed1b0fb2": {
      "model_module": "@jupyter-widgets/base",
      "model_module_version": "2.0.0",
      "model_name": "LayoutModel",
      "state": {
       "height": "auto",
       "padding": "0px 0px 0px 4px",
       "width": "auto"
      }
     },
     "f8fc8d49414341efbda25817a0e825b0": {
      "model_module": "@jupyter-widgets/base",
      "model_module_version": "2.0.0",
      "model_name": "LayoutModel",
      "state": {
       "height": "auto",
       "padding": "0px 0px 0px 4px",
       "width": "auto"
      }
     },
     "fc4575e07728498e913f8b5789f3dfe4": {
      "model_module": "jupyter-leaflet",
      "model_module_version": "^0.19",
      "model_name": "LeafletWidgetControlModel",
      "state": {
       "_model_module_version": "^0.19",
       "_view_module_version": "^0.19",
       "options": [
        "position",
        "transparent_bg"
       ],
       "position": "topright",
       "widget": "IPY_MODEL_4c980f2a1fb542eb9e59449e2c7c3d33"
      }
     },
     "fe5e719eb3da4c63bdb2671240d54714": {
      "model_module": "@jupyter-widgets/controls",
      "model_module_version": "2.0.0",
      "model_name": "ToggleButtonModel",
      "state": {
       "button_style": "primary",
       "icon": "gears",
       "layout": "IPY_MODEL_466478730fc0484ba566ae23a3023d9e",
       "style": "IPY_MODEL_5def01ef20c54670885c5a85ab6f3997",
       "tooltip": "WhiteboxTools for local geoprocessing"
      }
     },
     "fee4faca9a914e7aa882dc47d0a159bb": {
      "model_module": "@jupyter-widgets/controls",
      "model_module_version": "2.0.0",
      "model_name": "ToggleButtonStyleModel",
      "state": {
       "description_width": "",
       "font_family": null,
       "font_size": null,
       "font_style": null,
       "font_variant": null,
       "font_weight": null,
       "text_color": null,
       "text_decoration": null
      }
     }
    },
    "version_major": 2,
    "version_minor": 0
   }
  }
 },
 "nbformat": 4,
 "nbformat_minor": 5
}
