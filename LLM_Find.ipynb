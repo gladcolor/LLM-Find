{
 "cells": [
  {
   "cell_type": "markdown",
   "id": "77738df5-e62c-4bf9-ba20-baffea46e951",
   "metadata": {},
   "source": [
    "\n"
   ]
  },
  {
   "cell_type": "markdown",
   "id": "bf676855-2221-47c7-8dff-b185e03c3953",
   "metadata": {
    "tags": []
   },
   "source": [
    "#  Install package"
   ]
  },
  {
   "cell_type": "code",
   "execution_count": 1,
   "id": "05156c09-3ec8-47d7-a629-f9374440658a",
   "metadata": {
    "execution": {
     "iopub.execute_input": "2024-07-17T16:44:47.222534Z",
     "iopub.status.busy": "2024-07-17T16:44:47.221535Z",
     "iopub.status.idle": "2024-07-17T16:44:47.228318Z",
     "shell.execute_reply": "2024-07-17T16:44:47.227308Z",
     "shell.execute_reply.started": "2024-07-17T16:44:47.222534Z"
    },
    "tags": []
   },
   "outputs": [],
   "source": [
    "# # You may need these\n",
    "# ! pip install openai\n",
    "# ! pip install langchain\n",
    "# ! pip install langchain-openai\n",
    "# ! pip install langchain-core\n",
    "# ! pip install osmnx\n",
    "# ! pip install langchain openai --upgrade\n",
    "# ! pip install itables\n",
    "# ! pip install leafmap\n",
    "# ! jupyter labextension install @jupyter-widgets/jupyterlab-manager jupyter-leaflet\n",
    "# ! pip install localtileserver \n",
    "\n",
    "## May not need these\n",
    "## ! pip install pyvis\n",
    "## ! pip install networkx\n",
    "## ! pip install OSMPythonTools\n",
    "## ! pip install contextily\n",
    "## ! pip install matplotlib_scalebar\n",
    "## ! pip install geojson\n"
   ]
  },
  {
   "cell_type": "markdown",
   "id": "b254e9bd-675a-4644-abfd-d642183da809",
   "metadata": {
    "tags": []
   },
   "source": [
    "# Import package"
   ]
  },
  {
   "cell_type": "code",
   "execution_count": 2,
   "id": "392efdfe-e33d-43fb-b8ea-6b6fb444ad9d",
   "metadata": {
    "execution": {
     "iopub.execute_input": "2024-07-17T16:44:47.231316Z",
     "iopub.status.busy": "2024-07-17T16:44:47.229317Z",
     "iopub.status.idle": "2024-07-17T16:44:51.409240Z",
     "shell.execute_reply": "2024-07-17T16:44:51.409240Z",
     "shell.execute_reply.started": "2024-07-17T16:44:47.231316Z"
    },
    "tags": []
   },
   "outputs": [],
   "source": [
    "%load_ext autoreload\n",
    "%autoreload 2\n",
    "    \n",
    "import os\n",
    "import rasterio\n",
    "from PIL import Image\n",
    "\n",
    "import requests\n",
    "import networkx as nx\n",
    "import pandas as pd\n",
    "import geopandas as gpd\n",
    "# from pyvis.network import Network\n",
    "from openai import OpenAI\n",
    "from IPython.display import display, HTML, Code\n",
    "from IPython.display import clear_output\n",
    "import matplotlib.pyplot as plt\n",
    "\n",
    "import base64\n",
    "\n",
    "import pickle\n",
    "import sys\n",
    "import osmnx as ox\n",
    "\n",
    "import LLM_Find_Constants as constants\n",
    "import helper\n",
    "\n",
    "import numpy as np\n",
    "# from LLM_Find_kernel import Solution\n",
    "\n",
    "from langchain_openai import ChatOpenAI\n",
    "\n",
    "# from langchain_core.prompts import ChatPromptTemplate\n",
    "from time import sleep\n",
    "\n",
    "OpenAI_key = helper.load_OpenAI_key()"
   ]
  },
  {
   "cell_type": "code",
   "execution_count": 3,
   "id": "6f7c7853-e8d3-4984-ac53-3b60917a876d",
   "metadata": {
    "execution": {
     "iopub.execute_input": "2024-07-17T16:44:51.410244Z",
     "iopub.status.busy": "2024-07-17T16:44:51.410244Z",
     "iopub.status.idle": "2024-07-17T16:44:51.644566Z",
     "shell.execute_reply": "2024-07-17T16:44:51.644566Z",
     "shell.execute_reply.started": "2024-07-17T16:44:51.410244Z"
    }
   },
   "outputs": [
    {
     "data": {
      "text/html": [
       "\n",
       "<script src=\"https://cdnjs.cloudflare.com/ajax/libs/require.js/2.1.10/require.min.js\"></script>\n"
      ],
      "text/plain": [
       "<IPython.core.display.HTML object>"
      ]
     },
     "metadata": {},
     "output_type": "display_data"
    }
   ],
   "source": [
    "display(HTML(\"\"\"\n",
    "<script src=\"https://cdnjs.cloudflare.com/ajax/libs/require.js/2.1.10/require.min.js\"></script>\n",
    "\"\"\"))\n",
    "\n",
    "sleep(0.1)\n",
    "\n",
    "from itables import init_notebook_mode\n",
    "from itables import show\n",
    "# init_notebook_mode(all_interactive=True)"
   ]
  },
  {
   "cell_type": "code",
   "execution_count": null,
   "id": "f3bdc053-eaa3-4510-9013-98b29f691d5c",
   "metadata": {},
   "outputs": [],
   "source": []
  },
  {
   "cell_type": "markdown",
   "id": "9a545a6b-1456-40b8-a913-b4dfd305c071",
   "metadata": {
    "tags": []
   },
   "source": [
    "# Input task and data desciption"
   ]
  },
  {
   "cell_type": "markdown",
   "id": "80059925-da23-486a-8111-d3b661811b0b",
   "metadata": {},
   "source": [
    "## Data source 1: OpenStreetMap"
   ]
  },
  {
   "cell_type": "code",
   "execution_count": 4,
   "id": "481b7c40-738c-43bb-a06c-ae6e9daa0776",
   "metadata": {
    "execution": {
     "iopub.execute_input": "2024-07-17T16:44:51.645576Z",
     "iopub.status.busy": "2024-07-17T16:44:51.645576Z",
     "iopub.status.idle": "2024-07-17T16:44:51.764472Z",
     "shell.execute_reply": "2024-07-17T16:44:51.764472Z",
     "shell.execute_reply.started": "2024-07-17T16:44:51.645576Z"
    }
   },
   "outputs": [],
   "source": [
    "## task_name ='Nigeria_cities'\n",
    "# downloaded_file_name = r'Nigeria_cities.gpkg'\n",
    "# saved_fname = os.path.join(os.getcwd(), \"Downloaded_Data\", downloaded_file_name)\n",
    "# task = rf'''1. Download the city locations of Nigeria; do not download towns.   \n",
    "# 2. Save the downloaded data as points, save it at: {saved_fname} \n",
    "# '''\n",
    "\n",
    "# task_name ='Nigeria_rivers'\n",
    "# downloaded_file_name = r'Nigeria_rivers.gpkg'\n",
    "# saved_fname = os.path.join(os.getcwd(), \"Downloaded_Data\", downloaded_file_name)\n",
    "# task = rf'''1. Download the rivers of Nigeria.   \n",
    "# 2. Save the downloaded data as polylines, save it at: {saved_fname} \n",
    "# '''\n",
    "\n",
    "# task_name ='Nigeria_state_boundary'  # most test failed!!!!! Soloved.\n",
    "# downloaded_file_name = r'Nigeria_states_boundary.gpkg'\n",
    "# saved_fname = os.path.join(os.getcwd(), \"Downloaded_Data\", downloaded_file_name)\n",
    "# task = rf'''1. Download all state boundaries of Nigeria.   \n",
    "# # 2. Save the downloaded data as polygons, save it at: {saved_fname} \n",
    "# # '''\n",
    "\n",
    "# task_name ='World_country_boundary'  # most test failed!!!!! Soloved.\n",
    "# downloaded_file_name = r'World_country_boundary.gpkg'\n",
    "# saved_fname = os.path.join(os.getcwd(), \"Downloaded_Data\", downloaded_file_name)\n",
    "# task = rf'''1. Download all country boundaries of the world.   \n",
    "# # 2. Save the downloaded data as polygons, save it at: {saved_fname} \n",
    "# # '''\n",
    "\n",
    "\n",
    "## task_name ='China_mainland_province_boundary'  # most test failed! solved.\n",
    "# downloaded_file_name = r'China_mainland_Province_boundary.gpkg'\n",
    "# saved_fname = os.path.join(os.getcwd(), \"Downloaded_Data\", downloaded_file_name)\n",
    "# task = rf'''1. Download all province boundaries of China mainland.   \n",
    "# 2. Save the downloaded data as polygons in GeoPackage format at: {saved_fname} \n",
    "# '''\n",
    "\n",
    "## task_name ='OSM_PA_boundary'\n",
    "# downloaded_file_name = r'PA_boundary.gpkg'\n",
    "# saved_fname = os.path.join(os.getcwd(), \"Downloaded_Data\", downloaded_file_name)\n",
    "# task = rf'''1. Download the administrative boundary of Pennsylvania State, USA.\n",
    "# 2. Save the downloaded data in GeoPackage format, save it at: {saved_fname} \n",
    "# '''\n",
    "\n",
    "## task_name ='OSM_SC_boundary'\n",
    "# downloaded_file_name = r'SC_boundary.gpkg'\n",
    "# saved_fname = os.path.join(os.getcwd(), \"Downloaded_Data\", downloaded_file_name)\n",
    "# task = rf'''1. Download the administrative boundary of South Carolina State, USA.\n",
    "# 2. Save the downloaded data in GeoPackage format at: {saved_fname} \n",
    "# '''\n",
    "\n",
    "# task_name ='OSM_PA_hospital'\n",
    "# downloaded_file_name = r'PA_hospital.gpkg'\n",
    "# saved_fname = os.path.join(os.getcwd(), \"Downloaded_Data\", downloaded_file_name)\n",
    "# task = rf'''1. Download all hospitals in Pennsylvania, USA.\n",
    "# 2. Save the downloaded data as points in GeoPackage format at: {saved_fname} \n",
    "# '''\n",
    "\n",
    "## task_name ='SC_hospital'\n",
    "# downloaded_file_name = r'SC_hospital.gpkg'\n",
    "# saved_fname = os.path.join(os.getcwd(), \"Downloaded_Data\", downloaded_file_name)\n",
    "# task = rf'''1. Download all hospitals in South Carolina, USA.\n",
    "# 2. Save the downloaded data as points in GeoPackage at: {saved_fname} \n",
    "# '''\n",
    "\n",
    "## task_name ='OSM_SC_school'\n",
    "# downloaded_file_name = r'SC_school.gpkg'\n",
    "# saved_fname = os.path.join(os.getcwd(), \"Downloaded_Data\", downloaded_file_name)\n",
    "# task = rf'''1. Download all schools in South Carolina State, USA.\n",
    "# 2. Save the downloaded data as points in GeoPackage format at: {saved_fname} \n",
    "# '''\n",
    "\n",
    "# task_name ='OSM_Yulin_River'\n",
    "# downloaded_file_name = r'Yulin_river.gpkg'\n",
    "# saved_fname = os.path.join(os.getcwd(), \"Downloaded_Data\", downloaded_file_name)\n",
    "# task = rf'''1. Download all rivers in Yulin, Guangxi, China.\n",
    "# 2. Save the downloaded data as polylines in GeoPackage format at: {saved_fname} \n",
    "# '''\n",
    "\n",
    "## task_name ='OSM_CA_park'\n",
    "# downloaded_file_name = r'CA_parks.gpkg'\n",
    "# saved_fname = os.path.join(os.getcwd(), \"Downloaded_Data\", downloaded_file_name)\n",
    "# task = rf'''1. Download all parks in California, USA, including urban public, recreation, state, and national parks.\n",
    "# 2. Save the downloaded data as points in GeoPackage format at: {saved_fname} \n",
    "# # '''\n",
    "\n",
    "## task_name ='OSM_USA_university'\n",
    "# downloaded_file_name = r'USA_universities.gpkg'\n",
    "# saved_fname = os.path.join(os.getcwd(), \"Downloaded_Data\", downloaded_file_name)\n",
    "# task = rf'''1. Download the POIs of all universities, colleges, and other higher education institutions in the USA.\n",
    "# 2. Save the downloaded data as points in GeoPackage format at: {saved_fname} \n",
    "# '''\n",
    "\n",
    "## task_name ='OSM_State_College_street'\n",
    "# downloaded_file_name = r'State_College_street.gpkg'\n",
    "# saved_fname = os.path.join(os.getcwd(), \"Downloaded_Data\", downloaded_file_name)\n",
    "# task = rf'''1. Download all streets of State College, Pennsylvania, USA.\n",
    "# 2. Save the downloaded data as polylines in GeoPackage format at: {saved_fname} \n",
    "# '''\n",
    "\n",
    "# ## task_name ='OSM_Nigeria_boundary'\n",
    "# downloaded_file_name = r'Nigeria_boundary.gpkg'\n",
    "# saved_fname = os.path.join(os.getcwd(), \"Downloaded_Data\", downloaded_file_name)\n",
    "# task = rf'''1. Download the administrative boundary of Nigeria.\n",
    "# 2. Save the downloaded data in GeoPackage format at: {saved_fname} \n",
    "# '''\n",
    "\n",
    "# ## task_name ='OSM_Afghanistan_boundary'\n",
    "# downloaded_file_name = r'Afghanistan_boundary.gpkg'\n",
    "# saved_fname = os.path.join(os.getcwd(), \"Downloaded_Data\", downloaded_file_name)\n",
    "# task = rf'''1. Download the administrative boundary of Afghanistan.\n",
    "# 2. Save the downloaded data in GeoPackage format at: {saved_fname} \n",
    "# '''\n",
    "\n",
    "\n",
    "# task_name ='OSM_Nigeria_railway'\n",
    "# downloaded_file_name = r'Nigeria_railway.gpkg'\n",
    "# saved_fname = os.path.join(os.getcwd(), \"Downloaded_Data\", downloaded_file_name)\n",
    "# task = rf'''1. Download the railway network of Nigeria.\n",
    "# 2. Save the downloaded data in GeoPackage format, save it at: {saved_fname} \n",
    "# '''\n",
    "\n",
    "## task_name ='Wuhan_railway_network'\n",
    "# downloaded_file_name = r'Wuhan_Railway_network.gpkg'\n",
    "# saved_fname = os.path.join(os.getcwd(), \"Downloaded_Data\", downloaded_file_name)\n",
    "# task = rf'''1. Download the railway network in Wuhan, Hubei, China.\n",
    "# 2. Save the downloaded data as polylines in GeoPackage format at: {saved_fname} \n",
    "# '''\n",
    "# # Wuhan_railway_network is a difficult case! It succeeded at the beginning, but failed all the time later.\n",
    "# # The query: area[\"name\"=\"Wuhan\"][\"boundary\"=\"administrative\"]->.searchArea; is not correct. Need to use \"name:en\". \n",
    "# # Using \"Hubei Province\" may not return polygons\n",
    "\n",
    "## task_name ='Qingdao_boundary'\n",
    "# downloaded_file_name = r'Qingdao_boundary.gpkg'\n",
    "# saved_fname = os.path.join(os.getcwd(), \"Downloaded_Data\", downloaded_file_name)\n",
    "# task = rf'''1. Download the administrative of Qingdao, Shandong, China.\n",
    "# 2. Save the downloaded data as polygons, save it at: {saved_fname} \n",
    "# '''\n",
    "\n",
    "# task_name ='China_Guangdong_province_boundary'   \n",
    "# downloaded_file_name = r'China_Guangdong_province_boundary.gpkg'\n",
    "# saved_fname = os.path.join(os.getcwd(), \"Downloaded_Data\", downloaded_file_name)\n",
    "# task = rf'''1. Download the Guangdong province boundaries of China.   \n",
    "# 2. Save the downloaded data as polygons, save it at: {saved_fname} \n",
    "# '''\n",
    "\n",
    "## task_name ='OSM_coffee_shop_Vietnam'\n",
    "# downloaded_file_name = r'coffee_shop_Vietnam.gpkg'\n",
    "# saved_fname = os.path.join(os.getcwd(), \"Downloaded_Data\", downloaded_file_name)\n",
    "# task = rf'''1. Download all the coffee shops in Vietnam.\n",
    "# 2. Save the downloaded data in GeoPackage format, save it at: {saved_fname} \n",
    "# '''"
   ]
  },
  {
   "cell_type": "markdown",
   "id": "771c84ba-9962-4074-9f32-c355d01d5511",
   "metadata": {
    "execution": {
     "iopub.execute_input": "2024-07-01T23:32:40.650197Z",
     "iopub.status.busy": "2024-07-01T23:32:40.650197Z",
     "iopub.status.idle": "2024-07-01T23:32:40.738168Z",
     "shell.execute_reply": "2024-07-01T23:32:40.738168Z",
     "shell.execute_reply.started": "2024-07-01T23:32:40.650197Z"
    },
    "jp-MarkdownHeadingCollapsed": true
   },
   "source": [
    "## Data source 2:  US Census Bureau administrative boundary"
   ]
  },
  {
   "cell_type": "code",
   "execution_count": 5,
   "id": "6df26e3f-82da-4abe-ac6d-3fa7d26d0c47",
   "metadata": {
    "execution": {
     "iopub.execute_input": "2024-07-17T16:44:51.765477Z",
     "iopub.status.busy": "2024-07-17T16:44:51.765477Z",
     "iopub.status.idle": "2024-07-17T16:44:51.867232Z",
     "shell.execute_reply": "2024-07-17T16:44:51.867232Z",
     "shell.execute_reply.started": "2024-07-17T16:44:51.765477Z"
    }
   },
   "outputs": [],
   "source": [
    "## task_name ='Census_SC_tract'\n",
    "# downloaded_file_name = r'Census_SC_tract.gpkg'\n",
    "# saved_fname = os.path.join(os.getcwd(), \"Downloaded_Data\", downloaded_file_name)\n",
    "# task = rf'''1. Download all census tract boundaries in South Carolina, USA.\n",
    "# 2. Save the downloaded data as polygons in GeoPackage format, save it at: {saved_fname} \n",
    "# '''\n",
    "\n",
    "# task_name ='Census_SC_blockgroups'\n",
    "# saved_fname = r'E:\\OneDrive_PSU\\OneDrive - The Pennsylvania State University\\Research_doc\\LLM-Find\\Downloaded_Data\\Census_SC_blockgroups.gpkg'\n",
    "# if os.path.exists(saved_fname):\n",
    "#     os.remove(saved_fname)\n",
    "# task = rf'''1. Download all Census block group boundaries in South Carolina, USA.\n",
    "# 2. Save the downloaded data as polygons in GeoPackage format, save it at: {saved_fname} \n",
    "# '''\n",
    "\n",
    "# task_name ='Census_Centre_boundary'\n",
    "# saved_fname = r'E:\\OneDrive_PSU\\OneDrive - The Pennsylvania State University\\Research_doc\\LLM-Find\\Downloaded_Data\\Census_Centre_boundary.gpkg'\n",
    "# task = rf'''1. Download the administrative boundary of Centre County of Pennsylvania State, USA from Census Bureau.\n",
    "# 2. Save the downloaded data in GeoPackage format, save it at: {saved_fname} \n",
    "# '''\n",
    "\n",
    "# task_name ='Census_SC_countries_boundary'\n",
    "# saved_fname = r'E:\\OneDrive_PSU\\OneDrive - The Pennsylvania State University\\Research_doc\\LLM-Find\\Downloaded_Data\\Census_SC_counties_boundary.gpkg'\n",
    "# task = rf'''1. Download the administrative boundary of all Counties of South Carolina from Census Bureau.\n",
    "# 2. Save the downloaded data in GeoPackage format, save it at: {saved_fname} \n",
    "# '''\n",
    "\n",
    "# # task_name ='US_Carolinas_tract\"\n",
    "# downloaded_file_name = r'US_Carolinas_tract.gpkg'\n",
    "# saved_fname = os.path.join(os.getcwd(), \"Downloaded_Data\", downloaded_file_name)\n",
    "# task = rf'''1. Download all the Census tract boundaries of North Carolina and South Carolina in the USA.\n",
    "# 2. Save the downloaded data in GeoPackage format at: {saved_fname} \n",
    "# '''\n",
    "\n",
    "# # task_name ='US_county_boundary\"\n",
    "# downloaded_file_name = r'US_county_boundary.gpkg'\n",
    "# saved_fname = os.path.join(os.getcwd(), \"Downloaded_Data\", downloaded_file_name)\n",
    "# task = rf'''1. Download all the county boundaries in the USA.\n",
    "# 2. Save the downloaded data in GeoPackage format at: {saved_fname} \n",
    "# '''"
   ]
  },
  {
   "cell_type": "markdown",
   "id": "b3fc6f56-74dc-4ddd-9951-a8ba631dc18f",
   "metadata": {
    "execution": {
     "iopub.execute_input": "2024-07-01T23:37:35.291616Z",
     "iopub.status.busy": "2024-07-01T23:37:35.291616Z",
     "iopub.status.idle": "2024-07-01T23:37:35.379023Z",
     "shell.execute_reply": "2024-07-01T23:37:35.379023Z",
     "shell.execute_reply.started": "2024-07-01T23:37:35.291616Z"
    }
   },
   "source": [
    "## Data source 3:  US Census Bureau demographic variables"
   ]
  },
  {
   "cell_type": "code",
   "execution_count": 6,
   "id": "fe4bb18b-87af-4110-8a17-0a8b750df499",
   "metadata": {
    "execution": {
     "iopub.execute_input": "2024-07-17T16:44:51.870237Z",
     "iopub.status.busy": "2024-07-17T16:44:51.869238Z",
     "iopub.status.idle": "2024-07-17T16:44:51.966957Z",
     "shell.execute_reply": "2024-07-17T16:44:51.966957Z",
     "shell.execute_reply.started": "2024-07-17T16:44:51.870237Z"
    }
   },
   "outputs": [],
   "source": [
    "# task_name ='Census_SC_counties_population'\n",
    "# saved_fname = r'E:\\OneDrive_PSU\\OneDrive - The Pennsylvania State University\\Research_doc\\LLM-Find\\Downloaded_Data\\Census_SC_counties_population.csv'\n",
    "# task = rf'''1. Download latest population for each county in South Carolina.\n",
    "# 2. Save the downloaded data as CSV files, save it at: {saved_fname} \n",
    "# '''\n",
    "\n",
    "# task_name ='Census_SC_Richland_race_population'\n",
    "# saved_fname = r'E:\\OneDrive_PSU\\OneDrive - The Pennsylvania State University\\Research_doc\\LLM-Find\\Downloaded_Data\\Census_SC_Richland_race_population.csv'\n",
    "# task = rf'''1. Download latest population of each race for Richland county in South Carolina, at Census block group level.\n",
    "# 2. Save the downloaded data as CSV files, save it at: {saved_fname} \n",
    "# '''\n",
    "\n",
    "# task_name ='Census_PA_counties_race_population'\n",
    "# saved_fname = r'E:\\OneDrive_PSU\\OneDrive - The Pennsylvania State University\\Research_doc\\LLM-Find\\Downloaded_Data\\Census_PA_counties_race_population.csv'\n",
    "# task = rf'''1. Download latest population by race for all counties in Pennsylvania.\n",
    "# 2. Save the downloaded data as CSV files, save it at: {saved_fname} \n",
    "# '''\n",
    "\n",
    "# task_name ='Census_US_states_population'\n",
    "# saved_fname = r'E:\\OneDrive_PSU\\OneDrive - The Pennsylvania State University\\Research_doc\\LLM-Find\\Downloaded_Data\\Census_US_states_population.csv'\n",
    "# task = rf'''1. Download latest population for all states in USA.   \n",
    "# 2. Save the downloaded data as CSV files, save it at: {saved_fname} \n",
    "# '''\n",
    "\n",
    "# task_name ='Census_US_states_education_population'\n",
    "# saved_fname = r'E:\\OneDrive_PSU\\OneDrive - The Pennsylvania State University\\Research_doc\\LLM-Find\\Downloaded_Data\\Census_US_states_education_population.csv'\n",
    "# task = rf'''1. Download latest population by higher education attainment over 25 for all states in USA, together with the entire population of each state.   \n",
    "# 2. Save the downloaded data as CSV files, save it at: {saved_fname} \n",
    "# '''\n",
    "\n",
    "# task_name ='Census_US_county_household_income'\n",
    "# saved_fname = r'E:\\OneDrive_PSU\\OneDrive - The Pennsylvania State University\\Research_doc\\LLM-Find\\Downloaded_Data\\Census_US_county_household_income.csv'\n",
    "# task = rf'''1. Download the latest median household income data for each county in the USA.   \n",
    "# 2. Save the downloaded data as CSV files, save it at: {saved_fname} \n",
    "# '''\n",
    "\n",
    "# task_name ='Census_US_county_population_by_race'\n",
    "# saved_fname = r'E:\\OneDrive_PSU\\OneDrive - The Pennsylvania State University\\Research_doc\\LLM-Find\\Downloaded_Data\\Census_US_county_population_by_race.csv'\n",
    "# task = rf'''1. Download the latest population by race data for each county in the USA.   \n",
    "# 2. Save the downloaded data as CSV files, save it at: {saved_fname} \n",
    "# '''\n",
    "\n",
    "# # task_name ='States_colledge_popultion'   # difficult to get the correct variable combination. \n",
    "# downloaded_file_name = r'States_colledge_popultion.csv'\n",
    "# saved_fname = os.path.join(os.getcwd(), \"Downloaded_Data\", downloaded_file_name)\n",
    "# task = rf'''1. Download the population over 25 years old and the population with a college degree or higher at the state level of USA for 2012 and 2022.\n",
    "# 2. Save the downloaded data in CSV format, save it at: {saved_fname} \n",
    "# '''\n",
    "\n",
    "## task_name ='US_SDOH'   # difficult to get the correct variable combination\n",
    "# downloaded_file_name = r'US_SDOH.csv'\n",
    "# saved_fname = os.path.join(os.getcwd(), \"Downloaded_Data\", downloaded_file_name)\n",
    "# task = rf'''1. Download the social determinators of health, including: 1) population of each race; 2) Median household income; 3) health insurance coverage; 4) Population of speaking only English at home for the population 5 years and over.\n",
    "# 2. The data should be at the county level in the USA. Year: 2022.\n",
    "# 3. Save the downloaded data in a CSV file, save it at: {saved_fname} \n",
    "# '''\n",
    "\n",
    "# task_name ='US_County_poverty'\n",
    "# saved_fname = r'E:\\OneDrive_PSU\\OneDrive - The Pennsylvania State University\\Research_doc\\LLM-Find\\Downloaded_Data\\US_County_poverty.csv'\n",
    "# task = rf'''1. Download the ratios of income to all poverty level at the county level in the USA. Year: 2022.\n",
    "# 3. Save the downloaded data in a CSV file, save it at: {saved_fname} \n",
    "# '''\n",
    "\n",
    "## task_name ='Washington_DC_blockgroup_senior_population'\n",
    "# downloaded_file_name = r'Washington_DC_blockgroup_senior_population.csv'\n",
    "# saved_fname = os.path.join(os.getcwd(), \"Downloaded_Data\", downloaded_file_name)\n",
    "# task_name ='Washington_DC_blockgroup_senior_population'\n",
    "# task = rf'''1. Download the senior (older than  65) population groups senior  for all Census blockgroups in Washington D.C., USA.   \n",
    "# 2. Save the downloaded data as CSV files, save it at: {saved_fname} \n",
    "# '''\n",
    "\n",
    "# task_name ='School_enrollment'\n",
    "# saved_fname = r'E:\\OneDrive_PSU\\OneDrive - The Pennsylvania State University\\Research_doc\\LLM-Find\\Downloaded_Data\\School_enrollment_population.csv'\n",
    "# task = rf'''1. From Census 2020 data, download the school enrollment by level of school for the population 3 years and over of all Census block groups in San Francisco County, California, USA.   \n",
    "# 2. Save the downloaded data as CSV files, save it at: {saved_fname} \n",
    "# '''"
   ]
  },
  {
   "cell_type": "markdown",
   "id": "be421007-ac58-4e43-8a85-6111b842afc8",
   "metadata": {
    "execution": {
     "iopub.execute_input": "2024-07-02T14:08:49.804272Z",
     "iopub.status.busy": "2024-07-02T14:08:49.804272Z",
     "iopub.status.idle": "2024-07-02T14:08:49.899960Z",
     "shell.execute_reply": "2024-07-02T14:08:49.899960Z",
     "shell.execute_reply.started": "2024-07-02T14:08:49.804272Z"
    }
   },
   "source": [
    "##  Data source 4:  COVID-19 accumulative cases by New York Times"
   ]
  },
  {
   "cell_type": "code",
   "execution_count": 7,
   "id": "1ee3f323-b738-4401-9dbf-52b3e63a62e7",
   "metadata": {
    "execution": {
     "iopub.execute_input": "2024-07-17T16:44:51.967962Z",
     "iopub.status.busy": "2024-07-17T16:44:51.967962Z",
     "iopub.status.idle": "2024-07-17T16:44:52.062393Z",
     "shell.execute_reply": "2024-07-17T16:44:52.062393Z",
     "shell.execute_reply.started": "2024-07-17T16:44:51.967962Z"
    }
   },
   "outputs": [],
   "source": [
    "## task_name ='COVID_Richland_SC'\n",
    "# downloaded_file_name = r'COVID_Richland_SC.csv'\n",
    "# saved_fname = os.path.join(os.getcwd(), \"Downloaded_Data\", downloaded_file_name)\n",
    "# task = rf'''1. Download the COVID-19 case data of Richland County in South Carolina, USA. The time is from 2021-01 to 2021-09.   \n",
    "# 2. Save the downloaded data as a CSV file at: {saved_fname} \n",
    "# '''\n",
    "\n",
    "# task_name ='COVID_PA'\n",
    "# downloaded_file_name = r'COVID_PA.csv'\n",
    "# saved_fname = os.path.join(os.getcwd(), \"Downloaded_Data\", downloaded_file_name)\n",
    "# task = rf'''1. Download the COVID-19 case data of all counties in Pennsylvania, USA. The time is from 2021-10 to 2022-02.   \n",
    "# 2. Save the downloaded data as a CSV file at: {saved_fname} \n",
    "# '''\n",
    "\n",
    "# task_name ='COVID_PA'\n",
    "# downloaded_file_name = r'COVID_NJ_NY.csv'\n",
    "# saved_fname = os.path.join(os.getcwd(), \"Downloaded_Data\", downloaded_file_name)\n",
    "# task = rf'''1. Download the COVID-19 case data of all counties in Pennsylvania State and New York State, USA. The period is entire 2021.   \n",
    "# 2. Save the downloaded data as a CSV file at: {saved_fname} \n",
    "# '''"
   ]
  },
  {
   "cell_type": "markdown",
   "id": "827ef639-e2fe-43ae-bb4a-1dfe5a63cf3e",
   "metadata": {},
   "source": [
    "## Data source 5:  Weather data"
   ]
  },
  {
   "cell_type": "code",
   "execution_count": 8,
   "id": "16c6f0f6-c541-4877-8624-6b6c560ec954",
   "metadata": {
    "execution": {
     "iopub.execute_input": "2024-07-17T16:44:52.063397Z",
     "iopub.status.busy": "2024-07-17T16:44:52.063397Z",
     "iopub.status.idle": "2024-07-17T16:44:52.163424Z",
     "shell.execute_reply": "2024-07-17T16:44:52.163424Z",
     "shell.execute_reply.started": "2024-07-17T16:44:52.063397Z"
    }
   },
   "outputs": [],
   "source": [
    "## task_name ='OpenWeather_Columbia'\n",
    "# downloaded_file_name = r'OpenWeather_Columbia.csv'\n",
    "# saved_fname = os.path.join(os.getcwd(), \"Downloaded_Data\", downloaded_file_name)\n",
    "# task = rf'''1. Download the historical weather data of Columbia, South Carolina in May 2024.\n",
    "# 2. Save the downloaded data in CSV format, save it at: {saved_fname} \n",
    "# '''\n",
    "\n",
    "# # task_name ='OpenWeather_Yulin_Guangxi'\n",
    "# downloaded_file_name = r'OpenWeather_Yulin_Guangxi.csv'\n",
    "# saved_fname = os.path.join(os.getcwd(), \"Downloaded_Data\", downloaded_file_name)\n",
    "# task = rf'''1. Download the historical weather data of Yulin, Guangxi, China, in May 2024.\n",
    "# 2. Save the downloaded data in CSV format, save it at: {saved_fname} \n",
    "# '''\n",
    "\n",
    "## task_name ='OpenWeather_Cairo'\n",
    "# downloaded_file_name = r'OpenWeather_Cairo.csv'\n",
    "# saved_fname = os.path.join(os.getcwd(), \"Downloaded_Data\", downloaded_file_name)\n",
    "# task = rf'''1. Download the current weather data of Cairo, Egypt.\n",
    "# 2. Save the downloaded data in CSV format, save it at: {saved_fname} \n",
    "# '''\n",
    "\n",
    "## task_name ='OpenWeather_Kabul'\n",
    "# downloaded_file_name = r'OpenWeather_Kabul.csv'\n",
    "# saved_fname = os.path.join(os.getcwd(), \"Downloaded_Data\", downloaded_file_name)\n",
    "# task = rf'''1. Download the 16-day daily forecast weather data of Kabul, Afghanistan.\n",
    "# 2. Save the downloaded data in CSV format, save it at: {saved_fname} \n",
    "# '''"
   ]
  },
  {
   "cell_type": "markdown",
   "id": "4a19c9ca-5025-4fb2-88b5-bb54ddd5d57c",
   "metadata": {
    "execution": {
     "iopub.execute_input": "2024-07-02T14:09:30.817569Z",
     "iopub.status.busy": "2024-07-02T14:09:30.817569Z",
     "iopub.status.idle": "2024-07-02T14:09:30.912003Z",
     "shell.execute_reply": "2024-07-02T14:09:30.912003Z",
     "shell.execute_reply.started": "2024-07-02T14:09:30.817569Z"
    }
   },
   "source": [
    "## Data source 6:  Satellite image (ESRI World Imagery (for export))"
   ]
  },
  {
   "cell_type": "code",
   "execution_count": 9,
   "id": "9ecc3209-471b-4e71-b07b-bc60984de039",
   "metadata": {
    "execution": {
     "iopub.execute_input": "2024-07-17T16:44:52.164429Z",
     "iopub.status.busy": "2024-07-17T16:44:52.164429Z",
     "iopub.status.idle": "2024-07-17T16:44:52.264619Z",
     "shell.execute_reply": "2024-07-17T16:44:52.264619Z",
     "shell.execute_reply.started": "2024-07-17T16:44:52.164429Z"
    }
   },
   "outputs": [],
   "source": [
    "# task_name ='FAST_Telescope'\n",
    "downloaded_file_name = r'FAST_Telescope_image.tif'\n",
    "saved_fname = os.path.join(os.getcwd(), \"Downloaded_Data\", downloaded_file_name)\n",
    "task = rf'''1. Download the FAST Telescope (Guizhou, China) satellite image at level 18.\n",
    "2. Save the downloaded data in tiff format, save it at: {saved_fname} \n",
    "'''\n",
    "\n",
    "# # task_name ='Nigeria_image'\n",
    "# downloaded_file_name = r'Nigeria_image.tif'\n",
    "# saved_fname = os.path.join(os.getcwd(), \"Downloaded_Data\", downloaded_file_name)\n",
    "# task = rf'''1. Download the Nigeria satellite image at level 7.\n",
    "# 2. Save the downloaded data in tiff format, save it at: {saved_fname} \n",
    "# '''\n",
    "\n",
    "# # task_name ='Qingdao_image'\n",
    "# downloaded_file_name = r'Qingdao_image.tif'\n",
    "# saved_fname = os.path.join(os.getcwd(), \"Downloaded_Data\", downloaded_file_name)\n",
    "# task = rf'''1. Download the Qingdao, Shandong, China satellite image at level 10.\n",
    "# 2. Save the downloaded data in tiff format, save it at: {saved_fname} \n",
    "# '''\n",
    "\n",
    "# ## task_name ='Crescent_Moon_Spring'\n",
    "# downloaded_file_name = r'Crescent_Moon_Spring_image.tif'\n",
    "# saved_fname = os.path.join(os.getcwd(), \"Downloaded_Data\", downloaded_file_name)\n",
    "# task = rf'''1. Download the Singing-Sand Mountain and Crescent Moon Spring satellite image at level 16.\n",
    "# 2. Save the downloaded data in tiff format, save it at: {saved_fname} \n",
    "# '''\n",
    "\n",
    "## task_name ='Christ the Redeemer'  # this is a point: a difficult case\n",
    "# downloaded_file_name = r'Christ_the_Redeemer.tif'\n",
    "# saved_fname = os.path.join(os.getcwd(), \"Downloaded_Data\", downloaded_file_name)\n",
    "# task = rf'''1. Download the Christ the Redeemer satellite image at level 18.\n",
    "# 2. Save the downloaded data in tiff format, save it at: {saved_fname} \n",
    "# '''\n",
    "\n",
    "# #task_name ='Brasília_image'   # not ready yet\n",
    "# saved_fname = r'E:\\OneDrive_PSU\\OneDrive - The Pennsylvania State University\\Research_doc\\LLM-Find\\Downloaded_Data\\Brasília_image.tif'\n",
    "# task = rf'''1. Download the Brasília satellite image at level 6.\n",
    "# 2. Save the downloaded data in tiff format, save it at: {saved_fname} \n",
    "# '''\n",
    "\n",
    "## task_name ='Japan_image'\n",
    "# saved_fname = r'E:\\OneDrive_PSU\\OneDrive - The Pennsylvania State University\\Research_doc\\LLM-Find\\Downloaded_Data\\Japan_image.tif'\n",
    "# task = rf'''1. Download the Japan satellite image at level 6.\n",
    "# 2. Save the downloaded data in tiff format, save it at: {saved_fname} \n",
    "# '''\n",
    "\n",
    "## task_name ='China'\n",
    "# saved_fname = r'E:\\OneDrive_PSU\\OneDrive - The Pennsylvania State University\\Research_doc\\LLM-Find\\Downloaded_Data\\China_image.tif'\n",
    "# task = rf'''1. Download the China satellite image at level 6.\n",
    "# 2. Save the downloaded data in tiff format, save it at: {saved_fname} \n",
    "# '''\n",
    "\n",
    "# task_name ='YellowStone_National_Park'\n",
    "# saved_fname = r'E:\\OneDrive_PSU\\OneDrive - The Pennsylvania State University\\Research_doc\\LLM-Find\\Downloaded_Data\\Yellow_Stone_National_Park_image.tif'\n",
    "# task = rf'''1. Download the YellowStone National Park satellite image at level 10.\n",
    "# 2. Save the downloaded data in tiff format, save it at: {saved_fname} \n",
    "# '''\n",
    "\n",
    "## task_name ='Hawaii'\n",
    "# saved_fname = r'E:\\OneDrive_PSU\\OneDrive - The Pennsylvania State University\\Research_doc\\LLM-Find\\Downloaded_Data\\Hawaii_image.tif'\n",
    "# task = rf'''1. Download the Hawaii State satellite image at level 7.\n",
    "# 2. Save the downloaded data in tiff format, save it at: {saved_fname} \n",
    "# '''\n",
    "\n",
    "## task_name ='Honolulu'\n",
    "# saved_fname = r'E:\\OneDrive_PSU\\OneDrive - The Pennsylvania State University\\Research_doc\\LLM-Find\\Downloaded_Data\\Honolulu_image.tif'\n",
    "# task = rf'''1. Download the Honolulu satellite image at level 12.\n",
    "# 2. Save the downloaded data in tiff format, save it at: {saved_fname} \n",
    "# '''\n",
    "\n",
    "## task_name ='Kennedy_Space_Center_Visitor_Complex'\n",
    "# saved_fname = r'E:\\OneDrive_PSU\\OneDrive - The Pennsylvania State University\\Research_doc\\LLM-Find\\Downloaded_Data\\Kennedy_Space_Center_Visitor_Complex_image.tif'\n",
    "# task = rf'''1. Download the Kennedy Space Center Visitor Complex satellite image at level 18.\n",
    "# 2. Save the downloaded data in tiff format, save it at: {saved_fname} \n",
    "# '''\n",
    "\n",
    "## task_name ='Hoover_Dam'\n",
    "# saved_fname = r'E:\\OneDrive_PSU\\OneDrive - The Pennsylvania State University\\Research_doc\\LLM-Find\\Downloaded_Data\\Hoover_Dam_image.tif'\n",
    "# task = rf'''1. Download the Hoover Dam satellite image at level 18.\n",
    "# 2. Save the downloaded data in tiff format, save it at: {saved_fname} \n",
    "# '''\n",
    "\n",
    "## task_name ='Nigeria'\n",
    "# saved_fname = r'E:\\OneDrive_PSU\\OneDrive - The Pennsylvania State University\\Research_doc\\LLM-Find\\Downloaded_Data\\Nigeria_image.tif'\n",
    "# task = rf'''1. Download the Nigeria satellite image at level 8.\n",
    "# 2. Save the downloaded data in tiff format, save it at: {saved_fname} \n",
    "# '''\n",
    "\n",
    "## task_name ='Afghanistan'\n",
    "# saved_fname = r'E:\\OneDrive_PSU\\OneDrive - The Pennsylvania State University\\Research_doc\\LLM-Find\\Downloaded_Data\\Afghanistan_image.tif'\n",
    "# task = rf'''1. Download the Afghanistan satellite image at level 8.\n",
    "# 2. Save the downloaded data in tiff format, save it at: {saved_fname} \n",
    "# '''\n",
    "\n",
    "## task_name ='State_college'\n",
    "# saved_fname = r'E:\\OneDrive_PSU\\OneDrive - The Pennsylvania State University\\Research_doc\\LLM-Find\\Downloaded_Data\\State_college_image.tif'\n",
    "# task = rf'''1. Download the State College City, PA satellite image at level 12.\n",
    "# 2. Save the downloaded data in tiff format, save it at: {saved_fname} \n",
    "# '''\n",
    "\n",
    "# #task_name = 'Tigard'\n",
    "# saved_fname = r'E:\\OneDrive_PSU\\OneDrive - The Pennsylvania State University\\Research_doc\\LLM-Find\\Downloaded_Data\\Tigard_OR_image.tif'\n",
    "# task = rf'''1. Download the Tigard, OR satellite image at level 14.\n",
    "# 2. Save the downloaded data in tiff format, save it at: {saved_fname} \n",
    "# '''\n",
    "\n",
    "## task_name = \"Xiong'an\"\n",
    "# downloaded_file_name = r'Xiong_an.tif'\n",
    "# saved_fname = os.path.join(os.getcwd(), \"Downloaded_Data\", downloaded_file_name)\n",
    "# task = rf'''1. Download the Xiong'an New Area, China satellite image at level 12.\n",
    "# 2. Save the downloaded data in tiff format, save it at: {saved_fname} \n",
    "# '''\n",
    "\n",
    "## task_name = \"Penn_State_University\"\n",
    "# downloaded_file_name = r'Penn_State_University.tif'\n",
    "# saved_fname = os.path.join(os.getcwd(), \"Downloaded_Data\", downloaded_file_name)\n",
    "# task = rf'''1. Download the Pennsylvania State University satellite image at level 15.\n",
    "# 2. Save the downloaded data in tiff format, save it at: {saved_fname} \n",
    "# '''"
   ]
  },
  {
   "cell_type": "markdown",
   "id": "da31528d-e2db-477e-880c-9efee3d4b2c8",
   "metadata": {
    "execution": {
     "iopub.execute_input": "2024-07-17T14:29:35.133904Z",
     "iopub.status.busy": "2024-07-17T14:29:35.131903Z",
     "iopub.status.idle": "2024-07-17T14:29:35.149048Z",
     "shell.execute_reply": "2024-07-17T14:29:35.148041Z",
     "shell.execute_reply.started": "2024-07-17T14:29:35.132904Z"
    }
   },
   "source": [
    "## Data source 7:  OpenTopography"
   ]
  },
  {
   "cell_type": "code",
   "execution_count": 10,
   "id": "524c7a38-3f60-4746-bb25-8efaef3fbe4c",
   "metadata": {
    "execution": {
     "iopub.execute_input": "2024-07-17T16:44:52.265623Z",
     "iopub.status.busy": "2024-07-17T16:44:52.265623Z",
     "iopub.status.idle": "2024-07-17T16:44:52.362530Z",
     "shell.execute_reply": "2024-07-17T16:44:52.362530Z",
     "shell.execute_reply.started": "2024-07-17T16:44:52.265623Z"
    }
   },
   "outputs": [],
   "source": [
    "## task_name = \"Wuhan_DEM\"\n",
    "# downloaded_file_name = r'Wuhan_DEM.tif'\n",
    "# saved_fname = os.path.join(os.getcwd(), \"Downloaded_Data\", downloaded_file_name)\n",
    "# task = rf'''1. Download the 90m resolution DEM of Wuhan, China from SRTMGL3.\n",
    "# 2. Save the downloaded data in tiff format, save it at: {saved_fname} \n",
    "# '''\n",
    "\n",
    "# task_name = \"Chongqing_DEM\"\n",
    "# downloaded_file_name = r'Chongqing_DEM.tif'\n",
    "# saved_fname = os.path.join(os.getcwd(), \"Downloaded_Data\", downloaded_file_name)\n",
    "# task = rf'''1. Download the 90m resolution DEM of Chongqing, China from SRTMGL1.\n",
    "# 2. Save the downloaded data in tiff format, save it at: {saved_fname} \n",
    "# '''\n",
    "\n",
    "# # task_name = \"Chongqing_DEM\"\n",
    "# downloaded_file_name = r'Hawaii_DEM.tif'\n",
    "# saved_fname = os.path.join(os.getcwd(), \"Downloaded_Data\", downloaded_file_name)\n",
    "# task = rf'''1. Download the 90m resolution DEM of Hawaii, USA from SRTMGL1.\n",
    "# 2. Save the downloaded data in tiff format, save it at: {saved_fname} \n",
    "# '''\n",
    "\n",
    "\n",
    "# task_name = \"Lhasa, China_DEM\"\n",
    "# downloaded_file_name = r'Lhasa_DEM.tif'\n",
    "# saved_fname = os.path.join(os.getcwd(), \"Downloaded_Data\", downloaded_file_name)\n",
    "# task = rf'''1. Download the 30m resolution DEM of Lhasa, China, from COP30.\n",
    "# 2. Save the downloaded data in tiff format, save it at: {saved_fname} \n",
    "# '''\n",
    "\n",
    "\n",
    "# task_name = \"Mount Everest\"\n",
    "downloaded_file_name = r'Everest_DEM.tif'\n",
    "saved_fname = os.path.join(os.getcwd(), \"Downloaded_Data\", downloaded_file_name)\n",
    "task = rf'''1. Download the 30m resolution DEM of this region [south:27.82, west:86.73, north:28.17, east:87.13] from AW3D30.\n",
    "2. Save the downloaded data in tiff format, save it at: {saved_fname} \n",
    "'''"
   ]
  },
  {
   "cell_type": "code",
   "execution_count": null,
   "id": "fd22ce32-4f33-481c-931e-e0c960c06617",
   "metadata": {},
   "outputs": [],
   "source": []
  },
  {
   "cell_type": "markdown",
   "id": "7b63f0cd-07d6-4056-9007-c9ee64b312a6",
   "metadata": {
    "execution": {
     "iopub.execute_input": "2024-07-02T19:44:17.794131Z",
     "iopub.status.busy": "2024-07-02T19:44:17.794131Z",
     "iopub.status.idle": "2024-07-02T19:44:17.885259Z",
     "shell.execute_reply": "2024-07-02T19:44:17.885259Z",
     "shell.execute_reply.started": "2024-07-02T19:44:17.794131Z"
    }
   },
   "source": [
    "# Fetching data"
   ]
  },
  {
   "cell_type": "markdown",
   "id": "5fbfdaa9-31ec-4248-a892-9fbe0478f87a",
   "metadata": {
    "execution": {
     "iopub.execute_input": "2024-07-02T19:44:05.267712Z",
     "iopub.status.busy": "2024-07-02T19:44:05.267712Z",
     "iopub.status.idle": "2024-07-02T19:44:05.359116Z",
     "shell.execute_reply": "2024-07-02T19:44:05.359116Z",
     "shell.execute_reply.started": "2024-07-02T19:44:05.267712Z"
    }
   },
   "source": [
    "## Create the model"
   ]
  },
  {
   "cell_type": "code",
   "execution_count": 11,
   "id": "c490a851-f1f2-4278-ba15-2e63ddd42b38",
   "metadata": {
    "execution": {
     "iopub.execute_input": "2024-07-17T16:44:52.363534Z",
     "iopub.status.busy": "2024-07-17T16:44:52.363534Z",
     "iopub.status.idle": "2024-07-17T16:44:52.801574Z",
     "shell.execute_reply": "2024-07-17T16:44:52.801574Z",
     "shell.execute_reply.started": "2024-07-17T16:44:52.363534Z"
    }
   },
   "outputs": [],
   "source": [
    "if os.path.exists(saved_fname):\n",
    "    os.remove(saved_fname)\n",
    "\n",
    "save_dir = os.path.join(os.getcwd(), \"Downloaded_Data\")\n",
    "os.makedirs(save_dir, exist_ok=True)\n",
    "\n",
    "model_name = r'gpt-4o'\n",
    "# model_name = r'gpt-4'\n",
    "# model_name = r'gpt-4-turbo'\n",
    "# model_name = r'gpt-3.5-turbo'  # gpt-4-turbo\n",
    "\n",
    "model = ChatOpenAI(api_key=OpenAI_key, model=model_name, temperature=1)"
   ]
  },
  {
   "cell_type": "markdown",
   "id": "769a5e4b-7a5b-4463-a7ab-d44d34a00c69",
   "metadata": {
    "execution": {
     "iopub.execute_input": "2024-07-02T19:44:41.493282Z",
     "iopub.status.busy": "2024-07-02T19:44:41.493282Z",
     "iopub.status.idle": "2024-07-02T19:44:41.582989Z",
     "shell.execute_reply": "2024-07-02T19:44:41.582989Z",
     "shell.execute_reply.started": "2024-07-02T19:44:41.493282Z"
    }
   },
   "source": [
    "## Select the data source"
   ]
  },
  {
   "cell_type": "code",
   "execution_count": 12,
   "id": "8ba05f98-30b2-46d0-9eb2-624f5dbc2754",
   "metadata": {
    "editable": true,
    "execution": {
     "iopub.execute_input": "2024-07-17T16:44:52.802578Z",
     "iopub.status.busy": "2024-07-17T16:44:52.802578Z",
     "iopub.status.idle": "2024-07-17T16:44:52.896572Z",
     "shell.execute_reply": "2024-07-17T16:44:52.895566Z",
     "shell.execute_reply.started": "2024-07-17T16:44:52.802578Z"
    },
    "slideshow": {
     "slide_type": ""
    },
    "tags": []
   },
   "outputs": [
    {
     "name": "stdout",
     "output_type": "stream",
     "text": [
      "Your role: A professional Python programmer in geographic information science (GIScience). You have worked on GIScience for more than 20 years and know every detail and pitfall when collecting data and coding. You know which websites you can get suitable spatial data and know the methods or tricks to download data, such as OpenStreetMap, Census Bureau, or various APIs. You are also experienced in processing the downloaded data, including saving them in suitable formats, map projections, and creating detailed and useful meta-data.\n",
      " \n",
      "Your mission: select a suitable data source from the given list to download the requested geo-spatial data for this task: 1. Download the 30m resolution DEM of this region [south:27.82, west:86.73, north:28.17, east:87.13] from AW3D30.\n",
      "2. Save the downloaded data in tiff format, save it at: E:\\OneDrive_PSU\\OneDrive - The Pennsylvania State University\\Research_doc\\LLM-Find\\Downloaded_Data\\Everest_DEM.tif \n",
      "\n",
      "\n",
      "Requirements: \n",
      "1. Return the exact name of the data source as the given names.\n",
      "2. If a data source is given in the task, e.g., OpenStreetMap or Census Bureau, you need to select that given data source.\n",
      "3. If you need to download the administrative boundary of a place without mentioning the data sources, you can get data from OpenStreetMap.If you need to download the US Census tract and block group boundaries, download them from Census Bureau.Follow the given JSON format.\n",
      "4. If you cannot find a suitable data source in the given sources, return a data source you think is most appropriate.\n",
      "5. DO NOT make fake data source. If you cannot find any suitable data source, return 'Unknown' as for the 'Selected data source' key in the reply JSON format. DO NOT use ```json and ``` \n",
      "\n",
      "Data sources:\n",
      "1. OpenStreetMap. You can download the administrative boundaries, street networks, points of interest (POIs) from OpenStreetMap.\n",
      "2. US Census Bureau boundary. It provides the US administrative boundaries (nation, state, county, tract, and block group level, as well as metropolitan statistic areas.\n",
      "3. US Census Bureau demography. It provides the demographic and socio-economic data, such as population, gender, income, education, and race.\n",
      "4. US COVID-19 data by New York Times. Cumulative counts of COVID-19 cases and deaths in the United States, at the state and county level, over time from 2020-01-21 to 2023-03-23. \n",
      "5. OpenWeather data. It provides historical, current, and forecast weather data. The historical data can be back to 2023-08. API limited: [Hourly forecast: 4 days, Daily forecast: 16 days, 3 hour forecast: 5 days]\n",
      "6. ESRI World Imagery (for Export). It is a web map service, providing satellite image tiles. You can download tiles and mosaic them into a large image. \n",
      "7. OpenTopography. You can download global digital elevation model (DEM) data using API; the resolution ranges from 15m to 1000m, such as SRTM GL3 (global 90m), and GL1 (global 30m). The DEM source list from this API contains: SRTMGL3, SRTMGL1, SRTMGL1_E, AW3D30, AW3D30, SRTM15Plus, NASADEM, COP30, COP30, EU_DTM, GEDI_L3, GEBCOIceTopo, GEBCOSubIceTopo.\n",
      " \n",
      "Your reply example: {'Explanation': \"According to the use requests of US state administrative boundary from OpenStreetMap, I should download data from OpenStreetMap.\", \"Selected data source\": 'OpenStreetMap'}\n",
      "\n"
     ]
    }
   ],
   "source": [
    "# %load_ext autoreload\n",
    "# %autoreload 2\n",
    "import helper\n",
    "    \n",
    "source_select_prompt_str = helper.create_select_prompt(task=task)\n",
    "\n",
    "print(source_select_prompt_str)"
   ]
  },
  {
   "cell_type": "code",
   "execution_count": 13,
   "id": "da93af39-5b6f-41ce-91fa-700042ac5e2a",
   "metadata": {
    "execution": {
     "iopub.execute_input": "2024-07-17T16:44:52.897571Z",
     "iopub.status.busy": "2024-07-17T16:44:52.897571Z",
     "iopub.status.idle": "2024-07-17T16:44:54.511305Z",
     "shell.execute_reply": "2024-07-17T16:44:54.511305Z",
     "shell.execute_reply.started": "2024-07-17T16:44:52.897571Z"
    }
   },
   "outputs": [
    {
     "name": "stdout",
     "output_type": "stream",
     "text": [
      "Select the data source: \n",
      "\n",
      "{'Explanation': \"According to the request for the 30m resolution DEM from AW3D30, I should download data from OpenTopography as it provides global DEM data including AW3D30.\", \"Selected data source\": 'OpenTopography'}\n"
     ]
    }
   ],
   "source": [
    "from IPython.display import clear_output\n",
    "\n",
    "chunks = []\n",
    "\n",
    "async for chunk in model.astream(source_select_prompt_str):\n",
    "    chunks.append(chunk)\n",
    "    print(chunk.content, end=\"\", flush=True)\n",
    "\n",
    "# clear_output(wait=True)\n",
    "clear_output(wait=False)\n",
    "LLM_reply_str = helper.convert_chunks_to_str(chunks=chunks)\n",
    "\n",
    "print(\"Select the data source: \\n\")\n",
    "print(LLM_reply_str)"
   ]
  },
  {
   "cell_type": "markdown",
   "id": "13e9b9cc-6f87-4783-9b45-f04e8e66bd6e",
   "metadata": {
    "execution": {
     "iopub.execute_input": "2024-07-02T19:45:05.791108Z",
     "iopub.status.busy": "2024-07-02T19:45:05.791108Z",
     "iopub.status.idle": "2024-07-02T19:45:05.885257Z",
     "shell.execute_reply": "2024-07-02T19:45:05.885257Z",
     "shell.execute_reply.started": "2024-07-02T19:45:05.791108Z"
    }
   },
   "source": [
    "## Generate the data fetching program"
   ]
  },
  {
   "cell_type": "code",
   "execution_count": 14,
   "id": "ad5012ca-954c-406a-8e46-7a2eb2f252c0",
   "metadata": {
    "execution": {
     "iopub.execute_input": "2024-07-17T16:44:54.512310Z",
     "iopub.status.busy": "2024-07-17T16:44:54.512310Z",
     "iopub.status.idle": "2024-07-17T16:44:54.606107Z",
     "shell.execute_reply": "2024-07-17T16:44:54.606107Z",
     "shell.execute_reply.started": "2024-07-17T16:44:54.512310Z"
    }
   },
   "outputs": [
    {
     "name": "stdout",
     "output_type": "stream",
     "text": [
      "selected_data_source: OpenTopography\n",
      "data_source_ID: OpenTopography\n",
      "\n",
      "Handbook:\n",
      "1. The OpenTopography API key is: ae061ea579bcd45cae8f64ae8d3fc47f\n",
      "2. The endpoint is: https://portal.opentopography.org/API/globaldem?demtype=SRTMGL3&south=50&north=50.1&west=14.35&east=14.6&outputFormat=GTiff&API_Key=XXX.\n",
      "3. The REST API parameter description: demtype: [SRTMGL3 (SRTM GL3 90m)， SRTMGL1 (SRTM GL1 30m)， SRTMGL1_E (SRTM GL1 Ellipsoidal 30m)， AW3D30 (ALOS World 3D 30m)， AW3D30_E (ALOS World 3D Ellipsoidal, 30m)， SRTM15Plus (Global Bathymetry SRTM15+ V2.1 500m)， NASADEM (NASADEM Global DEM)， COP30 (Copernicus Global DSM 30m)， COP90 (Copernicus Global DSM 90m)， EU_DTM (DTM 30m)， GEDI_L3 (DTM 1000m)， GEBCOIceTopo (Global Bathymetry 500m)， GEBCOSubIceTopo (Global Bathymetry 500m)]; south, north, west, and east: WGS 84 bounding box; outputFormat: 'GTiff' for GeoTiff, 'AAIGrid' for Arc ASCII Grid, 'HFA' for Erdas Imagine (.IMG).\n",
      "4. Shuttle Radar Topography Mission GL3 (Global 90m), GL1 (Global 30m), GL1 Ellipsoidal, ALOS World 3D (Global 30m), ALOS World 3D Ellipsoidal, Global Bathymetry and Topography at 15 Arc Sec: SRTM15+ V2.1, NASADEM (NASADEM Global DEM), COP30 (Copernicus Global DSM 30m), COP90 (Copernicus Global DSM 90m), Continental Europe Digital Terrain Model 30m, GEDI L3 (DTM 1000 meter), GEBCOIceTopo (Global Bathymetry 500m) and GEBCOSubIceTopo (Global Bathymetry 500m) data.\n",
      "5. You will receive a place name or a bounding box of the target area.\n",
      "6. Try not to use `osgeo` Python package; it may have many errors.\n",
      "7. Put your reply into a Python code block. Explanation or conversation can be Python comments at the begining of the code block(enclosed by ```python and ```).\n",
      "8. The download code is only in a function named 'download_data()'. The last line is to execute this function; do not use `if __name__ == '__main__':`.\n",
      "9. If the requested area is provided as a place name, search its bounding box from OpenStreetMap, do not guess the lat/lon yourself since we need accurate results.\n",
      "10. If you use `ox.geocode_to_gdf(place)` to get the place boundary, note that this function return the first POLYGON result from the OpenStreetMap Nominatim 'search' endpoint. Thus, you are searching a POI (a single point), you can use Nominatim (do not forget to set the application name before get the data. Try the Nominatim first.\n",
      "11. To the get bounding box, you can use `gdf = ox.geocode_to_gdf(place_name); west, south, east, north = gdf.unary_union.bounds`.\n",
      "12. DO NOT handle any exceptions since we need to error information for debug.\n",
      "13. This is a program for your reference, note that you can improve it: \n",
      "import requests\n",
      "import osmnx as ox\n",
      "\n",
      "def download_data():\n",
      "    place_name = \"Great Smoky Mountains National Park, USA\"\n",
      "    \n",
      "    # Get the bounding box for the place name\n",
      "    gdf = ox.geocode_to_gdf(place_name)\n",
      "    west, south, east, north = gdf.unary_union.bounds\n",
      "    \n",
      "    # Set the OpenTopography API parameters\n",
      "    demtype = \"SRTMGL3\"  # This is 90m resolution\n",
      "    output_format = \"GTiff\"\n",
      "    api_url = (\n",
      "        f\"https://portal.opentopography.org/API/globaldem?\"\n",
      "        f\"demtype={demtype}&south={south}&north={north}&west={west}&east={east}&outputFormat={output_format}&API_Key=XXXX\"\n",
      "    )\n",
      "    \n",
      "    # Send the request to download the data\n",
      "    response = requests.get(api_url)\n",
      "    \n",
      "    # Raise an exception if the request was unsuccessful\n",
      "    response.raise_for_status()\n",
      "    \n",
      "    # Save the downloaded data to the specified path\n",
      "    output_path = r\"E:\\Great Smoky Mountains National Park.tif\"\n",
      "    \n",
      "    with open(output_path, 'wb') as file:\n",
      "        file.write(response.content)\n",
      "\n",
      "# Execute the function to download the data\n",
      "download_data()\n",
      "\n"
     ]
    }
   ],
   "source": [
    "import ast\n",
    "select_source = ast.literal_eval(LLM_reply_str)\n",
    "\n",
    "selected_data_source= select_source['Selected data source']\n",
    "data_source_ID = constants.data_source_dict[selected_data_source]['ID']\n",
    "\n",
    "print(\"selected_data_source:\", selected_data_source)\n",
    "print(\"data_source_ID:\", data_source_ID)\n",
    "\n",
    "handbook_list = constants.handbooks[f\"{data_source_ID}\"]\n",
    "handbook_str =  '\\n'.join([f\"{idx + 1}. {line}\" for idx, line in enumerate(handbook_list)])\n",
    "print()\n",
    "print(f\"Handbook:\\n{handbook_str}\")"
   ]
  },
  {
   "cell_type": "code",
   "execution_count": 15,
   "id": "ed83929d-ae9f-4c3c-aaf0-ee0edbdb93b5",
   "metadata": {
    "execution": {
     "iopub.execute_input": "2024-07-17T16:44:54.607112Z",
     "iopub.status.busy": "2024-07-17T16:44:54.607112Z",
     "iopub.status.idle": "2024-07-17T16:44:54.699602Z",
     "shell.execute_reply": "2024-07-17T16:44:54.699602Z",
     "shell.execute_reply.started": "2024-07-17T16:44:54.607112Z"
    }
   },
   "outputs": [
    {
     "name": "stdout",
     "output_type": "stream",
     "text": [
      "Your role: A professional Python programmer in geographic information science (GIScience). You have worked on GIScience for more than 20 years and know every detail and pitfall when collecting data and coding. You know which websites you can get suitable spatial data and know the methods or tricks to download data, such as OpenStreetMap, Census Bureau, or various APIs. You are also experienced in processing the downloaded data, including saving them in suitable formats, map projections, and creating detailed and useful meta-data. When downloading geo-spatial data, the technical handbook for a particular data source is provided; you can follow it, and write Python code carefully to download the data. \n",
      " \n",
      "Your mission: download geo-spatial data from the given data source for this task: 1. Download the 30m resolution DEM of this region [south:27.82, west:86.73, north:28.17, east:87.13] from AW3D30.\n",
      "2. Save the downloaded data in tiff format, save it at: E:\\OneDrive_PSU\\OneDrive - The Pennsylvania State University\\Research_doc\\LLM-Find\\Downloaded_Data\\Everest_DEM.tif \n",
      "\n",
      "\n",
      "Data source:OpenTopography \n",
      "Your reply example: \n",
      "```python\n",
      "import geopandas as gpd\n",
      "import osmnx as ox\n",
      "def download_data():\n",
      "    # data downloading code \n",
      "    # downloaded code \n",
      "download_data()\n",
      "```\n",
      "\n",
      "Technical handbook: \n",
      "1. The OpenTopography API key is: ae061ea579bcd45cae8f64ae8d3fc47f\n",
      "2. The endpoint is: https://portal.opentopography.org/API/globaldem?demtype=SRTMGL3&south=50&north=50.1&west=14.35&east=14.6&outputFormat=GTiff&API_Key=XXX.\n",
      "3. The REST API parameter description: demtype: [SRTMGL3 (SRTM GL3 90m)， SRTMGL1 (SRTM GL1 30m)， SRTMGL1_E (SRTM GL1 Ellipsoidal 30m)， AW3D30 (ALOS World 3D 30m)， AW3D30_E (ALOS World 3D Ellipsoidal, 30m)， SRTM15Plus (Global Bathymetry SRTM15+ V2.1 500m)， NASADEM (NASADEM Global DEM)， COP30 (Copernicus Global DSM 30m)， COP90 (Copernicus Global DSM 90m)， EU_DTM (DTM 30m)， GEDI_L3 (DTM 1000m)， GEBCOIceTopo (Global Bathymetry 500m)， GEBCOSubIceTopo (Global Bathymetry 500m)]; south, north, west, and east: WGS 84 bounding box; outputFormat: 'GTiff' for GeoTiff, 'AAIGrid' for Arc ASCII Grid, 'HFA' for Erdas Imagine (.IMG).\n",
      "4. Shuttle Radar Topography Mission GL3 (Global 90m), GL1 (Global 30m), GL1 Ellipsoidal, ALOS World 3D (Global 30m), ALOS World 3D Ellipsoidal, Global Bathymetry and Topography at 15 Arc Sec: SRTM15+ V2.1, NASADEM (NASADEM Global DEM), COP30 (Copernicus Global DSM 30m), COP90 (Copernicus Global DSM 90m), Continental Europe Digital Terrain Model 30m, GEDI L3 (DTM 1000 meter), GEBCOIceTopo (Global Bathymetry 500m) and GEBCOSubIceTopo (Global Bathymetry 500m) data.\n",
      "5. You will receive a place name or a bounding box of the target area.\n",
      "6. Try not to use `osgeo` Python package; it may have many errors.\n",
      "7. Put your reply into a Python code block. Explanation or conversation can be Python comments at the begining of the code block(enclosed by ```python and ```).\n",
      "8. The download code is only in a function named 'download_data()'. The last line is to execute this function; do not use `if __name__ == '__main__':`.\n",
      "9. If the requested area is provided as a place name, search its bounding box from OpenStreetMap, do not guess the lat/lon yourself since we need accurate results.\n",
      "10. If you use `ox.geocode_to_gdf(place)` to get the place boundary, note that this function return the first POLYGON result from the OpenStreetMap Nominatim 'search' endpoint. Thus, you are searching a POI (a single point), you can use Nominatim (do not forget to set the application name before get the data. Try the Nominatim first.\n",
      "11. To the get bounding box, you can use `gdf = ox.geocode_to_gdf(place_name); west, south, east, north = gdf.unary_union.bounds`.\n",
      "12. DO NOT handle any exceptions since we need to error information for debug.\n",
      "13. This is a program for your reference, note that you can improve it: \n",
      "import requests\n",
      "import osmnx as ox\n",
      "\n",
      "def download_data():\n",
      "    place_name = \"Great Smoky Mountains National Park, USA\"\n",
      "    \n",
      "    # Get the bounding box for the place name\n",
      "    gdf = ox.geocode_to_gdf(place_name)\n",
      "    west, south, east, north = gdf.unary_union.bounds\n",
      "    \n",
      "    # Set the OpenTopography API parameters\n",
      "    demtype = \"SRTMGL3\"  # This is 90m resolution\n",
      "    output_format = \"GTiff\"\n",
      "    api_url = (\n",
      "        f\"https://portal.opentopography.org/API/globaldem?\"\n",
      "        f\"demtype={demtype}&south={south}&north={north}&west={west}&east={east}&outputFormat={output_format}&API_Key=XXXX\"\n",
      "    )\n",
      "    \n",
      "    # Send the request to download the data\n",
      "    response = requests.get(api_url)\n",
      "    \n",
      "    # Raise an exception if the request was unsuccessful\n",
      "    response.raise_for_status()\n",
      "    \n",
      "    # Save the downloaded data to the specified path\n",
      "    output_path = r\"E:\\Great Smoky Mountains National Park.tif\"\n",
      "    \n",
      "    with open(output_path, 'wb') as file:\n",
      "        file.write(response.content)\n",
      "\n",
      "# Execute the function to download the data\n",
      "download_data()\n",
      "\n"
     ]
    }
   ],
   "source": [
    "# %load_ext autoreload\n",
    "# %autoreload 2\n",
    "\n",
    "download_prompt_str = helper.create_download_prompt(task, selected_data_source, handbook_str)\n",
    "\n",
    "print(download_prompt_str)"
   ]
  },
  {
   "cell_type": "code",
   "execution_count": 16,
   "id": "71dd534a-3dd6-4292-a12e-4417284ad9d9",
   "metadata": {
    "execution": {
     "iopub.execute_input": "2024-07-17T16:44:54.700607Z",
     "iopub.status.busy": "2024-07-17T16:44:54.700607Z",
     "iopub.status.idle": "2024-07-17T16:45:03.326799Z",
     "shell.execute_reply": "2024-07-17T16:45:03.326799Z",
     "shell.execute_reply.started": "2024-07-17T16:44:54.700607Z"
    }
   },
   "outputs": [
    {
     "name": "stdout",
     "output_type": "stream",
     "text": [
      "```python\n",
      "import requests\n",
      "\n",
      "def download_data():\n",
      "    # Define the bounding box coordinates for the region of interest\n",
      "    south, west, north, east = 27.82, 86.73, 28.17, 87.13\n",
      "    \n",
      "    # Set the OpenTopography API parameters\n",
      "    demtype = \"AW3D30\"  # ALOS World 3D 30m resolution\n",
      "    output_format = \"GTiff\"\n",
      "    api_key = \"ae061ea579bcd45cae8f64ae8d3fc47f\"\n",
      "    api_url = (\n",
      "        f\"https://portal.opentopography.org/API/globaldem?\"\n",
      "        f\"demtype={demtype}&south={south}&north={north}&west={west}&east={east}&outputFormat={output_format}&API_Key={api_key}\"\n",
      "    )\n",
      "    \n",
      "    # Send the request to download the data\n",
      "    response = requests.get(api_url)\n",
      "    \n",
      "    # Raise an exception if the request was unsuccessful\n",
      "    response.raise_for_status()\n",
      "    \n",
      "    # Save the downloaded data to the specified path\n",
      "    output_path = r\"E:\\OneDrive_PSU\\OneDrive - The Pennsylvania State University\\Research_doc\\LLM-Find\\Downloaded_Data\\Everest_DEM.tif\"\n",
      "    \n",
      "    with open(output_path, 'wb') as file:\n",
      "        file.write(response.content)\n",
      "\n",
      "# Execute the function to download the data\n",
      "download_data()\n",
      "```\n"
     ]
    }
   ],
   "source": [
    "from IPython.display import clear_output\n",
    "\n",
    "chunks = []\n",
    "\n",
    "async for chunk in model.astream(download_prompt_str):\n",
    "    chunks.append(chunk)\n",
    "    print(chunk.content, end=\"\", flush=True)\n",
    "\n",
    "# clear_output(wait=True)\n",
    "clear_output(wait=False)\n",
    "LLM_reply_str = helper.convert_chunks_to_str(chunks=chunks)\n",
    "print(LLM_reply_str)"
   ]
  },
  {
   "cell_type": "code",
   "execution_count": 17,
   "id": "42cc63c3-9eb3-40ad-8daa-fefa5ba85190",
   "metadata": {
    "execution": {
     "iopub.execute_input": "2024-07-17T16:45:03.327804Z",
     "iopub.status.busy": "2024-07-17T16:45:03.327804Z",
     "iopub.status.idle": "2024-07-17T16:45:03.465456Z",
     "shell.execute_reply": "2024-07-17T16:45:03.465456Z",
     "shell.execute_reply.started": "2024-07-17T16:45:03.327804Z"
    }
   },
   "outputs": [
    {
     "name": "stdout",
     "output_type": "stream",
     "text": [
      "import requests\n",
      "\n",
      "def download_data():\n",
      "    # Define the bounding box coordinates for the region of interest\n",
      "    south, west, north, east = 27.82, 86.73, 28.17, 87.13\n",
      "    \n",
      "    # Set the OpenTopography API parameters\n",
      "    demtype = \"AW3D30\"  # ALOS World 3D 30m resolution\n",
      "    output_format = \"GTiff\"\n",
      "    api_key = \"ae061ea579bcd45cae8f64ae8d3fc47f\"\n",
      "    api_url = (\n",
      "        f\"https://portal.opentopography.org/API/globaldem?\"\n",
      "        f\"demtype={demtype}&south={south}&north={north}&west={west}&east={east}&outputFormat={output_format}&API_Key={api_key}\"\n",
      "    )\n",
      "    \n",
      "    # Send the request to download the data\n",
      "    response = requests.get(api_url)\n",
      "    \n",
      "    # Raise an exception if the request was unsuccessful\n",
      "    response.raise_for_status()\n",
      "    \n",
      "    # Save the downloaded data to the specified path\n",
      "    output_path = r\"E:\\OneDrive_PSU\\OneDrive - The Pennsylvania State University\\Research_doc\\LLM-Find\\Downloaded_Data\\Everest_DEM.tif\"\n",
      "    \n",
      "    with open(output_path, 'wb') as file:\n",
      "        file.write(response.content)\n",
      "\n",
      "# Execute the function to download the data\n",
      "download_data()\n"
     ]
    },
    {
     "data": {
      "text/html": [
       "<style>pre { line-height: 125%; }\n",
       "td.linenos .normal { color: inherit; background-color: transparent; padding-left: 5px; padding-right: 5px; }\n",
       "span.linenos { color: inherit; background-color: transparent; padding-left: 5px; padding-right: 5px; }\n",
       "td.linenos .special { color: #000000; background-color: #ffffc0; padding-left: 5px; padding-right: 5px; }\n",
       "span.linenos.special { color: #000000; background-color: #ffffc0; padding-left: 5px; padding-right: 5px; }\n",
       ".output_html .hll { background-color: #ffffcc }\n",
       ".output_html { background: #f8f8f8; }\n",
       ".output_html .c { color: #3D7B7B; font-style: italic } /* Comment */\n",
       ".output_html .err { border: 1px solid #FF0000 } /* Error */\n",
       ".output_html .k { color: #008000; font-weight: bold } /* Keyword */\n",
       ".output_html .o { color: #666666 } /* Operator */\n",
       ".output_html .ch { color: #3D7B7B; font-style: italic } /* Comment.Hashbang */\n",
       ".output_html .cm { color: #3D7B7B; font-style: italic } /* Comment.Multiline */\n",
       ".output_html .cp { color: #9C6500 } /* Comment.Preproc */\n",
       ".output_html .cpf { color: #3D7B7B; font-style: italic } /* Comment.PreprocFile */\n",
       ".output_html .c1 { color: #3D7B7B; font-style: italic } /* Comment.Single */\n",
       ".output_html .cs { color: #3D7B7B; font-style: italic } /* Comment.Special */\n",
       ".output_html .gd { color: #A00000 } /* Generic.Deleted */\n",
       ".output_html .ge { font-style: italic } /* Generic.Emph */\n",
       ".output_html .gr { color: #E40000 } /* Generic.Error */\n",
       ".output_html .gh { color: #000080; font-weight: bold } /* Generic.Heading */\n",
       ".output_html .gi { color: #008400 } /* Generic.Inserted */\n",
       ".output_html .go { color: #717171 } /* Generic.Output */\n",
       ".output_html .gp { color: #000080; font-weight: bold } /* Generic.Prompt */\n",
       ".output_html .gs { font-weight: bold } /* Generic.Strong */\n",
       ".output_html .gu { color: #800080; font-weight: bold } /* Generic.Subheading */\n",
       ".output_html .gt { color: #0044DD } /* Generic.Traceback */\n",
       ".output_html .kc { color: #008000; font-weight: bold } /* Keyword.Constant */\n",
       ".output_html .kd { color: #008000; font-weight: bold } /* Keyword.Declaration */\n",
       ".output_html .kn { color: #008000; font-weight: bold } /* Keyword.Namespace */\n",
       ".output_html .kp { color: #008000 } /* Keyword.Pseudo */\n",
       ".output_html .kr { color: #008000; font-weight: bold } /* Keyword.Reserved */\n",
       ".output_html .kt { color: #B00040 } /* Keyword.Type */\n",
       ".output_html .m { color: #666666 } /* Literal.Number */\n",
       ".output_html .s { color: #BA2121 } /* Literal.String */\n",
       ".output_html .na { color: #687822 } /* Name.Attribute */\n",
       ".output_html .nb { color: #008000 } /* Name.Builtin */\n",
       ".output_html .nc { color: #0000FF; font-weight: bold } /* Name.Class */\n",
       ".output_html .no { color: #880000 } /* Name.Constant */\n",
       ".output_html .nd { color: #AA22FF } /* Name.Decorator */\n",
       ".output_html .ni { color: #717171; font-weight: bold } /* Name.Entity */\n",
       ".output_html .ne { color: #CB3F38; font-weight: bold } /* Name.Exception */\n",
       ".output_html .nf { color: #0000FF } /* Name.Function */\n",
       ".output_html .nl { color: #767600 } /* Name.Label */\n",
       ".output_html .nn { color: #0000FF; font-weight: bold } /* Name.Namespace */\n",
       ".output_html .nt { color: #008000; font-weight: bold } /* Name.Tag */\n",
       ".output_html .nv { color: #19177C } /* Name.Variable */\n",
       ".output_html .ow { color: #AA22FF; font-weight: bold } /* Operator.Word */\n",
       ".output_html .w { color: #bbbbbb } /* Text.Whitespace */\n",
       ".output_html .mb { color: #666666 } /* Literal.Number.Bin */\n",
       ".output_html .mf { color: #666666 } /* Literal.Number.Float */\n",
       ".output_html .mh { color: #666666 } /* Literal.Number.Hex */\n",
       ".output_html .mi { color: #666666 } /* Literal.Number.Integer */\n",
       ".output_html .mo { color: #666666 } /* Literal.Number.Oct */\n",
       ".output_html .sa { color: #BA2121 } /* Literal.String.Affix */\n",
       ".output_html .sb { color: #BA2121 } /* Literal.String.Backtick */\n",
       ".output_html .sc { color: #BA2121 } /* Literal.String.Char */\n",
       ".output_html .dl { color: #BA2121 } /* Literal.String.Delimiter */\n",
       ".output_html .sd { color: #BA2121; font-style: italic } /* Literal.String.Doc */\n",
       ".output_html .s2 { color: #BA2121 } /* Literal.String.Double */\n",
       ".output_html .se { color: #AA5D1F; font-weight: bold } /* Literal.String.Escape */\n",
       ".output_html .sh { color: #BA2121 } /* Literal.String.Heredoc */\n",
       ".output_html .si { color: #A45A77; font-weight: bold } /* Literal.String.Interpol */\n",
       ".output_html .sx { color: #008000 } /* Literal.String.Other */\n",
       ".output_html .sr { color: #A45A77 } /* Literal.String.Regex */\n",
       ".output_html .s1 { color: #BA2121 } /* Literal.String.Single */\n",
       ".output_html .ss { color: #19177C } /* Literal.String.Symbol */\n",
       ".output_html .bp { color: #008000 } /* Name.Builtin.Pseudo */\n",
       ".output_html .fm { color: #0000FF } /* Name.Function.Magic */\n",
       ".output_html .vc { color: #19177C } /* Name.Variable.Class */\n",
       ".output_html .vg { color: #19177C } /* Name.Variable.Global */\n",
       ".output_html .vi { color: #19177C } /* Name.Variable.Instance */\n",
       ".output_html .vm { color: #19177C } /* Name.Variable.Magic */\n",
       ".output_html .il { color: #666666 } /* Literal.Number.Integer.Long */</style><div class=\"highlight\"><pre><span></span><span class=\"kn\">import</span> <span class=\"nn\">requests</span>\n",
       "\n",
       "<span class=\"k\">def</span> <span class=\"nf\">download_data</span><span class=\"p\">():</span>\n",
       "    <span class=\"c1\"># Define the bounding box coordinates for the region of interest</span>\n",
       "    <span class=\"n\">south</span><span class=\"p\">,</span> <span class=\"n\">west</span><span class=\"p\">,</span> <span class=\"n\">north</span><span class=\"p\">,</span> <span class=\"n\">east</span> <span class=\"o\">=</span> <span class=\"mf\">27.82</span><span class=\"p\">,</span> <span class=\"mf\">86.73</span><span class=\"p\">,</span> <span class=\"mf\">28.17</span><span class=\"p\">,</span> <span class=\"mf\">87.13</span>\n",
       "    \n",
       "    <span class=\"c1\"># Set the OpenTopography API parameters</span>\n",
       "    <span class=\"n\">demtype</span> <span class=\"o\">=</span> <span class=\"s2\">&quot;AW3D30&quot;</span>  <span class=\"c1\"># ALOS World 3D 30m resolution</span>\n",
       "    <span class=\"n\">output_format</span> <span class=\"o\">=</span> <span class=\"s2\">&quot;GTiff&quot;</span>\n",
       "    <span class=\"n\">api_key</span> <span class=\"o\">=</span> <span class=\"s2\">&quot;ae061ea579bcd45cae8f64ae8d3fc47f&quot;</span>\n",
       "    <span class=\"n\">api_url</span> <span class=\"o\">=</span> <span class=\"p\">(</span>\n",
       "        <span class=\"sa\">f</span><span class=\"s2\">&quot;https://portal.opentopography.org/API/globaldem?&quot;</span>\n",
       "        <span class=\"sa\">f</span><span class=\"s2\">&quot;demtype=</span><span class=\"si\">{</span><span class=\"n\">demtype</span><span class=\"si\">}</span><span class=\"s2\">&amp;south=</span><span class=\"si\">{</span><span class=\"n\">south</span><span class=\"si\">}</span><span class=\"s2\">&amp;north=</span><span class=\"si\">{</span><span class=\"n\">north</span><span class=\"si\">}</span><span class=\"s2\">&amp;west=</span><span class=\"si\">{</span><span class=\"n\">west</span><span class=\"si\">}</span><span class=\"s2\">&amp;east=</span><span class=\"si\">{</span><span class=\"n\">east</span><span class=\"si\">}</span><span class=\"s2\">&amp;outputFormat=</span><span class=\"si\">{</span><span class=\"n\">output_format</span><span class=\"si\">}</span><span class=\"s2\">&amp;API_Key=</span><span class=\"si\">{</span><span class=\"n\">api_key</span><span class=\"si\">}</span><span class=\"s2\">&quot;</span>\n",
       "    <span class=\"p\">)</span>\n",
       "    \n",
       "    <span class=\"c1\"># Send the request to download the data</span>\n",
       "    <span class=\"n\">response</span> <span class=\"o\">=</span> <span class=\"n\">requests</span><span class=\"o\">.</span><span class=\"n\">get</span><span class=\"p\">(</span><span class=\"n\">api_url</span><span class=\"p\">)</span>\n",
       "    \n",
       "    <span class=\"c1\"># Raise an exception if the request was unsuccessful</span>\n",
       "    <span class=\"n\">response</span><span class=\"o\">.</span><span class=\"n\">raise_for_status</span><span class=\"p\">()</span>\n",
       "    \n",
       "    <span class=\"c1\"># Save the downloaded data to the specified path</span>\n",
       "    <span class=\"n\">output_path</span> <span class=\"o\">=</span> <span class=\"sa\">r</span><span class=\"s2\">&quot;E:\\OneDrive_PSU\\OneDrive - The Pennsylvania State University\\Research_doc\\LLM-Find\\Downloaded_Data\\Everest_DEM.tif&quot;</span>\n",
       "    \n",
       "    <span class=\"k\">with</span> <span class=\"nb\">open</span><span class=\"p\">(</span><span class=\"n\">output_path</span><span class=\"p\">,</span> <span class=\"s1\">&#39;wb&#39;</span><span class=\"p\">)</span> <span class=\"k\">as</span> <span class=\"n\">file</span><span class=\"p\">:</span>\n",
       "        <span class=\"n\">file</span><span class=\"o\">.</span><span class=\"n\">write</span><span class=\"p\">(</span><span class=\"n\">response</span><span class=\"o\">.</span><span class=\"n\">content</span><span class=\"p\">)</span>\n",
       "\n",
       "<span class=\"c1\"># Execute the function to download the data</span>\n",
       "<span class=\"n\">download_data</span><span class=\"p\">()</span>\n",
       "</pre></div>\n"
      ],
      "text/latex": [
       "\\begin{Verbatim}[commandchars=\\\\\\{\\}]\n",
       "\\PY{k+kn}{import} \\PY{n+nn}{requests}\n",
       "\n",
       "\\PY{k}{def} \\PY{n+nf}{download\\PYZus{}data}\\PY{p}{(}\\PY{p}{)}\\PY{p}{:}\n",
       "    \\PY{c+c1}{\\PYZsh{} Define the bounding box coordinates for the region of interest}\n",
       "    \\PY{n}{south}\\PY{p}{,} \\PY{n}{west}\\PY{p}{,} \\PY{n}{north}\\PY{p}{,} \\PY{n}{east} \\PY{o}{=} \\PY{l+m+mf}{27.82}\\PY{p}{,} \\PY{l+m+mf}{86.73}\\PY{p}{,} \\PY{l+m+mf}{28.17}\\PY{p}{,} \\PY{l+m+mf}{87.13}\n",
       "    \n",
       "    \\PY{c+c1}{\\PYZsh{} Set the OpenTopography API parameters}\n",
       "    \\PY{n}{demtype} \\PY{o}{=} \\PY{l+s+s2}{\\PYZdq{}}\\PY{l+s+s2}{AW3D30}\\PY{l+s+s2}{\\PYZdq{}}  \\PY{c+c1}{\\PYZsh{} ALOS World 3D 30m resolution}\n",
       "    \\PY{n}{output\\PYZus{}format} \\PY{o}{=} \\PY{l+s+s2}{\\PYZdq{}}\\PY{l+s+s2}{GTiff}\\PY{l+s+s2}{\\PYZdq{}}\n",
       "    \\PY{n}{api\\PYZus{}key} \\PY{o}{=} \\PY{l+s+s2}{\\PYZdq{}}\\PY{l+s+s2}{ae061ea579bcd45cae8f64ae8d3fc47f}\\PY{l+s+s2}{\\PYZdq{}}\n",
       "    \\PY{n}{api\\PYZus{}url} \\PY{o}{=} \\PY{p}{(}\n",
       "        \\PY{l+s+sa}{f}\\PY{l+s+s2}{\\PYZdq{}}\\PY{l+s+s2}{https://portal.opentopography.org/API/globaldem?}\\PY{l+s+s2}{\\PYZdq{}}\n",
       "        \\PY{l+s+sa}{f}\\PY{l+s+s2}{\\PYZdq{}}\\PY{l+s+s2}{demtype=}\\PY{l+s+si}{\\PYZob{}}\\PY{n}{demtype}\\PY{l+s+si}{\\PYZcb{}}\\PY{l+s+s2}{\\PYZam{}south=}\\PY{l+s+si}{\\PYZob{}}\\PY{n}{south}\\PY{l+s+si}{\\PYZcb{}}\\PY{l+s+s2}{\\PYZam{}north=}\\PY{l+s+si}{\\PYZob{}}\\PY{n}{north}\\PY{l+s+si}{\\PYZcb{}}\\PY{l+s+s2}{\\PYZam{}west=}\\PY{l+s+si}{\\PYZob{}}\\PY{n}{west}\\PY{l+s+si}{\\PYZcb{}}\\PY{l+s+s2}{\\PYZam{}east=}\\PY{l+s+si}{\\PYZob{}}\\PY{n}{east}\\PY{l+s+si}{\\PYZcb{}}\\PY{l+s+s2}{\\PYZam{}outputFormat=}\\PY{l+s+si}{\\PYZob{}}\\PY{n}{output\\PYZus{}format}\\PY{l+s+si}{\\PYZcb{}}\\PY{l+s+s2}{\\PYZam{}API\\PYZus{}Key=}\\PY{l+s+si}{\\PYZob{}}\\PY{n}{api\\PYZus{}key}\\PY{l+s+si}{\\PYZcb{}}\\PY{l+s+s2}{\\PYZdq{}}\n",
       "    \\PY{p}{)}\n",
       "    \n",
       "    \\PY{c+c1}{\\PYZsh{} Send the request to download the data}\n",
       "    \\PY{n}{response} \\PY{o}{=} \\PY{n}{requests}\\PY{o}{.}\\PY{n}{get}\\PY{p}{(}\\PY{n}{api\\PYZus{}url}\\PY{p}{)}\n",
       "    \n",
       "    \\PY{c+c1}{\\PYZsh{} Raise an exception if the request was unsuccessful}\n",
       "    \\PY{n}{response}\\PY{o}{.}\\PY{n}{raise\\PYZus{}for\\PYZus{}status}\\PY{p}{(}\\PY{p}{)}\n",
       "    \n",
       "    \\PY{c+c1}{\\PYZsh{} Save the downloaded data to the specified path}\n",
       "    \\PY{n}{output\\PYZus{}path} \\PY{o}{=} \\PY{l+s+sa}{r}\\PY{l+s+s2}{\\PYZdq{}}\\PY{l+s+s2}{E:}\\PY{l+s+s2}{\\PYZbs{}}\\PY{l+s+s2}{OneDrive\\PYZus{}PSU}\\PY{l+s+s2}{\\PYZbs{}}\\PY{l+s+s2}{OneDrive \\PYZhy{} The Pennsylvania State University}\\PY{l+s+s2}{\\PYZbs{}}\\PY{l+s+s2}{Research\\PYZus{}doc}\\PY{l+s+s2}{\\PYZbs{}}\\PY{l+s+s2}{LLM\\PYZhy{}Find}\\PY{l+s+s2}{\\PYZbs{}}\\PY{l+s+s2}{Downloaded\\PYZus{}Data}\\PY{l+s+s2}{\\PYZbs{}}\\PY{l+s+s2}{Everest\\PYZus{}DEM.tif}\\PY{l+s+s2}{\\PYZdq{}}\n",
       "    \n",
       "    \\PY{k}{with} \\PY{n+nb}{open}\\PY{p}{(}\\PY{n}{output\\PYZus{}path}\\PY{p}{,} \\PY{l+s+s1}{\\PYZsq{}}\\PY{l+s+s1}{wb}\\PY{l+s+s1}{\\PYZsq{}}\\PY{p}{)} \\PY{k}{as} \\PY{n}{file}\\PY{p}{:}\n",
       "        \\PY{n}{file}\\PY{o}{.}\\PY{n}{write}\\PY{p}{(}\\PY{n}{response}\\PY{o}{.}\\PY{n}{content}\\PY{p}{)}\n",
       "\n",
       "\\PY{c+c1}{\\PYZsh{} Execute the function to download the data}\n",
       "\\PY{n}{download\\PYZus{}data}\\PY{p}{(}\\PY{p}{)}\n",
       "\\end{Verbatim}\n"
      ],
      "text/plain": [
       "import requests\n",
       "\n",
       "def download_data():\n",
       "    # Define the bounding box coordinates for the region of interest\n",
       "    south, west, north, east = 27.82, 86.73, 28.17, 87.13\n",
       "    \n",
       "    # Set the OpenTopography API parameters\n",
       "    demtype = \"AW3D30\"  # ALOS World 3D 30m resolution\n",
       "    output_format = \"GTiff\"\n",
       "    api_key = \"ae061ea579bcd45cae8f64ae8d3fc47f\"\n",
       "    api_url = (\n",
       "        f\"https://portal.opentopography.org/API/globaldem?\"\n",
       "        f\"demtype={demtype}&south={south}&north={north}&west={west}&east={east}&outputFormat={output_format}&API_Key={api_key}\"\n",
       "    )\n",
       "    \n",
       "    # Send the request to download the data\n",
       "    response = requests.get(api_url)\n",
       "    \n",
       "    # Raise an exception if the request was unsuccessful\n",
       "    response.raise_for_status()\n",
       "    \n",
       "    # Save the downloaded data to the specified path\n",
       "    output_path = r\"E:\\OneDrive_PSU\\OneDrive - The Pennsylvania State University\\Research_doc\\LLM-Find\\Downloaded_Data\\Everest_DEM.tif\"\n",
       "    \n",
       "    with open(output_path, 'wb') as file:\n",
       "        file.write(response.content)\n",
       "\n",
       "# Execute the function to download the data\n",
       "download_data()"
      ]
     },
     "metadata": {},
     "output_type": "display_data"
    }
   ],
   "source": [
    "code = helper.extract_code_from_str(LLM_reply_str, task)\n",
    "display(Code(code, language='python'))"
   ]
  },
  {
   "cell_type": "markdown",
   "id": "5288069a-6deb-4bbb-bbf9-1998cf823b9b",
   "metadata": {
    "execution": {
     "iopub.execute_input": "2024-07-02T19:45:44.349836Z",
     "iopub.status.busy": "2024-07-02T19:45:44.349836Z",
     "iopub.status.idle": "2024-07-02T19:45:44.441835Z",
     "shell.execute_reply": "2024-07-02T19:45:44.441835Z",
     "shell.execute_reply.started": "2024-07-02T19:45:44.349836Z"
    }
   },
   "source": [
    "# Execute the generated program"
   ]
  },
  {
   "cell_type": "code",
   "execution_count": 18,
   "id": "007ff924-8af3-4b1f-aed6-859033500f69",
   "metadata": {
    "execution": {
     "iopub.execute_input": "2024-07-17T16:45:03.466462Z",
     "iopub.status.busy": "2024-07-17T16:45:03.466462Z",
     "iopub.status.idle": "2024-07-17T16:45:20.368825Z",
     "shell.execute_reply": "2024-07-17T16:45:20.368825Z",
     "shell.execute_reply.started": "2024-07-17T16:45:03.466462Z"
    },
    "tags": []
   },
   "outputs": [
    {
     "name": "stdout",
     "output_type": "stream",
     "text": [
      "\n",
      "\n",
      "-------------- Running code (trial # 1/10) --------------\n",
      "\n",
      "\n",
      "\n",
      "\n",
      "--------------- Done ---------------\n",
      "\n",
      "\n"
     ]
    },
    {
     "data": {
      "text/html": [
       "<style>pre { line-height: 125%; }\n",
       "td.linenos .normal { color: inherit; background-color: transparent; padding-left: 5px; padding-right: 5px; }\n",
       "span.linenos { color: inherit; background-color: transparent; padding-left: 5px; padding-right: 5px; }\n",
       "td.linenos .special { color: #000000; background-color: #ffffc0; padding-left: 5px; padding-right: 5px; }\n",
       "span.linenos.special { color: #000000; background-color: #ffffc0; padding-left: 5px; padding-right: 5px; }\n",
       ".output_html .hll { background-color: #ffffcc }\n",
       ".output_html { background: #f8f8f8; }\n",
       ".output_html .c { color: #3D7B7B; font-style: italic } /* Comment */\n",
       ".output_html .err { border: 1px solid #FF0000 } /* Error */\n",
       ".output_html .k { color: #008000; font-weight: bold } /* Keyword */\n",
       ".output_html .o { color: #666666 } /* Operator */\n",
       ".output_html .ch { color: #3D7B7B; font-style: italic } /* Comment.Hashbang */\n",
       ".output_html .cm { color: #3D7B7B; font-style: italic } /* Comment.Multiline */\n",
       ".output_html .cp { color: #9C6500 } /* Comment.Preproc */\n",
       ".output_html .cpf { color: #3D7B7B; font-style: italic } /* Comment.PreprocFile */\n",
       ".output_html .c1 { color: #3D7B7B; font-style: italic } /* Comment.Single */\n",
       ".output_html .cs { color: #3D7B7B; font-style: italic } /* Comment.Special */\n",
       ".output_html .gd { color: #A00000 } /* Generic.Deleted */\n",
       ".output_html .ge { font-style: italic } /* Generic.Emph */\n",
       ".output_html .gr { color: #E40000 } /* Generic.Error */\n",
       ".output_html .gh { color: #000080; font-weight: bold } /* Generic.Heading */\n",
       ".output_html .gi { color: #008400 } /* Generic.Inserted */\n",
       ".output_html .go { color: #717171 } /* Generic.Output */\n",
       ".output_html .gp { color: #000080; font-weight: bold } /* Generic.Prompt */\n",
       ".output_html .gs { font-weight: bold } /* Generic.Strong */\n",
       ".output_html .gu { color: #800080; font-weight: bold } /* Generic.Subheading */\n",
       ".output_html .gt { color: #0044DD } /* Generic.Traceback */\n",
       ".output_html .kc { color: #008000; font-weight: bold } /* Keyword.Constant */\n",
       ".output_html .kd { color: #008000; font-weight: bold } /* Keyword.Declaration */\n",
       ".output_html .kn { color: #008000; font-weight: bold } /* Keyword.Namespace */\n",
       ".output_html .kp { color: #008000 } /* Keyword.Pseudo */\n",
       ".output_html .kr { color: #008000; font-weight: bold } /* Keyword.Reserved */\n",
       ".output_html .kt { color: #B00040 } /* Keyword.Type */\n",
       ".output_html .m { color: #666666 } /* Literal.Number */\n",
       ".output_html .s { color: #BA2121 } /* Literal.String */\n",
       ".output_html .na { color: #687822 } /* Name.Attribute */\n",
       ".output_html .nb { color: #008000 } /* Name.Builtin */\n",
       ".output_html .nc { color: #0000FF; font-weight: bold } /* Name.Class */\n",
       ".output_html .no { color: #880000 } /* Name.Constant */\n",
       ".output_html .nd { color: #AA22FF } /* Name.Decorator */\n",
       ".output_html .ni { color: #717171; font-weight: bold } /* Name.Entity */\n",
       ".output_html .ne { color: #CB3F38; font-weight: bold } /* Name.Exception */\n",
       ".output_html .nf { color: #0000FF } /* Name.Function */\n",
       ".output_html .nl { color: #767600 } /* Name.Label */\n",
       ".output_html .nn { color: #0000FF; font-weight: bold } /* Name.Namespace */\n",
       ".output_html .nt { color: #008000; font-weight: bold } /* Name.Tag */\n",
       ".output_html .nv { color: #19177C } /* Name.Variable */\n",
       ".output_html .ow { color: #AA22FF; font-weight: bold } /* Operator.Word */\n",
       ".output_html .w { color: #bbbbbb } /* Text.Whitespace */\n",
       ".output_html .mb { color: #666666 } /* Literal.Number.Bin */\n",
       ".output_html .mf { color: #666666 } /* Literal.Number.Float */\n",
       ".output_html .mh { color: #666666 } /* Literal.Number.Hex */\n",
       ".output_html .mi { color: #666666 } /* Literal.Number.Integer */\n",
       ".output_html .mo { color: #666666 } /* Literal.Number.Oct */\n",
       ".output_html .sa { color: #BA2121 } /* Literal.String.Affix */\n",
       ".output_html .sb { color: #BA2121 } /* Literal.String.Backtick */\n",
       ".output_html .sc { color: #BA2121 } /* Literal.String.Char */\n",
       ".output_html .dl { color: #BA2121 } /* Literal.String.Delimiter */\n",
       ".output_html .sd { color: #BA2121; font-style: italic } /* Literal.String.Doc */\n",
       ".output_html .s2 { color: #BA2121 } /* Literal.String.Double */\n",
       ".output_html .se { color: #AA5D1F; font-weight: bold } /* Literal.String.Escape */\n",
       ".output_html .sh { color: #BA2121 } /* Literal.String.Heredoc */\n",
       ".output_html .si { color: #A45A77; font-weight: bold } /* Literal.String.Interpol */\n",
       ".output_html .sx { color: #008000 } /* Literal.String.Other */\n",
       ".output_html .sr { color: #A45A77 } /* Literal.String.Regex */\n",
       ".output_html .s1 { color: #BA2121 } /* Literal.String.Single */\n",
       ".output_html .ss { color: #19177C } /* Literal.String.Symbol */\n",
       ".output_html .bp { color: #008000 } /* Name.Builtin.Pseudo */\n",
       ".output_html .fm { color: #0000FF } /* Name.Function.Magic */\n",
       ".output_html .vc { color: #19177C } /* Name.Variable.Class */\n",
       ".output_html .vg { color: #19177C } /* Name.Variable.Global */\n",
       ".output_html .vi { color: #19177C } /* Name.Variable.Instance */\n",
       ".output_html .vm { color: #19177C } /* Name.Variable.Magic */\n",
       ".output_html .il { color: #666666 } /* Literal.Number.Integer.Long */</style><div class=\"highlight\"><pre><span></span><span class=\"kn\">import</span> <span class=\"nn\">requests</span>\n",
       "\n",
       "<span class=\"k\">def</span> <span class=\"nf\">download_data</span><span class=\"p\">():</span>\n",
       "    <span class=\"c1\"># Define the bounding box coordinates for the region of interest</span>\n",
       "    <span class=\"n\">south</span><span class=\"p\">,</span> <span class=\"n\">west</span><span class=\"p\">,</span> <span class=\"n\">north</span><span class=\"p\">,</span> <span class=\"n\">east</span> <span class=\"o\">=</span> <span class=\"mf\">27.82</span><span class=\"p\">,</span> <span class=\"mf\">86.73</span><span class=\"p\">,</span> <span class=\"mf\">28.17</span><span class=\"p\">,</span> <span class=\"mf\">87.13</span>\n",
       "    \n",
       "    <span class=\"c1\"># Set the OpenTopography API parameters</span>\n",
       "    <span class=\"n\">demtype</span> <span class=\"o\">=</span> <span class=\"s2\">&quot;AW3D30&quot;</span>  <span class=\"c1\"># ALOS World 3D 30m resolution</span>\n",
       "    <span class=\"n\">output_format</span> <span class=\"o\">=</span> <span class=\"s2\">&quot;GTiff&quot;</span>\n",
       "    <span class=\"n\">api_key</span> <span class=\"o\">=</span> <span class=\"s2\">&quot;ae061ea579bcd45cae8f64ae8d3fc47f&quot;</span>\n",
       "    <span class=\"n\">api_url</span> <span class=\"o\">=</span> <span class=\"p\">(</span>\n",
       "        <span class=\"sa\">f</span><span class=\"s2\">&quot;https://portal.opentopography.org/API/globaldem?&quot;</span>\n",
       "        <span class=\"sa\">f</span><span class=\"s2\">&quot;demtype=</span><span class=\"si\">{</span><span class=\"n\">demtype</span><span class=\"si\">}</span><span class=\"s2\">&amp;south=</span><span class=\"si\">{</span><span class=\"n\">south</span><span class=\"si\">}</span><span class=\"s2\">&amp;north=</span><span class=\"si\">{</span><span class=\"n\">north</span><span class=\"si\">}</span><span class=\"s2\">&amp;west=</span><span class=\"si\">{</span><span class=\"n\">west</span><span class=\"si\">}</span><span class=\"s2\">&amp;east=</span><span class=\"si\">{</span><span class=\"n\">east</span><span class=\"si\">}</span><span class=\"s2\">&amp;outputFormat=</span><span class=\"si\">{</span><span class=\"n\">output_format</span><span class=\"si\">}</span><span class=\"s2\">&amp;API_Key=</span><span class=\"si\">{</span><span class=\"n\">api_key</span><span class=\"si\">}</span><span class=\"s2\">&quot;</span>\n",
       "    <span class=\"p\">)</span>\n",
       "    \n",
       "    <span class=\"c1\"># Send the request to download the data</span>\n",
       "    <span class=\"n\">response</span> <span class=\"o\">=</span> <span class=\"n\">requests</span><span class=\"o\">.</span><span class=\"n\">get</span><span class=\"p\">(</span><span class=\"n\">api_url</span><span class=\"p\">)</span>\n",
       "    \n",
       "    <span class=\"c1\"># Raise an exception if the request was unsuccessful</span>\n",
       "    <span class=\"n\">response</span><span class=\"o\">.</span><span class=\"n\">raise_for_status</span><span class=\"p\">()</span>\n",
       "    \n",
       "    <span class=\"c1\"># Save the downloaded data to the specified path</span>\n",
       "    <span class=\"n\">output_path</span> <span class=\"o\">=</span> <span class=\"sa\">r</span><span class=\"s2\">&quot;E:\\OneDrive_PSU\\OneDrive - The Pennsylvania State University\\Research_doc\\LLM-Find\\Downloaded_Data\\Everest_DEM.tif&quot;</span>\n",
       "    \n",
       "    <span class=\"k\">with</span> <span class=\"nb\">open</span><span class=\"p\">(</span><span class=\"n\">output_path</span><span class=\"p\">,</span> <span class=\"s1\">&#39;wb&#39;</span><span class=\"p\">)</span> <span class=\"k\">as</span> <span class=\"n\">file</span><span class=\"p\">:</span>\n",
       "        <span class=\"n\">file</span><span class=\"o\">.</span><span class=\"n\">write</span><span class=\"p\">(</span><span class=\"n\">response</span><span class=\"o\">.</span><span class=\"n\">content</span><span class=\"p\">)</span>\n",
       "\n",
       "<span class=\"c1\"># Execute the function to download the data</span>\n",
       "<span class=\"n\">download_data</span><span class=\"p\">()</span>\n",
       "</pre></div>\n"
      ],
      "text/latex": [
       "\\begin{Verbatim}[commandchars=\\\\\\{\\}]\n",
       "\\PY{k+kn}{import} \\PY{n+nn}{requests}\n",
       "\n",
       "\\PY{k}{def} \\PY{n+nf}{download\\PYZus{}data}\\PY{p}{(}\\PY{p}{)}\\PY{p}{:}\n",
       "    \\PY{c+c1}{\\PYZsh{} Define the bounding box coordinates for the region of interest}\n",
       "    \\PY{n}{south}\\PY{p}{,} \\PY{n}{west}\\PY{p}{,} \\PY{n}{north}\\PY{p}{,} \\PY{n}{east} \\PY{o}{=} \\PY{l+m+mf}{27.82}\\PY{p}{,} \\PY{l+m+mf}{86.73}\\PY{p}{,} \\PY{l+m+mf}{28.17}\\PY{p}{,} \\PY{l+m+mf}{87.13}\n",
       "    \n",
       "    \\PY{c+c1}{\\PYZsh{} Set the OpenTopography API parameters}\n",
       "    \\PY{n}{demtype} \\PY{o}{=} \\PY{l+s+s2}{\\PYZdq{}}\\PY{l+s+s2}{AW3D30}\\PY{l+s+s2}{\\PYZdq{}}  \\PY{c+c1}{\\PYZsh{} ALOS World 3D 30m resolution}\n",
       "    \\PY{n}{output\\PYZus{}format} \\PY{o}{=} \\PY{l+s+s2}{\\PYZdq{}}\\PY{l+s+s2}{GTiff}\\PY{l+s+s2}{\\PYZdq{}}\n",
       "    \\PY{n}{api\\PYZus{}key} \\PY{o}{=} \\PY{l+s+s2}{\\PYZdq{}}\\PY{l+s+s2}{ae061ea579bcd45cae8f64ae8d3fc47f}\\PY{l+s+s2}{\\PYZdq{}}\n",
       "    \\PY{n}{api\\PYZus{}url} \\PY{o}{=} \\PY{p}{(}\n",
       "        \\PY{l+s+sa}{f}\\PY{l+s+s2}{\\PYZdq{}}\\PY{l+s+s2}{https://portal.opentopography.org/API/globaldem?}\\PY{l+s+s2}{\\PYZdq{}}\n",
       "        \\PY{l+s+sa}{f}\\PY{l+s+s2}{\\PYZdq{}}\\PY{l+s+s2}{demtype=}\\PY{l+s+si}{\\PYZob{}}\\PY{n}{demtype}\\PY{l+s+si}{\\PYZcb{}}\\PY{l+s+s2}{\\PYZam{}south=}\\PY{l+s+si}{\\PYZob{}}\\PY{n}{south}\\PY{l+s+si}{\\PYZcb{}}\\PY{l+s+s2}{\\PYZam{}north=}\\PY{l+s+si}{\\PYZob{}}\\PY{n}{north}\\PY{l+s+si}{\\PYZcb{}}\\PY{l+s+s2}{\\PYZam{}west=}\\PY{l+s+si}{\\PYZob{}}\\PY{n}{west}\\PY{l+s+si}{\\PYZcb{}}\\PY{l+s+s2}{\\PYZam{}east=}\\PY{l+s+si}{\\PYZob{}}\\PY{n}{east}\\PY{l+s+si}{\\PYZcb{}}\\PY{l+s+s2}{\\PYZam{}outputFormat=}\\PY{l+s+si}{\\PYZob{}}\\PY{n}{output\\PYZus{}format}\\PY{l+s+si}{\\PYZcb{}}\\PY{l+s+s2}{\\PYZam{}API\\PYZus{}Key=}\\PY{l+s+si}{\\PYZob{}}\\PY{n}{api\\PYZus{}key}\\PY{l+s+si}{\\PYZcb{}}\\PY{l+s+s2}{\\PYZdq{}}\n",
       "    \\PY{p}{)}\n",
       "    \n",
       "    \\PY{c+c1}{\\PYZsh{} Send the request to download the data}\n",
       "    \\PY{n}{response} \\PY{o}{=} \\PY{n}{requests}\\PY{o}{.}\\PY{n}{get}\\PY{p}{(}\\PY{n}{api\\PYZus{}url}\\PY{p}{)}\n",
       "    \n",
       "    \\PY{c+c1}{\\PYZsh{} Raise an exception if the request was unsuccessful}\n",
       "    \\PY{n}{response}\\PY{o}{.}\\PY{n}{raise\\PYZus{}for\\PYZus{}status}\\PY{p}{(}\\PY{p}{)}\n",
       "    \n",
       "    \\PY{c+c1}{\\PYZsh{} Save the downloaded data to the specified path}\n",
       "    \\PY{n}{output\\PYZus{}path} \\PY{o}{=} \\PY{l+s+sa}{r}\\PY{l+s+s2}{\\PYZdq{}}\\PY{l+s+s2}{E:}\\PY{l+s+s2}{\\PYZbs{}}\\PY{l+s+s2}{OneDrive\\PYZus{}PSU}\\PY{l+s+s2}{\\PYZbs{}}\\PY{l+s+s2}{OneDrive \\PYZhy{} The Pennsylvania State University}\\PY{l+s+s2}{\\PYZbs{}}\\PY{l+s+s2}{Research\\PYZus{}doc}\\PY{l+s+s2}{\\PYZbs{}}\\PY{l+s+s2}{LLM\\PYZhy{}Find}\\PY{l+s+s2}{\\PYZbs{}}\\PY{l+s+s2}{Downloaded\\PYZus{}Data}\\PY{l+s+s2}{\\PYZbs{}}\\PY{l+s+s2}{Everest\\PYZus{}DEM.tif}\\PY{l+s+s2}{\\PYZdq{}}\n",
       "    \n",
       "    \\PY{k}{with} \\PY{n+nb}{open}\\PY{p}{(}\\PY{n}{output\\PYZus{}path}\\PY{p}{,} \\PY{l+s+s1}{\\PYZsq{}}\\PY{l+s+s1}{wb}\\PY{l+s+s1}{\\PYZsq{}}\\PY{p}{)} \\PY{k}{as} \\PY{n}{file}\\PY{p}{:}\n",
       "        \\PY{n}{file}\\PY{o}{.}\\PY{n}{write}\\PY{p}{(}\\PY{n}{response}\\PY{o}{.}\\PY{n}{content}\\PY{p}{)}\n",
       "\n",
       "\\PY{c+c1}{\\PYZsh{} Execute the function to download the data}\n",
       "\\PY{n}{download\\PYZus{}data}\\PY{p}{(}\\PY{p}{)}\n",
       "\\end{Verbatim}\n"
      ],
      "text/plain": [
       "import requests\n",
       "\n",
       "def download_data():\n",
       "    # Define the bounding box coordinates for the region of interest\n",
       "    south, west, north, east = 27.82, 86.73, 28.17, 87.13\n",
       "    \n",
       "    # Set the OpenTopography API parameters\n",
       "    demtype = \"AW3D30\"  # ALOS World 3D 30m resolution\n",
       "    output_format = \"GTiff\"\n",
       "    api_key = \"ae061ea579bcd45cae8f64ae8d3fc47f\"\n",
       "    api_url = (\n",
       "        f\"https://portal.opentopography.org/API/globaldem?\"\n",
       "        f\"demtype={demtype}&south={south}&north={north}&west={west}&east={east}&outputFormat={output_format}&API_Key={api_key}\"\n",
       "    )\n",
       "    \n",
       "    # Send the request to download the data\n",
       "    response = requests.get(api_url)\n",
       "    \n",
       "    # Raise an exception if the request was unsuccessful\n",
       "    response.raise_for_status()\n",
       "    \n",
       "    # Save the downloaded data to the specified path\n",
       "    output_path = r\"E:\\OneDrive_PSU\\OneDrive - The Pennsylvania State University\\Research_doc\\LLM-Find\\Downloaded_Data\\Everest_DEM.tif\"\n",
       "    \n",
       "    with open(output_path, 'wb') as file:\n",
       "        file.write(response.content)\n",
       "\n",
       "# Execute the function to download the data\n",
       "download_data()"
      ]
     },
     "metadata": {},
     "output_type": "display_data"
    }
   ],
   "source": [
    "# %autoreload 2\n",
    "# %load_ext autoreload\n",
    "\n",
    "code = code.replace('area({osm_id})->.searchArea;', 'relation({osm_id}); map_to_area->.searchArea;')  # GPT-4o never follow the related instruction!\n",
    "    \n",
    "code = helper.execute_complete_program(code=code, try_cnt=10, task=task, model_name=model_name, handbook_str=handbook_str)\n",
    "\n",
    "code = code.replace('area({osm_id})->.searchArea;', 'relation({osm_id}); map_to_area->.searchArea;')  # GPT-4o never follow the related instruction!\n",
    "\n",
    "\n",
    "display(Code(code, language='python'))\n"
   ]
  },
  {
   "cell_type": "code",
   "execution_count": null,
   "id": "9a1d12ec-07ff-4120-adec-66e3ca2272b9",
   "metadata": {},
   "outputs": [],
   "source": []
  },
  {
   "cell_type": "markdown",
   "id": "696f92ee-4998-4b1a-a55e-7f2267a49b4a",
   "metadata": {},
   "source": [
    "# Show the downloaded data"
   ]
  },
  {
   "cell_type": "code",
   "execution_count": 19,
   "id": "c7c8bc43-66d6-4685-9864-c473c32cc37d",
   "metadata": {
    "execution": {
     "iopub.execute_input": "2024-07-17T16:45:20.369858Z",
     "iopub.status.busy": "2024-07-17T16:45:20.369858Z",
     "iopub.status.idle": "2024-07-17T16:45:20.461935Z",
     "shell.execute_reply": "2024-07-17T16:45:20.461935Z",
     "shell.execute_reply.started": "2024-07-17T16:45:20.369858Z"
    }
   },
   "outputs": [
    {
     "data": {
      "text/plain": [
       "'E:\\\\OneDrive_PSU\\\\OneDrive - The Pennsylvania State University\\\\Research_doc\\\\LLM-Find\\\\Downloaded_Data\\\\Everest_DEM.tif'"
      ]
     },
     "execution_count": 19,
     "metadata": {},
     "output_type": "execute_result"
    }
   ],
   "source": [
    "saved_fname"
   ]
  },
  {
   "cell_type": "code",
   "execution_count": 20,
   "id": "6d6b86dd-b12a-4f3f-9bbe-16177adc1d18",
   "metadata": {
    "execution": {
     "iopub.execute_input": "2024-07-17T16:45:20.463940Z",
     "iopub.status.busy": "2024-07-17T16:45:20.462941Z",
     "iopub.status.idle": "2024-07-17T16:45:20.555919Z",
     "shell.execute_reply": "2024-07-17T16:45:20.555919Z",
     "shell.execute_reply.started": "2024-07-17T16:45:20.463940Z"
    }
   },
   "outputs": [
    {
     "data": {
      "text/plain": [
       "'.tif'"
      ]
     },
     "execution_count": 20,
     "metadata": {},
     "output_type": "execute_result"
    }
   ],
   "source": [
    "ext_name = saved_fname[-4:]\n",
    "ext_name"
   ]
  },
  {
   "cell_type": "code",
   "execution_count": 21,
   "id": "32ea061e-988e-470e-b648-ed831be180b5",
   "metadata": {
    "execution": {
     "iopub.execute_input": "2024-07-17T16:45:20.556923Z",
     "iopub.status.busy": "2024-07-17T16:45:20.556923Z",
     "iopub.status.idle": "2024-07-17T16:45:21.495829Z",
     "shell.execute_reply": "2024-07-17T16:45:21.495829Z",
     "shell.execute_reply.started": "2024-07-17T16:45:20.556923Z"
    }
   },
   "outputs": [
    {
     "ename": "NameError",
     "evalue": "name 'results' is not defined",
     "output_type": "error",
     "traceback": [
      "\u001b[1;31m---------------------------------------------------------------------------\u001b[0m",
      "\u001b[1;31mNameError\u001b[0m                                 Traceback (most recent call last)",
      "Cell \u001b[1;32mIn[21], line 14\u001b[0m\n\u001b[0;32m     11\u001b[0m \u001b[38;5;28;01mif\u001b[39;00m selected_data_source \u001b[38;5;241m==\u001b[39m \u001b[38;5;124m'\u001b[39m\u001b[38;5;124mESRI_world_imagery\u001b[39m\u001b[38;5;124m'\u001b[39m:\n\u001b[0;32m     12\u001b[0m     results \u001b[38;5;241m=\u001b[39m Image\u001b[38;5;241m.\u001b[39mopen(saved_fname)\n\u001b[1;32m---> 14\u001b[0m results\n",
      "\u001b[1;31mNameError\u001b[0m: name 'results' is not defined"
     ]
    }
   ],
   "source": [
    "if ext_name == '.csv':\n",
    "    df = pd.read_csv(saved_fname, encoding='ISO-8859-1')\n",
    "    results = df\n",
    "\n",
    "if ext_name == 'gpkg':\n",
    "    gdf = gpd.read_file(saved_fname)\n",
    "    results = gdf\n",
    "    gdf.plot()\n",
    "    # gdf.explore()\n",
    "\n",
    "if selected_data_source == 'ESRI_world_imagery':\n",
    "    results = Image.open(saved_fname)\n",
    "    \n",
    "results"
   ]
  },
  {
   "cell_type": "code",
   "execution_count": null,
   "id": "2080d8cc-f75f-40ba-8363-8e27718add96",
   "metadata": {
    "execution": {
     "iopub.status.busy": "2024-07-17T16:45:21.496834Z",
     "iopub.status.idle": "2024-07-17T16:45:21.496834Z",
     "shell.execute_reply": "2024-07-17T16:45:21.496834Z",
     "shell.execute_reply.started": "2024-07-17T16:45:21.496834Z"
    }
   },
   "outputs": [],
   "source": [
    "# # If you need to use the interative table:\n",
    "# show(results)"
   ]
  },
  {
   "cell_type": "code",
   "execution_count": null,
   "id": "700f3e95-adb7-4c66-97f2-e4f656a9e3ca",
   "metadata": {
    "execution": {
     "iopub.status.busy": "2024-07-17T16:45:21.497832Z",
     "iopub.status.idle": "2024-07-17T16:45:21.498834Z",
     "shell.execute_reply": "2024-07-17T16:45:21.497832Z",
     "shell.execute_reply.started": "2024-07-17T16:45:21.497832Z"
    }
   },
   "outputs": [],
   "source": [
    "### If you do not like to install Leafmap or have difficulty to install it, \n",
    "### just use gdf.explore() to check the downloaded data in an interative way\n",
    "# gdf.explore()"
   ]
  },
  {
   "cell_type": "code",
   "execution_count": 24,
   "id": "0d7a5380-d3a2-47ff-9205-a83c7b1efca5",
   "metadata": {
    "execution": {
     "iopub.execute_input": "2024-07-17T18:27:01.830280Z",
     "iopub.status.busy": "2024-07-17T18:27:01.830280Z",
     "iopub.status.idle": "2024-07-17T18:27:04.042601Z",
     "shell.execute_reply": "2024-07-17T18:27:04.042601Z",
     "shell.execute_reply.started": "2024-07-17T18:27:01.830280Z"
    }
   },
   "outputs": [
    {
     "data": {
      "application/vnd.jupyter.widget-view+json": {
       "model_id": "086c395c432047fe9019a541ae7a0ad7",
       "version_major": 2,
       "version_minor": 0
      },
      "text/plain": [
       "Map(center=[20, 0], controls=(ZoomControl(options=['position', 'zoom_in_text', 'zoom_in_title', 'zoom_out_text…"
      ]
     },
     "execution_count": 24,
     "metadata": {},
     "output_type": "execute_result"
    }
   ],
   "source": [
    "import leafmap.leafmap as leafmap\n",
    "\n",
    "import leafmap\n",
    "  # center=(40, -100), zoom=4\n",
    "\n",
    "if ext_name == 'gpkg':\n",
    "    # gdf = gpd.read_file(saved_fname)  \n",
    "    bounding_box = gdf.total_bounds\n",
    "    m = leafmap.Map()     \n",
    "    m.add_gdf(gdf, layer_name=\"Downloaded_data\")\n",
    "    m.fit_bounds([[bounding_box[1], bounding_box[0]], [bounding_box[3], bounding_box[2]]])\n",
    "\n",
    "if selected_data_source == 'OpenTopography':\n",
    "    m = leafmap.Map()\n",
    "    m.add_raster(source=saved_fname, layer_name='OpenTopography DEM', colormap='viridis') \n",
    "\n",
    "m"
   ]
  },
  {
   "cell_type": "code",
   "execution_count": null,
   "id": "7227bcee-d485-403f-8258-3efd5dcc34d2",
   "metadata": {},
   "outputs": [],
   "source": []
  },
  {
   "cell_type": "code",
   "execution_count": null,
   "id": "e7982bf4-4e61-47d5-856a-f981a29a4226",
   "metadata": {
    "execution": {
     "iopub.status.busy": "2024-07-17T16:45:21.500833Z",
     "iopub.status.idle": "2024-07-17T16:45:21.500833Z",
     "shell.execute_reply": "2024-07-17T16:45:21.500833Z",
     "shell.execute_reply.started": "2024-07-17T16:45:21.500833Z"
    }
   },
   "outputs": [],
   "source": [
    "STOP"
   ]
  },
  {
   "cell_type": "code",
   "execution_count": null,
   "id": "b60a948b-8dd4-4a35-9510-e84667e6b935",
   "metadata": {},
   "outputs": [],
   "source": []
  }
 ],
 "metadata": {
  "kernelspec": {
   "display_name": "ox",
   "language": "python",
   "name": "ox"
  },
  "language_info": {
   "codemirror_mode": {
    "name": "ipython",
    "version": 3
   },
   "file_extension": ".py",
   "mimetype": "text/x-python",
   "name": "python",
   "nbconvert_exporter": "python",
   "pygments_lexer": "ipython3",
   "version": "3.12.3"
  },
  "widgets": {
   "application/vnd.jupyter.widget-state+json": {
    "state": {
     "0052c2e1831847f7a75aec29115fb6ef": {
      "model_module": "@jupyter-widgets/controls",
      "model_module_version": "2.0.0",
      "model_name": "ToggleButtonStyleModel",
      "state": {
       "description_width": "",
       "font_family": null,
       "font_size": null,
       "font_style": null,
       "font_variant": null,
       "font_weight": null,
       "text_color": null,
       "text_decoration": null
      }
     },
     "022b2f6477e04ba08fd753eac380286e": {
      "model_module": "jupyter-leaflet",
      "model_module_version": "^0.19",
      "model_name": "LeafletMapStyleModel",
      "state": {
       "_model_module_version": "^0.19",
       "cursor": "move"
      }
     },
     "0365e2bf3abf4ace8180e5a2fe628f61": {
      "model_module": "@jupyter-widgets/controls",
      "model_module_version": "2.0.0",
      "model_name": "ToggleButtonModel",
      "state": {
       "button_style": "primary",
       "icon": "filter",
       "layout": "IPY_MODEL_e74d65177b494340b15466e11113c2f7",
       "style": "IPY_MODEL_8b9530ea6cf54654bac47007f0d410b4",
       "tooltip": "Get US Census data"
      }
     },
     "052727a05f204385925bc58850d5e7ff": {
      "model_module": "@jupyter-widgets/controls",
      "model_module_version": "2.0.0",
      "model_name": "ToggleButtonModel",
      "state": {
       "button_style": "primary",
       "icon": "info",
       "layout": "IPY_MODEL_43f45d2b91c74254b94d18034fa3435f",
       "style": "IPY_MODEL_4685925d33fc4f7da4de2b673d592b30",
       "tooltip": "Get COG/STAC pixel value"
      }
     },
     "06b361576736474d862dca7dc43c61d1": {
      "model_module": "@jupyter-widgets/base",
      "model_module_version": "2.0.0",
      "model_name": "LayoutModel",
      "state": {
       "height": "auto",
       "padding": "0px 0px 0px 4px",
       "width": "auto"
      }
     },
     "06e0455bc1e6470083ea878deb5c6ab2": {
      "model_module": "@jupyter-widgets/base",
      "model_module_version": "2.0.0",
      "model_name": "LayoutModel",
      "state": {
       "height": "auto",
       "padding": "0px 0px 0px 4px",
       "width": "auto"
      }
     },
     "079dfecf5bad4e8280186319d4b24354": {
      "model_module": "jupyter-leaflet",
      "model_module_version": "^0.19",
      "model_name": "LeafletZoomControlModel",
      "state": {
       "_model_module_version": "^0.19",
       "_view_module_version": "^0.19",
       "options": [
        "position",
        "zoom_in_text",
        "zoom_in_title",
        "zoom_out_text",
        "zoom_out_title"
       ]
      }
     },
     "08223634d2d74ab3a8f46d88289c88a2": {
      "model_module": "@jupyter-widgets/base",
      "model_module_version": "2.0.0",
      "model_name": "LayoutModel",
      "state": {
       "height": "auto",
       "padding": "0px 0px 0px 4px",
       "width": "auto"
      }
     },
     "086c395c432047fe9019a541ae7a0ad7": {
      "model_module": "jupyter-leaflet",
      "model_module_version": "^0.19",
      "model_name": "LeafletMapModel",
      "state": {
       "_model_module_version": "^0.19",
       "_view_module_version": "^0.19",
       "bottom": 110186,
       "center": [
        27.91950450815019,
        86.83772278251128
       ],
       "controls": [
        "IPY_MODEL_6a2af1d8dd5e4d02be654cd624035a9b",
        "IPY_MODEL_990721e12dd14f7382d40ca41f121dd4",
        "IPY_MODEL_1e1fdf53f0f846ea8ea21adbc97cae74",
        "IPY_MODEL_765e728078a74f6ba06eff60912039b4",
        "IPY_MODEL_4968ec6f472746a887727c03f47ce011",
        "IPY_MODEL_19e81a34ee974f5ebb88982731699366"
       ],
       "default_style": "IPY_MODEL_99a33017a8614763980b6e57460eb456",
       "dragging_style": "IPY_MODEL_2725201aa01940ada5ed4cf76bc26830",
       "east": 87.93594360351564,
       "fullscreen": false,
       "interpolation": "bilinear",
       "layers": [
        "IPY_MODEL_8c40046a65e043bebb7e3bfab4277da9",
        "IPY_MODEL_59e5c26b32614861858d5aab77bebf10"
       ],
       "layout": "IPY_MODEL_dce82fae74ee47beb1f05624bc1c24b0",
       "left": 193506,
       "max_zoom": 24,
       "modisdate": "2024-07-16",
       "north": 28.282614623837407,
       "options": [
        "bounce_at_zoom_limits",
        "box_zoom",
        "center",
        "close_popup_on_click",
        "double_click_zoom",
        "dragging",
        "fullscreen",
        "inertia",
        "inertia_deceleration",
        "inertia_max_speed",
        "interpolation",
        "keyboard",
        "keyboard_pan_offset",
        "keyboard_zoom_offset",
        "max_zoom",
        "min_zoom",
        "prefer_canvas",
        "scroll_wheel_zoom",
        "tap",
        "tap_tolerance",
        "touch_zoom",
        "world_copy_jump",
        "zoom",
        "zoom_animation_threshold",
        "zoom_delta",
        "zoom_snap"
       ],
       "prefer_canvas": false,
       "right": 195105,
       "scroll_wheel_zoom": true,
       "south": 27.55454690781033,
       "style": "IPY_MODEL_2725201aa01940ada5ed4cf76bc26830",
       "top": 109586,
       "west": 85.74005126953125,
       "window_url": "http://localhost:8891/lab/tree/LLM_Find.ipynb",
       "zoom": 10
      }
     },
     "0887742ec6654e6a9e5b56aa594d693a": {
      "model_module": "@jupyter-widgets/base",
      "model_module_version": "2.0.0",
      "model_name": "LayoutModel",
      "state": {
       "height": "auto",
       "padding": "0px 0px 0px 4px",
       "width": "auto"
      }
     },
     "094a184c4eb74ed7a5c5372c734ccf89": {
      "model_module": "@jupyter-widgets/controls",
      "model_module_version": "2.0.0",
      "model_name": "ToggleButtonStyleModel",
      "state": {
       "description_width": "",
       "font_family": null,
       "font_size": null,
       "font_style": null,
       "font_variant": null,
       "font_weight": null,
       "text_color": null,
       "text_decoration": null
      }
     },
     "0a2b9c35d8bf4d71963d9ecb1e57d1b9": {
      "model_module": "@jupyter-widgets/base",
      "model_module_version": "2.0.0",
      "model_name": "LayoutModel",
      "state": {
       "height": "auto",
       "padding": "0px 0px 0px 4px",
       "width": "auto"
      }
     },
     "0ac7228ba3d947f8a3a44f5f58654d4c": {
      "model_module": "jupyter-leaflet",
      "model_module_version": "^0.19",
      "model_name": "LeafletTileLayerModel",
      "state": {
       "_model_module_version": "^0.19",
       "_view_module_version": "^0.19",
       "attribution": "&copy; <a href=\"https://www.openstreetmap.org/copyright\">OpenStreetMap</a> contributors",
       "base": true,
       "max_zoom": 19,
       "min_zoom": 1,
       "name": "OpenStreetMap",
       "options": [
        "attribution",
        "bounds",
        "detect_retina",
        "max_native_zoom",
        "max_zoom",
        "min_native_zoom",
        "min_zoom",
        "no_wrap",
        "tile_size",
        "tms",
        "zoom_offset"
       ],
       "url": "https://tile.openstreetmap.org/{z}/{x}/{y}.png"
      }
     },
     "0dd3aa4c569e4edbb4c260d0214256f8": {
      "model_module": "@jupyter-widgets/base",
      "model_module_version": "2.0.0",
      "model_name": "LayoutModel",
      "state": {
       "height": "auto",
       "padding": "0px 0px 0px 4px",
       "width": "auto"
      }
     },
     "10ebb7d4621d4d15b6c65709daf88bc9": {
      "model_module": "@jupyter-widgets/controls",
      "model_module_version": "2.0.0",
      "model_name": "VBoxModel",
      "state": {
       "children": [
        "IPY_MODEL_a06c84833e8841b1bc6f9ad4acf7db09"
       ],
       "layout": "IPY_MODEL_2879436f4b06460d923334096730ce53"
      }
     },
     "11f0c3e2767247f2917f17ef8ea08859": {
      "model_module": "jupyter-leaflet",
      "model_module_version": "^0.19",
      "model_name": "LeafletWidgetControlModel",
      "state": {
       "_model_module_version": "^0.19",
       "_view_module_version": "^0.19",
       "options": [
        "position",
        "transparent_bg"
       ],
       "position": "topright",
       "widget": "IPY_MODEL_81baf1f265a74443a3babf05eaf05343"
      }
     },
     "129337ab87c94275b0a3f616c645dc0f": {
      "model_module": "@jupyter-widgets/controls",
      "model_module_version": "2.0.0",
      "model_name": "ToggleButtonModel",
      "state": {
       "button_style": "primary",
       "icon": "pencil-square-o",
       "layout": "IPY_MODEL_850f9f4d8fe94b529e9f7e1c9f65733f",
       "style": "IPY_MODEL_788476f9877e4d7698352c8d173b1154",
       "tooltip": "Create vector data"
      }
     },
     "136dd6508a4442c2b20d4e3a09d11fb1": {
      "model_module": "@jupyter-widgets/controls",
      "model_module_version": "2.0.0",
      "model_name": "ToggleButtonModel",
      "state": {
       "button_style": "primary",
       "icon": "download",
       "layout": "IPY_MODEL_06b361576736474d862dca7dc43c61d1",
       "style": "IPY_MODEL_e11ec9805f984c0e99369662d46797a2",
       "tooltip": "Download OSM data"
      }
     },
     "1399a632812a49dbbe04be11953f437c": {
      "model_module": "@jupyter-widgets/controls",
      "model_module_version": "2.0.0",
      "model_name": "ToggleButtonStyleModel",
      "state": {
       "description_width": "",
       "font_family": null,
       "font_size": null,
       "font_style": null,
       "font_variant": null,
       "font_weight": null,
       "text_color": null,
       "text_decoration": null
      }
     },
     "1482e34ef7674778bc182acfc33775af": {
      "model_module": "@jupyter-widgets/controls",
      "model_module_version": "2.0.0",
      "model_name": "ToggleButtonModel",
      "state": {
       "button_style": "primary",
       "icon": "eraser",
       "layout": "IPY_MODEL_6e70810984e74ff2bba5ad066c49e008",
       "style": "IPY_MODEL_6ff3406c1d3d4ea4b271b42dfd22d8fd",
       "tooltip": "Remove all drawn features"
      }
     },
     "16803940cc144363a78d194cbb85a0dd": {
      "model_module": "@jupyter-widgets/controls",
      "model_module_version": "2.0.0",
      "model_name": "ToggleButtonModel",
      "state": {
       "button_style": "primary",
       "icon": "search",
       "layout": "IPY_MODEL_80417b50bd3b4d24a70e7f481128bb8a",
       "style": "IPY_MODEL_a7d910b5b756443f93a5fe66f0789aef",
       "tooltip": "Search XYZ tile services"
      }
     },
     "17752556e64441e6bc31bd89e8ad74d8": {
      "model_module": "@jupyter-widgets/base",
      "model_module_version": "2.0.0",
      "model_name": "LayoutModel",
      "state": {
       "height": "auto",
       "padding": "0px 0px 0px 4px",
       "width": "auto"
      }
     },
     "17b0b19adf274cc6b67a0cf40d48dfe4": {
      "model_module": "@jupyter-widgets/controls",
      "model_module_version": "2.0.0",
      "model_name": "ToggleButtonStyleModel",
      "state": {
       "description_width": "",
       "font_family": null,
       "font_size": null,
       "font_style": null,
       "font_variant": null,
       "font_weight": null,
       "text_color": null,
       "text_decoration": null
      }
     },
     "19e81a34ee974f5ebb88982731699366": {
      "model_module": "jupyter-leaflet",
      "model_module_version": "^0.19",
      "model_name": "LeafletWidgetControlModel",
      "state": {
       "_model_module_version": "^0.19",
       "_view_module_version": "^0.19",
       "options": [
        "position",
        "transparent_bg"
       ],
       "position": "topright",
       "widget": "IPY_MODEL_426e810bcb3846a3a7ba8cf18b4f6094"
      }
     },
     "1b46856d71c342eb996f94c1677b7b08": {
      "model_module": "@jupyter-widgets/controls",
      "model_module_version": "2.0.0",
      "model_name": "ToggleButtonModel",
      "state": {
       "icon": "server",
       "layout": "IPY_MODEL_b1fac28e762a487f8bcbda9d758179ce",
       "style": "IPY_MODEL_cfe19a42b4444d06894f84228f43af7f",
       "tooltip": "Layers"
      }
     },
     "1c1e29a3b65e4c168b59cbf9a10ac2b3": {
      "model_module": "@jupyter-widgets/base",
      "model_module_version": "2.0.0",
      "model_name": "LayoutModel",
      "state": {
       "height": "auto",
       "padding": "0px 0px 0px 4px",
       "width": "auto"
      }
     },
     "1c624e94e0f34c39bf06d7967e854231": {
      "model_module": "@jupyter-widgets/controls",
      "model_module_version": "2.0.0",
      "model_name": "ToggleButtonStyleModel",
      "state": {
       "description_width": "",
       "font_family": null,
       "font_size": null,
       "font_style": null,
       "font_variant": null,
       "font_weight": null,
       "text_color": null,
       "text_decoration": null
      }
     },
     "1e1fdf53f0f846ea8ea21adbc97cae74": {
      "model_module": "jupyter-leaflet",
      "model_module_version": "^0.19",
      "model_name": "LeafletFullScreenControlModel",
      "state": {
       "_model_module_version": "^0.19",
       "_view_module_version": "^0.19",
       "options": [
        "position"
       ]
      }
     },
     "1e4175c2f6c94042a947131a8884b278": {
      "model_module": "@jupyter-widgets/controls",
      "model_module_version": "2.0.0",
      "model_name": "ToggleButtonModel",
      "state": {
       "button_style": "primary",
       "icon": "adjust",
       "layout": "IPY_MODEL_43fb1c6683144659b22b9bdcf1cf84ad",
       "style": "IPY_MODEL_6edfc0e275664c06927c138bd36ea942",
       "tooltip": "Planet imagery"
      }
     },
     "1e98a337cbd346b08faf1767ee0cee62": {
      "model_module": "@jupyter-widgets/base",
      "model_module_version": "2.0.0",
      "model_name": "LayoutModel",
      "state": {}
     },
     "1f193a83f24547cab2d48e2ecad34134": {
      "model_module": "@jupyter-widgets/base",
      "model_module_version": "2.0.0",
      "model_name": "LayoutModel",
      "state": {}
     },
     "201673039f2f4c21858a1d148f391696": {
      "model_module": "@jupyter-widgets/controls",
      "model_module_version": "2.0.0",
      "model_name": "ToggleButtonStyleModel",
      "state": {
       "description_width": "",
       "font_family": null,
       "font_size": null,
       "font_style": null,
       "font_variant": null,
       "font_weight": null,
       "text_color": null,
       "text_decoration": null
      }
     },
     "212d6eafe4684599a800ba0bdc2491bf": {
      "model_module": "@jupyter-widgets/controls",
      "model_module_version": "2.0.0",
      "model_name": "ToggleButtonStyleModel",
      "state": {
       "description_width": "",
       "font_family": null,
       "font_size": null,
       "font_style": null,
       "font_variant": null,
       "font_weight": null,
       "text_color": null,
       "text_decoration": null
      }
     },
     "21a202f6bc064254a63f5a33719d9955": {
      "model_module": "@jupyter-widgets/controls",
      "model_module_version": "2.0.0",
      "model_name": "ToggleButtonModel",
      "state": {
       "button_style": "primary",
       "icon": "stack-exchange",
       "layout": "IPY_MODEL_a096ee58cabc4df191571a8b00b67d3b",
       "style": "IPY_MODEL_4574339ddd9e46d7a66621616ec707e1",
       "tooltip": "Discover STAC Catalog"
      }
     },
     "24af85e61c7a4567b355758469e21c49": {
      "model_module": "@jupyter-widgets/base",
      "model_module_version": "2.0.0",
      "model_name": "LayoutModel",
      "state": {}
     },
     "2725201aa01940ada5ed4cf76bc26830": {
      "model_module": "jupyter-leaflet",
      "model_module_version": "^0.19",
      "model_name": "LeafletMapStyleModel",
      "state": {
       "_model_module_version": "^0.19",
       "cursor": "move"
      }
     },
     "27f41eedb97849d39352da3de6a4c164": {
      "model_module": "@jupyter-widgets/controls",
      "model_module_version": "2.0.0",
      "model_name": "ToggleButtonModel",
      "state": {
       "icon": "wrench",
       "layout": "IPY_MODEL_d2fab0b618d94ad9ae32c8a0d1783baf",
       "style": "IPY_MODEL_212d6eafe4684599a800ba0bdc2491bf",
       "tooltip": "Toolbar"
      }
     },
     "2879436f4b06460d923334096730ce53": {
      "model_module": "@jupyter-widgets/base",
      "model_module_version": "2.0.0",
      "model_name": "LayoutModel",
      "state": {}
     },
     "28b2fea7afa442f79019932765ea6985": {
      "model_module": "@jupyter-widgets/controls",
      "model_module_version": "2.0.0",
      "model_name": "ToggleButtonStyleModel",
      "state": {
       "description_width": "",
       "font_family": null,
       "font_size": null,
       "font_style": null,
       "font_variant": null,
       "font_weight": null,
       "text_color": null,
       "text_decoration": null
      }
     },
     "28b890c9e4534f2a835c1244540f8ef3": {
      "model_module": "@jupyter-widgets/base",
      "model_module_version": "2.0.0",
      "model_name": "LayoutModel",
      "state": {
       "height": "auto",
       "padding": "0px 0px 0px 4px",
       "width": "auto"
      }
     },
     "2a6ec738f79948afa329caf8ecc68655": {
      "model_module": "@jupyter-widgets/base",
      "model_module_version": "2.0.0",
      "model_name": "LayoutModel",
      "state": {
       "height": "600px"
      }
     },
     "2be8bef0fbaa4605ab7cde4882f82280": {
      "model_module": "@jupyter-widgets/controls",
      "model_module_version": "2.0.0",
      "model_name": "ToggleButtonStyleModel",
      "state": {
       "description_width": "",
       "font_family": null,
       "font_size": null,
       "font_style": null,
       "font_variant": null,
       "font_weight": null,
       "text_color": null,
       "text_decoration": null
      }
     },
     "2c21bba510764f2a98e3768b014ad1ab": {
      "model_module": "@jupyter-widgets/controls",
      "model_module_version": "2.0.0",
      "model_name": "ToggleButtonModel",
      "state": {
       "button_style": "primary",
       "icon": "stack-exchange",
       "layout": "IPY_MODEL_0dd3aa4c569e4edbb4c260d0214256f8",
       "style": "IPY_MODEL_34c4ceb026324f46ac0a77eeb9614775",
       "tooltip": "Discover STAC Catalog"
      }
     },
     "2c4588fa36384ecbb439d4a3242a97d9": {
      "model_module": "@jupyter-widgets/controls",
      "model_module_version": "2.0.0",
      "model_name": "ToggleButtonStyleModel",
      "state": {
       "description_width": "",
       "font_family": null,
       "font_size": null,
       "font_style": null,
       "font_variant": null,
       "font_weight": null,
       "text_color": null,
       "text_decoration": null
      }
     },
     "2ded25d208de4132b4e0ad1564a7d282": {
      "model_module": "@jupyter-widgets/base",
      "model_module_version": "2.0.0",
      "model_name": "LayoutModel",
      "state": {
       "height": "auto",
       "padding": "0px 0px 0px 4px",
       "width": "auto"
      }
     },
     "2f327c2754af4a63a1e4b0c2c6fe37a2": {
      "model_module": "jupyter-leaflet",
      "model_module_version": "^0.19",
      "model_name": "LeafletDrawControlModel",
      "state": {
       "_model_module_version": "^0.19",
       "_view_module_version": "^0.19",
       "circle": {
        "repeatMode": false,
        "shapeOptions": {
         "color": "#3388ff"
        }
       },
       "marker": {
        "repeatMode": false,
        "shapeOptions": {
         "color": "#3388ff"
        }
       },
       "options": [
        "position"
       ],
       "polygon": {
        "repeatMode": false
       },
       "polyline": {
        "repeatMode": false
       },
       "rectangle": {
        "repeatMode": false,
        "shapeOptions": {
         "color": "#3388ff"
        }
       }
      }
     },
     "32a64535196046608342e3003eb0df50": {
      "model_module": "@jupyter-widgets/controls",
      "model_module_version": "2.0.0",
      "model_name": "ToggleButtonModel",
      "state": {
       "button_style": "primary",
       "icon": "plane",
       "layout": "IPY_MODEL_cb9a665f226f47a5ace7e0c8f6e77089",
       "style": "IPY_MODEL_9dae109376a24861b93dbebfee036d4f",
       "tooltip": "Search OpenAerialMap"
      }
     },
     "32bd4f85bb0e43f9b18f4cfd7e788e90": {
      "model_module": "@jupyter-widgets/base",
      "model_module_version": "2.0.0",
      "model_name": "LayoutModel",
      "state": {
       "grid_gap": "1px 1px",
       "grid_template_columns": "32px 32px 32px ",
       "grid_template_rows": "32px 32px 32px 32px 32px 32px ",
       "padding": "5px",
       "width": "109px"
      }
     },
     "3349652d89d844188d16b8508be93dae": {
      "model_module": "@jupyter-widgets/base",
      "model_module_version": "2.0.0",
      "model_name": "LayoutModel",
      "state": {
       "height": "auto",
       "padding": "0px 0px 0px 4px",
       "width": "auto"
      }
     },
     "3377249c2ece41ff958364d9615d249f": {
      "model_module": "@jupyter-widgets/controls",
      "model_module_version": "2.0.0",
      "model_name": "ToggleButtonStyleModel",
      "state": {
       "description_width": "",
       "font_family": null,
       "font_size": null,
       "font_style": null,
       "font_variant": null,
       "font_weight": null,
       "text_color": null,
       "text_decoration": null
      }
     },
     "34c4ceb026324f46ac0a77eeb9614775": {
      "model_module": "@jupyter-widgets/controls",
      "model_module_version": "2.0.0",
      "model_name": "ToggleButtonStyleModel",
      "state": {
       "description_width": "",
       "font_family": null,
       "font_size": null,
       "font_style": null,
       "font_variant": null,
       "font_weight": null,
       "text_color": null,
       "text_decoration": null
      }
     },
     "35ee43f20c684e18860f8e84cb98f755": {
      "model_module": "@jupyter-widgets/controls",
      "model_module_version": "2.0.0",
      "model_name": "ToggleButtonStyleModel",
      "state": {
       "description_width": "",
       "font_family": null,
       "font_size": null,
       "font_style": null,
       "font_variant": null,
       "font_weight": null,
       "text_color": null,
       "text_decoration": null
      }
     },
     "36333679727b4773a6f28aaf0eff6b08": {
      "model_module": "@jupyter-widgets/controls",
      "model_module_version": "2.0.0",
      "model_name": "ToggleButtonStyleModel",
      "state": {
       "description_width": "",
       "font_family": null,
       "font_size": null,
       "font_style": null,
       "font_variant": null,
       "font_weight": null,
       "text_color": null,
       "text_decoration": null
      }
     },
     "373af4c22c01415ca529676b7f362a54": {
      "model_module": "jupyter-leaflet",
      "model_module_version": "^0.19",
      "model_name": "LeafletScaleControlModel",
      "state": {
       "_model_module_version": "^0.19",
       "_view_module_version": "^0.19",
       "imperial": true,
       "max_width": 100,
       "metric": true,
       "options": [
        "imperial",
        "max_width",
        "metric",
        "position",
        "update_when_idle"
       ],
       "position": "bottomleft",
       "update_when_idle": false
      }
     },
     "389112efe3df42a2aca91bee04a1d8d1": {
      "model_module": "@jupyter-widgets/base",
      "model_module_version": "2.0.0",
      "model_name": "LayoutModel",
      "state": {}
     },
     "38c88b7bba764b1d9fb84ebbf06b2e4e": {
      "model_module": "jupyter-leaflet",
      "model_module_version": "^0.19",
      "model_name": "LeafletMapStyleModel",
      "state": {
       "_model_module_version": "^0.19"
      }
     },
     "3c3e8849abe74ca4bd070d7d93406e9b": {
      "model_module": "@jupyter-widgets/controls",
      "model_module_version": "2.0.0",
      "model_name": "ToggleButtonStyleModel",
      "state": {
       "description_width": "",
       "font_family": null,
       "font_size": null,
       "font_style": null,
       "font_variant": null,
       "font_weight": null,
       "text_color": null,
       "text_decoration": null
      }
     },
     "3dddb69922be43c29fde058a2165b449": {
      "model_module": "@jupyter-widgets/controls",
      "model_module_version": "2.0.0",
      "model_name": "GridBoxModel",
      "state": {
       "children": [
        "IPY_MODEL_c8950d5857b04804ad254c4e383f548b",
        "IPY_MODEL_e8159222371b463598baaaa759f68f1c",
        "IPY_MODEL_9dacfc5ce59542208304cd149e37e3c7",
        "IPY_MODEL_a38a9bb8a0454db58698ad1f72f00d09",
        "IPY_MODEL_94c86c25ddd9412dbb07cf9b7c1418b7",
        "IPY_MODEL_99f6980a5a3049fe8457b54577e07392",
        "IPY_MODEL_7f74d63e4445494c9203f06e7eac1517",
        "IPY_MODEL_6a5e9668daa24f88a9cc6e34bda7aa3f",
        "IPY_MODEL_4dbfee3586ad4c09bf25d44b78852f2f",
        "IPY_MODEL_c6cceba4ef0b49759f66a2ce5a10425c",
        "IPY_MODEL_944fc3d097324535ad33c1d82598eed5",
        "IPY_MODEL_df0b417f1f1742c0af9b918123f3431d",
        "IPY_MODEL_cec04a15b96c4279a22d0a80e1fa719f",
        "IPY_MODEL_ceeb8cb8f9fc4d8cad9f682885e74c75",
        "IPY_MODEL_b239ca56b4cb4ca99c8e0b879d57820d",
        "IPY_MODEL_129337ab87c94275b0a3f616c645dc0f",
        "IPY_MODEL_21a202f6bc064254a63f5a33719d9955",
        "IPY_MODEL_3fdc1acb2b12418a8474d8a18de52338"
       ],
       "layout": "IPY_MODEL_f5a43d9c2289453da33489cb8c913133"
      }
     },
     "3e3c176f3dec42738659cb18fca1a049": {
      "model_module": "@jupyter-widgets/controls",
      "model_module_version": "2.0.0",
      "model_name": "ToggleButtonStyleModel",
      "state": {
       "description_width": "",
       "font_family": null,
       "font_size": null,
       "font_style": null,
       "font_variant": null,
       "font_weight": null,
       "text_color": null,
       "text_decoration": null
      }
     },
     "3fdc1acb2b12418a8474d8a18de52338": {
      "model_module": "@jupyter-widgets/controls",
      "model_module_version": "2.0.0",
      "model_name": "ToggleButtonModel",
      "state": {
       "button_style": "primary",
       "icon": "plane",
       "layout": "IPY_MODEL_4a95a2787aee48e9bb847aee8959376a",
       "style": "IPY_MODEL_db8a2adf715f418ab804dc3cd0c67a3d",
       "tooltip": "Search OpenAerialMap"
      }
     },
     "426e810bcb3846a3a7ba8cf18b4f6094": {
      "model_module": "@jupyter-widgets/controls",
      "model_module_version": "2.0.0",
      "model_name": "VBoxModel",
      "state": {
       "_view_count": 1,
       "children": [
        "IPY_MODEL_54f3e07937ae4e82811c207cff0593ff"
       ],
       "layout": "IPY_MODEL_44c64d59c12548c797d0be20958c5207"
      }
     },
     "4279dd5bd1214348af06ad66694f537d": {
      "model_module": "jupyter-leaflet",
      "model_module_version": "^0.19",
      "model_name": "LeafletFullScreenControlModel",
      "state": {
       "_model_module_version": "^0.19",
       "_view_module_version": "^0.19",
       "options": [
        "position"
       ]
      }
     },
     "43f45d2b91c74254b94d18034fa3435f": {
      "model_module": "@jupyter-widgets/base",
      "model_module_version": "2.0.0",
      "model_name": "LayoutModel",
      "state": {
       "height": "auto",
       "padding": "0px 0px 0px 4px",
       "width": "auto"
      }
     },
     "43fb1c6683144659b22b9bdcf1cf84ad": {
      "model_module": "@jupyter-widgets/base",
      "model_module_version": "2.0.0",
      "model_name": "LayoutModel",
      "state": {
       "height": "auto",
       "padding": "0px 0px 0px 4px",
       "width": "auto"
      }
     },
     "443162a7453f4ad6801e7aaa103cb108": {
      "model_module": "@jupyter-widgets/base",
      "model_module_version": "2.0.0",
      "model_name": "LayoutModel",
      "state": {
       "height": "auto",
       "padding": "0px 0px 0px 4px",
       "width": "auto"
      }
     },
     "44b3aee722954c73be4a68b5d077789c": {
      "model_module": "@jupyter-widgets/controls",
      "model_module_version": "2.0.0",
      "model_name": "ToggleButtonModel",
      "state": {
       "button_style": "primary",
       "icon": "stack-exchange",
       "layout": "IPY_MODEL_95cf052cb11a4707a539f7702eb07eb8",
       "style": "IPY_MODEL_fc003987c8ff4be5b3dbf47d7affcb38",
       "tooltip": "Discover STAC Catalog"
      }
     },
     "44c64d59c12548c797d0be20958c5207": {
      "model_module": "@jupyter-widgets/base",
      "model_module_version": "2.0.0",
      "model_name": "LayoutModel",
      "state": {}
     },
     "44d848a9461a40129ef6a137cb8d39a7": {
      "model_module": "@jupyter-widgets/controls",
      "model_module_version": "2.0.0",
      "model_name": "ToggleButtonStyleModel",
      "state": {
       "description_width": "",
       "font_family": null,
       "font_size": null,
       "font_style": null,
       "font_variant": null,
       "font_weight": null,
       "text_color": null,
       "text_decoration": null
      }
     },
     "4574339ddd9e46d7a66621616ec707e1": {
      "model_module": "@jupyter-widgets/controls",
      "model_module_version": "2.0.0",
      "model_name": "ToggleButtonStyleModel",
      "state": {
       "description_width": "",
       "font_family": null,
       "font_size": null,
       "font_style": null,
       "font_variant": null,
       "font_weight": null,
       "text_color": null,
       "text_decoration": null
      }
     },
     "458189c332b74599b5f173703b359dcc": {
      "model_module": "@jupyter-widgets/base",
      "model_module_version": "2.0.0",
      "model_name": "LayoutModel",
      "state": {
       "height": "28px",
       "width": "72px"
      }
     },
     "4620dcb37c4648d3bb52646e8d2e7838": {
      "model_module": "@jupyter-widgets/base",
      "model_module_version": "2.0.0",
      "model_name": "LayoutModel",
      "state": {
       "height": "auto",
       "padding": "0px 0px 0px 4px",
       "width": "auto"
      }
     },
     "466976cb480a484bb933bbe04cf2b6e1": {
      "model_module": "@jupyter-widgets/controls",
      "model_module_version": "2.0.0",
      "model_name": "ToggleButtonStyleModel",
      "state": {
       "description_width": "",
       "font_family": null,
       "font_size": null,
       "font_style": null,
       "font_variant": null,
       "font_weight": null,
       "text_color": null,
       "text_decoration": null
      }
     },
     "467f72b95f61474493501476ff7cc7ed": {
      "model_module": "@jupyter-widgets/controls",
      "model_module_version": "2.0.0",
      "model_name": "ToggleButtonStyleModel",
      "state": {
       "description_width": "",
       "font_family": null,
       "font_size": null,
       "font_style": null,
       "font_variant": null,
       "font_weight": null,
       "text_color": null,
       "text_decoration": null
      }
     },
     "4685925d33fc4f7da4de2b673d592b30": {
      "model_module": "@jupyter-widgets/controls",
      "model_module_version": "2.0.0",
      "model_name": "ToggleButtonStyleModel",
      "state": {
       "description_width": "",
       "font_family": null,
       "font_size": null,
       "font_style": null,
       "font_variant": null,
       "font_weight": null,
       "text_color": null,
       "text_decoration": null
      }
     },
     "4765003697864103ab2a5afc14bcfce0": {
      "model_module": "@jupyter-widgets/controls",
      "model_module_version": "2.0.0",
      "model_name": "VBoxModel",
      "state": {
       "children": [
        "IPY_MODEL_3dddb69922be43c29fde058a2165b449"
       ],
       "layout": "IPY_MODEL_f5d49ad8d1a54660b812b296311a7fe1"
      }
     },
     "48056d95f5f3459a8022966abb4cb110": {
      "model_module": "ipyevents",
      "model_module_version": "2.0.2",
      "model_name": "EventModel",
      "state": {
       "_supported_key_events": [
        "keydown",
        "keyup"
       ],
       "_supported_mouse_events": [
        "click",
        "auxclick",
        "dblclick",
        "mouseenter",
        "mouseleave",
        "mousedown",
        "mouseup",
        "mousemove",
        "wheel",
        "contextmenu",
        "dragstart",
        "drag",
        "dragend",
        "dragenter",
        "dragover",
        "dragleave",
        "drop"
       ],
       "_supported_touch_events": [
        "touchstart",
        "touchend",
        "touchmove",
        "touchcancel"
       ],
       "_view_module": "@jupyter-widgets/controls",
       "source": "IPY_MODEL_8bfe3197503c476db905f3a2bd513573",
       "throttle_or_debounce": "",
       "watched_events": [
        "mouseenter",
        "mouseleave"
       ],
       "xy_coordinate_system": ""
      }
     },
     "481c1c2a024c4967b5798578d6711ac1": {
      "model_module": "@jupyter-widgets/base",
      "model_module_version": "2.0.0",
      "model_name": "LayoutModel",
      "state": {
       "width": "500px"
      }
     },
     "4968ec6f472746a887727c03f47ce011": {
      "model_module": "jupyter-leaflet",
      "model_module_version": "^0.19",
      "model_name": "LeafletScaleControlModel",
      "state": {
       "_model_module_version": "^0.19",
       "_view_module_version": "^0.19",
       "imperial": true,
       "max_width": 100,
       "metric": true,
       "options": [
        "imperial",
        "max_width",
        "metric",
        "position",
        "update_when_idle"
       ],
       "position": "bottomleft",
       "update_when_idle": false
      }
     },
     "4a95a2787aee48e9bb847aee8959376a": {
      "model_module": "@jupyter-widgets/base",
      "model_module_version": "2.0.0",
      "model_name": "LayoutModel",
      "state": {
       "height": "auto",
       "padding": "0px 0px 0px 4px",
       "width": "auto"
      }
     },
     "4b02a8828a8941c5b99c20dce5398de5": {
      "model_module": "@jupyter-widgets/controls",
      "model_module_version": "2.0.0",
      "model_name": "ToggleButtonStyleModel",
      "state": {
       "description_width": "",
       "font_family": null,
       "font_size": null,
       "font_style": null,
       "font_variant": null,
       "font_weight": null,
       "text_color": null,
       "text_decoration": null
      }
     },
     "4ce0ca2615b040e0930a3588e9dce5b0": {
      "model_module": "@jupyter-widgets/base",
      "model_module_version": "2.0.0",
      "model_name": "LayoutModel",
      "state": {
       "height": "auto",
       "padding": "0px 0px 0px 4px",
       "width": "auto"
      }
     },
     "4dbfee3586ad4c09bf25d44b78852f2f": {
      "model_module": "@jupyter-widgets/controls",
      "model_module_version": "2.0.0",
      "model_name": "ToggleButtonModel",
      "state": {
       "button_style": "primary",
       "icon": "filter",
       "layout": "IPY_MODEL_3349652d89d844188d16b8508be93dae",
       "style": "IPY_MODEL_44d848a9461a40129ef6a137cb8d39a7",
       "tooltip": "Get US Census data"
      }
     },
     "4f06db76d72942f5a80aaf7e0adb1c39": {
      "model_module": "@jupyter-widgets/base",
      "model_module_version": "2.0.0",
      "model_name": "LayoutModel",
      "state": {
       "height": "auto",
       "padding": "0px 0px 0px 4px",
       "width": "auto"
      }
     },
     "52c27747502043ee97959d6da820f7c5": {
      "model_module": "@jupyter-widgets/base",
      "model_module_version": "2.0.0",
      "model_name": "LayoutModel",
      "state": {
       "height": "auto",
       "padding": "0px 0px 0px 4px",
       "width": "auto"
      }
     },
     "54f3e07937ae4e82811c207cff0593ff": {
      "model_module": "@jupyter-widgets/controls",
      "model_module_version": "2.0.0",
      "model_name": "ToggleButtonModel",
      "state": {
       "icon": "wrench",
       "layout": "IPY_MODEL_d28d760994354d76a80fbbd929adee38",
       "style": "IPY_MODEL_0052c2e1831847f7a75aec29115fb6ef",
       "tooltip": "Toolbar"
      }
     },
     "556b934ab1284fba8d92c80fe77974e9": {
      "model_module": "jupyter-leaflet",
      "model_module_version": "^0.19",
      "model_name": "LeafletScaleControlModel",
      "state": {
       "_model_module_version": "^0.19",
       "_view_module_version": "^0.19",
       "imperial": true,
       "max_width": 100,
       "metric": true,
       "options": [
        "imperial",
        "max_width",
        "metric",
        "position",
        "update_when_idle"
       ],
       "position": "bottomleft",
       "update_when_idle": false
      }
     },
     "572e3fba23a443c4933f88a4ae56f98c": {
      "model_module": "@jupyter-widgets/controls",
      "model_module_version": "2.0.0",
      "model_name": "HBoxModel",
      "state": {
       "children": [
        "IPY_MODEL_1b46856d71c342eb996f94c1677b7b08",
        "IPY_MODEL_c8fc7bd4b0184c9095d61cbae2f66a1c"
       ],
       "layout": "IPY_MODEL_1e98a337cbd346b08faf1767ee0cee62"
      }
     },
     "5795ae3223164047ac9f7ecbed6bc4d9": {
      "model_module": "jupyter-leaflet",
      "model_module_version": "^0.19",
      "model_name": "LeafletMapModel",
      "state": {
       "_model_module_version": "^0.19",
       "_view_module_version": "^0.19",
       "bottom": 220014,
       "center": [
        27.954377954482954,
        86.98047637939455
       ],
       "controls": [
        "IPY_MODEL_079dfecf5bad4e8280186319d4b24354",
        "IPY_MODEL_aa98eb51bfcb43239ec0559f49b556b2",
        "IPY_MODEL_4279dd5bd1214348af06ad66694f537d",
        "IPY_MODEL_5f6d17e3120b4062940f615efc59bbe7",
        "IPY_MODEL_373af4c22c01415ca529676b7f362a54",
        "IPY_MODEL_80c78d6251804e60a64fa0f3f1b31975"
       ],
       "default_style": "IPY_MODEL_c1f62c80eb044a1e9df7f40311389472",
       "dragging_style": "IPY_MODEL_e56a06a6a3244eb6839ebf3cbcf2b5f2",
       "east": 87.52944946289064,
       "fullscreen": false,
       "interpolation": "bilinear",
       "layers": [
        "IPY_MODEL_57dc10d06ca54598826f7ec0d3715be6",
        "IPY_MODEL_adbe014da2234a8b97e5fa7eb355a03a"
       ],
       "layout": "IPY_MODEL_7f9e54d3ad3049a7bee4bf069d1f0b50",
       "left": 388019,
       "max_zoom": 24,
       "modisdate": "2024-07-16",
       "north": 28.13618294983049,
       "options": [
        "bounce_at_zoom_limits",
        "box_zoom",
        "center",
        "close_popup_on_click",
        "double_click_zoom",
        "dragging",
        "fullscreen",
        "inertia",
        "inertia_deceleration",
        "inertia_max_speed",
        "interpolation",
        "keyboard",
        "keyboard_pan_offset",
        "keyboard_zoom_offset",
        "max_zoom",
        "min_zoom",
        "prefer_canvas",
        "scroll_wheel_zoom",
        "tap",
        "tap_tolerance",
        "touch_zoom",
        "world_copy_jump",
        "zoom",
        "zoom_animation_threshold",
        "zoom_delta",
        "zoom_snap"
       ],
       "prefer_canvas": false,
       "right": 389618,
       "scroll_wheel_zoom": true,
       "south": 27.77226629694402,
       "style": "IPY_MODEL_c1f62c80eb044a1e9df7f40311389472",
       "top": 219414,
       "west": 86.43150329589845,
       "window_url": "http://localhost:8891/lab/tree/LLM_Find.ipynb",
       "zoom": 11
      }
     },
     "57dc10d06ca54598826f7ec0d3715be6": {
      "model_module": "jupyter-leaflet",
      "model_module_version": "^0.19",
      "model_name": "LeafletTileLayerModel",
      "state": {
       "_model_module_version": "^0.19",
       "_view_module_version": "^0.19",
       "attribution": "&copy; <a href=\"https://www.openstreetmap.org/copyright\">OpenStreetMap</a> contributors",
       "base": true,
       "max_zoom": 19,
       "min_zoom": 1,
       "name": "OpenStreetMap",
       "options": [
        "attribution",
        "bounds",
        "detect_retina",
        "max_native_zoom",
        "max_zoom",
        "min_native_zoom",
        "min_zoom",
        "no_wrap",
        "tile_size",
        "tms",
        "zoom_offset"
       ],
       "url": "https://tile.openstreetmap.org/{z}/{x}/{y}.png"
      }
     },
     "581d58427ca9471192f0d7da28b8edc4": {
      "model_module": "jupyter-leaflet",
      "model_module_version": "^0.19",
      "model_name": "LeafletFullScreenControlModel",
      "state": {
       "_model_module_version": "^0.19",
       "_view_module_version": "^0.19",
       "options": [
        "position"
       ]
      }
     },
     "5826b097ea06446884b3fa859a4d0c84": {
      "model_module": "@jupyter-widgets/controls",
      "model_module_version": "2.0.0",
      "model_name": "ToggleButtonStyleModel",
      "state": {
       "description_width": "",
       "font_family": null,
       "font_size": null,
       "font_style": null,
       "font_variant": null,
       "font_weight": null,
       "text_color": null,
       "text_decoration": null
      }
     },
     "59e5c26b32614861858d5aab77bebf10": {
      "model_module": "jupyter-leaflet",
      "model_module_version": "^0.19",
      "model_name": "LeafletTileLayerModel",
      "state": {
       "_model_module_version": "^0.19",
       "_view_module_version": "^0.19",
       "attribution": "Raster file served by <a href='https://github.com/banesullivan/localtileserver' target='_blank'>localtileserver</a>.",
       "bounds": [
        [
         27.82,
         86.73
        ],
        [
         28.17,
         87.13
        ]
       ],
       "max_native_zoom": 30,
       "max_zoom": 30,
       "name": "OpenTopography DEM",
       "options": [
        "attribution",
        "bounds",
        "detect_retina",
        "max_native_zoom",
        "max_zoom",
        "min_native_zoom",
        "min_zoom",
        "no_wrap",
        "tile_size",
        "tms",
        "zoom_offset"
       ],
       "show_loading": true,
       "url": "http://localhost:5946/api/tiles/{z}/{x}/{y}.png?&filename=E%3A%2FOneDrive_PSU%2FOneDrive+-+The+Pennsylvania+State+University%2FResearch_doc%2FLLM-Find%2FDownloaded_Data%2FEverest_DEM.tif&colormap=viridis"
      }
     },
     "5a8fcc53bc8b47d6a784e55dd85d315b": {
      "model_module": "@jupyter-widgets/controls",
      "model_module_version": "2.0.0",
      "model_name": "ToggleButtonStyleModel",
      "state": {
       "description_width": "",
       "font_family": null,
       "font_size": null,
       "font_style": null,
       "font_variant": null,
       "font_weight": null,
       "text_color": null,
       "text_decoration": null
      }
     },
     "5d73ee49e720495b9935cb564a8ae4d3": {
      "model_module": "@jupyter-widgets/controls",
      "model_module_version": "2.0.0",
      "model_name": "ToggleButtonStyleModel",
      "state": {
       "description_width": "",
       "font_family": null,
       "font_size": null,
       "font_style": null,
       "font_variant": null,
       "font_weight": null,
       "text_color": null,
       "text_decoration": null
      }
     },
     "5e1be60730474d66b882d1d93f6b88c0": {
      "model_module": "@jupyter-widgets/controls",
      "model_module_version": "2.0.0",
      "model_name": "ToggleButtonStyleModel",
      "state": {
       "description_width": "",
       "font_family": null,
       "font_size": null,
       "font_style": null,
       "font_variant": null,
       "font_weight": null,
       "text_color": null,
       "text_decoration": null
      }
     },
     "5ef7939d782a423190b29587362d39b6": {
      "model_module": "@jupyter-widgets/controls",
      "model_module_version": "2.0.0",
      "model_name": "ToggleButtonModel",
      "state": {
       "button_style": "primary",
       "icon": "fast-forward",
       "layout": "IPY_MODEL_2ded25d208de4132b4e0ad1564a7d282",
       "style": "IPY_MODEL_a15de57ede2343a0a4ec30e41b1df482",
       "tooltip": "Activate the time slider"
      }
     },
     "5f5491893a1243b084f9cfc90abcf34c": {
      "model_module": "@jupyter-widgets/base",
      "model_module_version": "2.0.0",
      "model_name": "LayoutModel",
      "state": {
       "height": "auto",
       "padding": "0px 0px 0px 4px",
       "width": "auto"
      }
     },
     "5f6d17e3120b4062940f615efc59bbe7": {
      "model_module": "jupyter-leaflet",
      "model_module_version": "^0.19",
      "model_name": "LeafletDrawControlModel",
      "state": {
       "_model_module_version": "^0.19",
       "_view_module_version": "^0.19",
       "circle": {
        "repeatMode": false,
        "shapeOptions": {
         "clickable": true,
         "color": "#3388ff",
         "fill": true,
         "fillColor": null,
         "fillOpacity": 0.2,
         "opacity": 0.5,
         "stroke": true,
         "weight": 4
        }
       },
       "marker": {
        "repeatMode": false,
        "shapeOptions": {
         "color": "#3388ff"
        }
       },
       "options": [
        "position"
       ],
       "polygon": {
        "repeatMode": false
       },
       "polyline": {
        "repeatMode": false
       },
       "rectangle": {
        "repeatMode": false,
        "shapeOptions": {
         "clickable": true,
         "color": "#3388ff",
         "fill": true,
         "fillColor": null,
         "fillOpacity": 0.2,
         "opacity": 0.5,
         "stroke": true,
         "weight": 4
        }
       }
      }
     },
     "5f80b9e46d934689b63623ebf1029b3b": {
      "model_module": "@jupyter-widgets/base",
      "model_module_version": "2.0.0",
      "model_name": "LayoutModel",
      "state": {
       "height": "auto",
       "padding": "0px 0px 0px 4px",
       "width": "auto"
      }
     },
     "6031b37d99c047ca9f5e6c881f0d8f02": {
      "model_module": "@jupyter-widgets/base",
      "model_module_version": "2.0.0",
      "model_name": "LayoutModel",
      "state": {
       "height": "auto",
       "padding": "0px 0px 0px 4px",
       "width": "auto"
      }
     },
     "60ff4ce5e5a74be7860408e2a22fdbf6": {
      "model_module": "@jupyter-widgets/controls",
      "model_module_version": "2.0.0",
      "model_name": "ToggleButtonModel",
      "state": {
       "button_style": "primary",
       "icon": "gears",
       "layout": "IPY_MODEL_d09bab23266e4488ba95d3ca6fcc7d13",
       "style": "IPY_MODEL_28b2fea7afa442f79019932765ea6985",
       "tooltip": "WhiteboxTools for local geoprocessing"
      }
     },
     "645503873c154ef3a721c3a606dac792": {
      "model_module": "@jupyter-widgets/base",
      "model_module_version": "2.0.0",
      "model_name": "LayoutModel",
      "state": {
       "height": "auto",
       "padding": "0px 0px 0px 4px",
       "width": "auto"
      }
     },
     "654581f2e3934f69a664ebd657fbdbcf": {
      "model_module": "@jupyter-widgets/controls",
      "model_module_version": "2.0.0",
      "model_name": "ToggleButtonStyleModel",
      "state": {
       "description_width": "",
       "font_family": null,
       "font_size": null,
       "font_style": null,
       "font_variant": null,
       "font_weight": null,
       "text_color": null,
       "text_decoration": null
      }
     },
     "67b7d7c73fa44b729a3f24166951344e": {
      "model_module": "jupyter-leaflet",
      "model_module_version": "^0.19",
      "model_name": "LeafletMapStyleModel",
      "state": {
       "_model_module_version": "^0.19"
      }
     },
     "69b5b4d168b745f69e1396d5275b454b": {
      "model_module": "@jupyter-widgets/base",
      "model_module_version": "2.0.0",
      "model_name": "LayoutModel",
      "state": {
       "height": "28px",
       "padding": "0px 0px 0px 4px",
       "width": "28px"
      }
     },
     "6a2af1d8dd5e4d02be654cd624035a9b": {
      "model_module": "jupyter-leaflet",
      "model_module_version": "^0.19",
      "model_name": "LeafletZoomControlModel",
      "state": {
       "_model_module_version": "^0.19",
       "_view_module_version": "^0.19",
       "options": [
        "position",
        "zoom_in_text",
        "zoom_in_title",
        "zoom_out_text",
        "zoom_out_title"
       ]
      }
     },
     "6a592ee734944724b88446826c4e43a7": {
      "model_module": "@jupyter-widgets/controls",
      "model_module_version": "2.0.0",
      "model_name": "ToggleButtonStyleModel",
      "state": {
       "description_width": "",
       "font_family": null,
       "font_size": null,
       "font_style": null,
       "font_variant": null,
       "font_weight": null,
       "text_color": null,
       "text_decoration": null
      }
     },
     "6a5e9668daa24f88a9cc6e34bda7aa3f": {
      "model_module": "@jupyter-widgets/controls",
      "model_module_version": "2.0.0",
      "model_name": "ToggleButtonModel",
      "state": {
       "button_style": "primary",
       "icon": "camera",
       "layout": "IPY_MODEL_8c6c56c5e4d247c4a3572d7a4e5c9e30",
       "style": "IPY_MODEL_bbe5890d325d4f1593e3f139d0450380",
       "tooltip": "Save map as HTML or image"
      }
     },
     "6a87f82437b74c0da9af106b24423715": {
      "model_module": "@jupyter-widgets/base",
      "model_module_version": "2.0.0",
      "model_name": "LayoutModel",
      "state": {
       "height": "auto",
       "padding": "0px 0px 0px 4px",
       "width": "auto"
      }
     },
     "6d0d05479baa494599e9a59b9b3a5b79": {
      "model_module": "@jupyter-widgets/base",
      "model_module_version": "2.0.0",
      "model_name": "LayoutModel",
      "state": {
       "height": "auto",
       "padding": "0px 0px 0px 4px",
       "width": "auto"
      }
     },
     "6e70810984e74ff2bba5ad066c49e008": {
      "model_module": "@jupyter-widgets/base",
      "model_module_version": "2.0.0",
      "model_name": "LayoutModel",
      "state": {
       "height": "auto",
       "padding": "0px 0px 0px 4px",
       "width": "auto"
      }
     },
     "6ea20664bd414679bd21b8ec536a6c90": {
      "model_module": "@jupyter-widgets/base",
      "model_module_version": "2.0.0",
      "model_name": "LayoutModel",
      "state": {
       "height": "auto",
       "padding": "0px 0px 0px 4px",
       "width": "auto"
      }
     },
     "6edfc0e275664c06927c138bd36ea942": {
      "model_module": "@jupyter-widgets/controls",
      "model_module_version": "2.0.0",
      "model_name": "ToggleButtonStyleModel",
      "state": {
       "description_width": "",
       "font_family": null,
       "font_size": null,
       "font_style": null,
       "font_variant": null,
       "font_weight": null,
       "text_color": null,
       "text_decoration": null
      }
     },
     "6ee448a167a243d0b0323b5e08e2c42c": {
      "model_module": "@jupyter-widgets/controls",
      "model_module_version": "2.0.0",
      "model_name": "ToggleButtonStyleModel",
      "state": {
       "description_width": "",
       "font_family": null,
       "font_size": null,
       "font_style": null,
       "font_variant": null,
       "font_weight": null,
       "text_color": null,
       "text_decoration": null
      }
     },
     "6ee80611fd974b7195965a918c888e74": {
      "model_module": "@jupyter-widgets/controls",
      "model_module_version": "2.0.0",
      "model_name": "ToggleButtonModel",
      "state": {
       "button_style": "primary",
       "icon": "table",
       "layout": "IPY_MODEL_1c1e29a3b65e4c168b59cbf9a10ac2b3",
       "style": "IPY_MODEL_3c3e8849abe74ca4bd070d7d93406e9b",
       "tooltip": "Open attribute table"
      }
     },
     "6ff3406c1d3d4ea4b271b42dfd22d8fd": {
      "model_module": "@jupyter-widgets/controls",
      "model_module_version": "2.0.0",
      "model_name": "ToggleButtonStyleModel",
      "state": {
       "description_width": "",
       "font_family": null,
       "font_size": null,
       "font_style": null,
       "font_variant": null,
       "font_weight": null,
       "text_color": null,
       "text_decoration": null
      }
     },
     "700b6207d99e43f784fe69ec4a5554cf": {
      "model_module": "@jupyter-widgets/controls",
      "model_module_version": "2.0.0",
      "model_name": "ToggleButtonModel",
      "state": {
       "button_style": "primary",
       "icon": "adjust",
       "layout": "IPY_MODEL_83adb88e5b444d8d9d67b08f9f3c9508",
       "style": "IPY_MODEL_35ee43f20c684e18860f8e84cb98f755",
       "tooltip": "Planet imagery"
      }
     },
     "704a799325544f8bb93be65d0b7309ed": {
      "model_module": "@jupyter-widgets/controls",
      "model_module_version": "2.0.0",
      "model_name": "ToggleButtonModel",
      "state": {
       "button_style": "primary",
       "icon": "pencil-square-o",
       "layout": "IPY_MODEL_c75710a8279945d59c584d0249431638",
       "style": "IPY_MODEL_5d73ee49e720495b9935cb564a8ae4d3",
       "tooltip": "Create vector data"
      }
     },
     "721e75edd67a4458bfffd201e82a50e6": {
      "model_module": "@jupyter-widgets/controls",
      "model_module_version": "2.0.0",
      "model_name": "ToggleButtonModel",
      "state": {
       "button_style": "primary",
       "icon": "globe",
       "layout": "IPY_MODEL_443162a7453f4ad6801e7aaa103cb108",
       "style": "IPY_MODEL_094a184c4eb74ed7a5c5372c734ccf89",
       "tooltip": "Split-panel map"
      }
     },
     "7468054fd6b144fdae31e113ed0962dd": {
      "model_module": "@jupyter-widgets/controls",
      "model_module_version": "2.0.0",
      "model_name": "ToggleButtonModel",
      "state": {
       "button_style": "primary",
       "icon": "search-plus",
       "layout": "IPY_MODEL_858e56254bf44ae49321e2aa9f4fdb45",
       "style": "IPY_MODEL_d1bdaab4ef4b42b5800ad5651f810964",
       "tooltip": "Search features in GeoJSON layer"
      }
     },
     "74e69ba0bc5648c2ac10eae241dfe718": {
      "model_module": "jupyter-leaflet",
      "model_module_version": "^0.19",
      "model_name": "LeafletZoomControlModel",
      "state": {
       "_model_module_version": "^0.19",
       "_view_module_version": "^0.19",
       "options": [
        "position",
        "zoom_in_text",
        "zoom_in_title",
        "zoom_out_text",
        "zoom_out_title"
       ]
      }
     },
     "765e728078a74f6ba06eff60912039b4": {
      "model_module": "jupyter-leaflet",
      "model_module_version": "^0.19",
      "model_name": "LeafletDrawControlModel",
      "state": {
       "_model_module_version": "^0.19",
       "_view_module_version": "^0.19",
       "circle": {
        "repeatMode": false,
        "shapeOptions": {
         "clickable": true,
         "color": "#3388ff",
         "fill": true,
         "fillColor": null,
         "fillOpacity": 0.2,
         "opacity": 0.5,
         "stroke": true,
         "weight": 4
        }
       },
       "marker": {
        "repeatMode": false,
        "shapeOptions": {
         "color": "#3388ff"
        }
       },
       "options": [
        "position"
       ],
       "polygon": {
        "repeatMode": false
       },
       "polyline": {
        "repeatMode": false
       },
       "rectangle": {
        "repeatMode": false,
        "shapeOptions": {
         "clickable": true,
         "color": "#3388ff",
         "fill": true,
         "fillColor": null,
         "fillOpacity": 0.2,
         "opacity": 0.5,
         "stroke": true,
         "weight": 4
        }
       }
      }
     },
     "788476f9877e4d7698352c8d173b1154": {
      "model_module": "@jupyter-widgets/controls",
      "model_module_version": "2.0.0",
      "model_name": "ToggleButtonStyleModel",
      "state": {
       "description_width": "",
       "font_family": null,
       "font_size": null,
       "font_style": null,
       "font_variant": null,
       "font_weight": null,
       "text_color": null,
       "text_decoration": null
      }
     },
     "7b3e5a2ffb2c4816a4c036cd7adba46c": {
      "model_module": "@jupyter-widgets/base",
      "model_module_version": "2.0.0",
      "model_name": "LayoutModel",
      "state": {
       "height": "auto",
       "padding": "0px 0px 0px 4px",
       "width": "auto"
      }
     },
     "7b66a0a825944816a04886041b9d3092": {
      "model_module": "@jupyter-widgets/base",
      "model_module_version": "2.0.0",
      "model_name": "LayoutModel",
      "state": {
       "height": "auto",
       "padding": "0px 0px 0px 4px",
       "width": "auto"
      }
     },
     "7f1bbd12ac974393b3ea7b7390f95a74": {
      "model_module": "@jupyter-widgets/base",
      "model_module_version": "2.0.0",
      "model_name": "LayoutModel",
      "state": {
       "height": "auto",
       "padding": "0px 0px 0px 4px",
       "width": "auto"
      }
     },
     "7f74d63e4445494c9203f06e7eac1517": {
      "model_module": "@jupyter-widgets/controls",
      "model_module_version": "2.0.0",
      "model_name": "ToggleButtonModel",
      "state": {
       "button_style": "primary",
       "icon": "eraser",
       "layout": "IPY_MODEL_28b890c9e4534f2a835c1244540f8ef3",
       "style": "IPY_MODEL_d3fb005e04854d2f9c1caef3fc651132",
       "tooltip": "Remove all drawn features"
      }
     },
     "7f81ec891eb84590b96b46bead89d439": {
      "model_module": "@jupyter-widgets/base",
      "model_module_version": "2.0.0",
      "model_name": "LayoutModel",
      "state": {
       "height": "auto",
       "padding": "0px 0px 0px 4px",
       "width": "auto"
      }
     },
     "7f9e54d3ad3049a7bee4bf069d1f0b50": {
      "model_module": "@jupyter-widgets/base",
      "model_module_version": "2.0.0",
      "model_name": "LayoutModel",
      "state": {
       "height": "600px"
      }
     },
     "7fc10d7a852a489b9122a3f426c9332b": {
      "model_module": "@jupyter-widgets/base",
      "model_module_version": "2.0.0",
      "model_name": "LayoutModel",
      "state": {
       "grid_gap": "1px 1px",
       "grid_template_columns": "32px 32px 32px ",
       "grid_template_rows": "32px 32px 32px 32px 32px 32px ",
       "padding": "5px",
       "width": "109px"
      }
     },
     "80417b50bd3b4d24a70e7f481128bb8a": {
      "model_module": "@jupyter-widgets/base",
      "model_module_version": "2.0.0",
      "model_name": "LayoutModel",
      "state": {
       "height": "auto",
       "padding": "0px 0px 0px 4px",
       "width": "auto"
      }
     },
     "80c78d6251804e60a64fa0f3f1b31975": {
      "model_module": "jupyter-leaflet",
      "model_module_version": "^0.19",
      "model_name": "LeafletWidgetControlModel",
      "state": {
       "_model_module_version": "^0.19",
       "_view_module_version": "^0.19",
       "options": [
        "position",
        "transparent_bg"
       ],
       "position": "topright",
       "widget": "IPY_MODEL_8bfe3197503c476db905f3a2bd513573"
      }
     },
     "81baf1f265a74443a3babf05eaf05343": {
      "model_module": "@jupyter-widgets/controls",
      "model_module_version": "2.0.0",
      "model_name": "VBoxModel",
      "state": {
       "_view_count": 0,
       "children": [
        "IPY_MODEL_c8fc7bd4b0184c9095d61cbae2f66a1c"
       ],
       "layout": "IPY_MODEL_955ce1272459450c9fb9f15abac663c8"
      }
     },
     "8382b5e3d4c748b2b8fea68da8d74527": {
      "model_module": "@jupyter-widgets/controls",
      "model_module_version": "2.0.0",
      "model_name": "ToggleButtonModel",
      "state": {
       "button_style": "primary",
       "icon": "plane",
       "layout": "IPY_MODEL_6a87f82437b74c0da9af106b24423715",
       "style": "IPY_MODEL_e85c85f867fc4695921df8fefb544c82",
       "tooltip": "Search OpenAerialMap"
      }
     },
     "83adb88e5b444d8d9d67b08f9f3c9508": {
      "model_module": "@jupyter-widgets/base",
      "model_module_version": "2.0.0",
      "model_name": "LayoutModel",
      "state": {
       "height": "auto",
       "padding": "0px 0px 0px 4px",
       "width": "auto"
      }
     },
     "83be465ed05c48f3bfa1a6b455deb959": {
      "model_module": "jupyter-leaflet",
      "model_module_version": "^0.19",
      "model_name": "LeafletMapStyleModel",
      "state": {
       "_model_module_version": "^0.19"
      }
     },
     "84672a815f11402192f6131139e55ca8": {
      "model_module": "@jupyter-widgets/controls",
      "model_module_version": "2.0.0",
      "model_name": "ToggleButtonStyleModel",
      "state": {
       "description_width": "",
       "font_family": null,
       "font_size": null,
       "font_style": null,
       "font_variant": null,
       "font_weight": null,
       "text_color": null,
       "text_decoration": null
      }
     },
     "850f9f4d8fe94b529e9f7e1c9f65733f": {
      "model_module": "@jupyter-widgets/base",
      "model_module_version": "2.0.0",
      "model_name": "LayoutModel",
      "state": {
       "height": "auto",
       "padding": "0px 0px 0px 4px",
       "width": "auto"
      }
     },
     "858e56254bf44ae49321e2aa9f4fdb45": {
      "model_module": "@jupyter-widgets/base",
      "model_module_version": "2.0.0",
      "model_name": "LayoutModel",
      "state": {
       "height": "auto",
       "padding": "0px 0px 0px 4px",
       "width": "auto"
      }
     },
     "8793e5c2b5c24cbaa9a4469d3b5d81cb": {
      "model_module": "@jupyter-widgets/base",
      "model_module_version": "2.0.0",
      "model_name": "LayoutModel",
      "state": {
       "height": "auto",
       "padding": "0px 0px 0px 4px",
       "width": "auto"
      }
     },
     "8968188ec04d491caf4c32d7ca2bed4b": {
      "model_module": "@jupyter-widgets/controls",
      "model_module_version": "2.0.0",
      "model_name": "ToggleButtonStyleModel",
      "state": {
       "description_width": "",
       "font_family": null,
       "font_size": null,
       "font_style": null,
       "font_variant": null,
       "font_weight": null,
       "text_color": null,
       "text_decoration": null
      }
     },
     "89a1da2ab78641bf9f45475a2d2410f2": {
      "model_module": "@jupyter-widgets/controls",
      "model_module_version": "2.0.0",
      "model_name": "VBoxModel",
      "state": {
       "children": [
        "IPY_MODEL_e41e9069e48749b4a2556f00c7956279"
       ],
       "layout": "IPY_MODEL_24af85e61c7a4567b355758469e21c49"
      }
     },
     "8b35ff940a1642c2bc1edec2fc13a68e": {
      "model_module": "@jupyter-widgets/base",
      "model_module_version": "2.0.0",
      "model_name": "LayoutModel",
      "state": {
       "height": "auto",
       "padding": "0px 0px 0px 4px",
       "width": "auto"
      }
     },
     "8b9530ea6cf54654bac47007f0d410b4": {
      "model_module": "@jupyter-widgets/controls",
      "model_module_version": "2.0.0",
      "model_name": "ToggleButtonStyleModel",
      "state": {
       "description_width": "",
       "font_family": null,
       "font_size": null,
       "font_style": null,
       "font_variant": null,
       "font_weight": null,
       "text_color": null,
       "text_decoration": null
      }
     },
     "8bfe3197503c476db905f3a2bd513573": {
      "model_module": "@jupyter-widgets/controls",
      "model_module_version": "2.0.0",
      "model_name": "VBoxModel",
      "state": {
       "_view_count": 1,
       "children": [
        "IPY_MODEL_27f41eedb97849d39352da3de6a4c164"
       ],
       "layout": "IPY_MODEL_1f193a83f24547cab2d48e2ecad34134"
      }
     },
     "8c40046a65e043bebb7e3bfab4277da9": {
      "model_module": "jupyter-leaflet",
      "model_module_version": "^0.19",
      "model_name": "LeafletTileLayerModel",
      "state": {
       "_model_module_version": "^0.19",
       "_view_module_version": "^0.19",
       "attribution": "&copy; <a href=\"https://www.openstreetmap.org/copyright\">OpenStreetMap</a> contributors",
       "base": true,
       "max_zoom": 19,
       "min_zoom": 1,
       "name": "OpenStreetMap",
       "options": [
        "attribution",
        "bounds",
        "detect_retina",
        "max_native_zoom",
        "max_zoom",
        "min_native_zoom",
        "min_zoom",
        "no_wrap",
        "tile_size",
        "tms",
        "zoom_offset"
       ],
       "url": "https://tile.openstreetmap.org/{z}/{x}/{y}.png"
      }
     },
     "8c6c56c5e4d247c4a3572d7a4e5c9e30": {
      "model_module": "@jupyter-widgets/base",
      "model_module_version": "2.0.0",
      "model_name": "LayoutModel",
      "state": {
       "height": "auto",
       "padding": "0px 0px 0px 4px",
       "width": "auto"
      }
     },
     "8e3a2a7ded494b2e87ae9cda8c6b488c": {
      "model_module": "@jupyter-widgets/base",
      "model_module_version": "2.0.0",
      "model_name": "LayoutModel",
      "state": {
       "height": "auto",
       "padding": "0px 0px 0px 4px",
       "width": "auto"
      }
     },
     "8f483fa9934b45ef81ac24e0188e8e08": {
      "model_module": "@jupyter-widgets/base",
      "model_module_version": "2.0.0",
      "model_name": "LayoutModel",
      "state": {
       "height": "auto",
       "padding": "0px 0px 0px 4px",
       "width": "auto"
      }
     },
     "8f6b41e915a541fdb0e3e01d8cbf3eab": {
      "model_module": "@jupyter-widgets/controls",
      "model_module_version": "2.0.0",
      "model_name": "ToggleButtonModel",
      "state": {
       "button_style": "primary",
       "icon": "map",
       "layout": "IPY_MODEL_8e3a2a7ded494b2e87ae9cda8c6b488c",
       "style": "IPY_MODEL_ae78e435d1874a2689efe649a7bb7526",
       "tooltip": "Change basemap"
      }
     },
     "90a3d6f7bdf6466bb63fb617e65d397c": {
      "model_module": "@jupyter-widgets/controls",
      "model_module_version": "2.0.0",
      "model_name": "ToggleButtonModel",
      "state": {
       "button_style": "primary",
       "icon": "map",
       "layout": "IPY_MODEL_8f483fa9934b45ef81ac24e0188e8e08",
       "style": "IPY_MODEL_5826b097ea06446884b3fa859a4d0c84",
       "tooltip": "Change basemap"
      }
     },
     "918db4c4619c4cec922791111a1797f9": {
      "model_module": "@jupyter-widgets/base",
      "model_module_version": "2.0.0",
      "model_name": "LayoutModel",
      "state": {
       "height": "auto",
       "padding": "0px 0px 0px 4px",
       "width": "auto"
      }
     },
     "92d23ca7049c47f2b8eade03a6dc3e55": {
      "model_module": "@jupyter-widgets/base",
      "model_module_version": "2.0.0",
      "model_name": "LayoutModel",
      "state": {
       "height": "auto",
       "padding": "0px 0px 0px 4px",
       "width": "auto"
      }
     },
     "944fc3d097324535ad33c1d82598eed5": {
      "model_module": "@jupyter-widgets/controls",
      "model_module_version": "2.0.0",
      "model_name": "ToggleButtonModel",
      "state": {
       "button_style": "primary",
       "icon": "search",
       "layout": "IPY_MODEL_06e0455bc1e6470083ea878deb5c6ab2",
       "style": "IPY_MODEL_9fd16e15fcbe492fb83b103e30536cfe",
       "tooltip": "Search XYZ tile services"
      }
     },
     "94c86c25ddd9412dbb07cf9b7c1418b7": {
      "model_module": "@jupyter-widgets/controls",
      "model_module_version": "2.0.0",
      "model_name": "ToggleButtonModel",
      "state": {
       "button_style": "primary",
       "icon": "gears",
       "layout": "IPY_MODEL_8793e5c2b5c24cbaa9a4469d3b5d81cb",
       "style": "IPY_MODEL_84672a815f11402192f6131139e55ca8",
       "tooltip": "WhiteboxTools for local geoprocessing"
      }
     },
     "94d086da252b4907902e9ef701062c55": {
      "model_module": "jupyter-leaflet",
      "model_module_version": "^0.19",
      "model_name": "LeafletMapModel",
      "state": {
       "_model_module_version": "^0.19",
       "_view_module_version": "^0.19",
       "center": [
        27.995,
        86.93
       ],
       "controls": [
        "IPY_MODEL_74e69ba0bc5648c2ac10eae241dfe718",
        "IPY_MODEL_c27481fd77eb42efb7e2279569a9675e",
        "IPY_MODEL_581d58427ca9471192f0d7da28b8edc4",
        "IPY_MODEL_2f327c2754af4a63a1e4b0c2c6fe37a2",
        "IPY_MODEL_556b934ab1284fba8d92c80fe77974e9",
        "IPY_MODEL_11f0c3e2767247f2917f17ef8ea08859"
       ],
       "default_style": "IPY_MODEL_cd86aa64110f4ba9b3e2ba371606c8f6",
       "dragging_style": "IPY_MODEL_022b2f6477e04ba08fd753eac380286e",
       "fullscreen": false,
       "interpolation": "bilinear",
       "layers": [
        "IPY_MODEL_0ac7228ba3d947f8a3a44f5f58654d4c",
        "IPY_MODEL_e4296a800d8b43d1846a005cdf59d47a"
       ],
       "layout": "IPY_MODEL_2a6ec738f79948afa329caf8ecc68655",
       "max_zoom": 24,
       "modisdate": "2024-07-16",
       "options": [
        "bounce_at_zoom_limits",
        "box_zoom",
        "center",
        "close_popup_on_click",
        "double_click_zoom",
        "dragging",
        "fullscreen",
        "inertia",
        "inertia_deceleration",
        "inertia_max_speed",
        "interpolation",
        "keyboard",
        "keyboard_pan_offset",
        "keyboard_zoom_offset",
        "max_zoom",
        "min_zoom",
        "prefer_canvas",
        "scroll_wheel_zoom",
        "tap",
        "tap_tolerance",
        "touch_zoom",
        "world_copy_jump",
        "zoom",
        "zoom_animation_threshold",
        "zoom_delta",
        "zoom_snap"
       ],
       "prefer_canvas": false,
       "scroll_wheel_zoom": true,
       "style": "IPY_MODEL_67b7d7c73fa44b729a3f24166951344e",
       "window_url": "http://localhost:8891/lab/tree/LLM_Find.ipynb",
       "zoom": 2
      }
     },
     "955ce1272459450c9fb9f15abac663c8": {
      "model_module": "@jupyter-widgets/base",
      "model_module_version": "2.0.0",
      "model_name": "LayoutModel",
      "state": {}
     },
     "95cf052cb11a4707a539f7702eb07eb8": {
      "model_module": "@jupyter-widgets/base",
      "model_module_version": "2.0.0",
      "model_name": "LayoutModel",
      "state": {
       "height": "auto",
       "padding": "0px 0px 0px 4px",
       "width": "auto"
      }
     },
     "95e1d6973d1a4ecf9967291b9fe25993": {
      "model_module": "ipyevents",
      "model_module_version": "2.0.2",
      "model_name": "EventModel",
      "state": {
       "_supported_key_events": [
        "keydown",
        "keyup"
       ],
       "_supported_mouse_events": [
        "click",
        "auxclick",
        "dblclick",
        "mouseenter",
        "mouseleave",
        "mousedown",
        "mouseup",
        "mousemove",
        "wheel",
        "contextmenu",
        "dragstart",
        "drag",
        "dragend",
        "dragenter",
        "dragover",
        "dragleave",
        "drop"
       ],
       "_supported_touch_events": [
        "touchstart",
        "touchend",
        "touchmove",
        "touchcancel"
       ],
       "_view_module": "@jupyter-widgets/controls",
       "source": "IPY_MODEL_81baf1f265a74443a3babf05eaf05343",
       "throttle_or_debounce": "",
       "watched_events": [
        "mouseenter",
        "mouseleave"
       ],
       "xy_coordinate_system": ""
      }
     },
     "9649443ebc1a4355887f8772690f9548": {
      "model_module": "@jupyter-widgets/controls",
      "model_module_version": "2.0.0",
      "model_name": "ToggleButtonStyleModel",
      "state": {
       "description_width": "",
       "font_family": null,
       "font_size": null,
       "font_style": null,
       "font_variant": null,
       "font_weight": null,
       "text_color": null,
       "text_decoration": null
      }
     },
     "990721e12dd14f7382d40ca41f121dd4": {
      "model_module": "jupyter-leaflet",
      "model_module_version": "^0.19",
      "model_name": "LeafletAttributionControlModel",
      "state": {
       "_model_module_version": "^0.19",
       "_view_module_version": "^0.19",
       "options": [
        "position",
        "prefix"
       ],
       "position": "bottomright",
       "prefix": "ipyleaflet"
      }
     },
     "99a33017a8614763980b6e57460eb456": {
      "model_module": "jupyter-leaflet",
      "model_module_version": "^0.19",
      "model_name": "LeafletMapStyleModel",
      "state": {
       "_model_module_version": "^0.19"
      }
     },
     "99f6980a5a3049fe8457b54577e07392": {
      "model_module": "@jupyter-widgets/controls",
      "model_module_version": "2.0.0",
      "model_name": "ToggleButtonModel",
      "state": {
       "button_style": "primary",
       "icon": "fast-forward",
       "layout": "IPY_MODEL_4620dcb37c4648d3bb52646e8d2e7838",
       "style": "IPY_MODEL_201673039f2f4c21858a1d148f391696",
       "tooltip": "Activate the time slider"
      }
     },
     "9c745dfcc86c43ad9babea0586bdaa42": {
      "model_module": "@jupyter-widgets/controls",
      "model_module_version": "2.0.0",
      "model_name": "ToggleButtonStyleModel",
      "state": {
       "description_width": "",
       "font_family": null,
       "font_size": null,
       "font_style": null,
       "font_variant": null,
       "font_weight": null,
       "text_color": null,
       "text_decoration": null
      }
     },
     "9dacfc5ce59542208304cd149e37e3c7": {
      "model_module": "@jupyter-widgets/controls",
      "model_module_version": "2.0.0",
      "model_name": "ToggleButtonModel",
      "state": {
       "button_style": "primary",
       "icon": "adjust",
       "layout": "IPY_MODEL_918db4c4619c4cec922791111a1797f9",
       "style": "IPY_MODEL_ab5b41a61db349a6aff7a476e8995463",
       "tooltip": "Planet imagery"
      }
     },
     "9dae109376a24861b93dbebfee036d4f": {
      "model_module": "@jupyter-widgets/controls",
      "model_module_version": "2.0.0",
      "model_name": "ToggleButtonStyleModel",
      "state": {
       "description_width": "",
       "font_family": null,
       "font_size": null,
       "font_style": null,
       "font_variant": null,
       "font_weight": null,
       "text_color": null,
       "text_decoration": null
      }
     },
     "9e24e8c3535e4bf8a670d80c9607e91a": {
      "model_module": "@jupyter-widgets/base",
      "model_module_version": "2.0.0",
      "model_name": "LayoutModel",
      "state": {}
     },
     "9ef16b572f2644d08c19b09bd596ee90": {
      "model_module": "@jupyter-widgets/controls",
      "model_module_version": "2.0.0",
      "model_name": "ToggleButtonModel",
      "state": {
       "button_style": "primary",
       "icon": "picture-o",
       "layout": "IPY_MODEL_6031b37d99c047ca9f5e6c881f0d8f02",
       "style": "IPY_MODEL_2be8bef0fbaa4605ab7cde4882f82280",
       "tooltip": "Open COG/STAC dataset"
      }
     },
     "9fd16e15fcbe492fb83b103e30536cfe": {
      "model_module": "@jupyter-widgets/controls",
      "model_module_version": "2.0.0",
      "model_name": "ToggleButtonStyleModel",
      "state": {
       "description_width": "",
       "font_family": null,
       "font_size": null,
       "font_style": null,
       "font_variant": null,
       "font_weight": null,
       "text_color": null,
       "text_decoration": null
      }
     },
     "a06c84833e8841b1bc6f9ad4acf7db09": {
      "model_module": "@jupyter-widgets/controls",
      "model_module_version": "2.0.0",
      "model_name": "GridBoxModel",
      "state": {
       "children": [
        "IPY_MODEL_8f6b41e915a541fdb0e3e01d8cbf3eab",
        "IPY_MODEL_721e75edd67a4458bfffd201e82a50e6",
        "IPY_MODEL_1e4175c2f6c94042a947131a8884b278",
        "IPY_MODEL_a3e19534a1ee40628b9aa4651bf03731",
        "IPY_MODEL_60ff4ce5e5a74be7860408e2a22fdbf6",
        "IPY_MODEL_5ef7939d782a423190b29587362d39b6",
        "IPY_MODEL_c4925ffd091040fc8e11f524d81ad18a",
        "IPY_MODEL_d40fe695d6a44f2984a5ae0267d4d215",
        "IPY_MODEL_0365e2bf3abf4ace8180e5a2fe628f61",
        "IPY_MODEL_a9ec2747db0e4c298ceb036a2f67aa6c",
        "IPY_MODEL_c452beb266d3436b8322901ed366a365",
        "IPY_MODEL_136dd6508a4442c2b20d4e3a09d11fb1",
        "IPY_MODEL_9ef16b572f2644d08c19b09bd596ee90",
        "IPY_MODEL_7468054fd6b144fdae31e113ed0962dd",
        "IPY_MODEL_c9a39710f4e048b6a2b3954294a2e240",
        "IPY_MODEL_a3e130dbf3e64d3fa53b9195bbaa6317",
        "IPY_MODEL_2c21bba510764f2a98e3768b014ad1ab",
        "IPY_MODEL_32a64535196046608342e3003eb0df50"
       ],
       "layout": "IPY_MODEL_7fc10d7a852a489b9122a3f426c9332b"
      }
     },
     "a096ee58cabc4df191571a8b00b67d3b": {
      "model_module": "@jupyter-widgets/base",
      "model_module_version": "2.0.0",
      "model_name": "LayoutModel",
      "state": {
       "height": "auto",
       "padding": "0px 0px 0px 4px",
       "width": "auto"
      }
     },
     "a15de57ede2343a0a4ec30e41b1df482": {
      "model_module": "@jupyter-widgets/controls",
      "model_module_version": "2.0.0",
      "model_name": "ToggleButtonStyleModel",
      "state": {
       "description_width": "",
       "font_family": null,
       "font_size": null,
       "font_style": null,
       "font_variant": null,
       "font_weight": null,
       "text_color": null,
       "text_decoration": null
      }
     },
     "a38a9bb8a0454db58698ad1f72f00d09": {
      "model_module": "@jupyter-widgets/controls",
      "model_module_version": "2.0.0",
      "model_name": "ToggleButtonModel",
      "state": {
       "button_style": "primary",
       "icon": "folder-open",
       "layout": "IPY_MODEL_0887742ec6654e6a9e5b56aa594d693a",
       "style": "IPY_MODEL_f1744fb8a9534e4eb5c94c4509540526",
       "tooltip": "Open local vector/raster data"
      }
     },
     "a3b187fffb854eda899ed209902d5faf": {
      "model_module": "@jupyter-widgets/controls",
      "model_module_version": "2.0.0",
      "model_name": "HBoxModel",
      "state": {
       "children": [
        "IPY_MODEL_f80ef86e271e4bc0bb01516623b6b5bc",
        "IPY_MODEL_54f3e07937ae4e82811c207cff0593ff"
       ],
       "layout": "IPY_MODEL_9e24e8c3535e4bf8a670d80c9607e91a"
      }
     },
     "a3e130dbf3e64d3fa53b9195bbaa6317": {
      "model_module": "@jupyter-widgets/controls",
      "model_module_version": "2.0.0",
      "model_name": "ToggleButtonModel",
      "state": {
       "button_style": "primary",
       "icon": "pencil-square-o",
       "layout": "IPY_MODEL_7b66a0a825944816a04886041b9d3092",
       "style": "IPY_MODEL_4b02a8828a8941c5b99c20dce5398de5",
       "tooltip": "Create vector data"
      }
     },
     "a3e19534a1ee40628b9aa4651bf03731": {
      "model_module": "@jupyter-widgets/controls",
      "model_module_version": "2.0.0",
      "model_name": "ToggleButtonModel",
      "state": {
       "button_style": "primary",
       "icon": "folder-open",
       "layout": "IPY_MODEL_6d0d05479baa494599e9a59b9b3a5b79",
       "style": "IPY_MODEL_9649443ebc1a4355887f8772690f9548",
       "tooltip": "Open local vector/raster data"
      }
     },
     "a7d910b5b756443f93a5fe66f0789aef": {
      "model_module": "@jupyter-widgets/controls",
      "model_module_version": "2.0.0",
      "model_name": "ToggleButtonStyleModel",
      "state": {
       "description_width": "",
       "font_family": null,
       "font_size": null,
       "font_style": null,
       "font_variant": null,
       "font_weight": null,
       "text_color": null,
       "text_decoration": null
      }
     },
     "a94cec7d1d334954933abce7ca80f3b6": {
      "model_module": "@jupyter-widgets/base",
      "model_module_version": "2.0.0",
      "model_name": "LayoutModel",
      "state": {
       "height": "auto",
       "padding": "0px 0px 0px 4px",
       "width": "auto"
      }
     },
     "a9ec2747db0e4c298ceb036a2f67aa6c": {
      "model_module": "@jupyter-widgets/controls",
      "model_module_version": "2.0.0",
      "model_name": "ToggleButtonModel",
      "state": {
       "button_style": "primary",
       "icon": "info",
       "layout": "IPY_MODEL_08223634d2d74ab3a8f46d88289c88a2",
       "style": "IPY_MODEL_d48febcb18f04b65bc1a3a721c5f5eb7",
       "tooltip": "Get COG/STAC pixel value"
      }
     },
     "aa98eb51bfcb43239ec0559f49b556b2": {
      "model_module": "jupyter-leaflet",
      "model_module_version": "^0.19",
      "model_name": "LeafletAttributionControlModel",
      "state": {
       "_model_module_version": "^0.19",
       "_view_module_version": "^0.19",
       "options": [
        "position",
        "prefix"
       ],
       "position": "bottomright",
       "prefix": "ipyleaflet"
      }
     },
     "ab5b41a61db349a6aff7a476e8995463": {
      "model_module": "@jupyter-widgets/controls",
      "model_module_version": "2.0.0",
      "model_name": "ToggleButtonStyleModel",
      "state": {
       "description_width": "",
       "font_family": null,
       "font_size": null,
       "font_style": null,
       "font_variant": null,
       "font_weight": null,
       "text_color": null,
       "text_decoration": null
      }
     },
     "ad8edc50cbfb4877a1b247f7c9032210": {
      "model_module": "@jupyter-widgets/controls",
      "model_module_version": "2.0.0",
      "model_name": "ToggleButtonModel",
      "state": {
       "button_style": "primary",
       "icon": "picture-o",
       "layout": "IPY_MODEL_f83f8cfc844e41f7b209734fd9374c45",
       "style": "IPY_MODEL_6ee448a167a243d0b0323b5e08e2c42c",
       "tooltip": "Open COG/STAC dataset"
      }
     },
     "adbe014da2234a8b97e5fa7eb355a03a": {
      "model_module": "jupyter-leaflet",
      "model_module_version": "^0.19",
      "model_name": "LeafletTileLayerModel",
      "state": {
       "_model_module_version": "^0.19",
       "_view_module_version": "^0.19",
       "attribution": "Raster file served by <a href='https://github.com/banesullivan/localtileserver' target='_blank'>localtileserver</a>.",
       "bounds": [
        [
         27.82,
         86.73
        ],
        [
         28.17,
         87.13
        ]
       ],
       "max_native_zoom": 30,
       "max_zoom": 30,
       "name": "OpenTopography DEM",
       "options": [
        "attribution",
        "bounds",
        "detect_retina",
        "max_native_zoom",
        "max_zoom",
        "min_native_zoom",
        "min_zoom",
        "no_wrap",
        "tile_size",
        "tms",
        "zoom_offset"
       ],
       "show_loading": true,
       "url": "http://localhost:5946/api/tiles/{z}/{x}/{y}.png?&filename=E%3A%2FOneDrive_PSU%2FOneDrive+-+The+Pennsylvania+State+University%2FResearch_doc%2FLLM-Find%2FDownloaded_Data%2FEverest_DEM.tif&colormap=viridis"
      }
     },
     "ae78e435d1874a2689efe649a7bb7526": {
      "model_module": "@jupyter-widgets/controls",
      "model_module_version": "2.0.0",
      "model_name": "ToggleButtonStyleModel",
      "state": {
       "description_width": "",
       "font_family": null,
       "font_size": null,
       "font_style": null,
       "font_variant": null,
       "font_weight": null,
       "text_color": null,
       "text_decoration": null
      }
     },
     "b144397f19544a43a8dd69379a7ff1d4": {
      "model_module": "@jupyter-widgets/controls",
      "model_module_version": "2.0.0",
      "model_name": "ToggleButtonModel",
      "state": {
       "button_style": "primary",
       "icon": "fast-forward",
       "layout": "IPY_MODEL_92d23ca7049c47f2b8eade03a6dc3e55",
       "style": "IPY_MODEL_5a8fcc53bc8b47d6a784e55dd85d315b",
       "tooltip": "Activate the time slider"
      }
     },
     "b1fac28e762a487f8bcbda9d758179ce": {
      "model_module": "@jupyter-widgets/base",
      "model_module_version": "2.0.0",
      "model_name": "LayoutModel",
      "state": {
       "height": "28px",
       "width": "72px"
      }
     },
     "b239ca56b4cb4ca99c8e0b879d57820d": {
      "model_module": "@jupyter-widgets/controls",
      "model_module_version": "2.0.0",
      "model_name": "ToggleButtonModel",
      "state": {
       "button_style": "primary",
       "icon": "table",
       "layout": "IPY_MODEL_0a2b9c35d8bf4d71963d9ecb1e57d1b9",
       "style": "IPY_MODEL_466976cb480a484bb933bbe04cf2b6e1",
       "tooltip": "Open attribute table"
      }
     },
     "b81521237eca40d6891c329e561d52bd": {
      "model_module": "@jupyter-widgets/controls",
      "model_module_version": "2.0.0",
      "model_name": "ToggleButtonStyleModel",
      "state": {
       "description_width": "",
       "font_family": null,
       "font_size": null,
       "font_style": null,
       "font_variant": null,
       "font_weight": null,
       "text_color": null,
       "text_decoration": null
      }
     },
     "bbe5890d325d4f1593e3f139d0450380": {
      "model_module": "@jupyter-widgets/controls",
      "model_module_version": "2.0.0",
      "model_name": "ToggleButtonStyleModel",
      "state": {
       "description_width": "",
       "font_family": null,
       "font_size": null,
       "font_style": null,
       "font_variant": null,
       "font_weight": null,
       "text_color": null,
       "text_decoration": null
      }
     },
     "bd3f8bf1250547dfb24c4b1f965a461e": {
      "model_module": "@jupyter-widgets/controls",
      "model_module_version": "2.0.0",
      "model_name": "ToggleButtonModel",
      "state": {
       "button_style": "primary",
       "icon": "gears",
       "layout": "IPY_MODEL_4ce0ca2615b040e0930a3588e9dce5b0",
       "style": "IPY_MODEL_9c745dfcc86c43ad9babea0586bdaa42",
       "tooltip": "WhiteboxTools for local geoprocessing"
      }
     },
     "bf3b99fef09e4728bce3108851b7ed54": {
      "model_module": "@jupyter-widgets/controls",
      "model_module_version": "2.0.0",
      "model_name": "ToggleButtonModel",
      "state": {
       "button_style": "primary",
       "icon": "folder-open",
       "layout": "IPY_MODEL_c5a9bc525c2e44e6a80fcc1b3fda2c06",
       "style": "IPY_MODEL_d369bb96829046f695c3ce80f233d03e",
       "tooltip": "Open local vector/raster data"
      }
     },
     "c1f62c80eb044a1e9df7f40311389472": {
      "model_module": "jupyter-leaflet",
      "model_module_version": "^0.19",
      "model_name": "LeafletMapStyleModel",
      "state": {
       "_model_module_version": "^0.19"
      }
     },
     "c27481fd77eb42efb7e2279569a9675e": {
      "model_module": "jupyter-leaflet",
      "model_module_version": "^0.19",
      "model_name": "LeafletAttributionControlModel",
      "state": {
       "_model_module_version": "^0.19",
       "_view_module_version": "^0.19",
       "options": [
        "position",
        "prefix"
       ],
       "position": "bottomright",
       "prefix": "ipyleaflet"
      }
     },
     "c33d0c81acf246a590f722de9e0bf3cd": {
      "model_module": "@jupyter-widgets/controls",
      "model_module_version": "2.0.0",
      "model_name": "ToggleButtonModel",
      "state": {
       "button_style": "primary",
       "icon": "filter",
       "layout": "IPY_MODEL_52c27747502043ee97959d6da820f7c5",
       "style": "IPY_MODEL_6a592ee734944724b88446826c4e43a7",
       "tooltip": "Get US Census data"
      }
     },
     "c452beb266d3436b8322901ed366a365": {
      "model_module": "@jupyter-widgets/controls",
      "model_module_version": "2.0.0",
      "model_name": "ToggleButtonModel",
      "state": {
       "button_style": "primary",
       "icon": "search",
       "layout": "IPY_MODEL_5f80b9e46d934689b63623ebf1029b3b",
       "style": "IPY_MODEL_8968188ec04d491caf4c32d7ca2bed4b",
       "tooltip": "Search XYZ tile services"
      }
     },
     "c4925ffd091040fc8e11f524d81ad18a": {
      "model_module": "@jupyter-widgets/controls",
      "model_module_version": "2.0.0",
      "model_name": "ToggleButtonModel",
      "state": {
       "button_style": "primary",
       "icon": "eraser",
       "layout": "IPY_MODEL_6ea20664bd414679bd21b8ec536a6c90",
       "style": "IPY_MODEL_654581f2e3934f69a664ebd657fbdbcf",
       "tooltip": "Remove all drawn features"
      }
     },
     "c5a9bc525c2e44e6a80fcc1b3fda2c06": {
      "model_module": "@jupyter-widgets/base",
      "model_module_version": "2.0.0",
      "model_name": "LayoutModel",
      "state": {
       "height": "auto",
       "padding": "0px 0px 0px 4px",
       "width": "auto"
      }
     },
     "c6cceba4ef0b49759f66a2ce5a10425c": {
      "model_module": "@jupyter-widgets/controls",
      "model_module_version": "2.0.0",
      "model_name": "ToggleButtonModel",
      "state": {
       "button_style": "primary",
       "icon": "info",
       "layout": "IPY_MODEL_5f5491893a1243b084f9cfc90abcf34c",
       "style": "IPY_MODEL_e77846165bdc49e1b65e3add4cf7e522",
       "tooltip": "Get COG/STAC pixel value"
      }
     },
     "c75710a8279945d59c584d0249431638": {
      "model_module": "@jupyter-widgets/base",
      "model_module_version": "2.0.0",
      "model_name": "LayoutModel",
      "state": {
       "height": "auto",
       "padding": "0px 0px 0px 4px",
       "width": "auto"
      }
     },
     "c8950d5857b04804ad254c4e383f548b": {
      "model_module": "@jupyter-widgets/controls",
      "model_module_version": "2.0.0",
      "model_name": "ToggleButtonModel",
      "state": {
       "button_style": "primary",
       "icon": "map",
       "layout": "IPY_MODEL_7b3e5a2ffb2c4816a4c036cd7adba46c",
       "style": "IPY_MODEL_ea57ff569f60471ebe0aa662ec8488d3",
       "tooltip": "Change basemap"
      }
     },
     "c8fc7bd4b0184c9095d61cbae2f66a1c": {
      "model_module": "@jupyter-widgets/controls",
      "model_module_version": "2.0.0",
      "model_name": "ToggleButtonModel",
      "state": {
       "icon": "wrench",
       "layout": "IPY_MODEL_69b5b4d168b745f69e1396d5275b454b",
       "style": "IPY_MODEL_467f72b95f61474493501476ff7cc7ed",
       "tooltip": "Toolbar"
      }
     },
     "c9a39710f4e048b6a2b3954294a2e240": {
      "model_module": "@jupyter-widgets/controls",
      "model_module_version": "2.0.0",
      "model_name": "ToggleButtonModel",
      "state": {
       "button_style": "primary",
       "icon": "table",
       "layout": "IPY_MODEL_7f1bbd12ac974393b3ea7b7390f95a74",
       "style": "IPY_MODEL_5e1be60730474d66b882d1d93f6b88c0",
       "tooltip": "Open attribute table"
      }
     },
     "c9b985bb53d744d59a5f8442dfc76be0": {
      "model_module": "@jupyter-widgets/controls",
      "model_module_version": "2.0.0",
      "model_name": "ToggleButtonStyleModel",
      "state": {
       "description_width": "",
       "font_family": null,
       "font_size": null,
       "font_style": null,
       "font_variant": null,
       "font_weight": null,
       "text_color": null,
       "text_decoration": null
      }
     },
     "cb9a665f226f47a5ace7e0c8f6e77089": {
      "model_module": "@jupyter-widgets/base",
      "model_module_version": "2.0.0",
      "model_name": "LayoutModel",
      "state": {
       "height": "auto",
       "padding": "0px 0px 0px 4px",
       "width": "auto"
      }
     },
     "cd86aa64110f4ba9b3e2ba371606c8f6": {
      "model_module": "jupyter-leaflet",
      "model_module_version": "^0.19",
      "model_name": "LeafletMapStyleModel",
      "state": {
       "_model_module_version": "^0.19"
      }
     },
     "ceb20a2e421e465fab43c39e4b9d29e4": {
      "model_module": "@jupyter-widgets/controls",
      "model_module_version": "2.0.0",
      "model_name": "ToggleButtonModel",
      "state": {
       "button_style": "primary",
       "icon": "camera",
       "layout": "IPY_MODEL_a94cec7d1d334954933abce7ca80f3b6",
       "style": "IPY_MODEL_3377249c2ece41ff958364d9615d249f",
       "tooltip": "Save map as HTML or image"
      }
     },
     "cec04a15b96c4279a22d0a80e1fa719f": {
      "model_module": "@jupyter-widgets/controls",
      "model_module_version": "2.0.0",
      "model_name": "ToggleButtonModel",
      "state": {
       "button_style": "primary",
       "icon": "picture-o",
       "layout": "IPY_MODEL_17752556e64441e6bc31bd89e8ad74d8",
       "style": "IPY_MODEL_c9b985bb53d744d59a5f8442dfc76be0",
       "tooltip": "Open COG/STAC dataset"
      }
     },
     "ceeb8cb8f9fc4d8cad9f682885e74c75": {
      "model_module": "@jupyter-widgets/controls",
      "model_module_version": "2.0.0",
      "model_name": "ToggleButtonModel",
      "state": {
       "button_style": "primary",
       "icon": "search-plus",
       "layout": "IPY_MODEL_dea2fc5c57d641d0801f0d82a8291e71",
       "style": "IPY_MODEL_1c624e94e0f34c39bf06d7967e854231",
       "tooltip": "Search features in GeoJSON layer"
      }
     },
     "cfe19a42b4444d06894f84228f43af7f": {
      "model_module": "@jupyter-widgets/controls",
      "model_module_version": "2.0.0",
      "model_name": "ToggleButtonStyleModel",
      "state": {
       "description_width": "",
       "font_family": null,
       "font_size": null,
       "font_style": null,
       "font_variant": null,
       "font_weight": null,
       "text_color": null,
       "text_decoration": null
      }
     },
     "d09bab23266e4488ba95d3ca6fcc7d13": {
      "model_module": "@jupyter-widgets/base",
      "model_module_version": "2.0.0",
      "model_name": "LayoutModel",
      "state": {
       "height": "auto",
       "padding": "0px 0px 0px 4px",
       "width": "auto"
      }
     },
     "d1bdaab4ef4b42b5800ad5651f810964": {
      "model_module": "@jupyter-widgets/controls",
      "model_module_version": "2.0.0",
      "model_name": "ToggleButtonStyleModel",
      "state": {
       "description_width": "",
       "font_family": null,
       "font_size": null,
       "font_style": null,
       "font_variant": null,
       "font_weight": null,
       "text_color": null,
       "text_decoration": null
      }
     },
     "d28d760994354d76a80fbbd929adee38": {
      "model_module": "@jupyter-widgets/base",
      "model_module_version": "2.0.0",
      "model_name": "LayoutModel",
      "state": {
       "height": "28px",
       "padding": "0px 0px 0px 4px",
       "width": "28px"
      }
     },
     "d2a47dd090f54bea9c8af6ad833eb208": {
      "model_module": "@jupyter-widgets/controls",
      "model_module_version": "2.0.0",
      "model_name": "ToggleButtonStyleModel",
      "state": {
       "description_width": "",
       "font_family": null,
       "font_size": null,
       "font_style": null,
       "font_variant": null,
       "font_weight": null,
       "text_color": null,
       "text_decoration": null
      }
     },
     "d2fab0b618d94ad9ae32c8a0d1783baf": {
      "model_module": "@jupyter-widgets/base",
      "model_module_version": "2.0.0",
      "model_name": "LayoutModel",
      "state": {
       "height": "28px",
       "padding": "0px 0px 0px 4px",
       "width": "28px"
      }
     },
     "d369bb96829046f695c3ce80f233d03e": {
      "model_module": "@jupyter-widgets/controls",
      "model_module_version": "2.0.0",
      "model_name": "ToggleButtonStyleModel",
      "state": {
       "description_width": "",
       "font_family": null,
       "font_size": null,
       "font_style": null,
       "font_variant": null,
       "font_weight": null,
       "text_color": null,
       "text_decoration": null
      }
     },
     "d3fb005e04854d2f9c1caef3fc651132": {
      "model_module": "@jupyter-widgets/controls",
      "model_module_version": "2.0.0",
      "model_name": "ToggleButtonStyleModel",
      "state": {
       "description_width": "",
       "font_family": null,
       "font_size": null,
       "font_style": null,
       "font_variant": null,
       "font_weight": null,
       "text_color": null,
       "text_decoration": null
      }
     },
     "d40fe695d6a44f2984a5ae0267d4d215": {
      "model_module": "@jupyter-widgets/controls",
      "model_module_version": "2.0.0",
      "model_name": "ToggleButtonModel",
      "state": {
       "button_style": "primary",
       "icon": "camera",
       "layout": "IPY_MODEL_8b35ff940a1642c2bc1edec2fc13a68e",
       "style": "IPY_MODEL_36333679727b4773a6f28aaf0eff6b08",
       "tooltip": "Save map as HTML or image"
      }
     },
     "d48febcb18f04b65bc1a3a721c5f5eb7": {
      "model_module": "@jupyter-widgets/controls",
      "model_module_version": "2.0.0",
      "model_name": "ToggleButtonStyleModel",
      "state": {
       "description_width": "",
       "font_family": null,
       "font_size": null,
       "font_style": null,
       "font_variant": null,
       "font_weight": null,
       "text_color": null,
       "text_decoration": null
      }
     },
     "da64ddfc83ab42d3af85612819178f45": {
      "model_module": "@jupyter-widgets/controls",
      "model_module_version": "2.0.0",
      "model_name": "ToggleButtonModel",
      "state": {
       "icon": "server",
       "layout": "IPY_MODEL_e4033cecef544382947a7bdbe9427842",
       "style": "IPY_MODEL_efa362ebd3e44447a2d437f6fc92f999",
       "tooltip": "Layers"
      }
     },
     "db8a2adf715f418ab804dc3cd0c67a3d": {
      "model_module": "@jupyter-widgets/controls",
      "model_module_version": "2.0.0",
      "model_name": "ToggleButtonStyleModel",
      "state": {
       "description_width": "",
       "font_family": null,
       "font_size": null,
       "font_style": null,
       "font_variant": null,
       "font_weight": null,
       "text_color": null,
       "text_decoration": null
      }
     },
     "dbd9430218f44fd7860f3b205d904275": {
      "model_module": "@jupyter-widgets/controls",
      "model_module_version": "2.0.0",
      "model_name": "HBoxModel",
      "state": {
       "children": [
        "IPY_MODEL_da64ddfc83ab42d3af85612819178f45",
        "IPY_MODEL_27f41eedb97849d39352da3de6a4c164"
       ],
       "layout": "IPY_MODEL_389112efe3df42a2aca91bee04a1d8d1"
      }
     },
     "dce82fae74ee47beb1f05624bc1c24b0": {
      "model_module": "@jupyter-widgets/base",
      "model_module_version": "2.0.0",
      "model_name": "LayoutModel",
      "state": {
       "height": "600px"
      }
     },
     "dea2fc5c57d641d0801f0d82a8291e71": {
      "model_module": "@jupyter-widgets/base",
      "model_module_version": "2.0.0",
      "model_name": "LayoutModel",
      "state": {
       "height": "auto",
       "padding": "0px 0px 0px 4px",
       "width": "auto"
      }
     },
     "df0b417f1f1742c0af9b918123f3431d": {
      "model_module": "@jupyter-widgets/controls",
      "model_module_version": "2.0.0",
      "model_name": "ToggleButtonModel",
      "state": {
       "button_style": "primary",
       "icon": "download",
       "layout": "IPY_MODEL_e47036269a5a413d82c57e090c71a2ba",
       "style": "IPY_MODEL_d2a47dd090f54bea9c8af6ad833eb208",
       "tooltip": "Download OSM data"
      }
     },
     "e11ec9805f984c0e99369662d46797a2": {
      "model_module": "@jupyter-widgets/controls",
      "model_module_version": "2.0.0",
      "model_name": "ToggleButtonStyleModel",
      "state": {
       "description_width": "",
       "font_family": null,
       "font_size": null,
       "font_style": null,
       "font_variant": null,
       "font_weight": null,
       "text_color": null,
       "text_decoration": null
      }
     },
     "e4033cecef544382947a7bdbe9427842": {
      "model_module": "@jupyter-widgets/base",
      "model_module_version": "2.0.0",
      "model_name": "LayoutModel",
      "state": {
       "height": "28px",
       "width": "72px"
      }
     },
     "e41e9069e48749b4a2556f00c7956279": {
      "model_module": "@jupyter-widgets/controls",
      "model_module_version": "2.0.0",
      "model_name": "GridBoxModel",
      "state": {
       "children": [
        "IPY_MODEL_90a3d6f7bdf6466bb63fb617e65d397c",
        "IPY_MODEL_ebb0c0d43692403bbe02483620ba6909",
        "IPY_MODEL_700b6207d99e43f784fe69ec4a5554cf",
        "IPY_MODEL_bf3b99fef09e4728bce3108851b7ed54",
        "IPY_MODEL_bd3f8bf1250547dfb24c4b1f965a461e",
        "IPY_MODEL_b144397f19544a43a8dd69379a7ff1d4",
        "IPY_MODEL_1482e34ef7674778bc182acfc33775af",
        "IPY_MODEL_ceb20a2e421e465fab43c39e4b9d29e4",
        "IPY_MODEL_c33d0c81acf246a590f722de9e0bf3cd",
        "IPY_MODEL_052727a05f204385925bc58850d5e7ff",
        "IPY_MODEL_16803940cc144363a78d194cbb85a0dd",
        "IPY_MODEL_eb5d914f6e79467abcaa056fab863d2e",
        "IPY_MODEL_ad8edc50cbfb4877a1b247f7c9032210",
        "IPY_MODEL_fb1860fd330c4004bf130a5d1746e84a",
        "IPY_MODEL_6ee80611fd974b7195965a918c888e74",
        "IPY_MODEL_704a799325544f8bb93be65d0b7309ed",
        "IPY_MODEL_44b3aee722954c73be4a68b5d077789c",
        "IPY_MODEL_8382b5e3d4c748b2b8fea68da8d74527"
       ],
       "layout": "IPY_MODEL_32bd4f85bb0e43f9b18f4cfd7e788e90"
      }
     },
     "e4296a800d8b43d1846a005cdf59d47a": {
      "model_module": "jupyter-leaflet",
      "model_module_version": "^0.19",
      "model_name": "LeafletTileLayerModel",
      "state": {
       "_model_module_version": "^0.19",
       "_view_module_version": "^0.19",
       "attribution": "Raster file served by <a href='https://github.com/banesullivan/localtileserver' target='_blank'>localtileserver</a>.",
       "bounds": [
        [
         27.82,
         86.73
        ],
        [
         28.17,
         87.13
        ]
       ],
       "max_native_zoom": 30,
       "max_zoom": 30,
       "name": "OpenTopography DEM",
       "options": [
        "attribution",
        "bounds",
        "detect_retina",
        "max_native_zoom",
        "max_zoom",
        "min_native_zoom",
        "min_zoom",
        "no_wrap",
        "tile_size",
        "tms",
        "zoom_offset"
       ],
       "show_loading": true,
       "url": "http://localhost:5946/api/tiles/{z}/{x}/{y}.png?&filename=E%3A%2FOneDrive_PSU%2FOneDrive+-+The+Pennsylvania+State+University%2FResearch_doc%2FLLM-Find%2FDownloaded_Data%2FEverest_DEM.tif&colormap=viridis"
      }
     },
     "e47036269a5a413d82c57e090c71a2ba": {
      "model_module": "@jupyter-widgets/base",
      "model_module_version": "2.0.0",
      "model_name": "LayoutModel",
      "state": {
       "height": "auto",
       "padding": "0px 0px 0px 4px",
       "width": "auto"
      }
     },
     "e56a06a6a3244eb6839ebf3cbcf2b5f2": {
      "model_module": "jupyter-leaflet",
      "model_module_version": "^0.19",
      "model_name": "LeafletMapStyleModel",
      "state": {
       "_model_module_version": "^0.19",
       "cursor": "move"
      }
     },
     "e74d65177b494340b15466e11113c2f7": {
      "model_module": "@jupyter-widgets/base",
      "model_module_version": "2.0.0",
      "model_name": "LayoutModel",
      "state": {
       "height": "auto",
       "padding": "0px 0px 0px 4px",
       "width": "auto"
      }
     },
     "e77846165bdc49e1b65e3add4cf7e522": {
      "model_module": "@jupyter-widgets/controls",
      "model_module_version": "2.0.0",
      "model_name": "ToggleButtonStyleModel",
      "state": {
       "description_width": "",
       "font_family": null,
       "font_size": null,
       "font_style": null,
       "font_variant": null,
       "font_weight": null,
       "text_color": null,
       "text_decoration": null
      }
     },
     "e8159222371b463598baaaa759f68f1c": {
      "model_module": "@jupyter-widgets/controls",
      "model_module_version": "2.0.0",
      "model_name": "ToggleButtonModel",
      "state": {
       "button_style": "primary",
       "icon": "globe",
       "layout": "IPY_MODEL_f9fbacfc584c4fd7b4fcbc5761d93bad",
       "style": "IPY_MODEL_3e3c176f3dec42738659cb18fca1a049",
       "tooltip": "Split-panel map"
      }
     },
     "e85c85f867fc4695921df8fefb544c82": {
      "model_module": "@jupyter-widgets/controls",
      "model_module_version": "2.0.0",
      "model_name": "ToggleButtonStyleModel",
      "state": {
       "description_width": "",
       "font_family": null,
       "font_size": null,
       "font_style": null,
       "font_variant": null,
       "font_weight": null,
       "text_color": null,
       "text_decoration": null
      }
     },
     "ea57ff569f60471ebe0aa662ec8488d3": {
      "model_module": "@jupyter-widgets/controls",
      "model_module_version": "2.0.0",
      "model_name": "ToggleButtonStyleModel",
      "state": {
       "description_width": "",
       "font_family": null,
       "font_size": null,
       "font_style": null,
       "font_variant": null,
       "font_weight": null,
       "text_color": null,
       "text_decoration": null
      }
     },
     "eb5d914f6e79467abcaa056fab863d2e": {
      "model_module": "@jupyter-widgets/controls",
      "model_module_version": "2.0.0",
      "model_name": "ToggleButtonModel",
      "state": {
       "button_style": "primary",
       "icon": "download",
       "layout": "IPY_MODEL_7f81ec891eb84590b96b46bead89d439",
       "style": "IPY_MODEL_b81521237eca40d6891c329e561d52bd",
       "tooltip": "Download OSM data"
      }
     },
     "ebb0c0d43692403bbe02483620ba6909": {
      "model_module": "@jupyter-widgets/controls",
      "model_module_version": "2.0.0",
      "model_name": "ToggleButtonModel",
      "state": {
       "button_style": "primary",
       "icon": "globe",
       "layout": "IPY_MODEL_4f06db76d72942f5a80aaf7e0adb1c39",
       "style": "IPY_MODEL_2c4588fa36384ecbb439d4a3242a97d9",
       "tooltip": "Split-panel map"
      }
     },
     "ec8e20fba0e242a992863a309d7a0e2e": {
      "model_module": "ipyevents",
      "model_module_version": "2.0.2",
      "model_name": "EventModel",
      "state": {
       "_supported_key_events": [
        "keydown",
        "keyup"
       ],
       "_supported_mouse_events": [
        "click",
        "auxclick",
        "dblclick",
        "mouseenter",
        "mouseleave",
        "mousedown",
        "mouseup",
        "mousemove",
        "wheel",
        "contextmenu",
        "dragstart",
        "drag",
        "dragend",
        "dragenter",
        "dragover",
        "dragleave",
        "drop"
       ],
       "_supported_touch_events": [
        "touchstart",
        "touchend",
        "touchmove",
        "touchcancel"
       ],
       "_view_module": "@jupyter-widgets/controls",
       "source": "IPY_MODEL_426e810bcb3846a3a7ba8cf18b4f6094",
       "throttle_or_debounce": "",
       "watched_events": [
        "mouseenter",
        "mouseleave"
       ],
       "xy_coordinate_system": ""
      }
     },
     "efa362ebd3e44447a2d437f6fc92f999": {
      "model_module": "@jupyter-widgets/controls",
      "model_module_version": "2.0.0",
      "model_name": "ToggleButtonStyleModel",
      "state": {
       "description_width": "",
       "font_family": null,
       "font_size": null,
       "font_style": null,
       "font_variant": null,
       "font_weight": null,
       "text_color": null,
       "text_decoration": null
      }
     },
     "f1744fb8a9534e4eb5c94c4509540526": {
      "model_module": "@jupyter-widgets/controls",
      "model_module_version": "2.0.0",
      "model_name": "ToggleButtonStyleModel",
      "state": {
       "description_width": "",
       "font_family": null,
       "font_size": null,
       "font_style": null,
       "font_variant": null,
       "font_weight": null,
       "text_color": null,
       "text_decoration": null
      }
     },
     "f5a43d9c2289453da33489cb8c913133": {
      "model_module": "@jupyter-widgets/base",
      "model_module_version": "2.0.0",
      "model_name": "LayoutModel",
      "state": {
       "grid_gap": "1px 1px",
       "grid_template_columns": "32px 32px 32px ",
       "grid_template_rows": "32px 32px 32px 32px 32px 32px ",
       "padding": "5px",
       "width": "109px"
      }
     },
     "f5d49ad8d1a54660b812b296311a7fe1": {
      "model_module": "@jupyter-widgets/base",
      "model_module_version": "2.0.0",
      "model_name": "LayoutModel",
      "state": {}
     },
     "f80ef86e271e4bc0bb01516623b6b5bc": {
      "model_module": "@jupyter-widgets/controls",
      "model_module_version": "2.0.0",
      "model_name": "ToggleButtonModel",
      "state": {
       "icon": "server",
       "layout": "IPY_MODEL_458189c332b74599b5f173703b359dcc",
       "style": "IPY_MODEL_1399a632812a49dbbe04be11953f437c",
       "tooltip": "Layers"
      }
     },
     "f83f8cfc844e41f7b209734fd9374c45": {
      "model_module": "@jupyter-widgets/base",
      "model_module_version": "2.0.0",
      "model_name": "LayoutModel",
      "state": {
       "height": "auto",
       "padding": "0px 0px 0px 4px",
       "width": "auto"
      }
     },
     "f9fbacfc584c4fd7b4fcbc5761d93bad": {
      "model_module": "@jupyter-widgets/base",
      "model_module_version": "2.0.0",
      "model_name": "LayoutModel",
      "state": {
       "height": "auto",
       "padding": "0px 0px 0px 4px",
       "width": "auto"
      }
     },
     "fb1860fd330c4004bf130a5d1746e84a": {
      "model_module": "@jupyter-widgets/controls",
      "model_module_version": "2.0.0",
      "model_name": "ToggleButtonModel",
      "state": {
       "button_style": "primary",
       "icon": "search-plus",
       "layout": "IPY_MODEL_645503873c154ef3a721c3a606dac792",
       "style": "IPY_MODEL_17b0b19adf274cc6b67a0cf40d48dfe4",
       "tooltip": "Search features in GeoJSON layer"
      }
     },
     "fc003987c8ff4be5b3dbf47d7affcb38": {
      "model_module": "@jupyter-widgets/controls",
      "model_module_version": "2.0.0",
      "model_name": "ToggleButtonStyleModel",
      "state": {
       "description_width": "",
       "font_family": null,
       "font_size": null,
       "font_style": null,
       "font_variant": null,
       "font_weight": null,
       "text_color": null,
       "text_decoration": null
      }
     }
    },
    "version_major": 2,
    "version_minor": 0
   }
  }
 },
 "nbformat": 4,
 "nbformat_minor": 5
}
