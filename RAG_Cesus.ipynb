{
 "cells": [
  {
   "cell_type": "code",
   "execution_count": 27,
   "id": "3b3e0946-c7fc-4142-beb0-b4c10590a449",
   "metadata": {},
   "outputs": [],
   "source": [
    "# %pip install --upgrade --quiet  langchain langchain-community langchainhub langchain-openai langchain-chroma bs4\n",
    "\n",
    "# %pip install --upgrade --quiet  langchain langchain-community\n",
    "# ! pip install langchainhub\n",
    "# ! pip install langchain-openai\n",
    "# ! pip install langchain-chroma\n",
    "# ! pip install bs4\n",
    "# ! pip install jq"
   ]
  },
  {
   "cell_type": "code",
   "execution_count": 76,
   "id": "2e55db8e-4e63-42aa-aabc-27a9b739ad56",
   "metadata": {},
   "outputs": [],
   "source": [
    "import re\n",
    "import sys\n",
    "import traceback\n",
    "# import openai\n",
    "from collections import deque\n",
    "from openai import OpenAI\n",
    "\n",
    "import configparser\n",
    "\n",
    "# import networkx as nx\n",
    "import logging\n",
    "import time\n",
    "\n",
    "import os\n",
    "import requests\n",
    "import networkx as nx\n",
    "import pandas as pd\n",
    "import geopandas as gpd\n",
    "from pyvis.network import Network\n",
    " \n",
    "\n",
    "import LLM_Find_Constants as constants\n",
    "from langchain_core.prompts import ChatPromptTemplate\n",
    "\n",
    "variable_fname = r'E:\\OneDrive_PSU\\OneDrive - The Pennsylvania State University\\Research_doc\\LLM-Find\\Census_variables.csv'"
   ]
  },
  {
   "cell_type": "code",
   "execution_count": 77,
   "id": "fce7624c-9c48-4d87-9b36-a05eb477395e",
   "metadata": {},
   "outputs": [],
   "source": [
    "config = configparser.ConfigParser()\n",
    "config.read('config.ini')\n",
    "\n",
    "# use your KEY.\n",
    "OpenAI_key = config.get('API_Key', 'OpenAI_key')\n",
    "\n",
    "OPENAI_API_KEY = OpenAI_key\n",
    "\n",
    "LangChain_API_key = config.get('API_Key', 'LangChain_API_key')\n",
    "\n",
    "os.environ[\"OPENAI_API_KEY\"] = OPENAI_API_KEY\n",
    "\n"
   ]
  },
  {
   "cell_type": "code",
   "execution_count": null,
   "id": "43e21ab6-5554-4201-903a-c77bafd61b18",
   "metadata": {},
   "outputs": [],
   "source": []
  },
  {
   "cell_type": "code",
   "execution_count": 78,
   "id": "7440ceca-9f45-4b7e-8fdf-eae5afef266c",
   "metadata": {},
   "outputs": [
    {
     "data": {
      "text/plain": [
       "ChatOpenAI(client=<openai.resources.chat.completions.Completions object at 0x000001889E36D070>, async_client=<openai.resources.chat.completions.AsyncCompletions object at 0x000001889E36CA40>, model_name='gpt-4o', openai_api_key=SecretStr('**********'), openai_proxy='')"
      ]
     },
     "execution_count": 78,
     "metadata": {},
     "output_type": "execute_result"
    }
   ],
   "source": [
    "from langchain_openai import ChatOpenAI\n",
    "\n",
    "llm = ChatOpenAI(api_key=OpenAI_key, model=\"gpt-4o\")\n",
    "llm"
   ]
  },
  {
   "cell_type": "code",
   "execution_count": null,
   "id": "9ecf5868-1bb5-48a1-9fe9-0d80a2993b76",
   "metadata": {},
   "outputs": [],
   "source": []
  },
  {
   "cell_type": "code",
   "execution_count": 59,
   "id": "53b38a38-5fff-4976-9163-b14ccd16b0d2",
   "metadata": {},
   "outputs": [],
   "source": [
    "import bs4\n",
    "from langchain import hub\n",
    "from langchain_chroma import Chroma\n",
    "from langchain_community.document_loaders import WebBaseLoader\n",
    "from langchain_community.document_loaders.csv_loader import CSVLoader\n",
    "# from langchain.retrievers import SimpleRetriever\n",
    "# from langchain.retrievers import SimpleRetriever\n",
    "\n",
    "\n",
    "from langchain_core.output_parsers import StrOutputParser\n",
    "from langchain_core.runnables import RunnablePassthrough\n",
    "from langchain_openai import OpenAIEmbeddings\n",
    "from langchain_text_splitters import RecursiveCharacterTextSplitter\n",
    "\n",
    "# Load, chunk and index the contents of the blog.\n",
    "# loader = WebBaseLoader(\n",
    "#     web_paths=(\"https://api.census.gov/data/2021/acs/acs5/variables.html\",),\n",
    "#     bs_kwargs=dict(\n",
    "#         parse_only=bs4.SoupStrainer()\n",
    "#     ),\n",
    "# )\n",
    "\n",
    "loader = CSVLoader(file_path=variable_fname)\n",
    "# data = loader.load()\n",
    "docs = loader.load()\n",
    "\n",
    "text_splitter = RecursiveCharacterTextSplitter()  # chunk_size=10000, chunk_overlap=2000\n",
    "splits = text_splitter.split_documents(docs)\n",
    "vectorstore = Chroma.from_documents(documents=splits, embedding=OpenAIEmbeddings())\n",
    "\n",
    "# Retrieve and generate using the relevant snippets of the blog.\n",
    "retriever = vectorstore.as_retriever( search_kwargs={\"k\": 150})\n",
    "# retriever = SimpleRetriever.from_data(data)\n",
    "prompt = hub.pull(\"rlm/rag-prompt\")\n",
    "\n",
    "\n",
    "def format_docs(docs):\n",
    "    return \"\\n\\n\".join(doc.page_content for doc in docs)"
   ]
  },
  {
   "cell_type": "code",
   "execution_count": null,
   "id": "190bf8aa-14c9-4990-88cf-2be930d11831",
   "metadata": {},
   "outputs": [],
   "source": []
  },
  {
   "cell_type": "code",
   "execution_count": 79,
   "id": "c7ad5fca-f65c-4b4e-8128-04e70c855b84",
   "metadata": {},
   "outputs": [],
   "source": [
    "import bs4\n",
    "from langchain import hub\n",
    "from langchain_chroma import Chroma\n",
    "from langchain_community.document_loaders import WebBaseLoader\n",
    "from langchain_community.document_loaders.csv_loader import CSVLoader\n",
    "# from langchain.retrievers import SimpleRetriever\n",
    "# from langchain.retrievers import SimpleRetriever\n",
    "\n",
    "\n",
    "from langchain_core.output_parsers import StrOutputParser\n",
    "from langchain_core.runnables import RunnablePassthrough\n",
    "from langchain_openai import OpenAIEmbeddings\n",
    "from langchain_text_splitters import RecursiveCharacterTextSplitter\n",
    "\n",
    "# Load, chunk and index the contents of the blog.\n",
    "# loader = WebBaseLoader(\n",
    "#     web_paths=(\"https://api.census.gov/data/2021/acs/acs5/variables.html\",),\n",
    "#     bs_kwargs=dict(\n",
    "#         parse_only=bs4.SoupStrainer()\n",
    "#     ),\n",
    "# )\n",
    "\n",
    "loader = CSVLoader(file_path=variable_fname)\n",
    "# data = loader.load()\n",
    "docs = loader.load()\n",
    "\n",
    "vectorstore = Chroma.from_documents(documents=docs, embedding=OpenAIEmbeddings())\n",
    "\n",
    "# Retrieve and generate using the relevant snippets of the blog.\n",
    "retriever = vectorstore.as_retriever( search_kwargs={\"k\": 150})\n",
    "# retriever = SimpleRetriever.from_data(data)\n",
    "prompt = hub.pull(\"rlm/rag-prompt\")\n",
    "\n",
    "\n",
    "def format_docs(docs):\n",
    "    return \"\\n\\n\".join(doc.page_content for doc in docs)"
   ]
  },
  {
   "cell_type": "code",
   "execution_count": 80,
   "id": "2376da13-4ccb-443f-a2dc-fd5f013bd5a8",
   "metadata": {},
   "outputs": [
    {
     "data": {
      "text/plain": [
       "27039"
      ]
     },
     "execution_count": 80,
     "metadata": {},
     "output_type": "execute_result"
    }
   ],
   "source": [
    "len(splits)\n",
    "len(docs)"
   ]
  },
  {
   "cell_type": "code",
   "execution_count": 81,
   "id": "23680471-458a-4239-b69b-192c5263f5aa",
   "metadata": {},
   "outputs": [
    {
     "data": {
      "text/plain": [
       "ChatPromptTemplate(input_variables=['context', 'question'], metadata={'lc_hub_owner': 'rlm', 'lc_hub_repo': 'rag-prompt', 'lc_hub_commit_hash': '50442af133e61576e74536c6556cefe1fac147cad032f4377b60c436e6cdcb6e'}, messages=[HumanMessagePromptTemplate(prompt=PromptTemplate(input_variables=['context', 'question'], template=\"You are an assistant for question-answering tasks. Use the following pieces of retrieved context to answer the question. If you don't know the answer, just say that you don't know. Use three sentences maximum and keep the answer concise.\\nQuestion: {question} \\nContext: {context} \\nAnswer:\"))])"
      ]
     },
     "execution_count": 81,
     "metadata": {},
     "output_type": "execute_result"
    }
   ],
   "source": [
    "# splits\n",
    "\n",
    "prompt"
   ]
  },
  {
   "cell_type": "code",
   "execution_count": 82,
   "id": "283049e3-baab-4b48-8bff-3ab32b4981df",
   "metadata": {},
   "outputs": [
    {
     "data": {
      "text/plain": [
       "VectorStoreRetriever(tags=['Chroma', 'OpenAIEmbeddings'], vectorstore=<langchain_chroma.vectorstores.Chroma object at 0x00000188D119DB20>, search_kwargs={'k': 150})"
      ]
     },
     "execution_count": 82,
     "metadata": {},
     "output_type": "execute_result"
    }
   ],
   "source": [
    "# format_docs(docs)\n",
    "retriever"
   ]
  },
  {
   "cell_type": "code",
   "execution_count": 83,
   "id": "e04bdec1-b094-4a64-aed4-a74753d3b97d",
   "metadata": {},
   "outputs": [],
   "source": [
    "rag_chain = (\n",
    "    {\"context\": retriever | format_docs, \"question\": RunnablePassthrough()}\n",
    "    | prompt\n",
    "    | llm\n",
    "    | StrOutputParser()\n",
    ")"
   ]
  },
  {
   "cell_type": "code",
   "execution_count": 73,
   "id": "7dd7a885-0884-41be-be79-bb46e2a4af73",
   "metadata": {},
   "outputs": [
    {
     "data": {
      "text/plain": [
       "VectorStoreRetriever(tags=['Chroma', 'OpenAIEmbeddings'], vectorstore=<langchain_chroma.vectorstores.Chroma object at 0x000001890759B170>, search_kwargs={'k': 150})"
      ]
     },
     "execution_count": 73,
     "metadata": {},
     "output_type": "execute_result"
    }
   ],
   "source": [
    "retriever"
   ]
  },
  {
   "cell_type": "code",
   "execution_count": 85,
   "id": "d287f612-fe5a-4774-a7bb-40baaad346aa",
   "metadata": {},
   "outputs": [
    {
     "name": "stdout",
     "output_type": "stream",
     "text": [
      "B07001_014E, B07001_015E, B07001_016E\n"
     ]
    }
   ],
   "source": [
    "results = rag_chain.invoke(\"You need to download the senior population (older than 65) data from US Census Bureau, what variables are needed? List all possible estimation variables. Directly reply the variable names without any explanation.\")\n",
    "print(results)"
   ]
  },
  {
   "cell_type": "code",
   "execution_count": 86,
   "id": "55d86223-3a9c-4477-931b-3eb2c74b659b",
   "metadata": {},
   "outputs": [
    {
     "name": "stdout",
     "output_type": "stream",
     "text": [
      "B15003_001E, B15001_015E, B15001_011E, B15001_018E, C15002F_001E, B23006_001E, B23006_026E, B15001_039E, B23006_005E, B15001_017E, B15001_014E, B29002_001E, B15001_080E, C15002F_006E, B15001_035E, C15002F_002E, B15001_025E, B23006_012E, B15001_056E, B15011_019E, B15001_012E, C15002A_001E, B15001_016E, B15001_059E, B15001_058E, B15001_052E\n"
     ]
    }
   ],
   "source": [
    "results = rag_chain.invoke(\"You need to obtain the  population (older than 25) by higher education attainment data from US Census Bureau, what variables are needed? List all possible estimation variables, do not select variables ending with `M` or `MA`. Directly reply the variable names without any explanation.\")\n",
    "print(results)"
   ]
  },
  {
   "cell_type": "code",
   "execution_count": 66,
   "id": "9b62a8bd-6b71-4888-b83d-6faad13eb33a",
   "metadata": {},
   "outputs": [
    {
     "name": "stdout",
     "output_type": "stream",
     "text": [
      "The possible estimation variables needed are C15002F_004E, C15002G_004E, B23006_012E, B15003_001E, B23006_010E, B15002_011E, C15002A_004E, B23006_015E, C15002F_009E, B23006_013E, B23006_009E, C15002H_004E, C15002G_003E, B23006_011E, B23006_026E, C15002F_006E, B15003_023E, C15002G_009E, B15002_007E, B15002_010E, B23006_005E, C15002B_004E, B15002_016E, C15002G_006E, C15002F_011E, B15002_008E, and C15002F_002E.\n"
     ]
    }
   ],
   "source": [
    "results = rag_chain.invoke(\"You need to download the higher education attainment population data, what variables is needed? List all possible estimation variables, do not select variables end with `M` or `MA`.\")\n",
    "print(results)"
   ]
  },
  {
   "cell_type": "code",
   "execution_count": 67,
   "id": "9832f5f6-79be-4fb8-b3d6-622613eb81b3",
   "metadata": {},
   "outputs": [
    {
     "data": {
      "text/plain": [
       "'variable: B01001_001E\\nlabel: Total:\\nconcept: SEX BY AGE'"
      ]
     },
     "execution_count": 67,
     "metadata": {},
     "output_type": "execute_result"
    }
   ],
   "source": [
    "docs[0].page_content"
   ]
  },
  {
   "cell_type": "code",
   "execution_count": null,
   "id": "68767ef1-5fb7-44c2-aa4f-57d52fc5a769",
   "metadata": {},
   "outputs": [],
   "source": []
  },
  {
   "cell_type": "code",
   "execution_count": 68,
   "id": "ff4968b3-30dd-4c8c-add9-7c2ec279b7a2",
   "metadata": {},
   "outputs": [
    {
     "name": "stdin",
     "output_type": "stream",
     "text": [
      " ········\n"
     ]
    },
    {
     "data": {
      "text/plain": [
       "ChatOpenAI(client=<openai.resources.chat.completions.Completions object at 0x00000188DDF7E690>, async_client=<openai.resources.chat.completions.AsyncCompletions object at 0x00000189384083E0>, model_name='gpt-4o', openai_api_key=SecretStr('**********'), openai_proxy='')"
      ]
     },
     "execution_count": 68,
     "metadata": {},
     "output_type": "execute_result"
    }
   ],
   "source": [
    "import getpass\n",
    "import os\n",
    "\n",
    "os.environ[\"OPENAI_API_KEY\"] = getpass.getpass()\n",
    "\n",
    "from langchain_openai import ChatOpenAI\n",
    "\n",
    "llm = ChatOpenAI(model=\"gpt-4o\", api_key=OpenAI_key)\n",
    "llm"
   ]
  },
  {
   "cell_type": "code",
   "execution_count": 69,
   "id": "fe1dcdbc-dad7-448b-8465-a67f31d2d9f0",
   "metadata": {},
   "outputs": [
    {
     "ename": "ImportError",
     "evalue": "jq package not found, please install it with `pip install jq`",
     "output_type": "error",
     "traceback": [
      "\u001b[1;31m---------------------------------------------------------------------------\u001b[0m",
      "\u001b[1;31mModuleNotFoundError\u001b[0m                       Traceback (most recent call last)",
      "File \u001b[1;32me:\\ProgramData\\Anaconda3\\envs\\ox\\Lib\\site-packages\\langchain_community\\document_loaders\\json_loader.py:54\u001b[0m, in \u001b[0;36mJSONLoader.__init__\u001b[1;34m(self, file_path, jq_schema, content_key, is_content_key_jq_parsable, metadata_func, text_content, json_lines)\u001b[0m\n\u001b[0;32m     53\u001b[0m \u001b[38;5;28;01mtry\u001b[39;00m:\n\u001b[1;32m---> 54\u001b[0m     \u001b[38;5;28;01mimport\u001b[39;00m \u001b[38;5;21;01mjq\u001b[39;00m\n\u001b[0;32m     56\u001b[0m     \u001b[38;5;28mself\u001b[39m\u001b[38;5;241m.\u001b[39mjq \u001b[38;5;241m=\u001b[39m jq\n",
      "\u001b[1;31mModuleNotFoundError\u001b[0m: No module named 'jq'",
      "\nDuring handling of the above exception, another exception occurred:\n",
      "\u001b[1;31mImportError\u001b[0m                               Traceback (most recent call last)",
      "Cell \u001b[1;32mIn[69], line 16\u001b[0m\n\u001b[0;32m     13\u001b[0m \u001b[38;5;66;03m# Load, chunk and index the contents of the blog.\u001b[39;00m\n\u001b[0;32m     15\u001b[0m json_fname \u001b[38;5;241m=\u001b[39m \u001b[38;5;124mr\u001b[39m\u001b[38;5;124m\"\u001b[39m\u001b[38;5;124mE:\u001b[39m\u001b[38;5;124m\\\u001b[39m\u001b[38;5;124mOneDrive_PSU\u001b[39m\u001b[38;5;124m\\\u001b[39m\u001b[38;5;124mOneDrive - The Pennsylvania State University\u001b[39m\u001b[38;5;124m\\\u001b[39m\u001b[38;5;124mResearch_doc\u001b[39m\u001b[38;5;124m\\\u001b[39m\u001b[38;5;124mLLM-Find\u001b[39m\u001b[38;5;124m\\\u001b[39m\u001b[38;5;124mCensus_variables.json\u001b[39m\u001b[38;5;124m\"\u001b[39m\n\u001b[1;32m---> 16\u001b[0m loader \u001b[38;5;241m=\u001b[39m JSONLoader(\n\u001b[0;32m     17\u001b[0m     file_path\u001b[38;5;241m=\u001b[39mjson_fname,\n\u001b[0;32m     18\u001b[0m     jq_schema\u001b[38;5;241m=\u001b[39m\u001b[38;5;124m'\u001b[39m\u001b[38;5;124m.messages[].content\u001b[39m\u001b[38;5;124m'\u001b[39m,\n\u001b[0;32m     19\u001b[0m     text_content\u001b[38;5;241m=\u001b[39m\u001b[38;5;28;01mFalse\u001b[39;00m)\n\u001b[0;32m     21\u001b[0m docs \u001b[38;5;241m=\u001b[39m loader\u001b[38;5;241m.\u001b[39mload()\n\u001b[0;32m     23\u001b[0m docs\n",
      "File \u001b[1;32me:\\ProgramData\\Anaconda3\\envs\\ox\\Lib\\site-packages\\langchain_community\\document_loaders\\json_loader.py:58\u001b[0m, in \u001b[0;36mJSONLoader.__init__\u001b[1;34m(self, file_path, jq_schema, content_key, is_content_key_jq_parsable, metadata_func, text_content, json_lines)\u001b[0m\n\u001b[0;32m     56\u001b[0m     \u001b[38;5;28mself\u001b[39m\u001b[38;5;241m.\u001b[39mjq \u001b[38;5;241m=\u001b[39m jq\n\u001b[0;32m     57\u001b[0m \u001b[38;5;28;01mexcept\u001b[39;00m \u001b[38;5;167;01mImportError\u001b[39;00m:\n\u001b[1;32m---> 58\u001b[0m     \u001b[38;5;28;01mraise\u001b[39;00m \u001b[38;5;167;01mImportError\u001b[39;00m(\n\u001b[0;32m     59\u001b[0m         \u001b[38;5;124m\"\u001b[39m\u001b[38;5;124mjq package not found, please install it with `pip install jq`\u001b[39m\u001b[38;5;124m\"\u001b[39m\n\u001b[0;32m     60\u001b[0m     )\n\u001b[0;32m     62\u001b[0m \u001b[38;5;28mself\u001b[39m\u001b[38;5;241m.\u001b[39mfile_path \u001b[38;5;241m=\u001b[39m Path(file_path)\u001b[38;5;241m.\u001b[39mresolve()\n\u001b[0;32m     63\u001b[0m \u001b[38;5;28mself\u001b[39m\u001b[38;5;241m.\u001b[39m_jq_schema \u001b[38;5;241m=\u001b[39m jq\u001b[38;5;241m.\u001b[39mcompile(jq_schema)\n",
      "\u001b[1;31mImportError\u001b[0m: jq package not found, please install it with `pip install jq`"
     ]
    }
   ],
   "source": [
    "import bs4\n",
    "from langchain import hub\n",
    "from langchain_chroma import Chroma\n",
    "from langchain_community.document_loaders import WebBaseLoader\n",
    "from langchain_community.document_loaders import JSONLoader\n",
    "\n",
    "\n",
    "from langchain_core.output_parsers import StrOutputParser\n",
    "from langchain_core.runnables import RunnablePassthrough\n",
    "from langchain_openai import OpenAIEmbeddings\n",
    "from langchain_text_splitters import RecursiveCharacterTextSplitter\n",
    "\n",
    "# Load, chunk and index the contents of the blog.\n",
    "\n",
    "json_fname = r\"E:\\OneDrive_PSU\\OneDrive - The Pennsylvania State University\\Research_doc\\LLM-Find\\Census_variables.json\"\n",
    "loader = JSONLoader(\n",
    "    file_path=json_fname,\n",
    "    jq_schema='.messages[].content',\n",
    "    text_content=False)\n",
    "\n",
    "docs = loader.load()\n",
    "\n",
    "docs"
   ]
  },
  {
   "cell_type": "code",
   "execution_count": null,
   "id": "955e7307-30ba-45dd-85ab-d2969a21947c",
   "metadata": {},
   "outputs": [],
   "source": [
    "\n",
    "\n",
    "text_splitter = RecursiveCharacterTextSplitter(chunk_size=1000, chunk_overlap=200)\n",
    "splits = text_splitter.split_documents(docs)\n",
    "vectorstore = Chroma.from_documents(documents=splits, embedding=OpenAIEmbeddings())\n",
    "\n",
    "# Retrieve and generate using the relevant snippets of the blog.\n",
    "retriever = vectorstore.as_retriever()\n",
    "prompt = hub.pull(\"rlm/rag-prompt\")\n",
    "\n",
    "\n",
    "def format_docs(docs):\n",
    "    return \"\\n\\n\".join(doc.page_content for doc in docs)\n",
    "\n",
    "\n",
    "rag_chain = (\n",
    "    {\"context\": retriever | format_docs, \"question\": RunnablePassthrough()}\n",
    "    | prompt\n",
    "    | llm\n",
    "    | StrOutputParser()\n",
    ")\n",
    "\n",
    "rag_chain.invoke(\"What is Task Decomposition?\")"
   ]
  },
  {
   "cell_type": "markdown",
   "id": "8e09a786-1bc9-4cd6-93b3-4db0601134da",
   "metadata": {},
   "source": [
    "# Tools"
   ]
  },
  {
   "cell_type": "code",
   "execution_count": null,
   "id": "934e7955-e186-491e-b222-6a2fb3014d0b",
   "metadata": {},
   "outputs": [],
   "source": [
    "import json\n",
    "import pandas as pd\n",
    "import requests"
   ]
  },
  {
   "cell_type": "code",
   "execution_count": null,
   "id": "2e8a7520-b7e8-44c1-8409-34346bec4a7d",
   "metadata": {},
   "outputs": [],
   "source": [
    "variables_url = r'https://api.census.gov/data/2019/acs/acs5/variables.json'\n",
    "json_dict = requests.get(variables_url).json()"
   ]
  },
  {
   "cell_type": "code",
   "execution_count": null,
   "id": "42c6c749-188a-4e9c-8da8-1b57d6601140",
   "metadata": {},
   "outputs": [],
   "source": [
    "json_dict['variables']['B01001_001E']"
   ]
  },
  {
   "cell_type": "code",
   "execution_count": null,
   "id": "eb56ae56-02da-4681-8dc9-80a4e407dce5",
   "metadata": {},
   "outputs": [],
   "source": [
    "# ! pip install natsort\n",
    "from natsort import natsorted"
   ]
  },
  {
   "cell_type": "code",
   "execution_count": null,
   "id": "f63f1fc6-964c-4411-bcca-d3ee50e5f0ef",
   "metadata": {
    "scrolled": true
   },
   "outputs": [],
   "source": [
    "variable_list = natsorted(json_dict['variables'].keys())\n",
    "print(\"Variable count:\", len(variable_list))\n",
    "for idx, v in enumerate(variable_list[4:]):\n",
    "    print(idx, v, json_dict['variables'][v])\n",
    "\n",
    "    if idx > 4:\n",
    "        break"
   ]
  },
  {
   "cell_type": "code",
   "execution_count": null,
   "id": "d785696d-3b64-4532-84d9-09e85a71caa5",
   "metadata": {},
   "outputs": [],
   "source": [
    "variable_df = pd.DataFrame(json_dict['variables']).T.sort_index().iloc[4:].query(\"group != 'N/A'\")[:-1].drop(columns=['attributes', 'required', 'hasGeoCollectionSupport', 'predicateOnly', 'limit', 'predicateType'])\n",
    "variable_df.index.name = 'variable'\n",
    "variable_df = variable_df.reset_index()\n",
    "variable_df"
   ]
  },
  {
   "cell_type": "code",
   "execution_count": null,
   "id": "b4e1990f-b2ee-459d-987f-9b915295c786",
   "metadata": {},
   "outputs": [],
   "source": [
    "variable_df['top_group'] = variable_df['group'].str[:3]\n",
    "variable_df['sub_group'] = variable_df['group'].str[:6]\n",
    "variable_df"
   ]
  },
  {
   "cell_type": "code",
   "execution_count": null,
   "id": "ecb06f29-f553-46fa-add7-9dba773df55f",
   "metadata": {},
   "outputs": [],
   "source": [
    "# variable_df.to_csv(r'E:\\OneDrive_PSU\\OneDrive - The Pennsylvania State University\\Research_doc\\LLM-Find\\Census_variables.csv', index=False)"
   ]
  },
  {
   "cell_type": "code",
   "execution_count": null,
   "id": "724c4d19-65a3-4642-86ef-fcc7e5b6b62f",
   "metadata": {},
   "outputs": [],
   "source": [
    "variable_df['top_group'].nunique(), variable_df['sub_group'].nunique(), variable_df['concept'].nunique()"
   ]
  },
  {
   "cell_type": "code",
   "execution_count": null,
   "id": "edccbe2e-93b2-48e2-a612-796f29faee19",
   "metadata": {},
   "outputs": [],
   "source": [
    "for key, df in variable_df.groupby('top_group'):\n",
    "    print(key, df.iloc[0]['group'], df.iloc[0]['concept'])"
   ]
  },
  {
   "cell_type": "code",
   "execution_count": null,
   "id": "fa79e522-25c5-4fbf-9415-94d3e8153ded",
   "metadata": {},
   "outputs": [],
   "source": [
    "\n",
    "%autoreload 2\n",
    "%load_ext autoreload\n",
    "    \n",
    "code = helper.execute_complete_program(code=code, try_cnt=10, task=task, model_name=model_name, handbook_str=handbook_str)\n",
    "display(Code(code, language='python'))\n"
   ]
  },
  {
   "cell_type": "code",
   "execution_count": null,
   "id": "a028ad76-89cc-47b9-bf94-fe6ffa6174e6",
   "metadata": {},
   "outputs": [],
   "source": []
  }
 ],
 "metadata": {
  "kernelspec": {
   "display_name": "ox",
   "language": "python",
   "name": "ox"
  },
  "language_info": {
   "codemirror_mode": {
    "name": "ipython",
    "version": 3
   },
   "file_extension": ".py",
   "mimetype": "text/x-python",
   "name": "python",
   "nbconvert_exporter": "python",
   "pygments_lexer": "ipython3",
   "version": "3.12.3"
  }
 },
 "nbformat": 4,
 "nbformat_minor": 5
}
