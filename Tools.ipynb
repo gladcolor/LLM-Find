{
 "cells": [
  {
   "cell_type": "code",
   "execution_count": 12,
   "id": "21f15886-9b88-4ff9-a438-cca8d0a36315",
   "metadata": {},
   "outputs": [
    {
     "name": "stdout",
     "output_type": "stream",
     "text": [
      "url: https://api.census.gov/data/2020/acs/acs5?get=B14001_001E,B14001_002E,B14001_003E,B14001_004E,B14001_005E,B14001_006E,B14001_007E,B14001_008E,B14001_009E&for=block%20group:*&in=state:06%20county:077&key=b12026d61228a4b0d441ae7aa93f1ea222877503\n"
     ]
    }
   ],
   "source": [
    "# Program purpose: Download school enrollment by level of school for the population 3 years and over for all Census block groups in San Francisco County, CA (FIPS: 06077) from the ACS 2020 data.\n",
    "import requests\n",
    "import csv\n",
    "import json\n",
    "\n",
    "def download_data():\n",
    "    # Define the endpoint and related configurations\n",
    "    base_url = \"https://api.census.gov/data/2020/acs/acs5\"\n",
    "    api_key = \"b12026d61228a4b0d441ae7aa93f1ea222877503\"\n",
    "    dataset_year = \"2020\"\n",
    "    dataset_source = f\"ACS {dataset_year}\"\n",
    "    \n",
    "    # Variables we need to fetch\n",
    "    variables = [\n",
    "        # B14001_001E: Total population 3 years and over\n",
    "        \"B14001_001E\",\n",
    "        # B14001_002E: Enrolled in school:\n",
    "        \"B14001_002E\",\n",
    "        # B14001_003E: Enrolled in nursery school, preschool\n",
    "        \"B14001_003E\",\n",
    "        # B14001_004E: Enrolled in kindergarten\n",
    "        \"B14001_004E\",\n",
    "        # B14001_005E: Enrolled in grade 1 to grade 4\n",
    "        \"B14001_005E\",\n",
    "        # B14001_006E: Enrolled in grade 5 to grade 8\n",
    "        \"B14001_006E\",\n",
    "        # B14001_007E: Enrolled in grade 9 to grade 12\n",
    "        \"B14001_007E\",\n",
    "        # B14001_008E: Enrolled in college, undergraduate years\n",
    "        \"B14001_008E\",\n",
    "        # B14001_009E: Enrolled in graduate or professional school\n",
    "        \"B14001_009E\"\n",
    "    ]\n",
    "    \n",
    "    # Fetch the variable labels\n",
    "    response = requests.get(f\"{base_url}/variables.json\")\n",
    "    variables_metadata = response.json()\n",
    "\n",
    "    # Helper function to get variable labels\n",
    "    def get_variable_label(var_name):\n",
    "        label = variables_metadata['variables'][var_name]['label']\n",
    "        return label.replace(\"Estimate!!\", \"\").strip()\n",
    "\n",
    "    # Construct the URL for the data request\n",
    "    get_vars = \",\".join(variables)\n",
    "    url = f\"{base_url}?get={get_vars}&for=block%20group:*&in=state:06%20county:077&key={api_key}\"\n",
    "    \n",
    "    print(\"url:\", url)\n",
    "\n",
    "    # Download data from Census API\n",
    "    response = requests.get(url)\n",
    "    response.raise_for_status()\n",
    "    data = response.json()\n",
    "\n",
    "    # Prepare the CSV file for writing\n",
    "    csv_path = r\"d:\\OneDrive_PSU\\OneDrive - The Pennsylvania State University\\Research_doc\\LLM-Find\\Python_code\\Downloaded_Data\\School_enrollment_population.csv\"\n",
    "\n",
    "    # Create headers with variable labels\n",
    "    header = [f\"{var}:{get_variable_label(var)}\" for var in variables] + [\"state_fips\", \"county_fips\", \"tract_fips\", \"block_group_fips\", \"year\", \"source\"]\n",
    "    rows = data[1:]  # Skip the header row provided by API\n",
    "    for idx, row in enumerate(rows):\n",
    "        # format the FIPS\n",
    "        state_fips = f\"{row[-4]:02}\"\n",
    "        county_fips = f\"{state_fips}{row[-3]:03}\"\n",
    "        tract_fips = f\"{county_fips}{row[-2]:06}\"\n",
    "        block_group_fips = f\"{tract_fips}{row[-1]}\"\n",
    "        rows[idx] = row[:-4] + [state_fips, county_fips, tract_fips, block_group_fips, dataset_year, dataset_source]\n",
    "\n",
    "    # Write to CSV file\n",
    "    with open(csv_path, mode='w', newline='') as file:\n",
    "        writer = csv.writer(file)\n",
    "        writer.writerow(header)\n",
    "        writer.writerows(rows)\n",
    "\n",
    "# Execute the function\n",
    "download_data()"
   ]
  },
  {
   "cell_type": "code",
   "execution_count": 33,
   "id": "ac890b9c-cd22-43e1-9772-f050a4105018",
   "metadata": {
    "execution": {
     "iopub.execute_input": "2024-08-03T01:27:39.340046Z",
     "iopub.status.busy": "2024-08-03T01:27:39.339045Z",
     "iopub.status.idle": "2024-08-03T01:27:43.722620Z",
     "shell.execute_reply": "2024-08-03T01:27:43.722620Z",
     "shell.execute_reply.started": "2024-08-03T01:27:39.340046Z"
    }
   },
   "outputs": [
    {
     "name": "stdout",
     "output_type": "stream",
     "text": [
      "Actual Bounding Box in Web Mercator: (12523442.714243276, 0.0, 17532819.799940586, 7514065.628545966)\n",
      "E:/OneDrive_PSU/OneDrive - The Pennsylvania State University/Research_doc/LLM-Find/Downloaded_Data/Japan_image.tif\n",
      "1\n",
      "2\n",
      "3\n"
     ]
    }
   ],
   "source": [
    "import geopandas as gpd\n",
    "import osmnx as ox\n",
    "import requests\n",
    "import numpy as np\n",
    "from PIL import Image\n",
    "from osgeo import gdal\n",
    "import os\n",
    "from pyproj import Transformer\n",
    "import rasterio\n",
    "\n",
    "\n",
    "def download_data():\n",
    "    # Define the target area for which to download the data\n",
    "    place = 'Japan'\n",
    "\n",
    "    # Get the boundary of Japan\n",
    "    # get the first return's bounding box\n",
    "    url = f\"https://nominatim.openstreetmap.org/search?q={place}&format=geojson\"\n",
    "    response = requests.get(url, headers={\"User-Agent\":\"LLM-Find/gladcolor@gmail.com\"})\n",
    "    minx, miny, maxx, maxy = response.json()['features'][0]['bbox']\n",
    "\n",
    "    # extend the boundary for a point or to small:\n",
    "    if abs(maxx - minx) < 0.000001:  # note unit is degree\n",
    "         ext = 0.00005\n",
    "         maxx = maxx + ext\n",
    "         minx = minx - ext\n",
    "         maxy = maxy + ext\n",
    "         miny = miny - ext \n",
    "        \n",
    "    # Set the zoom level\n",
    "    z = 4\n",
    "    n = 2 ** z\n",
    "\n",
    "    # Calculate the tiling scheme boundaries\n",
    "    tile_min_col = int((minx + 180.0) / 360.0 * n)\n",
    "    tile_max_col = int((maxx + 180.0) / 360.0 * n)\n",
    "    tile_min_row = int((1.0 - np.log(np.tan(np.radians(maxy)) + 1 / np.cos(np.radians(maxy))) / np.pi) / 2.0 * n)\n",
    "    tile_max_row = int((1.0 - np.log(np.tan(np.radians(miny)) + 1 / np.cos(np.radians(miny))) / np.pi) / 2.0 * n)\n",
    "\n",
    "    # Create directory to store individual tile images\n",
    "    save_dir = \"tiles\"\n",
    "    os.makedirs(save_dir, exist_ok=True)\n",
    "\n",
    "    # Download tiles\n",
    "    for row in range(tile_min_row, tile_max_row + 1):\n",
    "        for col in range(tile_min_col, tile_max_col + 1):\n",
    "            url = f\"https://services.arcgisonline.com/ArcGIS/rest/services/World_Imagery/MapServer/tile/{z}/{row}/{col}\"\n",
    "            response = requests.get(url)\n",
    "            tile_path = os.path.join(save_dir, f\"{z}-{row}-{col}.jpg\")\n",
    "            with open(tile_path, 'wb') as f:\n",
    "                f.write(response.content)\n",
    "\n",
    "    # Stitch the tiles to create a mosaic image\n",
    "    cols = tile_max_col - tile_min_col + 1\n",
    "    rows = tile_max_row - tile_min_row + 1\n",
    "    tile_width, tile_height = Image.open(os.path.join(save_dir, f\"{z}-{tile_min_row}-{tile_min_col}.jpg\")).size\n",
    "    mosaic = Image.new('RGB', (cols * tile_width, rows * tile_height))\n",
    "\n",
    "    for row in range(rows):\n",
    "        for col in range(cols):\n",
    "            tile_path = os.path.join(save_dir, f\"{z}-{tile_min_row + row}-{tile_min_col + col}.jpg\")\n",
    "            tile = Image.open(tile_path)\n",
    "            mosaic.paste(tile, (col * tile_width, row * tile_height))\n",
    "\n",
    "    # Save the mosaic image as a TIFF file\n",
    "    image_array = np.array(mosaic)\n",
    "\n",
    "        # Calculate the actual geographic bounds of the mosaic\n",
    "    def tile_to_lonlat(col, row, zoom):\n",
    "        n = 2.0 ** zoom\n",
    "        lon_deg = col / n * 360.0 - 180.0\n",
    "        lat_rad = np.arctan(np.sinh(np.pi * (1 - 2 * row / n)))\n",
    "        lat_deg = np.degrees(lat_rad)\n",
    "        return lon_deg, lat_deg\n",
    "\n",
    "    actual_min_lon, actual_max_lat = tile_to_lonlat(tile_min_col, tile_min_row, z)\n",
    "    actual_max_lon, actual_min_lat = tile_to_lonlat(tile_max_col + 1, tile_max_row + 1, z)\n",
    "\n",
    "       # Convert geographic bounds to Web Mercator\n",
    "    transformer = Transformer.from_crs(\"epsg:4326\", \"epsg:3857\", always_xy=True)\n",
    "    actual_min_x, actual_min_y = transformer.transform(actual_min_lon, actual_min_lat)\n",
    "    actual_max_x, actual_max_y = transformer.transform(actual_max_lon, actual_max_lat)\n",
    "\n",
    "    # Set the bounding box for Web Mercator\n",
    "    actual_bounding_box_mercator = actual_min_x, actual_min_y, actual_max_x, actual_max_y\n",
    "    print(\"Actual Bounding Box in Web Mercator:\", actual_bounding_box_mercator)\n",
    "    \n",
    "    transform = from_bounds(*actual_bounding_box_mercator, width=mosaic.width, height=mosaic.height)\n",
    "\n",
    "    mosaic_path = \"E:/OneDrive_PSU/OneDrive - The Pennsylvania State University/Research_doc/LLM-Find/Downloaded_Data/Japan_image.tif\"\n",
    "    crs = {'init': 'epsg:3857'}\n",
    "\n",
    "    # Save the image as a GeoTIFF using rasterio\n",
    "    print(mosaic_path)\n",
    "    with rasterio.open(\n",
    "        mosaic_path,\n",
    "        'w',\n",
    "        driver='GTiff',\n",
    "        height=image_array.shape[0],\n",
    "        width=image_array.shape[1],\n",
    "        count=image_array.shape[2],  # Number of channels (e.g., 3 for RGB)\n",
    "        dtype=image_array.dtype,\n",
    "        crs=crs,\n",
    "        transform=transform\n",
    "    ) as dst:\n",
    "        # Write each channel separately\n",
    "        for i in range(1, image_array.shape[2] + 1):\n",
    "            print(i)\n",
    "            dst.write(image_array[:, :, i - 1], i)\n",
    " \n",
    "    # Clean up the individual tile images (optional)\n",
    "    for file in os.listdir(save_dir):\n",
    "        os.remove(os.path.join(save_dir, file))\n",
    "    os.rmdir(save_dir)\n",
    "\n",
    "download_data()"
   ]
  },
  {
   "cell_type": "code",
   "execution_count": null,
   "id": "dfba34b1-68e1-4ad4-a267-dd4a5fd593eb",
   "metadata": {},
   "outputs": [],
   "source": [
    "import requests\n",
    "import csv\n",
    "import json\n",
    "\n",
    "def download_data():\n",
    "    # Define the endpoint and related configurations\n",
    "    base_url = \"https://api.census.gov/data/2021/acs/acs5\"\n",
    "    api_key = \"{US_Census_key}\"\n",
    "    dataset_year = \"2021\"\n",
    "    dataset_source = f\"ACS {dataset_year}\"\n",
    "\n",
    "    # Variables we need to fetch\n",
    "    variables = [\n",
    "        # B02001_001E: Total population\n",
    "        \"B02001_001E\",\n",
    "        # B02001_002E: White alone\n",
    "        \"B02001_002E\",\n",
    "        # B02001_003E: Black or African American alone\n",
    "        \"B02001_003E\",\n",
    "        # B02001_004E: American Indian and Alaska Native alone\n",
    "        \"B02001_004E\",\n",
    "        # B02001_005E: Asian alone\n",
    "        \"B02001_005E\",\n",
    "        # B02001_006E: Native Hawaiian and Other Pacific Islander alone\n",
    "        \"B02001_006E\",\n",
    "        # B02001_007E: Some other race alone\n",
    "        \"B02001_007E\",\n",
    "        # B02001_008E: Two or more races\n",
    "        \"B02001_008E\",\n",
    "    ]\n",
    "\n",
    "    # Fetch the variable labels\n",
    "    response = requests.get(f\"{base_url}/variables.json\")\n",
    "    print(f\"{base_url}/variables.json\")\n",
    "    \n",
    "    response.raise_for_status()\n",
    "    # print(response.text[:10000])\n",
    "    variables_metadata = response.json()\n",
    "\n",
    "    # Helper function to get variable labels\n",
    "    def get_variable_label(var_name):\n",
    "        label = variables_metadata['variables'][var_name]['label']\n",
    "        return label.replace(\"Estimate!!\", \"\").strip()\n",
    "\n",
    "    # Construct the URL for the data request\n",
    "    get_vars = \",\".join(variables)\n",
    "    url = f\"{base_url}?get={get_vars}&for=county:*&in=state:*&key={api_key}\"\n",
    "\n",
    "    # Download data from Census API\n",
    "    response = requests.get(url)\n",
    "    response.raise_for_status()\n",
    "    data = response.json()\n",
    "\n",
    "    # Prepare the CSV file for writing\n",
    "    csv_path = \"E:\\\\OneDrive_PSU\\\\OneDrive - The Pennsylvania State University\\\\Research_doc\\\\LLM-Find\\\\Python_code\\\\Downloaded_Data\\\\Census_US_county_population_by_race.csv\"\n",
    "\n",
    "    # Create header with variable labels\n",
    "    header = [f\"{var}:{get_variable_label(var)}\" for var in variables] + [\"state_fips\", \"county_fips\", \"year\", \"source\"]\n",
    "    rows = data[1:]  # Skip the header row provided by API\n",
    "    for row in rows:\n",
    "        row.extend([dataset_year, dataset_source])\n",
    "\n",
    "    # Write to CSV file\n",
    "    with open(csv_path, mode='w', newline='') as file:\n",
    "        writer = csv.writer(file)\n",
    "        writer.writerow(header)\n",
    "        writer.writerows(rows)\n",
    "\n",
    "# Execute the function\n",
    "download_data()"
   ]
  },
  {
   "cell_type": "code",
   "execution_count": 46,
   "id": "c2ae7cd8-ea6f-4354-a5fc-5a9a57639c94",
   "metadata": {
    "execution": {
     "iopub.execute_input": "2024-09-06T17:31:40.472265Z",
     "iopub.status.busy": "2024-09-06T17:31:40.471284Z",
     "iopub.status.idle": "2024-09-06T17:31:41.730430Z",
     "shell.execute_reply": "2024-09-06T17:31:41.730430Z",
     "shell.execute_reply.started": "2024-09-06T17:31:40.472265Z"
    }
   },
   "outputs": [
    {
     "ename": "JSONDecodeError",
     "evalue": "Expecting value: line 2 column 1 (char 1)",
     "output_type": "error",
     "traceback": [
      "\u001b[1;31m---------------------------------------------------------------------------\u001b[0m",
      "\u001b[1;31mJSONDecodeError\u001b[0m                           Traceback (most recent call last)",
      "File \u001b[1;32me:\\ProgramData\\Anaconda3\\envs\\ox\\Lib\\site-packages\\requests\\models.py:971\u001b[0m, in \u001b[0;36mResponse.json\u001b[1;34m(self, **kwargs)\u001b[0m\n\u001b[0;32m    970\u001b[0m \u001b[38;5;28;01mtry\u001b[39;00m:\n\u001b[1;32m--> 971\u001b[0m     \u001b[38;5;28;01mreturn\u001b[39;00m \u001b[43mcomplexjson\u001b[49m\u001b[38;5;241;43m.\u001b[39;49m\u001b[43mloads\u001b[49m\u001b[43m(\u001b[49m\u001b[38;5;28;43mself\u001b[39;49m\u001b[38;5;241;43m.\u001b[39;49m\u001b[43mtext\u001b[49m\u001b[43m,\u001b[49m\u001b[43m \u001b[49m\u001b[38;5;241;43m*\u001b[39;49m\u001b[38;5;241;43m*\u001b[39;49m\u001b[43mkwargs\u001b[49m\u001b[43m)\u001b[49m\n\u001b[0;32m    972\u001b[0m \u001b[38;5;28;01mexcept\u001b[39;00m JSONDecodeError \u001b[38;5;28;01mas\u001b[39;00m e:\n\u001b[0;32m    973\u001b[0m     \u001b[38;5;66;03m# Catch JSON-related errors and raise as requests.JSONDecodeError\u001b[39;00m\n\u001b[0;32m    974\u001b[0m     \u001b[38;5;66;03m# This aliases json.JSONDecodeError and simplejson.JSONDecodeError\u001b[39;00m\n",
      "File \u001b[1;32me:\\ProgramData\\Anaconda3\\envs\\ox\\Lib\\json\\__init__.py:346\u001b[0m, in \u001b[0;36mloads\u001b[1;34m(s, cls, object_hook, parse_float, parse_int, parse_constant, object_pairs_hook, **kw)\u001b[0m\n\u001b[0;32m    343\u001b[0m \u001b[38;5;28;01mif\u001b[39;00m (\u001b[38;5;28mcls\u001b[39m \u001b[38;5;129;01mis\u001b[39;00m \u001b[38;5;28;01mNone\u001b[39;00m \u001b[38;5;129;01mand\u001b[39;00m object_hook \u001b[38;5;129;01mis\u001b[39;00m \u001b[38;5;28;01mNone\u001b[39;00m \u001b[38;5;129;01mand\u001b[39;00m\n\u001b[0;32m    344\u001b[0m         parse_int \u001b[38;5;129;01mis\u001b[39;00m \u001b[38;5;28;01mNone\u001b[39;00m \u001b[38;5;129;01mand\u001b[39;00m parse_float \u001b[38;5;129;01mis\u001b[39;00m \u001b[38;5;28;01mNone\u001b[39;00m \u001b[38;5;129;01mand\u001b[39;00m\n\u001b[0;32m    345\u001b[0m         parse_constant \u001b[38;5;129;01mis\u001b[39;00m \u001b[38;5;28;01mNone\u001b[39;00m \u001b[38;5;129;01mand\u001b[39;00m object_pairs_hook \u001b[38;5;129;01mis\u001b[39;00m \u001b[38;5;28;01mNone\u001b[39;00m \u001b[38;5;129;01mand\u001b[39;00m \u001b[38;5;129;01mnot\u001b[39;00m kw):\n\u001b[1;32m--> 346\u001b[0m     \u001b[38;5;28;01mreturn\u001b[39;00m \u001b[43m_default_decoder\u001b[49m\u001b[38;5;241;43m.\u001b[39;49m\u001b[43mdecode\u001b[49m\u001b[43m(\u001b[49m\u001b[43ms\u001b[49m\u001b[43m)\u001b[49m\n\u001b[0;32m    347\u001b[0m \u001b[38;5;28;01mif\u001b[39;00m \u001b[38;5;28mcls\u001b[39m \u001b[38;5;129;01mis\u001b[39;00m \u001b[38;5;28;01mNone\u001b[39;00m:\n",
      "File \u001b[1;32me:\\ProgramData\\Anaconda3\\envs\\ox\\Lib\\json\\decoder.py:337\u001b[0m, in \u001b[0;36mJSONDecoder.decode\u001b[1;34m(self, s, _w)\u001b[0m\n\u001b[0;32m    333\u001b[0m \u001b[38;5;250m\u001b[39m\u001b[38;5;124;03m\"\"\"Return the Python representation of ``s`` (a ``str`` instance\u001b[39;00m\n\u001b[0;32m    334\u001b[0m \u001b[38;5;124;03mcontaining a JSON document).\u001b[39;00m\n\u001b[0;32m    335\u001b[0m \n\u001b[0;32m    336\u001b[0m \u001b[38;5;124;03m\"\"\"\u001b[39;00m\n\u001b[1;32m--> 337\u001b[0m obj, end \u001b[38;5;241m=\u001b[39m \u001b[38;5;28;43mself\u001b[39;49m\u001b[38;5;241;43m.\u001b[39;49m\u001b[43mraw_decode\u001b[49m\u001b[43m(\u001b[49m\u001b[43ms\u001b[49m\u001b[43m,\u001b[49m\u001b[43m \u001b[49m\u001b[43midx\u001b[49m\u001b[38;5;241;43m=\u001b[39;49m\u001b[43m_w\u001b[49m\u001b[43m(\u001b[49m\u001b[43ms\u001b[49m\u001b[43m,\u001b[49m\u001b[43m \u001b[49m\u001b[38;5;241;43m0\u001b[39;49m\u001b[43m)\u001b[49m\u001b[38;5;241;43m.\u001b[39;49m\u001b[43mend\u001b[49m\u001b[43m(\u001b[49m\u001b[43m)\u001b[49m\u001b[43m)\u001b[49m\n\u001b[0;32m    338\u001b[0m end \u001b[38;5;241m=\u001b[39m _w(s, end)\u001b[38;5;241m.\u001b[39mend()\n",
      "File \u001b[1;32me:\\ProgramData\\Anaconda3\\envs\\ox\\Lib\\json\\decoder.py:355\u001b[0m, in \u001b[0;36mJSONDecoder.raw_decode\u001b[1;34m(self, s, idx)\u001b[0m\n\u001b[0;32m    354\u001b[0m \u001b[38;5;28;01mexcept\u001b[39;00m \u001b[38;5;167;01mStopIteration\u001b[39;00m \u001b[38;5;28;01mas\u001b[39;00m err:\n\u001b[1;32m--> 355\u001b[0m     \u001b[38;5;28;01mraise\u001b[39;00m JSONDecodeError(\u001b[38;5;124m\"\u001b[39m\u001b[38;5;124mExpecting value\u001b[39m\u001b[38;5;124m\"\u001b[39m, s, err\u001b[38;5;241m.\u001b[39mvalue) \u001b[38;5;28;01mfrom\u001b[39;00m \u001b[38;5;28;01mNone\u001b[39;00m\n\u001b[0;32m    356\u001b[0m \u001b[38;5;28;01mreturn\u001b[39;00m obj, end\n",
      "\u001b[1;31mJSONDecodeError\u001b[0m: Expecting value: line 2 column 1 (char 1)",
      "\nDuring handling of the above exception, another exception occurred:\n",
      "\u001b[1;31mJSONDecodeError\u001b[0m                           Traceback (most recent call last)",
      "Cell \u001b[1;32mIn[46], line 66\u001b[0m\n\u001b[0;32m     63\u001b[0m         writer\u001b[38;5;241m.\u001b[39mwriterows(rows)\n\u001b[0;32m     65\u001b[0m \u001b[38;5;66;03m# Execute the function\u001b[39;00m\n\u001b[1;32m---> 66\u001b[0m \u001b[43mdownload_data\u001b[49m\u001b[43m(\u001b[49m\u001b[43m)\u001b[49m\n",
      "Cell \u001b[1;32mIn[46], line 48\u001b[0m, in \u001b[0;36mdownload_data\u001b[1;34m()\u001b[0m\n\u001b[0;32m     46\u001b[0m response \u001b[38;5;241m=\u001b[39m requests\u001b[38;5;241m.\u001b[39mget(url)\n\u001b[0;32m     47\u001b[0m response\u001b[38;5;241m.\u001b[39mraise_for_status()\n\u001b[1;32m---> 48\u001b[0m data \u001b[38;5;241m=\u001b[39m \u001b[43mresponse\u001b[49m\u001b[38;5;241;43m.\u001b[39;49m\u001b[43mjson\u001b[49m\u001b[43m(\u001b[49m\u001b[43m)\u001b[49m\n\u001b[0;32m     50\u001b[0m \u001b[38;5;66;03m# Prepare the CSV file for writing\u001b[39;00m\n\u001b[0;32m     51\u001b[0m csv_path \u001b[38;5;241m=\u001b[39m \u001b[38;5;124m\"\u001b[39m\u001b[38;5;124mCensus_SC_Richland_race_population.csv\u001b[39m\u001b[38;5;124m\"\u001b[39m\n",
      "File \u001b[1;32me:\\ProgramData\\Anaconda3\\envs\\ox\\Lib\\site-packages\\requests\\models.py:975\u001b[0m, in \u001b[0;36mResponse.json\u001b[1;34m(self, **kwargs)\u001b[0m\n\u001b[0;32m    971\u001b[0m     \u001b[38;5;28;01mreturn\u001b[39;00m complexjson\u001b[38;5;241m.\u001b[39mloads(\u001b[38;5;28mself\u001b[39m\u001b[38;5;241m.\u001b[39mtext, \u001b[38;5;241m*\u001b[39m\u001b[38;5;241m*\u001b[39mkwargs)\n\u001b[0;32m    972\u001b[0m \u001b[38;5;28;01mexcept\u001b[39;00m JSONDecodeError \u001b[38;5;28;01mas\u001b[39;00m e:\n\u001b[0;32m    973\u001b[0m     \u001b[38;5;66;03m# Catch JSON-related errors and raise as requests.JSONDecodeError\u001b[39;00m\n\u001b[0;32m    974\u001b[0m     \u001b[38;5;66;03m# This aliases json.JSONDecodeError and simplejson.JSONDecodeError\u001b[39;00m\n\u001b[1;32m--> 975\u001b[0m     \u001b[38;5;28;01mraise\u001b[39;00m RequestsJSONDecodeError(e\u001b[38;5;241m.\u001b[39mmsg, e\u001b[38;5;241m.\u001b[39mdoc, e\u001b[38;5;241m.\u001b[39mpos)\n",
      "\u001b[1;31mJSONDecodeError\u001b[0m: Expecting value: line 2 column 1 (char 1)"
     ]
    }
   ],
   "source": [
    "import requests\n",
    "import csv\n",
    "import json\n",
    "\n",
    "def download_data():\n",
    "    # Define the endpoint and related configurations\n",
    "    base_url = \"https://api.census.gov/data/2022/acs/acs5\"\n",
    "    api_key = \"xxxx\"\n",
    "    dataset_year = \"2021\"\n",
    "    dataset_source = f\"ACS {dataset_year}\"\n",
    "\n",
    "    # Variables we need to fetch\n",
    "    variables = [\n",
    "        # B02001_001E:Total population\n",
    "        \"B02001_001E\",\n",
    "        # B02001_002E:White alone\n",
    "        \"B02001_002E\",\n",
    "        # B02001_003E:Black or African American alone\n",
    "        \"B02001_003E\",\n",
    "        # B02001_004E:American Indian and Alaska Native alone\n",
    "        \"B02001_004E\",\n",
    "        # B02001_005E:Asian alone\n",
    "        \"B02001_005E\",\n",
    "        # B02001_006E:Native Hawaiian and Other Pacific Islander alone\n",
    "        \"B02001_006E\",\n",
    "        # B02001_007E:Some other race alone\n",
    "        \"B02001_007E\",\n",
    "        # B02001_008E:Two or more races\n",
    "        \"B02001_008E\",\n",
    "    ]\n",
    "\n",
    "    # Fetch the variable labels\n",
    "    response = requests.get(f\"{base_url}/variables.json\")\n",
    "    variables_metadata = response.json()\n",
    "\n",
    "    # Helper function to get variable labels\n",
    "    def get_variable_label(var_name):\n",
    "        label = variables_metadata['variables'][var_name]['label']\n",
    "        return label.replace(\"Estimate!!\", \"\").strip()\n",
    "\n",
    "    # Construct the URL for the data request\n",
    "    get_vars = \",\".join(variables)\n",
    "    url = f\"{base_url}?get={get_vars}&for=block%20group:*&in=state:45 county:079&key={api_key}\"\n",
    "\n",
    "    # Download data from Census API\n",
    "    response = requests.get(url)\n",
    "    response.raise_for_status()\n",
    "    data = response.json()\n",
    "\n",
    "    # Prepare the CSV file for writing\n",
    "    csv_path = \"Census_SC_Richland_race_population.csv\"\n",
    "\n",
    "    # Create header with variable labels\n",
    "    header = [f\"{var}:{get_variable_label(var)}\" for var in variables] + [\"state_fips\", \"county_fips\", \"tract_fips\", \"block_group_fips\", \"year\", \"source\"]\n",
    "    rows = data[1:]  # Skip the header row provided by API\n",
    "    for row in rows:\n",
    "        row.extend([dataset_year, dataset_source])\n",
    "\n",
    "    # Write to CSV file\n",
    "    with open(csv_path, mode='w', newline='') as file:\n",
    "        writer = csv.writer(file)\n",
    "        writer.writerow(header)\n",
    "        writer.writerows(rows)\n",
    "\n",
    "# Execute the function\n",
    "download_data()"
   ]
  },
  {
   "cell_type": "code",
   "execution_count": 20,
   "id": "4ba153a9-2331-4dc3-b807-a3c7ded110d3",
   "metadata": {
    "execution": {
     "iopub.execute_input": "2024-08-02T21:07:12.305584Z",
     "iopub.status.busy": "2024-08-02T21:07:12.305584Z",
     "iopub.status.idle": "2024-08-02T21:07:12.321538Z",
     "shell.execute_reply": "2024-08-02T21:07:12.321538Z",
     "shell.execute_reply.started": "2024-08-02T21:07:12.305584Z"
    }
   },
   "outputs": [
    {
     "name": "stdout",
     "output_type": "stream",
     "text": [
      "1\n",
      "2\n",
      "3\n"
     ]
    }
   ],
   "source": [
    "from PIL import Image\n",
    "import numpy as np\n",
    "import rasterio\n",
    "from rasterio.transform import from_bounds\n",
    "\n",
    "# Load the image using PIL\n",
    "pil_image = Image.open(r\"E:\\OneDrive_PSU\\OneDrive - The Pennsylvania State University\\Research_doc\\LLM-Find\\Python_code\\Downloaded_Data\\Everest_DOM.tif\")\n",
    "\n",
    "# Convert the PIL image to a NumPy array\n",
    "image_array = np.array(pil_image)\n",
    "\n",
    "# Define the bounding box (left, bottom, right, top)\n",
    "# Example coordinates (in desired CRS units, e.g., meters or degrees)\n",
    "bounding_box = 86.73, 27.82, 87.13, 28.17# from_bounds(west, south, east, north, width, height)\n",
    "\n",
    "# Define the transform for the GeoTIFF based on the bounding box\n",
    "transform = from_bounds(*bounding_box, width=pil_image.width, height=pil_image.height)\n",
    "\n",
    "# Define the CRS (coordinate reference system) for the output GeoTIFF\n",
    "# Example using WGS 84 (EPSG:4326), but change as needed for your data\n",
    "crs = {'init': 'epsg:4326'}\n",
    "\n",
    "# Save the image as a GeoTIFF using rasterio\n",
    "with rasterio.open(\n",
    "    r'E:\\OneDrive_PSU\\OneDrive - The Pennsylvania State University\\Research_doc\\LLM-Find\\Python_code\\Downloaded_Data\\output_image.tif',\n",
    "    'w',\n",
    "    driver='GTiff',\n",
    "    height=image_array.shape[0],\n",
    "    width=image_array.shape[1],\n",
    "    count=image_array.shape[2],  # Number of channels (e.g., 3 for RGB)\n",
    "    dtype=image_array.dtype,\n",
    "    crs=crs,\n",
    "    transform=transform\n",
    ") as dst:\n",
    "    # Write each channel separately\n",
    "    for i in range(1, image_array.shape[2] + 1):\n",
    "        print(i)\n",
    "        dst.write(image_array[:, :, i - 1], i)"
   ]
  },
  {
   "cell_type": "code",
   "execution_count": 13,
   "id": "1e3e507f-52bc-4103-9662-68eeab77fc1c",
   "metadata": {},
   "outputs": [
    {
     "name": "stdout",
     "output_type": "stream",
     "text": [
      "## The following code is to download the railway network in Wuhan, Hubei, China.\n",
      "# Import necessary libraries\n",
      "import geopandas as gpd\n",
      "import requests\n",
      "import json\n",
      "import osmnx as ox\n",
      "\n",
      "def download_data():\n",
      "    # Define the area for Wuhan, Hubei, China\n",
      "    place_name = \"Wuhan, Hubei, China\"\n",
      "\n",
      "    # Get the bounding box of Wuhan using OSMnx\n",
      "    gdf = ox.geocode_to_gdf(place_name)\n",
      "    west, south, east, north = gdf.unary_union.bounds\n",
      "\n",
      "    # Define Overpass API query to get railway network in the bounding box\n",
      "    overpass_url = \"https://overpass-api.de/api/interpreter\"\n",
      "    overpass_query = f \"\"\"    [out:json];\n",
      "    (\n",
      "        way[\"railway\"]({south},{west},{north},{east});\n",
      "        relation[\"railway\"]({south},{west},{north},{east});\n",
      "    );\n",
      "    out geom;\n",
      "      \"\"\"    # Send request to Overpass API\n",
      "    response = requests.get(overpass_url, params={'data': overpass_query})\n",
      "    response.raise_for_status()  # Automatically raises an error for bad status codes\n",
      "\n",
      "    # Parse the JSON response\n",
      "    data = response.json()\n",
      "\n",
      "    # Extract elements with their geometries\n",
      "    features = []\n",
      "    for element in data['elements']:\n",
      "        if 'geometry' in element:\n",
      "            points = [(point['lon'], point['lat']) for point in element['geometry']]\n",
      "            # Convert all property values to str\n",
      "            properties = {\n",
      "                key: ', '.join(map(str, value)) if isinstance(value, list) else str(value)\n",
      "                for key, value in element.items() if key != 'geometry'\n",
      "            }\n",
      "\n",
      "            if element['type'] == 'way':\n",
      "                features.append({\n",
      "                    'type': 'Feature',\n",
      "                    'geometry': {'type': 'LineString', 'coordinates': points},\n",
      "                    'properties': properties\n",
      "                })\n",
      "            elif element['type'] == 'relation':\n",
      "                for member in element['members']:\n",
      "                    if member['type'] == 'way' and 'geometry' in member:\n",
      "                        points = [(point['lon'], point['lat']) for point in member['geometry']]\n",
      "                        properties = {\n",
      "                            key: ', '.join(map(str, value)) if isinstance(value, list) else str(value)\n",
      "                            for key, value in element.items() if key != 'geometry'\n",
      "                        }\n",
      "                        features.append({\n",
      "                            'type': 'Feature',\n",
      "                            'geometry': {'type': 'LineString', 'coordinates': points},\n",
      "                            'properties': properties\n",
      "                        })\n",
      "\n",
      "    # Create a GeoDataFrame\n",
      "    gdf_railway = gpd.GeoDataFrame.from_features(features, crs='EPSG:4326')\n",
      "\n",
      "    # Save to GeoPackage\n",
      "    output_file = r\"E:\\OneDrive_PSU\\OneDrive - The Pennsylvania State University\\Research_doc\\LLM-Find\\Downloaded_Data\\Wuhan_Railway_network.gpkg\"\n",
      "    gdf_railway.to_file(output_file, layer='railway_network', driver='GPKG')\n",
      "\n",
      "# Execute the function\n",
      "download_data()\n",
      "\n"
     ]
    }
   ],
   "source": [
    "import toml\n",
    "\n",
    "handbook_file = r'D:\\OneDrive_PSU\\OneDrive - The Pennsylvania State University\\Research_doc\\LLM-Find\\Python_code\\Handbooks\\OpenStreetMap.toml'\n",
    "\n",
    "handbook = toml.load(handbook_file)\n",
    "print(handbook['code_example'])"
   ]
  },
  {
   "cell_type": "code",
   "execution_count": 30,
   "id": "e7444f6f-04dd-487c-9a27-55f05a6f2e36",
   "metadata": {
    "execution": {
     "iopub.execute_input": "2024-09-06T16:52:47.136528Z",
     "iopub.status.busy": "2024-09-06T16:52:47.136528Z",
     "iopub.status.idle": "2024-09-06T16:52:47.140921Z",
     "shell.execute_reply": "2024-09-06T16:52:47.140921Z",
     "shell.execute_reply.started": "2024-09-06T16:52:47.136528Z"
    }
   },
   "outputs": [
    {
     "data": {
      "text/plain": [
       "'Keys\\\\config.ini'"
      ]
     },
     "execution_count": 30,
     "metadata": {},
     "output_type": "execute_result"
    }
   ],
   "source": [
    "# pip install toml\n",
    "os.path.join('Keys', 'config.ini')"
   ]
  },
  {
   "cell_type": "code",
   "execution_count": 54,
   "id": "1deb198a-42a4-4314-8efe-c5a1d67a4c62",
   "metadata": {
    "execution": {
     "iopub.execute_input": "2024-09-06T17:52:43.443382Z",
     "iopub.status.busy": "2024-09-06T17:52:43.443382Z",
     "iopub.status.idle": "2024-09-06T17:52:43.448090Z",
     "shell.execute_reply": "2024-09-06T17:52:43.448090Z",
     "shell.execute_reply.started": "2024-09-06T17:52:43.443382Z"
    }
   },
   "outputs": [
    {
     "data": {
      "text/plain": [
       "KeysView(<Section: API_Key>)"
      ]
     },
     "execution_count": 54,
     "metadata": {},
     "output_type": "execute_result"
    }
   ],
   "source": [
    "import configparser\n",
    "import LLM_Find_Codebase as codebase\n",
    "import os\n",
    "config = configparser.ConfigParser()\n",
    "config.read(os.path.join('Keys', 'US_Census_demography.keys'))\n",
    "# config.read('Keys/OpenWeather.keys')\n",
    "# config.read('Keys/config.ini')\n",
    "config['API_Key'].keys()"
   ]
  },
  {
   "cell_type": "code",
   "execution_count": 55,
   "id": "c317afde-f5d8-4fc8-ba9a-75b132d74f5f",
   "metadata": {
    "execution": {
     "iopub.execute_input": "2024-09-06T17:52:45.130393Z",
     "iopub.status.busy": "2024-09-06T17:52:45.130393Z",
     "iopub.status.idle": "2024-09-06T17:52:45.134669Z",
     "shell.execute_reply": "2024-09-06T17:52:45.134669Z",
     "shell.execute_reply.started": "2024-09-06T17:52:45.130393Z"
    }
   },
   "outputs": [
    {
     "data": {
      "text/plain": [
       "KeysView(<Section: API_Key>)"
      ]
     },
     "execution_count": 55,
     "metadata": {},
     "output_type": "execute_result"
    }
   ],
   "source": [
    "config['API_Key'].keys()"
   ]
  },
  {
   "cell_type": "code",
   "execution_count": 57,
   "id": "ca1a7a00-2ae2-426a-8c43-b11487e7fc6f",
   "metadata": {
    "execution": {
     "iopub.execute_input": "2024-09-06T18:06:54.608033Z",
     "iopub.status.busy": "2024-09-06T18:06:54.608033Z",
     "iopub.status.idle": "2024-09-06T18:06:54.611882Z",
     "shell.execute_reply": "2024-09-06T18:06:54.611882Z",
     "shell.execute_reply.started": "2024-09-06T18:06:54.608033Z"
    }
   },
   "outputs": [
    {
     "name": "stdout",
     "output_type": "stream",
     "text": [
      "us_census_demography\n"
     ]
    }
   ],
   "source": [
    "for key in config['API_Key'].keys():\n",
    "    value = print(key)"
   ]
  },
  {
   "cell_type": "code",
   "execution_count": null,
   "id": "8660074f-c4c7-4eb3-ba17-bdfe147fa1a1",
   "metadata": {},
   "outputs": [],
   "source": [
    "keys_dict = handbook.load_keys(source_ID='US_Census_demography', keys_dir='Keys')\n",
    "print(keys_dict)\n"
   ]
  },
  {
   "cell_type": "code",
   "execution_count": 1,
   "id": "0a75216f-546a-4d6d-9453-203f329ea511",
   "metadata": {},
   "outputs": [
    {
     "data": {
      "text/plain": [
       "'02022'"
      ]
     },
     "execution_count": 1,
     "metadata": {},
     "output_type": "execute_result"
    }
   ],
   "source": [
    "a = 2022\n",
    "f\"{a:05}\""
   ]
  },
  {
   "cell_type": "code",
   "execution_count": 11,
   "id": "3593ccdb-a807-44e6-bca7-87781835a647",
   "metadata": {},
   "outputs": [
    {
     "name": "stdout",
     "output_type": "stream",
     "text": [
      "url: https://api.census.gov/data/2021/acs/acs5?get=B02001_001E,B02001_002E,B02001_003E,B02001_004E,B02001_005E,B02001_006E,B02001_007E,B02001_008E&for=block%20group:*&in=state:45 county:079\n",
      "[['1968', '172', '1654', '0', '51', '0', '0', '91', '45', '45079', '45079000100', '450790001001', '2021', 'ACS 2021'], ['335', '206', '105', '0', '3', '0', '0', '21', '45', '45079', '45079000100', '450790001002', '2021', 'ACS 2021'], ['770', '117', '641', '7', '0', '0', '0', '5', '45', '45079', '45079000200', '450790002001', '2021', 'ACS 2021'], ['813', '119', '694', '0', '0', '0', '0', '0', '45', '45079', '45079000200', '450790002002', '2021', 'ACS 2021'], ['1170', '31', '1108', '0', '0', '0', '0', '31', '45', '45079', '45079000300', '450790003001', '2021', 'ACS 2021'], ['1467', '92', '1369', '0', '6', '0', '0', '0', '45', '45079', '45079000300', '450790003002', '2021', 'ACS 2021'], ['766', '189', '567', '0', '0', '0', '6', '4', '45', '45079', '45079000400', '450790004001', '2021', 'ACS 2021'], ['1013', '397', '588', '0', '0', '0', '12', '16', '45', '45079', '45079000400', '450790004002', '2021', 'ACS 2021'], ['552', '13', '524', '0', '3', '0', '7', '5', '45', '45079', '45079000500', '450790005001', '2021', 'ACS 2021'], ['1401', '51', '1260', '0', '0', '0', '52', '38', '45', '45079', '45079000500', '450790005002', '2021', 'ACS 2021'], ['769', '570', '62', '0', '79', '0', '9', '49', '45', '45079', '45079000600', '450790006001', '2021', 'ACS 2021'], ['1442', '728', '600', '0', '27', '0', '0', '87', '45', '45079', '45079000600', '450790006002', '2021', 'ACS 2021'], ['631', '475', '129', '0', '17', '0', '0', '10', '45', '45079', '45079000700', '450790007001', '2021', 'ACS 2021'], ['1238', '764', '368', '0', '5', '0', '16', '85', '45', '45079', '45079000700', '450790007002', '2021', 'ACS 2021'], ['550', '13', '450', '15', '0', '0', '0', '72', '45', '45079', '45079000900', '450790009001', '2021', 'ACS 2021'], ['1337', '29', '1248', '0', '0', '0', '0', '60', '45', '45079', '45079000900', '450790009002', '2021', 'ACS 2021'], ['1743', '537', '1124', '0', '30', '5', '8', '39', '45', '45079', '45079001000', '450790010001', '2021', 'ACS 2021'], ['1315', '162', '1108', '3', '9', '0', '0', '33', '45', '45079', '45079001000', '450790010002', '2021', 'ACS 2021'], ['1607', '1377', '182', '0', '8', '0', '0', '40', '45', '45079', '45079001100', '450790011001', '2021', 'ACS 2021'], ['628', '139', '463', '0', '17', '0', '0', '9', '45', '45079', '45079001100', '450790011002', '2021', 'ACS 2021'], ['1224', '467', '713', '0', '26', '0', '0', '18', '45', '45079', '45079001100', '450790011003', '2021', 'ACS 2021'], ['1398', '1108', '262', '0', '9', '0', '5', '14', '45', '45079', '45079001200', '450790012001', '2021', 'ACS 2021'], ['639', '566', '68', '0', '0', '0', '0', '5', '45', '45079', '45079001200', '450790012002', '2021', 'ACS 2021'], ['0', '0', '0', '0', '0', '0', '0', '0', '45', '45079', '45079001300', '450790013001', '2021', 'ACS 2021'], ['404', '42', '331', '0', '0', '0', '0', '31', '45', '45079', '45079001300', '450790013002', '2021', 'ACS 2021'], ['636', '282', '311', '0', '0', '0', '4', '39', '45', '45079', '45079001300', '450790013003', '2021', 'ACS 2021'], ['580', '158', '386', '0', '18', '0', '5', '13', '45', '45079', '45079001300', '450790013004', '2021', 'ACS 2021'], ['1596', '1241', '189', '0', '65', '0', '24', '77', '45', '45079', '45079001600', '450790016001', '2021', 'ACS 2021'], ['933', '809', '100', '0', '0', '0', '18', '6', '45', '45079', '45079002100', '450790021001', '2021', 'ACS 2021'], ['713', '669', '4', '0', '40', '0', '0', '0', '45', '45079', '45079002100', '450790021002', '2021', 'ACS 2021'], ['1262', '906', '211', '0', '111', '0', '0', '34', '45', '45079', '45079002100', '450790021003', '2021', 'ACS 2021'], ['712', '522', '177', '0', '0', '0', '0', '13', '45', '45079', '45079002200', '450790022001', '2021', 'ACS 2021'], ['308', '253', '55', '0', '0', '0', '0', '0', '45', '45079', '45079002200', '450790022002', '2021', 'ACS 2021'], ['705', '697', '8', '0', '0', '0', '0', '0', '45', '45079', '45079002300', '450790023001', '2021', 'ACS 2021'], ['707', '703', '0', '0', '2', '0', '0', '2', '45', '45079', '45079002300', '450790023002', '2021', 'ACS 2021'], ['1013', '1004', '0', '0', '0', '0', '9', '0', '45', '45079', '45079002300', '450790023003', '2021', 'ACS 2021'], ['1359', '1300', '3', '0', '0', '0', '51', '5', '45', '45079', '45079002400', '450790024001', '2021', 'ACS 2021'], ['1211', '1148', '36', '0', '21', '0', '0', '6', '45', '45079', '45079002400', '450790024002', '2021', 'ACS 2021'], ['1173', '1057', '27', '0', '50', '0', '8', '31', '45', '45079', '45079002400', '450790024003', '2021', 'ACS 2021'], ['909', '728', '21', '0', '109', '0', '4', '47', '45', '45079', '45079002500', '450790025001', '2021', 'ACS 2021'], ['1078', '1056', '7', '0', '0', '0', '0', '15', '45', '45079', '45079002500', '450790025002', '2021', 'ACS 2021'], ['947', '805', '51', '0', '53', '0', '0', '38', '45', '45079', '45079002500', '450790025003', '2021', 'ACS 2021'], ['613', '473', '45', '0', '33', '0', '62', '0', '45', '45079', '45079002500', '450790025004', '2021', 'ACS 2021'], ['1939', '1825', '39', '0', '40', '0', '0', '35', '45', '45079', '45079002602', '450790026021', '2021', 'ACS 2021'], ['1085', '595', '458', '0', '11', '0', '3', '18', '45', '45079', '45079002602', '450790026022', '2021', 'ACS 2021'], ['1283', '330', '564', '0', '0', '141', '0', '248', '45', '45079', '45079002605', '450790026051', '2021', 'ACS 2021'], ['1116', '932', '124', '0', '0', '0', '0', '60', '45', '45079', '45079002605', '450790026052', '2021', 'ACS 2021'], ['1384', '669', '519', '0', '0', '0', '0', '196', '45', '45079', '45079002605', '450790026053', '2021', 'ACS 2021'], ['1487', '521', '888', '0', '0', '0', '5', '73', '45', '45079', '45079002605', '450790026054', '2021', 'ACS 2021'], ['368', '212', '37', '0', '119', '0', '0', '0', '45', '45079', '45079002700', '450790027001', '2021', 'ACS 2021'], ['812', '684', '6', '0', '101', '0', '5', '16', '45', '45079', '45079002700', '450790027002', '2021', 'ACS 2021'], ['1512', '1130', '66', '0', '47', '0', '0', '269', '45', '45079', '45079002700', '450790027003', '2021', 'ACS 2021'], ['2801', '1826', '748', '0', '102', '0', '0', '125', '45', '45079', '45079002800', '450790028001', '2021', 'ACS 2021'], ['1289', '1188', '52', '0', '0', '0', '25', '24', '45', '45079', '45079002800', '450790028002', '2021', 'ACS 2021'], ['2373', '1873', '243', '0', '182', '0', '27', '48', '45', '45079', '45079002800', '450790028003', '2021', 'ACS 2021'], ['3671', '2882', '428', '0', '173', '7', '65', '116', '45', '45079', '45079002900', '450790029001', '2021', 'ACS 2021'], ['1657', '1291', '290', '0', '19', '0', '10', '47', '45', '45079', '45079003000', '450790030001', '2021', 'ACS 2021'], ['1179', '807', '180', '0', '145', '0', '0', '47', '45', '45079', '45079003000', '450790030002', '2021', 'ACS 2021'], ['488', '172', '227', '0', '5', '0', '69', '15', '45', '45079', '45079003100', '450790031001', '2021', 'ACS 2021'], ['1089', '645', '166', '18', '108', '0', '132', '20', '45', '45079', '45079003100', '450790031002', '2021', 'ACS 2021'], ['1746', '385', '1072', '0', '0', '0', '195', '94', '45', '45079', '45079010104', '450790101041', '2021', 'ACS 2021'], ['1104', '795', '146', '0', '0', '0', '149', '14', '45', '45079', '45079010104', '450790101042', '2021', 'ACS 2021'], ['1985', '1098', '855', '0', '0', '0', '0', '32', '45', '45079', '45079010104', '450790101043', '2021', 'ACS 2021'], ['2106', '966', '718', '0', '0', '0', '361', '61', '45', '45079', '45079010105', '450790101051', '2021', 'ACS 2021'], ['5034', '1352', '2779', '0', '292', '0', '315', '296', '45', '45079', '45079010105', '450790101052', '2021', 'ACS 2021'], ['1848', '799', '873', '28', '64', '0', '0', '84', '45', '45079', '45079010106', '450790101061', '2021', 'ACS 2021'], ['3431', '1601', '1326', '0', '132', '0', '114', '258', '45', '45079', '45079010106', '450790101062', '2021', 'ACS 2021'], ['3467', '1351', '1598', '0', '167', '0', '221', '130', '45', '45079', '45079010107', '450790101071', '2021', 'ACS 2021'], ['3050', '1680', '1279', '0', '18', '0', '0', '73', '45', '45079', '45079010107', '450790101072', '2021', 'ACS 2021'], ['1146', '463', '516', '0', '0', '0', '148', '19', '45', '45079', '45079010107', '450790101073', '2021', 'ACS 2021'], ['2577', '814', '1675', '0', '0', '0', '1', '87', '45', '45079', '45079010107', '450790101074', '2021', 'ACS 2021'], ['4320', '2419', '1716', '0', '0', '0', '143', '42', '45', '45079', '45079010108', '450790101081', '2021', 'ACS 2021'], ['297', '0', '296', '0', '0', '0', '0', '1', '45', '45079', '45079010108', '450790101082', '2021', 'ACS 2021'], ['2895', '392', '2387', '0', '116', '0', '0', '0', '45', '45079', '45079010109', '450790101091', '2021', 'ACS 2021'], ['3111', '633', '1237', '27', '0', '0', '0', '1214', '45', '45079', '45079010109', '450790101092', '2021', 'ACS 2021'], ['1713', '1069', '238', '0', '0', '0', '328', '78', '45', '45079', '45079010200', '450790102001', '2021', 'ACS 2021'], ['2749', '995', '1638', '0', '38', '0', '50', '28', '45', '45079', '45079010200', '450790102002', '2021', 'ACS 2021'], ['1855', '793', '1027', '0', '0', '0', '0', '35', '45', '45079', '45079010200', '450790102003', '2021', 'ACS 2021'], ['3168', '1213', '1496', '0', '12', '0', '329', '118', '45', '45079', '45079010304', '450790103041', '2021', 'ACS 2021'], ['893', '127', '601', '0', '0', '0', '165', '0', '45', '45079', '45079010304', '450790103042', '2021', 'ACS 2021'], ['3970', '2153', '1515', '0', '147', '0', '75', '80', '45', '45079', '45079010304', '450790103043', '2021', 'ACS 2021'], ['531', '263', '268', '0', '0', '0', '0', '0', '45', '45079', '45079010305', '450790103051', '2021', 'ACS 2021'], ['782', '590', '192', '0', '0', '0', '0', '0', '45', '45079', '45079010305', '450790103052', '2021', 'ACS 2021'], ['905', '647', '152', '0', '64', '0', '0', '42', '45', '45079', '45079010305', '450790103053', '2021', 'ACS 2021'], ['2176', '1246', '708', '0', '157', '0', '0', '65', '45', '45079', '45079010305', '450790103054', '2021', 'ACS 2021'], ['898', '342', '259', '0', '200', '0', '0', '97', '45', '45079', '45079010305', '450790103055', '2021', 'ACS 2021'], ['2095', '1812', '233', '0', '13', '0', '0', '37', '45', '45079', '45079010305', '450790103056', '2021', 'ACS 2021'], ['2068', '970', '958', '0', '111', '0', '0', '29', '45', '45079', '45079010308', '450790103081', '2021', 'ACS 2021'], ['3135', '2483', '628', '8', '0', '0', '0', '16', '45', '45079', '45079010308', '450790103082', '2021', 'ACS 2021'], ['1936', '1770', '123', '0', '0', '0', '5', '38', '45', '45079', '45079010310', '450790103101', '2021', 'ACS 2021'], ['2822', '2394', '205', '0', '198', '0', '0', '25', '45', '45079', '45079010310', '450790103102', '2021', 'ACS 2021'], ['3370', '2893', '196', '0', '153', '0', '0', '128', '45', '45079', '45079010311', '450790103111', '2021', 'ACS 2021'], ['3046', '2564', '252', '0', '184', '0', '0', '46', '45', '45079', '45079010311', '450790103112', '2021', 'ACS 2021'], ['2231', '1800', '387', '36', '0', '0', '0', '8', '45', '45079', '45079010312', '450790103121', '2021', 'ACS 2021'], ['3882', '2754', '522', '0', '464', '0', '0', '142', '45', '45079', '45079010312', '450790103122', '2021', 'ACS 2021'], ['4340', '3894', '391', '0', '35', '0', '17', '3', '45', '45079', '45079010313', '450790103131', '2021', 'ACS 2021'], ['2687', '2602', '85', '0', '0', '0', '0', '0', '45', '45079', '45079010313', '450790103132', '2021', 'ACS 2021'], ['1492', '769', '565', '0', '21', '0', '0', '137', '45', '45079', '45079010314', '450790103141', '2021', 'ACS 2021'], ['904', '769', '53', '47', '0', '0', '0', '35', '45', '45079', '45079010314', '450790103142', '2021', 'ACS 2021'], ['1440', '864', '562', '0', '14', '0', '0', '0', '45', '45079', '45079010314', '450790103143', '2021', 'ACS 2021'], ['1992', '1056', '774', '0', '33', '0', '0', '129', '45', '45079', '45079010315', '450790103151', '2021', 'ACS 2021'], ['2630', '801', '1707', '0', '7', '0', '34', '81', '45', '45079', '45079010315', '450790103152', '2021', 'ACS 2021'], ['1051', '273', '748', '0', '0', '0', '0', '30', '45', '45079', '45079010403', '450790104031', '2021', 'ACS 2021'], ['2470', '1016', '1173', '0', '91', '13', '0', '177', '45', '45079', '45079010403', '450790104032', '2021', 'ACS 2021'], ['1044', '87', '953', '0', '0', '0', '0', '4', '45', '45079', '45079010407', '450790104071', '2021', 'ACS 2021'], ['2011', '192', '1665', '0', '0', '0', '0', '154', '45', '45079', '45079010407', '450790104072', '2021', 'ACS 2021'], ['1323', '259', '777', '0', '54', '0', '48', '185', '45', '45079', '45079010407', '450790104073', '2021', 'ACS 2021'], ['4002', '1751', '1969', '39', '0', '3', '18', '222', '45', '45079', '45079010408', '450790104081', '2021', 'ACS 2021'], ['2134', '645', '1165', '0', '138', '0', '78', '108', '45', '45079', '45079010411', '450790104111', '2021', 'ACS 2021'], ['1486', '301', '1124', '0', '0', '0', '0', '61', '45', '45079', '45079010411', '450790104112', '2021', 'ACS 2021'], ['1829', '134', '1595', '0', '0', '0', '71', '29', '45', '45079', '45079010412', '450790104121', '2021', 'ACS 2021'], ['2302', '696', '1554', '12', '0', '0', '32', '8', '45', '45079', '45079010412', '450790104122', '2021', 'ACS 2021'], ['1002', '289', '678', '0', '15', '0', '6', '14', '45', '45079', '45079010413', '450790104131', '2021', 'ACS 2021'], ['1033', '422', '515', '0', '10', '0', '0', '86', '45', '45079', '45079010413', '450790104132', '2021', 'ACS 2021'], ['1228', '118', '781', '0', '0', '0', '8', '321', '45', '45079', '45079010414', '450790104141', '2021', 'ACS 2021'], ['806', '287', '459', '0', '0', '0', '5', '55', '45', '45079', '45079010414', '450790104142', '2021', 'ACS 2021'], ['1303', '324', '732', '0', '155', '0', '38', '54', '45', '45079', '45079010414', '450790104143', '2021', 'ACS 2021'], ['2198', '445', '1566', '0', '0', '0', '60', '127', '45', '45079', '45079010414', '450790104144', '2021', 'ACS 2021'], ['1921', '978', '668', '0', '51', '0', '130', '94', '45', '45079', '45079010501', '450790105011', '2021', 'ACS 2021'], ['1456', '69', '1382', '0', '0', '0', '0', '5', '45', '45079', '45079010502', '450790105021', '2021', 'ACS 2021'], ['1597', '20', '1556', '0', '0', '0', '21', '0', '45', '45079', '45079010600', '450790106001', '2021', 'ACS 2021'], ['1020', '58', '938', '0', '0', '0', '16', '8', '45', '45079', '45079010600', '450790106002', '2021', 'ACS 2021'], ['2388', '195', '2170', '0', '0', '23', '0', '0', '45', '45079', '45079010600', '450790106003', '2021', 'ACS 2021'], ['1001', '24', '823', '0', '131', '0', '0', '23', '45', '45079', '45079010701', '450790107011', '2021', 'ACS 2021'], ['1640', '0', '1487', '0', '0', '0', '153', '0', '45', '45079', '45079010701', '450790107012', '2021', 'ACS 2021'], ['784', '0', '585', '0', '0', '0', '199', '0', '45', '45079', '45079010701', '450790107013', '2021', 'ACS 2021'], ['774', '93', '567', '0', '43', '0', '71', '0', '45', '45079', '45079010702', '450790107021', '2021', 'ACS 2021'], ['379', '9', '363', '0', '0', '0', '0', '7', '45', '45079', '45079010702', '450790107022', '2021', 'ACS 2021'], ['2412', '134', '2228', '0', '0', '0', '50', '0', '45', '45079', '45079010702', '450790107023', '2021', 'ACS 2021'], ['634', '25', '607', '0', '0', '0', '2', '0', '45', '45079', '45079010703', '450790107031', '2021', 'ACS 2021'], ['1154', '0', '1148', '6', '0', '0', '0', '0', '45', '45079', '45079010703', '450790107032', '2021', 'ACS 2021'], ['504', '0', '471', '0', '0', '0', '0', '33', '45', '45079', '45079010703', '450790107033', '2021', 'ACS 2021'], ['580', '42', '494', '0', '0', '0', '0', '44', '45', '45079', '45079010703', '450790107034', '2021', 'ACS 2021'], ['518', '34', '352', '0', '132', '0', '0', '0', '45', '45079', '45079010803', '450790108031', '2021', 'ACS 2021'], ['639', '97', '459', '0', '6', '0', '77', '0', '45', '45079', '45079010803', '450790108032', '2021', 'ACS 2021'], ['605', '86', '336', '0', '2', '0', '119', '62', '45', '45079', '45079010803', '450790108033', '2021', 'ACS 2021'], ['1195', '0', '1181', '0', '0', '0', '0', '14', '45', '45079', '45079010804', '450790108041', '2021', 'ACS 2021'], ['1237', '74', '1112', '0', '0', '0', '1', '50', '45', '45079', '45079010804', '450790108042', '2021', 'ACS 2021'], ['2609', '243', '2211', '0', '26', '0', '8', '121', '45', '45079', '45079010805', '450790108051', '2021', 'ACS 2021'], ['914', '316', '514', '9', '18', '10', '0', '47', '45', '45079', '45079010806', '450790108061', '2021', 'ACS 2021'], ['2959', '31', '2808', '0', '9', '0', '97', '14', '45', '45079', '45079010900', '450790109001', '2021', 'ACS 2021'], ['1722', '140', '1582', '0', '0', '0', '0', '0', '45', '45079', '45079011000', '450790110001', '2021', 'ACS 2021'], ['1029', '922', '53', '0', '29', '0', '20', '5', '45', '45079', '45079011101', '450790111011', '2021', 'ACS 2021'], ['1119', '623', '343', '0', '9', '0', '90', '54', '45', '45079', '45079011101', '450790111012', '2021', 'ACS 2021'], ['1016', '510', '486', '0', '0', '0', '0', '20', '45', '45079', '45079011101', '450790111013', '2021', 'ACS 2021'], ['1676', '995', '664', '0', '0', '0', '5', '12', '45', '45079', '45079011102', '450790111021', '2021', 'ACS 2021'], ['543', '543', '0', '0', '0', '0', '0', '0', '45', '45079', '45079011102', '450790111022', '2021', 'ACS 2021'], ['1991', '1633', '301', '0', '0', '0', '0', '57', '45', '45079', '45079011102', '450790111023', '2021', 'ACS 2021'], ['1167', '1125', '33', '0', '9', '0', '0', '0', '45', '45079', '45079011201', '450790112011', '2021', 'ACS 2021'], ['651', '586', '30', '0', '24', '0', '3', '8', '45', '45079', '45079011201', '450790112012', '2021', 'ACS 2021'], ['1886', '1534', '206', '0', '106', '0', '0', '40', '45', '45079', '45079011202', '450790112021', '2021', 'ACS 2021'], ['1693', '1430', '169', '0', '65', '0', '20', '9', '45', '45079', '45079011202', '450790112022', '2021', 'ACS 2021'], ['1018', '54', '869', '0', '27', '0', '0', '68', '45', '45079', '45079011303', '450790113031', '2021', 'ACS 2021'], ['1602', '365', '1199', '0', '0', '0', '13', '25', '45', '45079', '45079011303', '450790113032', '2021', 'ACS 2021'], ['2608', '567', '1635', '0', '225', '0', '0', '181', '45', '45079', '45079011303', '450790113033', '2021', 'ACS 2021'], ['1689', '31', '1577', '0', '81', '0', '0', '0', '45', '45079', '45079011304', '450790113041', '2021', 'ACS 2021'], ['484', '101', '325', '0', '0', '0', '58', '0', '45', '45079', '45079011304', '450790113042', '2021', 'ACS 2021'], ['1052', '215', '623', '0', '90', '0', '0', '124', '45', '45079', '45079011304', '450790113043', '2021', 'ACS 2021'], ['2515', '109', '2261', '0', '55', '0', '7', '83', '45', '45079', '45079011304', '450790113044', '2021', 'ACS 2021'], ['856', '330', '448', '0', '11', '0', '59', '8', '45', '45079', '45079011305', '450790113051', '2021', 'ACS 2021'], ['1833', '293', '927', '0', '136', '0', '406', '71', '45', '45079', '45079011305', '450790113052', '2021', 'ACS 2021'], ['1210', '265', '471', '6', '198', '0', '209', '61', '45', '45079', '45079011305', '450790113053', '2021', 'ACS 2021'], ['1065', '371', '387', '0', '0', '0', '301', '6', '45', '45079', '45079011305', '450790113054', '2021', 'ACS 2021'], ['650', '585', '28', '0', '0', '0', '0', '37', '45', '45079', '45079011306', '450790113061', '2021', 'ACS 2021'], ['469', '378', '46', '0', '9', '0', '0', '36', '45', '45079', '45079011306', '450790113062', '2021', 'ACS 2021'], ['693', '337', '261', '0', '66', '0', '0', '29', '45', '45079', '45079011306', '450790113063', '2021', 'ACS 2021'], ['1151', '1106', '17', '0', '12', '0', '0', '16', '45', '45079', '45079011306', '450790113064', '2021', 'ACS 2021'], ['1250', '1188', '0', '0', '0', '0', '0', '62', '45', '45079', '45079011307', '450790113071', '2021', 'ACS 2021'], ['462', '177', '285', '0', '0', '0', '0', '0', '45', '45079', '45079011307', '450790113072', '2021', 'ACS 2021'], ['1464', '189', '855', '0', '19', '0', '375', '26', '45', '45079', '45079011307', '450790113073', '2021', 'ACS 2021'], ['123', '123', '0', '0', '0', '0', '0', '0', '45', '45079', '45079011407', '450790114071', '2021', 'ACS 2021'], ['5416', '2696', '1840', '0', '270', '12', '404', '194', '45', '45079', '45079011407', '450790114072', '2021', 'ACS 2021'], ['1863', '1016', '720', '0', '49', '0', '0', '78', '45', '45079', '45079011411', '450790114111', '2021', 'ACS 2021'], ['529', '441', '76', '0', '12', '0', '0', '0', '45', '45079', '45079011411', '450790114112', '2021', 'ACS 2021'], ['2188', '855', '1064', '0', '17', '0', '1', '251', '45', '45079', '45079011411', '450790114113', '2021', 'ACS 2021'], ['1469', '418', '711', '0', '180', '0', '160', '0', '45', '45079', '45079011412', '450790114121', '2021', 'ACS 2021'], ['2815', '474', '1865', '21', '16', '0', '328', '111', '45', '45079', '45079011412', '450790114122', '2021', 'ACS 2021'], ['1119', '303', '546', '0', '12', '0', '14', '244', '45', '45079', '45079011412', '450790114123', '2021', 'ACS 2021'], ['692', '388', '232', '0', '0', '0', '72', '0', '45', '45079', '45079011413', '450790114131', '2021', 'ACS 2021'], ['761', '161', '600', '0', '0', '0', '0', '0', '45', '45079', '45079011413', '450790114132', '2021', 'ACS 2021'], ['4811', '1253', '2970', '0', '374', '0', '19', '195', '45', '45079', '45079011413', '450790114133', '2021', 'ACS 2021'], ['2548', '1498', '529', '0', '478', '0', '10', '33', '45', '45079', '45079011413', '450790114134', '2021', 'ACS 2021'], ['2597', '764', '688', '0', '395', '183', '321', '246', '45', '45079', '45079011414', '450790114141', '2021', 'ACS 2021'], ['2830', '1782', '733', '8', '127', '0', '7', '173', '45', '45079', '45079011414', '450790114142', '2021', 'ACS 2021'], ['940', '299', '570', '0', '51', '0', '0', '20', '45', '45079', '45079011417', '450790114171', '2021', 'ACS 2021'], ['1219', '14', '1062', '103', '0', '0', '17', '23', '45', '45079', '45079011417', '450790114172', '2021', 'ACS 2021'], ['3771', '675', '2902', '0', '113', '0', '29', '52', '45', '45079', '45079011417', '450790114173', '2021', 'ACS 2021'], ['3315', '429', '2645', '0', '115', '0', '39', '87', '45', '45079', '45079011417', '450790114174', '2021', 'ACS 2021'], ['774', '294', '464', '0', '0', '0', '0', '16', '45', '45079', '45079011418', '450790114181', '2021', 'ACS 2021'], ['3198', '1697', '1356', '0', '43', '0', '52', '50', '45', '45079', '45079011418', '450790114182', '2021', 'ACS 2021'], ['2243', '750', '1297', '0', '4', '7', '178', '7', '45', '45079', '45079011419', '450790114191', '2021', 'ACS 2021'], ['1370', '618', '685', '12', '5', '9', '13', '28', '45', '45079', '45079011419', '450790114192', '2021', 'ACS 2021'], ['2684', '860', '1690', '0', '23', '0', '0', '111', '45', '45079', '45079011420', '450790114201', '2021', 'ACS 2021'], ['2254', '258', '1850', '0', '73', '0', '0', '73', '45', '45079', '45079011420', '450790114202', '2021', 'ACS 2021'], ['1701', '212', '1382', '0', '0', '0', '29', '78', '45', '45079', '45079011421', '450790114211', '2021', 'ACS 2021'], ['1462', '304', '1120', '0', '38', '0', '0', '0', '45', '45079', '45079011421', '450790114212', '2021', 'ACS 2021'], ['1460', '0', '1288', '0', '114', '0', '58', '0', '45', '45079', '45079011421', '450790114213', '2021', 'ACS 2021'], ['1925', '789', '888', '0', '211', '0', '0', '37', '45', '45079', '45079011422', '450790114221', '2021', 'ACS 2021'], ['2919', '1054', '817', '0', '883', '0', '146', '19', '45', '45079', '45079011422', '450790114222', '2021', 'ACS 2021'], ['4227', '932', '2456', '14', '181', '0', '399', '245', '45', '45079', '45079011423', '450790114231', '2021', 'ACS 2021'], ['3985', '1115', '2648', '0', '0', '0', '20', '202', '45', '45079', '45079011423', '450790114232', '2021', 'ACS 2021'], ['1678', '1217', '300', '0', '0', '0', '75', '86', '45', '45079', '45079011424', '450790114241', '2021', 'ACS 2021'], ['6106', '1418', '4141', '0', '197', '0', '113', '237', '45', '45079', '45079011424', '450790114242', '2021', 'ACS 2021'], ['2728', '1125', '1140', '0', '246', '0', '47', '170', '45', '45079', '45079011425', '450790114251', '2021', 'ACS 2021'], ['1706', '678', '818', '0', '103', '0', '107', '0', '45', '45079', '45079011425', '450790114252', '2021', 'ACS 2021'], ['11024', '6291', '2871', '33', '450', '31', '238', '1110', '45', '45079', '45079011501', '450790115011', '2021', 'ACS 2021'], ['1808', '1197', '204', '0', '8', '14', '61', '324', '45', '45079', '45079011502', '450790115021', '2021', 'ACS 2021'], ['1363', '653', '513', '8', '0', '0', '15', '174', '45', '45079', '45079011502', '450790115022', '2021', 'ACS 2021'], ['3691', '3284', '361', '0', '29', '0', '0', '17', '45', '45079', '45079011603', '450790116031', '2021', 'ACS 2021'], ['1920', '1193', '558', '0', '0', '0', '152', '17', '45', '45079', '45079011603', '450790116032', '2021', 'ACS 2021'], ['800', '478', '246', '28', '47', '0', '0', '1', '45', '45079', '45079011604', '450790116041', '2021', 'ACS 2021'], ['2393', '2152', '137', '0', '70', '0', '0', '34', '45', '45079', '45079011604', '450790116042', '2021', 'ACS 2021'], ['1742', '1354', '233', '0', '151', '0', '0', '4', '45', '45079', '45079011604', '450790116043', '2021', 'ACS 2021'], ['1256', '1001', '0', '0', '66', '0', '0', '189', '45', '45079', '45079011604', '450790116044', '2021', 'ACS 2021'], ['1963', '313', '1650', '0', '0', '0', '0', '0', '45', '45079', '45079011606', '450790116061', '2021', 'ACS 2021'], ['917', '505', '379', '0', '25', '0', '8', '0', '45', '45079', '45079011606', '450790116062', '2021', 'ACS 2021'], ['2600', '979', '1551', '0', '25', '0', '0', '45', '45', '45079', '45079011606', '450790116063', '2021', 'ACS 2021'], ['2352', '1105', '936', '7', '48', '0', '47', '209', '45', '45079', '45079011607', '450790116071', '2021', 'ACS 2021'], ['2348', '457', '1715', '0', '21', '0', '38', '117', '45', '45079', '45079011607', '450790116072', '2021', 'ACS 2021'], ['3020', '771', '1973', '0', '129', '0', '0', '147', '45', '45079', '45079011608', '450790116081', '2021', 'ACS 2021'], ['936', '278', '553', '42', '0', '0', '0', '63', '45', '45079', '45079011608', '450790116082', '2021', 'ACS 2021'], ['1448', '245', '891', '0', '39', '0', '83', '190', '45', '45079', '45079011608', '450790116083', '2021', 'ACS 2021'], ['1310', '564', '560', '44', '0', '34', '84', '24', '45', '45079', '45079011608', '450790116084', '2021', 'ACS 2021'], ['1800', '861', '787', '0', '73', '0', '11', '68', '45', '45079', '45079011701', '450790117011', '2021', 'ACS 2021'], ['2686', '1696', '980', '0', '0', '0', '0', '10', '45', '45079', '45079011701', '450790117012', '2021', 'ACS 2021'], ['2538', '319', '2124', '8', '0', '0', '14', '73', '45', '45079', '45079011702', '450790117021', '2021', 'ACS 2021'], ['1410', '36', '1356', '0', '0', '0', '0', '18', '45', '45079', '45079011702', '450790117022', '2021', 'ACS 2021'], ['799', '24', '763', '0', '0', '0', '0', '12', '45', '45079', '45079011801', '450790118011', '2021', 'ACS 2021'], ['372', '109', '216', '0', '0', '0', '0', '47', '45', '45079', '45079011801', '450790118012', '2021', 'ACS 2021'], ['925', '191', '734', '0', '0', '0', '0', '0', '45', '45079', '45079011801', '450790118013', '2021', 'ACS 2021'], ['1464', '315', '1086', '0', '0', '0', '0', '63', '45', '45079', '45079011802', '450790118021', '2021', 'ACS 2021'], ['674', '95', '569', '0', '0', '0', '0', '10', '45', '45079', '45079011802', '450790118022', '2021', 'ACS 2021'], ['553', '0', '553', '0', '0', '0', '0', '0', '45', '45079', '45079011802', '450790118023', '2021', 'ACS 2021'], ['2763', '49', '2570', '0', '0', '0', '46', '98', '45', '45079', '45079011901', '450790119011', '2021', 'ACS 2021'], ['2522', '89', '2324', '0', '15', '0', '43', '51', '45', '45079', '45079011901', '450790119012', '2021', 'ACS 2021'], ['1164', '495', '620', '0', '0', '0', '0', '49', '45', '45079', '45079011901', '450790119013', '2021', 'ACS 2021'], ['2577', '268', '1714', '25', '100', '0', '40', '430', '45', '45079', '45079011901', '450790119014', '2021', 'ACS 2021'], ['658', '430', '228', '0', '0', '0', '0', '0', '45', '45079', '45079011902', '450790119021', '2021', 'ACS 2021'], ['744', '266', '478', '0', '0', '0', '0', '0', '45', '45079', '45079011902', '450790119022', '2021', 'ACS 2021'], ['1617', '330', '1041', '0', '0', '0', '156', '90', '45', '45079', '45079011902', '450790119023', '2021', 'ACS 2021'], ['1852', '839', '737', '0', '0', '0', '0', '276', '45', '45079', '45079011902', '450790119024', '2021', 'ACS 2021'], ['1542', '978', '564', '0', '0', '0', '0', '0', '45', '45079', '45079012000', '450790120001', '2021', 'ACS 2021'], ['1542', '242', '1167', '13', '15', '0', '48', '57', '45', '45079', '45079012000', '450790120002', '2021', 'ACS 2021'], ['1463', '314', '1104', '0', '4', '0', '0', '41', '45', '45079', '45079012000', '450790120003', '2021', 'ACS 2021'], ['749', '173', '576', '0', '0', '0', '0', '0', '45', '45079', '45079012000', '450790120004', '2021', 'ACS 2021'], ['287', '172', '66', '0', '30', '0', '0', '19', '45', '45079', '45079980100', '450799801001', '2021', 'ACS 2021']]\n"
     ]
    }
   ],
   "source": [
    "import requests\n",
    "import csv\n",
    "import json\n",
    "\n",
    "def download_data():\n",
    "    # Define the endpoint and related configurations\n",
    "    base_url = \"https://api.census.gov/data/2021/acs/acs5\"\n",
    "    # api_key = \"xxxx\"\n",
    "    dataset_year = \"2021\"\n",
    "    dataset_source = f\"ACS {dataset_year}\"\n",
    "\n",
    "    # Variables we need to fetch\n",
    "    variables = [\n",
    "        # B02001_001E:Total population\n",
    "        \"B02001_001E\",\n",
    "        # B02001_002E:White alone\n",
    "        \"B02001_002E\",\n",
    "        # B02001_003E:Black or African American alone\n",
    "        \"B02001_003E\",\n",
    "        # B02001_004E:American Indian and Alaska Native alone\n",
    "        \"B02001_004E\",\n",
    "        # B02001_005E:Asian alone\n",
    "        \"B02001_005E\",\n",
    "        # B02001_006E:Native Hawaiian and Other Pacific Islander alone\n",
    "        \"B02001_006E\",\n",
    "        # B02001_007E:Some other race alone\n",
    "        \"B02001_007E\",\n",
    "        # B02001_008E:Two or more races\n",
    "        \"B02001_008E\",\n",
    "    ]\n",
    "\n",
    "    # Fetch the variable labels\n",
    "    response = requests.get(f\"{base_url}/variables.json\")\n",
    "    variables_metadata = response.json()\n",
    "\n",
    "    # Helper function to get variable labels\n",
    "    def get_variable_label(var_name):\n",
    "        label = variables_metadata['variables'][var_name]['label']\n",
    "        return label.replace(\"Estimate!!\", \"\").strip()\n",
    "\n",
    "    # Construct the URL for the data request\n",
    "    get_vars = \",\".join(variables)\n",
    "    url = f\"{base_url}?get={get_vars}&for=block%20group:*&in=state:45 county:079\"\n",
    "    \n",
    "    print(\"url:\", url)\n",
    "\n",
    "    # Download data from Census API\n",
    "    response = requests.get(url)\n",
    "    response.raise_for_status()\n",
    "    data = response.json()\n",
    "\n",
    "    # Prepare the CSV file for writing\n",
    "    csv_path = \"Census_SC_Richland_race_population.csv\"\n",
    "\n",
    "    # Create header with variable labels\n",
    "    header = [f\"{var}:{get_variable_label(var)}\" for var in variables] + [\"state_fips\", \"county_fips\", \"tract_fips\", \"block_group_fips\", \"year\", \"source\"]\n",
    "    rows = data[1:]  # Skip the header row provided by API\n",
    "    for idx, row in enumerate(rows):\n",
    "        state_fips = f\"{row[-4]:02}\"\n",
    "        county_fips = f\"{state_fips}{row[-3]:03}\"\n",
    "        tract_fips = f\"{county_fips}{row[-2]:06}\"\n",
    "        block_group_fips = f\"{tract_fips}{row[-1]}\"\n",
    "        rows[idx] = row[:-4] + [state_fips, county_fips, tract_fips, block_group_fips, dataset_year, dataset_source]\n",
    "        # print(row)\n",
    "        \n",
    "    print(rows)\n",
    "\n",
    "    # Write to CSV file\n",
    "    with open(csv_path, mode='w', newline='') as file:\n",
    "        writer = csv.writer(file)\n",
    "        writer.writerow(header)\n",
    "        writer.writerows(rows)\n",
    "\n",
    "# Execute the function\n",
    "download_data()"
   ]
  }
 ],
 "metadata": {
  "kernelspec": {
   "display_name": "llm_geo",
   "language": "python",
   "name": "llm_geo"
  },
  "language_info": {
   "codemirror_mode": {
    "name": "ipython",
    "version": 3
   },
   "file_extension": ".py",
   "mimetype": "text/x-python",
   "name": "python",
   "nbconvert_exporter": "python",
   "pygments_lexer": "ipython3",
   "version": "3.11.5"
  },
  "widgets": {
   "application/vnd.jupyter.widget-state+json": {
    "state": {},
    "version_major": 2,
    "version_minor": 0
   }
  }
 },
 "nbformat": 4,
 "nbformat_minor": 5
}
